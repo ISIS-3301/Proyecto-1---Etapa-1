{
  "nbformat": 4,
  "nbformat_minor": 0,
  "metadata": {
    "colab": {
      "provenance": [],
      "toc_visible": true
    },
    "kernelspec": {
      "name": "python3",
      "display_name": "Python 3"
    },
    "language_info": {
      "name": "python"
    }
  },
  "cells": [
    {
      "cell_type": "markdown",
      "source": [
        "#Algoritmo Naive Bayes Multinomial Classifier"
      ],
      "metadata": {
        "id": "W1LdU7zWvUZf"
      }
    },
    {
      "cell_type": "markdown",
      "source": [
        "##Importación de dependencias y carga de los datos"
      ],
      "metadata": {
        "id": "ZuHdwGauvpQM"
      }
    },
    {
      "cell_type": "code",
      "source": [
        "import numpy as np\n",
        "import pandas as pd\n",
        "import re\n",
        "import plotly.express as px\n",
        "\n",
        "from nltk.corpus import stopwords\n",
        "from nltk.stem import SnowballStemmer\n",
        "from sklearn.feature_extraction.text import TfidfVectorizer\n",
        "from sklearn.model_selection import train_test_split\n",
        "from sklearn.linear_model import LogisticRegression\n",
        "from sklearn.metrics import accuracy_score\n",
        "from sklearn.metrics import recall_score\n",
        "from sklearn.metrics import f1_score\n",
        "from nltk.stem import WordNetLemmatizer\n",
        "from sklearn.preprocessing import LabelEncoder\n",
        "from sklearn.feature_extraction.text import CountVectorizer\n",
        "from sklearn.feature_extraction.text import TfidfTransformer\n",
        "from sklearn.naive_bayes import MultinomialNB\n",
        "from sklearn.metrics import accuracy_score\n",
        "lemmatizer = WordNetLemmatizer()"
      ],
      "metadata": {
        "id": "eV9xWhb5v0hz"
      },
      "execution_count": null,
      "outputs": []
    },
    {
      "cell_type": "code",
      "source": [
        "import nltk\n",
        "nltk.download('stopwords')\n",
        "nltk.download('stopwords')\n",
        "nltk.download('wordnet')"
      ],
      "metadata": {
        "colab": {
          "base_uri": "https://localhost:8080/"
        },
        "id": "FI4OSEZMv6SX",
        "outputId": "3984ee56-509a-4315-c62b-381c7c5ead49"
      },
      "execution_count": null,
      "outputs": [
        {
          "output_type": "stream",
          "name": "stderr",
          "text": [
            "[nltk_data] Downloading package stopwords to /root/nltk_data...\n",
            "[nltk_data]   Package stopwords is already up-to-date!\n",
            "[nltk_data] Downloading package stopwords to /root/nltk_data...\n",
            "[nltk_data]   Package stopwords is already up-to-date!\n",
            "[nltk_data] Downloading package wordnet to /root/nltk_data...\n",
            "[nltk_data]   Package wordnet is already up-to-date!\n"
          ]
        },
        {
          "output_type": "execute_result",
          "data": {
            "text/plain": [
              "True"
            ]
          },
          "metadata": {},
          "execution_count": 27
        }
      ]
    },
    {
      "cell_type": "code",
      "source": [
        "# Cargar los datos desde el csv a un dataframe de pandas\n",
        "reviews = pd.read_csv('/content/tipo2_entrenamiento_estudiantes.csv', encoding = 'utf-8')"
      ],
      "metadata": {
        "id": "fO1oL2ijv-oL"
      },
      "execution_count": null,
      "outputs": []
    },
    {
      "cell_type": "markdown",
      "source": [
        "##Entendimiento y preparacion de los datos"
      ],
      "metadata": {
        "id": "D-zg2lthvXFb"
      }
    },
    {
      "cell_type": "markdown",
      "source": [
        "En este punto haremos un analisis visual y estadistico del los datos en su forma original. Es decir, veremos con que tipos de datos vamos a trabajar, como enteros o cadenas; cuales son sus dimensiones; buscaremos datos que se encuentren repetidos y tambien datos que no sean consistentes o que representen un obstaculo para el trabajo llevado a cabo por el algoritmo.\n",
        "\n",
        "Posterior a esto, pasaremos a realizar modificaciones a nuestros datos que nos sirvan para generar mejores resultados. Estas transformaciones se iran explicando a medida que se van aplicando."
      ],
      "metadata": {
        "id": "39D0W5bawEJQ"
      }
    },
    {
      "cell_type": "markdown",
      "source": [
        "### Vista de la forma original de los datos"
      ],
      "metadata": {
        "id": "-LhHSqJsw3QC"
      }
    },
    {
      "cell_type": "code",
      "execution_count": null,
      "metadata": {
        "colab": {
          "base_uri": "https://localhost:8080/",
          "height": 206
        },
        "id": "R9m3l9q4vKG7",
        "outputId": "4cd5f293-be95-4860-ecc5-5da46fdd17aa"
      },
      "outputs": [
        {
          "output_type": "execute_result",
          "data": {
            "text/plain": [
              "                                              Review  Class\n",
              "0  Muy buena atención y aclaración de dudas por p...      5\n",
              "1  Buen hotel si están obligados a estar cerca de...      3\n",
              "2  Es un lugar muy lindo para fotografías, visite...      5\n",
              "3  Abusados con la factura de alimentos siempre s...      3\n",
              "4  Tuvimos un par de personas en el grupo que rea...      3"
            ],
            "text/html": [
              "\n",
              "  <div id=\"df-29264ff8-aa22-41cf-88bd-729b835a603e\" class=\"colab-df-container\">\n",
              "    <div>\n",
              "<style scoped>\n",
              "    .dataframe tbody tr th:only-of-type {\n",
              "        vertical-align: middle;\n",
              "    }\n",
              "\n",
              "    .dataframe tbody tr th {\n",
              "        vertical-align: top;\n",
              "    }\n",
              "\n",
              "    .dataframe thead th {\n",
              "        text-align: right;\n",
              "    }\n",
              "</style>\n",
              "<table border=\"1\" class=\"dataframe\">\n",
              "  <thead>\n",
              "    <tr style=\"text-align: right;\">\n",
              "      <th></th>\n",
              "      <th>Review</th>\n",
              "      <th>Class</th>\n",
              "    </tr>\n",
              "  </thead>\n",
              "  <tbody>\n",
              "    <tr>\n",
              "      <th>0</th>\n",
              "      <td>Muy buena atención y aclaración de dudas por p...</td>\n",
              "      <td>5</td>\n",
              "    </tr>\n",
              "    <tr>\n",
              "      <th>1</th>\n",
              "      <td>Buen hotel si están obligados a estar cerca de...</td>\n",
              "      <td>3</td>\n",
              "    </tr>\n",
              "    <tr>\n",
              "      <th>2</th>\n",
              "      <td>Es un lugar muy lindo para fotografías, visite...</td>\n",
              "      <td>5</td>\n",
              "    </tr>\n",
              "    <tr>\n",
              "      <th>3</th>\n",
              "      <td>Abusados con la factura de alimentos siempre s...</td>\n",
              "      <td>3</td>\n",
              "    </tr>\n",
              "    <tr>\n",
              "      <th>4</th>\n",
              "      <td>Tuvimos un par de personas en el grupo que rea...</td>\n",
              "      <td>3</td>\n",
              "    </tr>\n",
              "  </tbody>\n",
              "</table>\n",
              "</div>\n",
              "    <div class=\"colab-df-buttons\">\n",
              "\n",
              "  <div class=\"colab-df-container\">\n",
              "    <button class=\"colab-df-convert\" onclick=\"convertToInteractive('df-29264ff8-aa22-41cf-88bd-729b835a603e')\"\n",
              "            title=\"Convert this dataframe to an interactive table.\"\n",
              "            style=\"display:none;\">\n",
              "\n",
              "  <svg xmlns=\"http://www.w3.org/2000/svg\" height=\"24px\" viewBox=\"0 -960 960 960\">\n",
              "    <path d=\"M120-120v-720h720v720H120Zm60-500h600v-160H180v160Zm220 220h160v-160H400v160Zm0 220h160v-160H400v160ZM180-400h160v-160H180v160Zm440 0h160v-160H620v160ZM180-180h160v-160H180v160Zm440 0h160v-160H620v160Z\"/>\n",
              "  </svg>\n",
              "    </button>\n",
              "\n",
              "  <style>\n",
              "    .colab-df-container {\n",
              "      display:flex;\n",
              "      gap: 12px;\n",
              "    }\n",
              "\n",
              "    .colab-df-convert {\n",
              "      background-color: #E8F0FE;\n",
              "      border: none;\n",
              "      border-radius: 50%;\n",
              "      cursor: pointer;\n",
              "      display: none;\n",
              "      fill: #1967D2;\n",
              "      height: 32px;\n",
              "      padding: 0 0 0 0;\n",
              "      width: 32px;\n",
              "    }\n",
              "\n",
              "    .colab-df-convert:hover {\n",
              "      background-color: #E2EBFA;\n",
              "      box-shadow: 0px 1px 2px rgba(60, 64, 67, 0.3), 0px 1px 3px 1px rgba(60, 64, 67, 0.15);\n",
              "      fill: #174EA6;\n",
              "    }\n",
              "\n",
              "    .colab-df-buttons div {\n",
              "      margin-bottom: 4px;\n",
              "    }\n",
              "\n",
              "    [theme=dark] .colab-df-convert {\n",
              "      background-color: #3B4455;\n",
              "      fill: #D2E3FC;\n",
              "    }\n",
              "\n",
              "    [theme=dark] .colab-df-convert:hover {\n",
              "      background-color: #434B5C;\n",
              "      box-shadow: 0px 1px 3px 1px rgba(0, 0, 0, 0.15);\n",
              "      filter: drop-shadow(0px 1px 2px rgba(0, 0, 0, 0.3));\n",
              "      fill: #FFFFFF;\n",
              "    }\n",
              "  </style>\n",
              "\n",
              "    <script>\n",
              "      const buttonEl =\n",
              "        document.querySelector('#df-29264ff8-aa22-41cf-88bd-729b835a603e button.colab-df-convert');\n",
              "      buttonEl.style.display =\n",
              "        google.colab.kernel.accessAllowed ? 'block' : 'none';\n",
              "\n",
              "      async function convertToInteractive(key) {\n",
              "        const element = document.querySelector('#df-29264ff8-aa22-41cf-88bd-729b835a603e');\n",
              "        const dataTable =\n",
              "          await google.colab.kernel.invokeFunction('convertToInteractive',\n",
              "                                                    [key], {});\n",
              "        if (!dataTable) return;\n",
              "\n",
              "        const docLinkHtml = 'Like what you see? Visit the ' +\n",
              "          '<a target=\"_blank\" href=https://colab.research.google.com/notebooks/data_table.ipynb>data table notebook</a>'\n",
              "          + ' to learn more about interactive tables.';\n",
              "        element.innerHTML = '';\n",
              "        dataTable['output_type'] = 'display_data';\n",
              "        await google.colab.output.renderOutput(dataTable, element);\n",
              "        const docLink = document.createElement('div');\n",
              "        docLink.innerHTML = docLinkHtml;\n",
              "        element.appendChild(docLink);\n",
              "      }\n",
              "    </script>\n",
              "  </div>\n",
              "\n",
              "\n",
              "<div id=\"df-fb281377-088d-4811-b26b-f6eb9622d1d0\">\n",
              "  <button class=\"colab-df-quickchart\" onclick=\"quickchart('df-fb281377-088d-4811-b26b-f6eb9622d1d0')\"\n",
              "            title=\"Suggest charts\"\n",
              "            style=\"display:none;\">\n",
              "\n",
              "<svg xmlns=\"http://www.w3.org/2000/svg\" height=\"24px\"viewBox=\"0 0 24 24\"\n",
              "     width=\"24px\">\n",
              "    <g>\n",
              "        <path d=\"M19 3H5c-1.1 0-2 .9-2 2v14c0 1.1.9 2 2 2h14c1.1 0 2-.9 2-2V5c0-1.1-.9-2-2-2zM9 17H7v-7h2v7zm4 0h-2V7h2v10zm4 0h-2v-4h2v4z\"/>\n",
              "    </g>\n",
              "</svg>\n",
              "  </button>\n",
              "\n",
              "<style>\n",
              "  .colab-df-quickchart {\n",
              "      --bg-color: #E8F0FE;\n",
              "      --fill-color: #1967D2;\n",
              "      --hover-bg-color: #E2EBFA;\n",
              "      --hover-fill-color: #174EA6;\n",
              "      --disabled-fill-color: #AAA;\n",
              "      --disabled-bg-color: #DDD;\n",
              "  }\n",
              "\n",
              "  [theme=dark] .colab-df-quickchart {\n",
              "      --bg-color: #3B4455;\n",
              "      --fill-color: #D2E3FC;\n",
              "      --hover-bg-color: #434B5C;\n",
              "      --hover-fill-color: #FFFFFF;\n",
              "      --disabled-bg-color: #3B4455;\n",
              "      --disabled-fill-color: #666;\n",
              "  }\n",
              "\n",
              "  .colab-df-quickchart {\n",
              "    background-color: var(--bg-color);\n",
              "    border: none;\n",
              "    border-radius: 50%;\n",
              "    cursor: pointer;\n",
              "    display: none;\n",
              "    fill: var(--fill-color);\n",
              "    height: 32px;\n",
              "    padding: 0;\n",
              "    width: 32px;\n",
              "  }\n",
              "\n",
              "  .colab-df-quickchart:hover {\n",
              "    background-color: var(--hover-bg-color);\n",
              "    box-shadow: 0 1px 2px rgba(60, 64, 67, 0.3), 0 1px 3px 1px rgba(60, 64, 67, 0.15);\n",
              "    fill: var(--button-hover-fill-color);\n",
              "  }\n",
              "\n",
              "  .colab-df-quickchart-complete:disabled,\n",
              "  .colab-df-quickchart-complete:disabled:hover {\n",
              "    background-color: var(--disabled-bg-color);\n",
              "    fill: var(--disabled-fill-color);\n",
              "    box-shadow: none;\n",
              "  }\n",
              "\n",
              "  .colab-df-spinner {\n",
              "    border: 2px solid var(--fill-color);\n",
              "    border-color: transparent;\n",
              "    border-bottom-color: var(--fill-color);\n",
              "    animation:\n",
              "      spin 1s steps(1) infinite;\n",
              "  }\n",
              "\n",
              "  @keyframes spin {\n",
              "    0% {\n",
              "      border-color: transparent;\n",
              "      border-bottom-color: var(--fill-color);\n",
              "      border-left-color: var(--fill-color);\n",
              "    }\n",
              "    20% {\n",
              "      border-color: transparent;\n",
              "      border-left-color: var(--fill-color);\n",
              "      border-top-color: var(--fill-color);\n",
              "    }\n",
              "    30% {\n",
              "      border-color: transparent;\n",
              "      border-left-color: var(--fill-color);\n",
              "      border-top-color: var(--fill-color);\n",
              "      border-right-color: var(--fill-color);\n",
              "    }\n",
              "    40% {\n",
              "      border-color: transparent;\n",
              "      border-right-color: var(--fill-color);\n",
              "      border-top-color: var(--fill-color);\n",
              "    }\n",
              "    60% {\n",
              "      border-color: transparent;\n",
              "      border-right-color: var(--fill-color);\n",
              "    }\n",
              "    80% {\n",
              "      border-color: transparent;\n",
              "      border-right-color: var(--fill-color);\n",
              "      border-bottom-color: var(--fill-color);\n",
              "    }\n",
              "    90% {\n",
              "      border-color: transparent;\n",
              "      border-bottom-color: var(--fill-color);\n",
              "    }\n",
              "  }\n",
              "</style>\n",
              "\n",
              "  <script>\n",
              "    async function quickchart(key) {\n",
              "      const quickchartButtonEl =\n",
              "        document.querySelector('#' + key + ' button');\n",
              "      quickchartButtonEl.disabled = true;  // To prevent multiple clicks.\n",
              "      quickchartButtonEl.classList.add('colab-df-spinner');\n",
              "      try {\n",
              "        const charts = await google.colab.kernel.invokeFunction(\n",
              "            'suggestCharts', [key], {});\n",
              "      } catch (error) {\n",
              "        console.error('Error during call to suggestCharts:', error);\n",
              "      }\n",
              "      quickchartButtonEl.classList.remove('colab-df-spinner');\n",
              "      quickchartButtonEl.classList.add('colab-df-quickchart-complete');\n",
              "    }\n",
              "    (() => {\n",
              "      let quickchartButtonEl =\n",
              "        document.querySelector('#df-fb281377-088d-4811-b26b-f6eb9622d1d0 button');\n",
              "      quickchartButtonEl.style.display =\n",
              "        google.colab.kernel.accessAllowed ? 'block' : 'none';\n",
              "    })();\n",
              "  </script>\n",
              "</div>\n",
              "\n",
              "    </div>\n",
              "  </div>\n"
            ],
            "application/vnd.google.colaboratory.intrinsic+json": {
              "type": "dataframe",
              "variable_name": "reviews",
              "summary": "{\n  \"name\": \"reviews\",\n  \"rows\": 7875,\n  \"fields\": [\n    {\n      \"column\": \"Review\",\n      \"properties\": {\n        \"dtype\": \"string\",\n        \"num_unique_values\": 7802,\n        \"samples\": [\n          \"Fascinante viaje atr\\u00e1s en el tiempo con Henequin o producci\\u00f3n de Sisal. La gu\\u00eda era encantadora y la ceynote era una ventaja a\\u00f1adida\",\n          \"Una estancia en un hotel maravilloso! El personal es amable, el desayuno de buffet es estupendo y muy bonita piscina en la azotea. Sin duda se lo recomendar\\u00eda a todo el mundo! La ubicaci\\u00f3n tambi\\u00e9n es genial, a corta distancia a pie de los lugares m\\u00e1s populares.\",\n          \"Excelente hotel, muy buena ubicaci\\u00f3n, frente al parque central de La Habana vieja, muy cerca del casco hist\\u00f3rico, de La Floridita, la Bodeguita del Medio. Es uno de los hoteles m\\u00e1s antiguos de La Habana, pero en excelente estado. El desayuno muy bueno, muy variado, con un caf\\u00e9 muy rico.\"\n        ],\n        \"semantic_type\": \"\",\n        \"description\": \"\"\n      }\n    },\n    {\n      \"column\": \"Class\",\n      \"properties\": {\n        \"dtype\": \"number\",\n        \"std\": 1,\n        \"min\": 1,\n        \"max\": 5,\n        \"num_unique_values\": 5,\n        \"samples\": [\n          3,\n          1,\n          4\n        ],\n        \"semantic_type\": \"\",\n        \"description\": \"\"\n      }\n    }\n  ]\n}"
            }
          },
          "metadata": {},
          "execution_count": 29
        }
      ],
      "source": [
        "reviews.head()"
      ]
    },
    {
      "cell_type": "markdown",
      "source": [
        "Como se observa nuestro data frame esta conformado unicamente por dos columnas: una para le reseña y otra para la clase a la que pertenece. Dado que no se tiene mas información al respecto, asumiremos que esta clase hace las veces de una calificación que hace el turista sobre su experiencia en el hotel."
      ],
      "metadata": {
        "id": "L6G7b85XxALM"
      }
    },
    {
      "cell_type": "markdown",
      "source": [
        "### Revisión de la dimensión e integridad de los datos"
      ],
      "metadata": {
        "id": "Y4ijZrQGxgUL"
      }
    },
    {
      "cell_type": "code",
      "source": [
        "reviews.info()\n",
        "\n",
        "print(\"\\nDimensión de los datos: \",reviews.shape)\n",
        "\n",
        "print(\"\\nRevisión de valores nulos: \" )\n",
        "print(reviews.isnull().sum())\n",
        "\n",
        "print(\"\\nRevisión de valores repetidos: \", reviews.duplicated().sum())\n",
        "\n"
      ],
      "metadata": {
        "colab": {
          "base_uri": "https://localhost:8080/"
        },
        "id": "x7pO1uFKxV5i",
        "outputId": "7247ce59-e192-4097-c162-3e800e355583"
      },
      "execution_count": null,
      "outputs": [
        {
          "output_type": "stream",
          "name": "stdout",
          "text": [
            "<class 'pandas.core.frame.DataFrame'>\n",
            "RangeIndex: 7875 entries, 0 to 7874\n",
            "Data columns (total 2 columns):\n",
            " #   Column  Non-Null Count  Dtype \n",
            "---  ------  --------------  ----- \n",
            " 0   Review  7875 non-null   object\n",
            " 1   Class   7875 non-null   int64 \n",
            "dtypes: int64(1), object(1)\n",
            "memory usage: 123.2+ KB\n",
            "\n",
            "Dimensión de los datos:  (7875, 2)\n",
            "\n",
            "Revisión de valores nulos: \n",
            "Review    0\n",
            "Class     0\n",
            "dtype: int64\n",
            "\n",
            "Revisión de valores repetidos:  73\n"
          ]
        }
      ]
    },
    {
      "cell_type": "code",
      "source": [
        "reviews.drop_duplicates()\n"
      ],
      "metadata": {
        "colab": {
          "base_uri": "https://localhost:8080/",
          "height": 423
        },
        "id": "GlSAzKyry-g3",
        "outputId": "c63d7536-7049-44df-86ce-189f27faf843"
      },
      "execution_count": null,
      "outputs": [
        {
          "output_type": "execute_result",
          "data": {
            "text/plain": [
              "                                                 Review  Class\n",
              "0     Muy buena atención y aclaración de dudas por p...      5\n",
              "1     Buen hotel si están obligados a estar cerca de...      3\n",
              "2     Es un lugar muy lindo para fotografías, visite...      5\n",
              "3     Abusados con la factura de alimentos siempre s...      3\n",
              "4     Tuvimos un par de personas en el grupo que rea...      3\n",
              "...                                                 ...    ...\n",
              "7870  Me parece buen sistema, agiliza el transporte,...      4\n",
              "7871  Fue una escapada de un día desde el complejo, ...      4\n",
              "7872  La Plaza de la Revolución es un lugar emblemát...      3\n",
              "7873  Es la segunda ocasión que me quedo en los cuar...      1\n",
              "7874  Llegamos por casualidad a Los Mercaderes, un g...      5\n",
              "\n",
              "[7802 rows x 2 columns]"
            ],
            "text/html": [
              "\n",
              "  <div id=\"df-6098803e-67b1-49cd-b879-d8e2b6f628e3\" class=\"colab-df-container\">\n",
              "    <div>\n",
              "<style scoped>\n",
              "    .dataframe tbody tr th:only-of-type {\n",
              "        vertical-align: middle;\n",
              "    }\n",
              "\n",
              "    .dataframe tbody tr th {\n",
              "        vertical-align: top;\n",
              "    }\n",
              "\n",
              "    .dataframe thead th {\n",
              "        text-align: right;\n",
              "    }\n",
              "</style>\n",
              "<table border=\"1\" class=\"dataframe\">\n",
              "  <thead>\n",
              "    <tr style=\"text-align: right;\">\n",
              "      <th></th>\n",
              "      <th>Review</th>\n",
              "      <th>Class</th>\n",
              "    </tr>\n",
              "  </thead>\n",
              "  <tbody>\n",
              "    <tr>\n",
              "      <th>0</th>\n",
              "      <td>Muy buena atención y aclaración de dudas por p...</td>\n",
              "      <td>5</td>\n",
              "    </tr>\n",
              "    <tr>\n",
              "      <th>1</th>\n",
              "      <td>Buen hotel si están obligados a estar cerca de...</td>\n",
              "      <td>3</td>\n",
              "    </tr>\n",
              "    <tr>\n",
              "      <th>2</th>\n",
              "      <td>Es un lugar muy lindo para fotografías, visite...</td>\n",
              "      <td>5</td>\n",
              "    </tr>\n",
              "    <tr>\n",
              "      <th>3</th>\n",
              "      <td>Abusados con la factura de alimentos siempre s...</td>\n",
              "      <td>3</td>\n",
              "    </tr>\n",
              "    <tr>\n",
              "      <th>4</th>\n",
              "      <td>Tuvimos un par de personas en el grupo que rea...</td>\n",
              "      <td>3</td>\n",
              "    </tr>\n",
              "    <tr>\n",
              "      <th>...</th>\n",
              "      <td>...</td>\n",
              "      <td>...</td>\n",
              "    </tr>\n",
              "    <tr>\n",
              "      <th>7870</th>\n",
              "      <td>Me parece buen sistema, agiliza el transporte,...</td>\n",
              "      <td>4</td>\n",
              "    </tr>\n",
              "    <tr>\n",
              "      <th>7871</th>\n",
              "      <td>Fue una escapada de un día desde el complejo, ...</td>\n",
              "      <td>4</td>\n",
              "    </tr>\n",
              "    <tr>\n",
              "      <th>7872</th>\n",
              "      <td>La Plaza de la Revolución es un lugar emblemát...</td>\n",
              "      <td>3</td>\n",
              "    </tr>\n",
              "    <tr>\n",
              "      <th>7873</th>\n",
              "      <td>Es la segunda ocasión que me quedo en los cuar...</td>\n",
              "      <td>1</td>\n",
              "    </tr>\n",
              "    <tr>\n",
              "      <th>7874</th>\n",
              "      <td>Llegamos por casualidad a Los Mercaderes, un g...</td>\n",
              "      <td>5</td>\n",
              "    </tr>\n",
              "  </tbody>\n",
              "</table>\n",
              "<p>7802 rows × 2 columns</p>\n",
              "</div>\n",
              "    <div class=\"colab-df-buttons\">\n",
              "\n",
              "  <div class=\"colab-df-container\">\n",
              "    <button class=\"colab-df-convert\" onclick=\"convertToInteractive('df-6098803e-67b1-49cd-b879-d8e2b6f628e3')\"\n",
              "            title=\"Convert this dataframe to an interactive table.\"\n",
              "            style=\"display:none;\">\n",
              "\n",
              "  <svg xmlns=\"http://www.w3.org/2000/svg\" height=\"24px\" viewBox=\"0 -960 960 960\">\n",
              "    <path d=\"M120-120v-720h720v720H120Zm60-500h600v-160H180v160Zm220 220h160v-160H400v160Zm0 220h160v-160H400v160ZM180-400h160v-160H180v160Zm440 0h160v-160H620v160ZM180-180h160v-160H180v160Zm440 0h160v-160H620v160Z\"/>\n",
              "  </svg>\n",
              "    </button>\n",
              "\n",
              "  <style>\n",
              "    .colab-df-container {\n",
              "      display:flex;\n",
              "      gap: 12px;\n",
              "    }\n",
              "\n",
              "    .colab-df-convert {\n",
              "      background-color: #E8F0FE;\n",
              "      border: none;\n",
              "      border-radius: 50%;\n",
              "      cursor: pointer;\n",
              "      display: none;\n",
              "      fill: #1967D2;\n",
              "      height: 32px;\n",
              "      padding: 0 0 0 0;\n",
              "      width: 32px;\n",
              "    }\n",
              "\n",
              "    .colab-df-convert:hover {\n",
              "      background-color: #E2EBFA;\n",
              "      box-shadow: 0px 1px 2px rgba(60, 64, 67, 0.3), 0px 1px 3px 1px rgba(60, 64, 67, 0.15);\n",
              "      fill: #174EA6;\n",
              "    }\n",
              "\n",
              "    .colab-df-buttons div {\n",
              "      margin-bottom: 4px;\n",
              "    }\n",
              "\n",
              "    [theme=dark] .colab-df-convert {\n",
              "      background-color: #3B4455;\n",
              "      fill: #D2E3FC;\n",
              "    }\n",
              "\n",
              "    [theme=dark] .colab-df-convert:hover {\n",
              "      background-color: #434B5C;\n",
              "      box-shadow: 0px 1px 3px 1px rgba(0, 0, 0, 0.15);\n",
              "      filter: drop-shadow(0px 1px 2px rgba(0, 0, 0, 0.3));\n",
              "      fill: #FFFFFF;\n",
              "    }\n",
              "  </style>\n",
              "\n",
              "    <script>\n",
              "      const buttonEl =\n",
              "        document.querySelector('#df-6098803e-67b1-49cd-b879-d8e2b6f628e3 button.colab-df-convert');\n",
              "      buttonEl.style.display =\n",
              "        google.colab.kernel.accessAllowed ? 'block' : 'none';\n",
              "\n",
              "      async function convertToInteractive(key) {\n",
              "        const element = document.querySelector('#df-6098803e-67b1-49cd-b879-d8e2b6f628e3');\n",
              "        const dataTable =\n",
              "          await google.colab.kernel.invokeFunction('convertToInteractive',\n",
              "                                                    [key], {});\n",
              "        if (!dataTable) return;\n",
              "\n",
              "        const docLinkHtml = 'Like what you see? Visit the ' +\n",
              "          '<a target=\"_blank\" href=https://colab.research.google.com/notebooks/data_table.ipynb>data table notebook</a>'\n",
              "          + ' to learn more about interactive tables.';\n",
              "        element.innerHTML = '';\n",
              "        dataTable['output_type'] = 'display_data';\n",
              "        await google.colab.output.renderOutput(dataTable, element);\n",
              "        const docLink = document.createElement('div');\n",
              "        docLink.innerHTML = docLinkHtml;\n",
              "        element.appendChild(docLink);\n",
              "      }\n",
              "    </script>\n",
              "  </div>\n",
              "\n",
              "\n",
              "<div id=\"df-a79fb781-e8b1-435f-a437-a33605588192\">\n",
              "  <button class=\"colab-df-quickchart\" onclick=\"quickchart('df-a79fb781-e8b1-435f-a437-a33605588192')\"\n",
              "            title=\"Suggest charts\"\n",
              "            style=\"display:none;\">\n",
              "\n",
              "<svg xmlns=\"http://www.w3.org/2000/svg\" height=\"24px\"viewBox=\"0 0 24 24\"\n",
              "     width=\"24px\">\n",
              "    <g>\n",
              "        <path d=\"M19 3H5c-1.1 0-2 .9-2 2v14c0 1.1.9 2 2 2h14c1.1 0 2-.9 2-2V5c0-1.1-.9-2-2-2zM9 17H7v-7h2v7zm4 0h-2V7h2v10zm4 0h-2v-4h2v4z\"/>\n",
              "    </g>\n",
              "</svg>\n",
              "  </button>\n",
              "\n",
              "<style>\n",
              "  .colab-df-quickchart {\n",
              "      --bg-color: #E8F0FE;\n",
              "      --fill-color: #1967D2;\n",
              "      --hover-bg-color: #E2EBFA;\n",
              "      --hover-fill-color: #174EA6;\n",
              "      --disabled-fill-color: #AAA;\n",
              "      --disabled-bg-color: #DDD;\n",
              "  }\n",
              "\n",
              "  [theme=dark] .colab-df-quickchart {\n",
              "      --bg-color: #3B4455;\n",
              "      --fill-color: #D2E3FC;\n",
              "      --hover-bg-color: #434B5C;\n",
              "      --hover-fill-color: #FFFFFF;\n",
              "      --disabled-bg-color: #3B4455;\n",
              "      --disabled-fill-color: #666;\n",
              "  }\n",
              "\n",
              "  .colab-df-quickchart {\n",
              "    background-color: var(--bg-color);\n",
              "    border: none;\n",
              "    border-radius: 50%;\n",
              "    cursor: pointer;\n",
              "    display: none;\n",
              "    fill: var(--fill-color);\n",
              "    height: 32px;\n",
              "    padding: 0;\n",
              "    width: 32px;\n",
              "  }\n",
              "\n",
              "  .colab-df-quickchart:hover {\n",
              "    background-color: var(--hover-bg-color);\n",
              "    box-shadow: 0 1px 2px rgba(60, 64, 67, 0.3), 0 1px 3px 1px rgba(60, 64, 67, 0.15);\n",
              "    fill: var(--button-hover-fill-color);\n",
              "  }\n",
              "\n",
              "  .colab-df-quickchart-complete:disabled,\n",
              "  .colab-df-quickchart-complete:disabled:hover {\n",
              "    background-color: var(--disabled-bg-color);\n",
              "    fill: var(--disabled-fill-color);\n",
              "    box-shadow: none;\n",
              "  }\n",
              "\n",
              "  .colab-df-spinner {\n",
              "    border: 2px solid var(--fill-color);\n",
              "    border-color: transparent;\n",
              "    border-bottom-color: var(--fill-color);\n",
              "    animation:\n",
              "      spin 1s steps(1) infinite;\n",
              "  }\n",
              "\n",
              "  @keyframes spin {\n",
              "    0% {\n",
              "      border-color: transparent;\n",
              "      border-bottom-color: var(--fill-color);\n",
              "      border-left-color: var(--fill-color);\n",
              "    }\n",
              "    20% {\n",
              "      border-color: transparent;\n",
              "      border-left-color: var(--fill-color);\n",
              "      border-top-color: var(--fill-color);\n",
              "    }\n",
              "    30% {\n",
              "      border-color: transparent;\n",
              "      border-left-color: var(--fill-color);\n",
              "      border-top-color: var(--fill-color);\n",
              "      border-right-color: var(--fill-color);\n",
              "    }\n",
              "    40% {\n",
              "      border-color: transparent;\n",
              "      border-right-color: var(--fill-color);\n",
              "      border-top-color: var(--fill-color);\n",
              "    }\n",
              "    60% {\n",
              "      border-color: transparent;\n",
              "      border-right-color: var(--fill-color);\n",
              "    }\n",
              "    80% {\n",
              "      border-color: transparent;\n",
              "      border-right-color: var(--fill-color);\n",
              "      border-bottom-color: var(--fill-color);\n",
              "    }\n",
              "    90% {\n",
              "      border-color: transparent;\n",
              "      border-bottom-color: var(--fill-color);\n",
              "    }\n",
              "  }\n",
              "</style>\n",
              "\n",
              "  <script>\n",
              "    async function quickchart(key) {\n",
              "      const quickchartButtonEl =\n",
              "        document.querySelector('#' + key + ' button');\n",
              "      quickchartButtonEl.disabled = true;  // To prevent multiple clicks.\n",
              "      quickchartButtonEl.classList.add('colab-df-spinner');\n",
              "      try {\n",
              "        const charts = await google.colab.kernel.invokeFunction(\n",
              "            'suggestCharts', [key], {});\n",
              "      } catch (error) {\n",
              "        console.error('Error during call to suggestCharts:', error);\n",
              "      }\n",
              "      quickchartButtonEl.classList.remove('colab-df-spinner');\n",
              "      quickchartButtonEl.classList.add('colab-df-quickchart-complete');\n",
              "    }\n",
              "    (() => {\n",
              "      let quickchartButtonEl =\n",
              "        document.querySelector('#df-a79fb781-e8b1-435f-a437-a33605588192 button');\n",
              "      quickchartButtonEl.style.display =\n",
              "        google.colab.kernel.accessAllowed ? 'block' : 'none';\n",
              "    })();\n",
              "  </script>\n",
              "</div>\n",
              "\n",
              "    </div>\n",
              "  </div>\n"
            ],
            "application/vnd.google.colaboratory.intrinsic+json": {
              "type": "dataframe",
              "summary": "{\n  \"name\": \"reviews\",\n  \"rows\": 7802,\n  \"fields\": [\n    {\n      \"column\": \"Review\",\n      \"properties\": {\n        \"dtype\": \"string\",\n        \"num_unique_values\": 7802,\n        \"samples\": [\n          \"Fascinante viaje atr\\u00e1s en el tiempo con Henequin o producci\\u00f3n de Sisal. La gu\\u00eda era encantadora y la ceynote era una ventaja a\\u00f1adida\",\n          \"Una estancia en un hotel maravilloso! El personal es amable, el desayuno de buffet es estupendo y muy bonita piscina en la azotea. Sin duda se lo recomendar\\u00eda a todo el mundo! La ubicaci\\u00f3n tambi\\u00e9n es genial, a corta distancia a pie de los lugares m\\u00e1s populares.\",\n          \"Excelente hotel, muy buena ubicaci\\u00f3n, frente al parque central de La Habana vieja, muy cerca del casco hist\\u00f3rico, de La Floridita, la Bodeguita del Medio. Es uno de los hoteles m\\u00e1s antiguos de La Habana, pero en excelente estado. El desayuno muy bueno, muy variado, con un caf\\u00e9 muy rico.\"\n        ],\n        \"semantic_type\": \"\",\n        \"description\": \"\"\n      }\n    },\n    {\n      \"column\": \"Class\",\n      \"properties\": {\n        \"dtype\": \"number\",\n        \"std\": 1,\n        \"min\": 1,\n        \"max\": 5,\n        \"num_unique_values\": 5,\n        \"samples\": [\n          3,\n          1,\n          4\n        ],\n        \"semantic_type\": \"\",\n        \"description\": \"\"\n      }\n    }\n  ]\n}"
            }
          },
          "metadata": {},
          "execution_count": 31
        }
      ]
    },
    {
      "cell_type": "markdown",
      "source": [
        "Como se observa, nuestro data frame consta de 7875 reseñas, todos los valores son consistentes y validos, sin embargo, hay presencia de reseñas repertidas. Esto ultimo puede representar un inconveniente a pesar de que se trata de muy pocos valores repetidos dado que el modelo durante su entrenamiento puede llegar a pensar que las palabras que contienen las reseñas repetidas tienen mas valor o significancia por encima del resto dado que su presencia es mayor gracias a los duplicados. Por este motivo procedemos a retirarlas para un total de 1802 tuplas."
      ],
      "metadata": {
        "id": "1yoOC7YGxrn9"
      }
    },
    {
      "cell_type": "markdown",
      "source": [
        "### Revisión de variables categoricas\n",
        "\n",
        "En este punto, procederemos a revisar en que magnitud hacen presencia las diferentes clase dentro del data frame. Para lograr un mejor entendimiento de esto transformaremos, de manera temporal, las clases por nombres algo mas dicientes."
      ],
      "metadata": {
        "id": "5vUS-AmYzZGo"
      }
    },
    {
      "cell_type": "code",
      "source": [
        "reviews['Class'] = reviews['Class'].replace({\n",
        "    1: 'Muy Negativo',\n",
        "    2: 'Negativo',\n",
        "    3: 'Neutro',\n",
        "    4: 'Positivo',\n",
        "    5: 'Muy Positivo'\n",
        "})"
      ],
      "metadata": {
        "id": "yNFrw4sdzbjJ"
      },
      "execution_count": null,
      "outputs": []
    },
    {
      "cell_type": "markdown",
      "source": [
        "Una vez hecho este cambio, temporal, vamos a ver cuantos datos hay de cada clase."
      ],
      "metadata": {
        "id": "AyNb3jlTz07L"
      }
    },
    {
      "cell_type": "code",
      "source": [
        "print(\"Conteo de clases: \\n\",reviews.Class.value_counts())\n"
      ],
      "metadata": {
        "colab": {
          "base_uri": "https://localhost:8080/"
        },
        "id": "JkBiNAex0Ai6",
        "outputId": "0a86b732-5186-4d35-bd17-708c68ce4b62"
      },
      "execution_count": null,
      "outputs": [
        {
          "output_type": "stream",
          "name": "stdout",
          "text": [
            "Conteo de clases: \n",
            " Class\n",
            "Muy Positivo    2361\n",
            "Positivo        1977\n",
            "Neutro          1574\n",
            "Negativo        1185\n",
            "Muy Negativo     778\n",
            "Name: count, dtype: int64\n"
          ]
        }
      ]
    },
    {
      "cell_type": "code",
      "source": [
        "fig=px.histogram(reviews,\n",
        "                x='Class',\n",
        "                title='Conteo de clases ',\n",
        "                color_discrete_sequence=['green'])\n",
        "fig.update_layout(bargap=0.1)\n",
        "fig.show()\n",
        "fig = px.pie(reviews, names='Class',title=\"Proporción de clases\")\n",
        "fig.show()\n"
      ],
      "metadata": {
        "colab": {
          "base_uri": "https://localhost:8080/",
          "height": 1000
        },
        "id": "0wSz99v_0NEZ",
        "outputId": "d3240c4a-5585-4447-9b38-710cb38d9fd1"
      },
      "execution_count": null,
      "outputs": [
        {
          "output_type": "display_data",
          "data": {
            "text/html": [
              "<html>\n",
              "<head><meta charset=\"utf-8\" /></head>\n",
              "<body>\n",
              "    <div>            <script src=\"https://cdnjs.cloudflare.com/ajax/libs/mathjax/2.7.5/MathJax.js?config=TeX-AMS-MML_SVG\"></script><script type=\"text/javascript\">if (window.MathJax && window.MathJax.Hub && window.MathJax.Hub.Config) {window.MathJax.Hub.Config({SVG: {font: \"STIX-Web\"}});}</script>                <script type=\"text/javascript\">window.PlotlyConfig = {MathJaxConfig: 'local'};</script>\n",
              "        <script charset=\"utf-8\" src=\"https://cdn.plot.ly/plotly-2.24.1.min.js\"></script>                <div id=\"5f0e36d5-2adf-4a63-a082-8abb7faf98a8\" class=\"plotly-graph-div\" style=\"height:525px; width:100%;\"></div>            <script type=\"text/javascript\">                                    window.PLOTLYENV=window.PLOTLYENV || {};                                    if (document.getElementById(\"5f0e36d5-2adf-4a63-a082-8abb7faf98a8\")) {                    Plotly.newPlot(                        \"5f0e36d5-2adf-4a63-a082-8abb7faf98a8\",                        [{\"alignmentgroup\":\"True\",\"bingroup\":\"x\",\"hovertemplate\":\"Class=%{x}\\u003cbr\\u003ecount=%{y}\\u003cextra\\u003e\\u003c\\u002fextra\\u003e\",\"legendgroup\":\"\",\"marker\":{\"color\":\"green\",\"pattern\":{\"shape\":\"\"}},\"name\":\"\",\"offsetgroup\":\"\",\"orientation\":\"v\",\"showlegend\":false,\"x\":[\"Muy Positivo\",\"Neutro\",\"Muy Positivo\",\"Neutro\",\"Neutro\",\"Positivo\",\"Negativo\",\"Neutro\",\"Muy Positivo\",\"Neutro\",\"Neutro\",\"Positivo\",\"Muy Negativo\",\"Neutro\",\"Negativo\",\"Negativo\",\"Muy Negativo\",\"Neutro\",\"Positivo\",\"Muy Positivo\",\"Neutro\",\"Negativo\",\"Positivo\",\"Muy Positivo\",\"Muy Positivo\",\"Neutro\",\"Positivo\",\"Neutro\",\"Negativo\",\"Neutro\",\"Muy Positivo\",\"Positivo\",\"Positivo\",\"Neutro\",\"Positivo\",\"Neutro\",\"Muy Negativo\",\"Neutro\",\"Neutro\",\"Positivo\",\"Muy Negativo\",\"Muy Positivo\",\"Muy Negativo\",\"Neutro\",\"Neutro\",\"Neutro\",\"Positivo\",\"Neutro\",\"Negativo\",\"Neutro\",\"Muy Negativo\",\"Positivo\",\"Neutro\",\"Muy Positivo\",\"Negativo\",\"Muy Negativo\",\"Muy Positivo\",\"Muy Positivo\",\"Muy Negativo\",\"Positivo\",\"Neutro\",\"Positivo\",\"Muy Positivo\",\"Positivo\",\"Muy Positivo\",\"Positivo\",\"Positivo\",\"Positivo\",\"Neutro\",\"Positivo\",\"Positivo\",\"Muy Negativo\",\"Neutro\",\"Negativo\",\"Muy Positivo\",\"Muy Negativo\",\"Positivo\",\"Muy Positivo\",\"Negativo\",\"Positivo\",\"Muy Positivo\",\"Positivo\",\"Positivo\",\"Neutro\",\"Negativo\",\"Neutro\",\"Muy Positivo\",\"Muy Positivo\",\"Positivo\",\"Positivo\",\"Muy Positivo\",\"Positivo\",\"Neutro\",\"Muy Positivo\",\"Muy Positivo\",\"Positivo\",\"Muy Positivo\",\"Positivo\",\"Muy Positivo\",\"Positivo\",\"Negativo\",\"Muy Positivo\",\"Muy Positivo\",\"Positivo\",\"Muy Positivo\",\"Muy Negativo\",\"Negativo\",\"Neutro\",\"Muy Positivo\",\"Muy Positivo\",\"Muy Positivo\",\"Positivo\",\"Neutro\",\"Negativo\",\"Positivo\",\"Muy Positivo\",\"Negativo\",\"Muy Negativo\",\"Negativo\",\"Positivo\",\"Muy Negativo\",\"Muy Positivo\",\"Negativo\",\"Negativo\",\"Positivo\",\"Muy Positivo\",\"Muy Positivo\",\"Muy Negativo\",\"Muy Positivo\",\"Muy Positivo\",\"Positivo\",\"Muy Negativo\",\"Neutro\",\"Negativo\",\"Positivo\",\"Negativo\",\"Negativo\",\"Positivo\",\"Muy Positivo\",\"Positivo\",\"Muy Negativo\",\"Muy Positivo\",\"Neutro\",\"Positivo\",\"Negativo\",\"Negativo\",\"Positivo\",\"Muy Negativo\",\"Neutro\",\"Neutro\",\"Negativo\",\"Neutro\",\"Negativo\",\"Muy Positivo\",\"Negativo\",\"Muy Positivo\",\"Positivo\",\"Muy Negativo\",\"Negativo\",\"Positivo\",\"Positivo\",\"Negativo\",\"Muy Negativo\",\"Neutro\",\"Muy Positivo\",\"Neutro\",\"Muy Positivo\",\"Muy Negativo\",\"Positivo\",\"Muy Positivo\",\"Neutro\",\"Muy Negativo\",\"Negativo\",\"Negativo\",\"Negativo\",\"Positivo\",\"Positivo\",\"Muy Positivo\",\"Muy Negativo\",\"Neutro\",\"Neutro\",\"Muy Positivo\",\"Positivo\",\"Muy Positivo\",\"Negativo\",\"Neutro\",\"Positivo\",\"Muy Positivo\",\"Muy Negativo\",\"Neutro\",\"Negativo\",\"Neutro\",\"Muy Negativo\",\"Muy Positivo\",\"Negativo\",\"Neutro\",\"Positivo\",\"Neutro\",\"Negativo\",\"Muy Positivo\",\"Muy Negativo\",\"Positivo\",\"Muy Positivo\",\"Muy Positivo\",\"Positivo\",\"Muy Positivo\",\"Neutro\",\"Muy Negativo\",\"Negativo\",\"Neutro\",\"Muy Positivo\",\"Neutro\",\"Neutro\",\"Neutro\",\"Negativo\",\"Neutro\",\"Neutro\",\"Negativo\",\"Positivo\",\"Positivo\",\"Muy Positivo\",\"Muy Positivo\",\"Positivo\",\"Positivo\",\"Negativo\",\"Muy Negativo\",\"Negativo\",\"Muy Positivo\",\"Positivo\",\"Negativo\",\"Muy Negativo\",\"Positivo\",\"Muy Negativo\",\"Muy Positivo\",\"Neutro\",\"Positivo\",\"Positivo\",\"Positivo\",\"Neutro\",\"Positivo\",\"Muy Positivo\",\"Muy Negativo\",\"Positivo\",\"Positivo\",\"Muy Positivo\",\"Neutro\",\"Negativo\",\"Muy Positivo\",\"Neutro\",\"Muy Positivo\",\"Negativo\",\"Positivo\",\"Positivo\",\"Neutro\",\"Positivo\",\"Negativo\",\"Muy Positivo\",\"Muy Positivo\",\"Neutro\",\"Negativo\",\"Positivo\",\"Neutro\",\"Muy Positivo\",\"Muy Positivo\",\"Negativo\",\"Positivo\",\"Negativo\",\"Negativo\",\"Negativo\",\"Neutro\",\"Muy Positivo\",\"Negativo\",\"Positivo\",\"Positivo\",\"Negativo\",\"Muy Positivo\",\"Negativo\",\"Negativo\",\"Positivo\",\"Muy Positivo\",\"Negativo\",\"Neutro\",\"Positivo\",\"Neutro\",\"Muy Positivo\",\"Positivo\",\"Negativo\",\"Muy Negativo\",\"Muy Negativo\",\"Muy Negativo\",\"Positivo\",\"Positivo\",\"Positivo\",\"Neutro\",\"Negativo\",\"Positivo\",\"Muy Positivo\",\"Muy Positivo\",\"Muy Positivo\",\"Muy Positivo\",\"Muy Negativo\",\"Positivo\",\"Muy Negativo\",\"Neutro\",\"Muy Positivo\",\"Negativo\",\"Neutro\",\"Neutro\",\"Muy Positivo\",\"Positivo\",\"Muy Positivo\",\"Positivo\",\"Neutro\",\"Neutro\",\"Neutro\",\"Muy Positivo\",\"Muy Positivo\",\"Muy Positivo\",\"Negativo\",\"Muy Positivo\",\"Negativo\",\"Muy Positivo\",\"Negativo\",\"Positivo\",\"Muy Positivo\",\"Neutro\",\"Neutro\",\"Neutro\",\"Positivo\",\"Negativo\",\"Positivo\",\"Neutro\",\"Muy Positivo\",\"Negativo\",\"Positivo\",\"Neutro\",\"Positivo\",\"Neutro\",\"Muy Positivo\",\"Positivo\",\"Muy Negativo\",\"Neutro\",\"Muy Negativo\",\"Neutro\",\"Neutro\",\"Negativo\",\"Neutro\",\"Positivo\",\"Negativo\",\"Positivo\",\"Muy Positivo\",\"Muy Positivo\",\"Neutro\",\"Neutro\",\"Muy Positivo\",\"Neutro\",\"Neutro\",\"Muy Positivo\",\"Positivo\",\"Muy Negativo\",\"Negativo\",\"Muy Positivo\",\"Muy Positivo\",\"Negativo\",\"Muy Positivo\",\"Neutro\",\"Positivo\",\"Neutro\",\"Muy Negativo\",\"Muy Positivo\",\"Muy Positivo\",\"Muy Positivo\",\"Positivo\",\"Negativo\",\"Neutro\",\"Negativo\",\"Positivo\",\"Positivo\",\"Neutro\",\"Muy Positivo\",\"Neutro\",\"Muy Positivo\",\"Muy Negativo\",\"Negativo\",\"Negativo\",\"Muy Positivo\",\"Muy Positivo\",\"Positivo\",\"Positivo\",\"Positivo\",\"Muy Negativo\",\"Muy Negativo\",\"Neutro\",\"Negativo\",\"Positivo\",\"Muy Positivo\",\"Positivo\",\"Positivo\",\"Muy Positivo\",\"Muy Positivo\",\"Neutro\",\"Negativo\",\"Neutro\",\"Muy Positivo\",\"Muy Positivo\",\"Negativo\",\"Positivo\",\"Positivo\",\"Muy Positivo\",\"Muy Negativo\",\"Positivo\",\"Muy Positivo\",\"Muy Negativo\",\"Negativo\",\"Positivo\",\"Positivo\",\"Positivo\",\"Muy Positivo\",\"Positivo\",\"Neutro\",\"Positivo\",\"Positivo\",\"Neutro\",\"Neutro\",\"Muy Negativo\",\"Positivo\",\"Muy Positivo\",\"Positivo\",\"Positivo\",\"Muy Positivo\",\"Neutro\",\"Positivo\",\"Muy Negativo\",\"Neutro\",\"Positivo\",\"Neutro\",\"Muy Positivo\",\"Muy Positivo\",\"Muy Negativo\",\"Muy Positivo\",\"Muy Positivo\",\"Positivo\",\"Neutro\",\"Negativo\",\"Neutro\",\"Muy Positivo\",\"Muy Positivo\",\"Positivo\",\"Positivo\",\"Muy Positivo\",\"Negativo\",\"Negativo\",\"Positivo\",\"Positivo\",\"Positivo\",\"Muy Positivo\",\"Muy Positivo\",\"Muy Positivo\",\"Neutro\",\"Muy Positivo\",\"Neutro\",\"Muy Positivo\",\"Muy Negativo\",\"Muy Negativo\",\"Muy Positivo\",\"Muy Positivo\",\"Neutro\",\"Neutro\",\"Negativo\",\"Muy Positivo\",\"Muy Negativo\",\"Muy Negativo\",\"Positivo\",\"Neutro\",\"Muy Positivo\",\"Muy Negativo\",\"Muy Positivo\",\"Positivo\",\"Negativo\",\"Neutro\",\"Neutro\",\"Positivo\",\"Muy Positivo\",\"Muy Positivo\",\"Neutro\",\"Negativo\",\"Muy Positivo\",\"Muy Positivo\",\"Muy Positivo\",\"Neutro\",\"Muy Positivo\",\"Muy Positivo\",\"Negativo\",\"Muy Negativo\",\"Negativo\",\"Neutro\",\"Neutro\",\"Muy Positivo\",\"Negativo\",\"Muy Negativo\",\"Muy Negativo\",\"Muy Positivo\",\"Muy Positivo\",\"Positivo\",\"Muy Negativo\",\"Muy Positivo\",\"Neutro\",\"Positivo\",\"Muy Positivo\",\"Muy Positivo\",\"Negativo\",\"Muy Positivo\",\"Muy Positivo\",\"Muy Negativo\",\"Positivo\",\"Neutro\",\"Positivo\",\"Muy Negativo\",\"Neutro\",\"Neutro\",\"Negativo\",\"Negativo\",\"Neutro\",\"Neutro\",\"Neutro\",\"Positivo\",\"Negativo\",\"Neutro\",\"Negativo\",\"Muy Negativo\",\"Negativo\",\"Positivo\",\"Muy Positivo\",\"Positivo\",\"Neutro\",\"Muy Positivo\",\"Muy Negativo\",\"Muy Positivo\",\"Negativo\",\"Positivo\",\"Positivo\",\"Neutro\",\"Positivo\",\"Muy Positivo\",\"Positivo\",\"Muy Negativo\",\"Neutro\",\"Neutro\",\"Positivo\",\"Muy Positivo\",\"Positivo\",\"Muy Positivo\",\"Muy Negativo\",\"Muy Negativo\",\"Positivo\",\"Neutro\",\"Neutro\",\"Positivo\",\"Muy Positivo\",\"Negativo\",\"Muy Positivo\",\"Positivo\",\"Neutro\",\"Positivo\",\"Neutro\",\"Muy Negativo\",\"Muy Positivo\",\"Negativo\",\"Muy Positivo\",\"Positivo\",\"Negativo\",\"Muy Positivo\",\"Muy Negativo\",\"Muy Negativo\",\"Muy Positivo\",\"Muy Positivo\",\"Neutro\",\"Muy Positivo\",\"Negativo\",\"Negativo\",\"Muy Positivo\",\"Muy Positivo\",\"Muy Positivo\",\"Neutro\",\"Muy Positivo\",\"Neutro\",\"Positivo\",\"Negativo\",\"Neutro\",\"Muy Positivo\",\"Positivo\",\"Neutro\",\"Muy Negativo\",\"Neutro\",\"Positivo\",\"Muy Positivo\",\"Positivo\",\"Muy Positivo\",\"Positivo\",\"Muy Positivo\",\"Neutro\",\"Positivo\",\"Muy Positivo\",\"Positivo\",\"Neutro\",\"Neutro\",\"Positivo\",\"Negativo\",\"Negativo\",\"Muy Positivo\",\"Positivo\",\"Muy Negativo\",\"Positivo\",\"Muy Positivo\",\"Muy Positivo\",\"Neutro\",\"Muy Positivo\",\"Muy Positivo\",\"Negativo\",\"Neutro\",\"Muy Negativo\",\"Muy Positivo\",\"Muy Negativo\",\"Neutro\",\"Neutro\",\"Positivo\",\"Positivo\",\"Muy Positivo\",\"Neutro\",\"Muy Positivo\",\"Neutro\",\"Positivo\",\"Muy Negativo\",\"Muy Positivo\",\"Negativo\",\"Muy Positivo\",\"Muy Negativo\",\"Positivo\",\"Positivo\",\"Muy Negativo\",\"Negativo\",\"Muy Negativo\",\"Positivo\",\"Positivo\",\"Muy Negativo\",\"Muy Positivo\",\"Muy Positivo\",\"Muy Positivo\",\"Muy Negativo\",\"Negativo\",\"Positivo\",\"Positivo\",\"Neutro\",\"Muy Positivo\",\"Negativo\",\"Negativo\",\"Neutro\",\"Muy Positivo\",\"Positivo\",\"Muy Negativo\",\"Neutro\",\"Negativo\",\"Positivo\",\"Neutro\",\"Neutro\",\"Muy Negativo\",\"Negativo\",\"Muy Positivo\",\"Negativo\",\"Neutro\",\"Negativo\",\"Negativo\",\"Neutro\",\"Muy Positivo\",\"Positivo\",\"Positivo\",\"Positivo\",\"Positivo\",\"Neutro\",\"Muy Positivo\",\"Neutro\",\"Muy Positivo\",\"Muy Negativo\",\"Neutro\",\"Negativo\",\"Neutro\",\"Muy Negativo\",\"Muy Positivo\",\"Neutro\",\"Muy Positivo\",\"Positivo\",\"Negativo\",\"Muy Positivo\",\"Muy Positivo\",\"Positivo\",\"Neutro\",\"Positivo\",\"Muy Positivo\",\"Positivo\",\"Positivo\",\"Negativo\",\"Negativo\",\"Muy Positivo\",\"Muy Positivo\",\"Muy Positivo\",\"Muy Positivo\",\"Muy Negativo\",\"Neutro\",\"Muy Positivo\",\"Muy Negativo\",\"Positivo\",\"Negativo\",\"Muy Positivo\",\"Muy Positivo\",\"Neutro\",\"Positivo\",\"Negativo\",\"Muy Positivo\",\"Muy Positivo\",\"Positivo\",\"Muy Positivo\",\"Muy Positivo\",\"Muy Negativo\",\"Positivo\",\"Neutro\",\"Positivo\",\"Muy Positivo\",\"Neutro\",\"Muy Negativo\",\"Muy Positivo\",\"Negativo\",\"Neutro\",\"Muy Positivo\",\"Muy Positivo\",\"Muy Negativo\",\"Neutro\",\"Muy Positivo\",\"Neutro\",\"Muy Negativo\",\"Muy Negativo\",\"Negativo\",\"Neutro\",\"Neutro\",\"Neutro\",\"Neutro\",\"Positivo\",\"Positivo\",\"Positivo\",\"Positivo\",\"Muy Positivo\",\"Muy Negativo\",\"Positivo\",\"Muy Positivo\",\"Neutro\",\"Negativo\",\"Muy Positivo\",\"Positivo\",\"Positivo\",\"Muy Positivo\",\"Negativo\",\"Muy Positivo\",\"Positivo\",\"Neutro\",\"Muy Positivo\",\"Neutro\",\"Muy Positivo\",\"Neutro\",\"Positivo\",\"Positivo\",\"Negativo\",\"Negativo\",\"Muy Negativo\",\"Muy Positivo\",\"Muy Negativo\",\"Muy Positivo\",\"Positivo\",\"Positivo\",\"Muy Positivo\",\"Positivo\",\"Positivo\",\"Muy Positivo\",\"Positivo\",\"Muy Positivo\",\"Neutro\",\"Positivo\",\"Muy Positivo\",\"Muy Positivo\",\"Negativo\",\"Muy Positivo\",\"Positivo\",\"Positivo\",\"Positivo\",\"Negativo\",\"Positivo\",\"Positivo\",\"Muy Negativo\",\"Positivo\",\"Muy Positivo\",\"Muy Negativo\",\"Negativo\",\"Positivo\",\"Muy Positivo\",\"Muy Positivo\",\"Neutro\",\"Neutro\",\"Positivo\",\"Negativo\",\"Neutro\",\"Muy Positivo\",\"Negativo\",\"Negativo\",\"Neutro\",\"Positivo\",\"Positivo\",\"Positivo\",\"Negativo\",\"Neutro\",\"Positivo\",\"Positivo\",\"Neutro\",\"Positivo\",\"Muy Negativo\",\"Muy Positivo\",\"Positivo\",\"Neutro\",\"Positivo\",\"Negativo\",\"Positivo\",\"Muy Positivo\",\"Muy Positivo\",\"Negativo\",\"Muy Positivo\",\"Negativo\",\"Negativo\",\"Positivo\",\"Neutro\",\"Neutro\",\"Muy Positivo\",\"Neutro\",\"Positivo\",\"Muy Positivo\",\"Neutro\",\"Negativo\",\"Positivo\",\"Negativo\",\"Muy Positivo\",\"Neutro\",\"Negativo\",\"Muy Negativo\",\"Muy Negativo\",\"Muy Positivo\",\"Positivo\",\"Negativo\",\"Muy Positivo\",\"Muy Positivo\",\"Muy Negativo\",\"Positivo\",\"Muy Positivo\",\"Negativo\",\"Positivo\",\"Positivo\",\"Neutro\",\"Neutro\",\"Muy Positivo\",\"Neutro\",\"Muy Positivo\",\"Muy Positivo\",\"Positivo\",\"Muy Negativo\",\"Muy Positivo\",\"Positivo\",\"Muy Positivo\",\"Positivo\",\"Muy Negativo\",\"Neutro\",\"Negativo\",\"Positivo\",\"Positivo\",\"Muy Positivo\",\"Muy Negativo\",\"Neutro\",\"Neutro\",\"Positivo\",\"Positivo\",\"Positivo\",\"Muy Positivo\",\"Muy Positivo\",\"Negativo\",\"Neutro\",\"Positivo\",\"Neutro\",\"Muy Positivo\",\"Positivo\",\"Positivo\",\"Positivo\",\"Muy Positivo\",\"Muy Positivo\",\"Muy Positivo\",\"Muy Positivo\",\"Muy Positivo\",\"Muy Positivo\",\"Positivo\",\"Muy Positivo\",\"Neutro\",\"Muy Positivo\",\"Muy Positivo\",\"Negativo\",\"Muy Positivo\",\"Neutro\",\"Muy Positivo\",\"Neutro\",\"Positivo\",\"Negativo\",\"Neutro\",\"Muy Positivo\",\"Muy Negativo\",\"Negativo\",\"Neutro\",\"Neutro\",\"Negativo\",\"Neutro\",\"Positivo\",\"Negativo\",\"Muy Positivo\",\"Neutro\",\"Muy Positivo\",\"Positivo\",\"Neutro\",\"Muy Positivo\",\"Negativo\",\"Muy Positivo\",\"Positivo\",\"Muy Positivo\",\"Positivo\",\"Muy Positivo\",\"Positivo\",\"Muy Positivo\",\"Positivo\",\"Muy Positivo\",\"Muy Negativo\",\"Muy Positivo\",\"Neutro\",\"Muy Positivo\",\"Neutro\",\"Positivo\",\"Negativo\",\"Muy Positivo\",\"Positivo\",\"Neutro\",\"Neutro\",\"Neutro\",\"Muy Positivo\",\"Negativo\",\"Muy Positivo\",\"Positivo\",\"Neutro\",\"Positivo\",\"Neutro\",\"Negativo\",\"Muy Negativo\",\"Muy Negativo\",\"Muy Positivo\",\"Muy Positivo\",\"Positivo\",\"Positivo\",\"Muy Positivo\",\"Muy Positivo\",\"Muy Positivo\",\"Neutro\",\"Positivo\",\"Muy Negativo\",\"Negativo\",\"Muy Positivo\",\"Muy Positivo\",\"Neutro\",\"Negativo\",\"Neutro\",\"Positivo\",\"Neutro\",\"Neutro\",\"Neutro\",\"Negativo\",\"Negativo\",\"Negativo\",\"Positivo\",\"Muy Negativo\",\"Negativo\",\"Positivo\",\"Positivo\",\"Neutro\",\"Negativo\",\"Muy Negativo\",\"Muy Positivo\",\"Muy Negativo\",\"Muy Positivo\",\"Negativo\",\"Positivo\",\"Muy Positivo\",\"Muy Positivo\",\"Muy Positivo\",\"Positivo\",\"Positivo\",\"Neutro\",\"Positivo\",\"Positivo\",\"Negativo\",\"Positivo\",\"Neutro\",\"Positivo\",\"Neutro\",\"Neutro\",\"Neutro\",\"Positivo\",\"Positivo\",\"Muy Positivo\",\"Muy Positivo\",\"Neutro\",\"Muy Positivo\",\"Positivo\",\"Muy Positivo\",\"Muy Positivo\",\"Muy Positivo\",\"Muy Positivo\",\"Muy Positivo\",\"Negativo\",\"Neutro\",\"Muy Negativo\",\"Positivo\",\"Negativo\",\"Positivo\",\"Muy Positivo\",\"Muy Positivo\",\"Positivo\",\"Negativo\",\"Muy Positivo\",\"Muy Positivo\",\"Negativo\",\"Muy Positivo\",\"Positivo\",\"Muy Positivo\",\"Muy Positivo\",\"Neutro\",\"Neutro\",\"Negativo\",\"Neutro\",\"Muy Positivo\",\"Neutro\",\"Muy Negativo\",\"Muy Positivo\",\"Negativo\",\"Muy Positivo\",\"Negativo\",\"Neutro\",\"Negativo\",\"Muy Positivo\",\"Muy Positivo\",\"Muy Negativo\",\"Muy Negativo\",\"Muy Positivo\",\"Positivo\",\"Positivo\",\"Positivo\",\"Positivo\",\"Negativo\",\"Muy Positivo\",\"Muy Negativo\",\"Muy Negativo\",\"Negativo\",\"Neutro\",\"Neutro\",\"Negativo\",\"Positivo\",\"Neutro\",\"Muy Negativo\",\"Neutro\",\"Muy Negativo\",\"Muy Positivo\",\"Negativo\",\"Muy Negativo\",\"Muy Negativo\",\"Muy Positivo\",\"Positivo\",\"Positivo\",\"Muy Negativo\",\"Muy Positivo\",\"Muy Positivo\",\"Muy Negativo\",\"Muy Positivo\",\"Neutro\",\"Muy Negativo\",\"Negativo\",\"Muy Positivo\",\"Positivo\",\"Neutro\",\"Positivo\",\"Positivo\",\"Muy Positivo\",\"Muy Positivo\",\"Neutro\",\"Muy Negativo\",\"Neutro\",\"Neutro\",\"Muy Positivo\",\"Neutro\",\"Muy Positivo\",\"Negativo\",\"Muy Positivo\",\"Muy Positivo\",\"Muy Negativo\",\"Muy Positivo\",\"Neutro\",\"Muy Negativo\",\"Negativo\",\"Muy Positivo\",\"Neutro\",\"Muy Positivo\",\"Positivo\",\"Muy Positivo\",\"Positivo\",\"Muy Positivo\",\"Muy Positivo\",\"Muy Negativo\",\"Muy Negativo\",\"Neutro\",\"Positivo\",\"Muy Positivo\",\"Positivo\",\"Neutro\",\"Muy Positivo\",\"Muy Negativo\",\"Positivo\",\"Negativo\",\"Muy Negativo\",\"Neutro\",\"Muy Positivo\",\"Neutro\",\"Neutro\",\"Muy Positivo\",\"Muy Positivo\",\"Positivo\",\"Positivo\",\"Neutro\",\"Muy Negativo\",\"Positivo\",\"Negativo\",\"Muy Positivo\",\"Neutro\",\"Positivo\",\"Muy Positivo\",\"Neutro\",\"Neutro\",\"Positivo\",\"Neutro\",\"Muy Negativo\",\"Positivo\",\"Muy Positivo\",\"Positivo\",\"Negativo\",\"Negativo\",\"Muy Positivo\",\"Muy Positivo\",\"Muy Positivo\",\"Neutro\",\"Positivo\",\"Positivo\",\"Muy Positivo\",\"Positivo\",\"Neutro\",\"Muy Positivo\",\"Muy Positivo\",\"Positivo\",\"Muy Positivo\",\"Negativo\",\"Muy Negativo\",\"Positivo\",\"Neutro\",\"Muy Negativo\",\"Muy Positivo\",\"Neutro\",\"Negativo\",\"Positivo\",\"Positivo\",\"Positivo\",\"Muy Positivo\",\"Positivo\",\"Muy Positivo\",\"Muy Positivo\",\"Neutro\",\"Muy Positivo\",\"Neutro\",\"Negativo\",\"Positivo\",\"Negativo\",\"Muy Positivo\",\"Positivo\",\"Muy Positivo\",\"Positivo\",\"Muy Positivo\",\"Positivo\",\"Neutro\",\"Muy Negativo\",\"Neutro\",\"Negativo\",\"Muy Positivo\",\"Negativo\",\"Neutro\",\"Negativo\",\"Positivo\",\"Negativo\",\"Negativo\",\"Negativo\",\"Neutro\",\"Negativo\",\"Muy Negativo\",\"Neutro\",\"Muy Negativo\",\"Muy Negativo\",\"Neutro\",\"Muy Negativo\",\"Neutro\",\"Positivo\",\"Muy Positivo\",\"Muy Positivo\",\"Muy Positivo\",\"Muy Positivo\",\"Negativo\",\"Muy Positivo\",\"Positivo\",\"Muy Positivo\",\"Negativo\",\"Positivo\",\"Neutro\",\"Muy Positivo\",\"Neutro\",\"Neutro\",\"Positivo\",\"Muy Negativo\",\"Negativo\",\"Muy Negativo\",\"Neutro\",\"Muy Positivo\",\"Neutro\",\"Neutro\",\"Neutro\",\"Muy Positivo\",\"Muy Positivo\",\"Negativo\",\"Muy Positivo\",\"Muy Positivo\",\"Positivo\",\"Positivo\",\"Neutro\",\"Neutro\",\"Muy Positivo\",\"Positivo\",\"Neutro\",\"Neutro\",\"Muy Positivo\",\"Muy Positivo\",\"Muy Positivo\",\"Positivo\",\"Positivo\",\"Positivo\",\"Muy Positivo\",\"Neutro\",\"Neutro\",\"Muy Positivo\",\"Neutro\",\"Muy Positivo\",\"Negativo\",\"Negativo\",\"Neutro\",\"Muy Negativo\",\"Positivo\",\"Positivo\",\"Muy Positivo\",\"Negativo\",\"Negativo\",\"Positivo\",\"Negativo\",\"Positivo\",\"Muy Positivo\",\"Muy Positivo\",\"Muy Positivo\",\"Muy Positivo\",\"Positivo\",\"Negativo\",\"Muy Positivo\",\"Positivo\",\"Muy Positivo\",\"Positivo\",\"Negativo\",\"Neutro\",\"Muy Negativo\",\"Neutro\",\"Muy Positivo\",\"Neutro\",\"Negativo\",\"Muy Negativo\",\"Negativo\",\"Muy Positivo\",\"Muy Positivo\",\"Positivo\",\"Muy Positivo\",\"Positivo\",\"Positivo\",\"Negativo\",\"Neutro\",\"Positivo\",\"Negativo\",\"Negativo\",\"Muy Positivo\",\"Neutro\",\"Negativo\",\"Positivo\",\"Muy Positivo\",\"Muy Positivo\",\"Muy Negativo\",\"Negativo\",\"Muy Positivo\",\"Negativo\",\"Positivo\",\"Positivo\",\"Muy Negativo\",\"Positivo\",\"Negativo\",\"Positivo\",\"Muy Positivo\",\"Muy Positivo\",\"Muy Positivo\",\"Negativo\",\"Muy Positivo\",\"Positivo\",\"Negativo\",\"Neutro\",\"Muy Positivo\",\"Neutro\",\"Muy Positivo\",\"Negativo\",\"Muy Positivo\",\"Negativo\",\"Neutro\",\"Positivo\",\"Muy Positivo\",\"Positivo\",\"Muy Positivo\",\"Negativo\",\"Positivo\",\"Muy Positivo\",\"Negativo\",\"Neutro\",\"Positivo\",\"Muy Positivo\",\"Muy Negativo\",\"Negativo\",\"Negativo\",\"Neutro\",\"Muy Positivo\",\"Muy Positivo\",\"Negativo\",\"Neutro\",\"Positivo\",\"Negativo\",\"Muy Negativo\",\"Positivo\",\"Muy Positivo\",\"Positivo\",\"Muy Positivo\",\"Positivo\",\"Muy Positivo\",\"Neutro\",\"Negativo\",\"Neutro\",\"Neutro\",\"Positivo\",\"Positivo\",\"Positivo\",\"Positivo\",\"Muy Positivo\",\"Muy Positivo\",\"Positivo\",\"Neutro\",\"Neutro\",\"Neutro\",\"Positivo\",\"Muy Positivo\",\"Muy Positivo\",\"Muy Positivo\",\"Negativo\",\"Muy Positivo\",\"Muy Negativo\",\"Neutro\",\"Muy Positivo\",\"Positivo\",\"Positivo\",\"Positivo\",\"Positivo\",\"Muy Negativo\",\"Positivo\",\"Positivo\",\"Positivo\",\"Negativo\",\"Muy Positivo\",\"Muy Negativo\",\"Negativo\",\"Neutro\",\"Neutro\",\"Positivo\",\"Muy Negativo\",\"Positivo\",\"Muy Positivo\",\"Positivo\",\"Positivo\",\"Positivo\",\"Muy Positivo\",\"Positivo\",\"Muy Negativo\",\"Negativo\",\"Positivo\",\"Muy Positivo\",\"Neutro\",\"Muy Positivo\",\"Neutro\",\"Muy Positivo\",\"Negativo\",\"Positivo\",\"Muy Positivo\",\"Positivo\",\"Muy Positivo\",\"Positivo\",\"Muy Positivo\",\"Muy Positivo\",\"Positivo\",\"Neutro\",\"Neutro\",\"Neutro\",\"Neutro\",\"Negativo\",\"Positivo\",\"Muy Positivo\",\"Positivo\",\"Muy Positivo\",\"Muy Positivo\",\"Muy Positivo\",\"Muy Positivo\",\"Neutro\",\"Muy Positivo\",\"Negativo\",\"Muy Positivo\",\"Neutro\",\"Muy Negativo\",\"Neutro\",\"Negativo\",\"Positivo\",\"Muy Positivo\",\"Muy Positivo\",\"Negativo\",\"Neutro\",\"Neutro\",\"Positivo\",\"Positivo\",\"Muy Negativo\",\"Muy Negativo\",\"Neutro\",\"Positivo\",\"Neutro\",\"Neutro\",\"Neutro\",\"Positivo\",\"Negativo\",\"Muy Positivo\",\"Neutro\",\"Muy Positivo\",\"Positivo\",\"Neutro\",\"Muy Positivo\",\"Muy Positivo\",\"Positivo\",\"Muy Negativo\",\"Positivo\",\"Muy Negativo\",\"Positivo\",\"Muy Negativo\",\"Muy Positivo\",\"Negativo\",\"Positivo\",\"Neutro\",\"Neutro\",\"Muy Negativo\",\"Muy Negativo\",\"Muy Negativo\",\"Positivo\",\"Negativo\",\"Positivo\",\"Neutro\",\"Positivo\",\"Muy Positivo\",\"Neutro\",\"Muy Negativo\",\"Positivo\",\"Muy Positivo\",\"Positivo\",\"Muy Positivo\",\"Positivo\",\"Negativo\",\"Muy Negativo\",\"Muy Positivo\",\"Positivo\",\"Negativo\",\"Negativo\",\"Positivo\",\"Neutro\",\"Positivo\",\"Muy Negativo\",\"Neutro\",\"Positivo\",\"Muy Negativo\",\"Neutro\",\"Negativo\",\"Positivo\",\"Positivo\",\"Positivo\",\"Positivo\",\"Positivo\",\"Neutro\",\"Neutro\",\"Muy Positivo\",\"Positivo\",\"Muy Positivo\",\"Muy Positivo\",\"Positivo\",\"Muy Positivo\",\"Positivo\",\"Negativo\",\"Positivo\",\"Muy Negativo\",\"Negativo\",\"Neutro\",\"Muy Negativo\",\"Positivo\",\"Negativo\",\"Muy Positivo\",\"Muy Positivo\",\"Neutro\",\"Negativo\",\"Muy Negativo\",\"Muy Negativo\",\"Negativo\",\"Negativo\",\"Muy Negativo\",\"Neutro\",\"Muy Negativo\",\"Muy Positivo\",\"Muy Positivo\",\"Positivo\",\"Muy Negativo\",\"Muy Positivo\",\"Positivo\",\"Negativo\",\"Negativo\",\"Positivo\",\"Positivo\",\"Muy Positivo\",\"Positivo\",\"Neutro\",\"Positivo\",\"Neutro\",\"Negativo\",\"Negativo\",\"Muy Positivo\",\"Muy Positivo\",\"Neutro\",\"Muy Negativo\",\"Positivo\",\"Muy Positivo\",\"Negativo\",\"Muy Positivo\",\"Positivo\",\"Negativo\",\"Negativo\",\"Positivo\",\"Positivo\",\"Positivo\",\"Muy Positivo\",\"Positivo\",\"Muy Negativo\",\"Negativo\",\"Muy Positivo\",\"Positivo\",\"Positivo\",\"Neutro\",\"Neutro\",\"Muy Positivo\",\"Muy Positivo\",\"Negativo\",\"Muy Negativo\",\"Muy Positivo\",\"Muy Negativo\",\"Neutro\",\"Muy Positivo\",\"Neutro\",\"Positivo\",\"Muy Positivo\",\"Muy Positivo\",\"Neutro\",\"Negativo\",\"Negativo\",\"Neutro\",\"Positivo\",\"Neutro\",\"Muy Positivo\",\"Muy Positivo\",\"Positivo\",\"Negativo\",\"Muy Positivo\",\"Muy Positivo\",\"Muy Positivo\",\"Neutro\",\"Muy Positivo\",\"Muy Positivo\",\"Muy Positivo\",\"Negativo\",\"Neutro\",\"Positivo\",\"Positivo\",\"Negativo\",\"Neutro\",\"Neutro\",\"Negativo\",\"Negativo\",\"Neutro\",\"Positivo\",\"Muy Negativo\",\"Positivo\",\"Positivo\",\"Neutro\",\"Muy Positivo\",\"Negativo\",\"Negativo\",\"Neutro\",\"Neutro\",\"Positivo\",\"Neutro\",\"Muy Negativo\",\"Muy Negativo\",\"Neutro\",\"Negativo\",\"Neutro\",\"Neutro\",\"Muy Positivo\",\"Neutro\",\"Muy Negativo\",\"Muy Positivo\",\"Muy Positivo\",\"Positivo\",\"Muy Negativo\",\"Neutro\",\"Muy Positivo\",\"Positivo\",\"Muy Positivo\",\"Neutro\",\"Muy Positivo\",\"Negativo\",\"Neutro\",\"Neutro\",\"Positivo\",\"Positivo\",\"Negativo\",\"Muy Positivo\",\"Neutro\",\"Positivo\",\"Muy Positivo\",\"Neutro\",\"Positivo\",\"Negativo\",\"Positivo\",\"Positivo\",\"Muy Negativo\",\"Muy Positivo\",\"Muy Positivo\",\"Positivo\",\"Positivo\",\"Negativo\",\"Neutro\",\"Muy Positivo\",\"Positivo\",\"Neutro\",\"Muy Positivo\",\"Positivo\",\"Neutro\",\"Neutro\",\"Neutro\",\"Positivo\",\"Neutro\",\"Muy Positivo\",\"Negativo\",\"Positivo\",\"Neutro\",\"Positivo\",\"Negativo\",\"Negativo\",\"Muy Positivo\",\"Muy Negativo\",\"Muy Positivo\",\"Muy Positivo\",\"Positivo\",\"Neutro\",\"Neutro\",\"Positivo\",\"Muy Positivo\",\"Muy Positivo\",\"Negativo\",\"Muy Positivo\",\"Neutro\",\"Neutro\",\"Negativo\",\"Muy Positivo\",\"Positivo\",\"Positivo\",\"Positivo\",\"Neutro\",\"Muy Positivo\",\"Muy Positivo\",\"Muy Positivo\",\"Neutro\",\"Positivo\",\"Muy Positivo\",\"Muy Positivo\",\"Neutro\",\"Neutro\",\"Positivo\",\"Positivo\",\"Positivo\",\"Muy Negativo\",\"Negativo\",\"Positivo\",\"Positivo\",\"Muy Negativo\",\"Muy Positivo\",\"Positivo\",\"Neutro\",\"Muy Negativo\",\"Positivo\",\"Muy Positivo\",\"Muy Positivo\",\"Muy Positivo\",\"Negativo\",\"Muy Positivo\",\"Muy Positivo\",\"Negativo\",\"Negativo\",\"Negativo\",\"Muy Negativo\",\"Muy Positivo\",\"Neutro\",\"Neutro\",\"Neutro\",\"Muy Positivo\",\"Negativo\",\"Neutro\",\"Positivo\",\"Muy Positivo\",\"Neutro\",\"Neutro\",\"Neutro\",\"Neutro\",\"Muy Positivo\",\"Muy Negativo\",\"Neutro\",\"Muy Negativo\",\"Muy Positivo\",\"Negativo\",\"Positivo\",\"Muy Positivo\",\"Negativo\",\"Positivo\",\"Positivo\",\"Positivo\",\"Muy Positivo\",\"Muy Positivo\",\"Muy Positivo\",\"Muy Negativo\",\"Muy Negativo\",\"Neutro\",\"Positivo\",\"Muy Negativo\",\"Neutro\",\"Positivo\",\"Negativo\",\"Muy Positivo\",\"Muy Negativo\",\"Muy Negativo\",\"Muy Positivo\",\"Negativo\",\"Neutro\",\"Muy Negativo\",\"Positivo\",\"Positivo\",\"Neutro\",\"Positivo\",\"Positivo\",\"Muy Positivo\",\"Muy Positivo\",\"Positivo\",\"Muy Negativo\",\"Muy Positivo\",\"Positivo\",\"Positivo\",\"Neutro\",\"Muy Positivo\",\"Positivo\",\"Negativo\",\"Muy Positivo\",\"Muy Positivo\",\"Muy Positivo\",\"Neutro\",\"Muy Positivo\",\"Positivo\",\"Muy Positivo\",\"Negativo\",\"Positivo\",\"Muy Negativo\",\"Muy Negativo\",\"Positivo\",\"Muy Positivo\",\"Neutro\",\"Positivo\",\"Muy Negativo\",\"Muy Negativo\",\"Muy Positivo\",\"Neutro\",\"Negativo\",\"Positivo\",\"Positivo\",\"Muy Positivo\",\"Muy Positivo\",\"Muy Negativo\",\"Negativo\",\"Muy Positivo\",\"Neutro\",\"Muy Positivo\",\"Negativo\",\"Negativo\",\"Negativo\",\"Positivo\",\"Neutro\",\"Muy Positivo\",\"Muy Positivo\",\"Neutro\",\"Positivo\",\"Neutro\",\"Negativo\",\"Negativo\",\"Muy Positivo\",\"Positivo\",\"Neutro\",\"Negativo\",\"Muy Positivo\",\"Neutro\",\"Muy Negativo\",\"Negativo\",\"Muy Positivo\",\"Muy Positivo\",\"Muy Positivo\",\"Muy Negativo\",\"Muy Positivo\",\"Neutro\",\"Positivo\",\"Positivo\",\"Negativo\",\"Negativo\",\"Muy Positivo\",\"Muy Positivo\",\"Neutro\",\"Muy Positivo\",\"Positivo\",\"Muy Positivo\",\"Neutro\",\"Positivo\",\"Muy Positivo\",\"Negativo\",\"Muy Positivo\",\"Negativo\",\"Neutro\",\"Positivo\",\"Negativo\",\"Neutro\",\"Muy Positivo\",\"Positivo\",\"Neutro\",\"Neutro\",\"Neutro\",\"Positivo\",\"Muy Negativo\",\"Negativo\",\"Neutro\",\"Positivo\",\"Positivo\",\"Neutro\",\"Muy Positivo\",\"Muy Positivo\",\"Muy Positivo\",\"Muy Positivo\",\"Muy Negativo\",\"Neutro\",\"Positivo\",\"Positivo\",\"Muy Positivo\",\"Positivo\",\"Neutro\",\"Positivo\",\"Muy Positivo\",\"Neutro\",\"Negativo\",\"Muy Positivo\",\"Positivo\",\"Muy Positivo\",\"Neutro\",\"Muy Positivo\",\"Muy Negativo\",\"Neutro\",\"Positivo\",\"Positivo\",\"Positivo\",\"Positivo\",\"Muy Positivo\",\"Positivo\",\"Muy Positivo\",\"Muy Positivo\",\"Neutro\",\"Muy Positivo\",\"Muy Positivo\",\"Muy Positivo\",\"Muy Negativo\",\"Negativo\",\"Negativo\",\"Muy Positivo\",\"Negativo\",\"Negativo\",\"Negativo\",\"Negativo\",\"Muy Negativo\",\"Muy Negativo\",\"Negativo\",\"Muy Positivo\",\"Muy Negativo\",\"Positivo\",\"Positivo\",\"Negativo\",\"Muy Positivo\",\"Muy Positivo\",\"Muy Positivo\",\"Muy Positivo\",\"Positivo\",\"Negativo\",\"Negativo\",\"Negativo\",\"Muy Negativo\",\"Neutro\",\"Positivo\",\"Muy Positivo\",\"Muy Negativo\",\"Positivo\",\"Positivo\",\"Muy Negativo\",\"Positivo\",\"Muy Positivo\",\"Muy Positivo\",\"Muy Positivo\",\"Neutro\",\"Muy Positivo\",\"Negativo\",\"Negativo\",\"Muy Positivo\",\"Negativo\",\"Positivo\",\"Positivo\",\"Positivo\",\"Negativo\",\"Muy Positivo\",\"Muy Negativo\",\"Muy Positivo\",\"Muy Positivo\",\"Negativo\",\"Neutro\",\"Positivo\",\"Negativo\",\"Positivo\",\"Negativo\",\"Muy Positivo\",\"Muy Positivo\",\"Negativo\",\"Muy Negativo\",\"Muy Positivo\",\"Positivo\",\"Muy Positivo\",\"Positivo\",\"Negativo\",\"Neutro\",\"Neutro\",\"Negativo\",\"Neutro\",\"Muy Negativo\",\"Positivo\",\"Neutro\",\"Positivo\",\"Muy Positivo\",\"Positivo\",\"Negativo\",\"Negativo\",\"Muy Positivo\",\"Positivo\",\"Neutro\",\"Muy Negativo\",\"Negativo\",\"Negativo\",\"Muy Positivo\",\"Negativo\",\"Neutro\",\"Negativo\",\"Muy Negativo\",\"Positivo\",\"Muy Positivo\",\"Positivo\",\"Muy Positivo\",\"Neutro\",\"Muy Negativo\",\"Neutro\",\"Negativo\",\"Muy Positivo\",\"Positivo\",\"Neutro\",\"Positivo\",\"Muy Negativo\",\"Negativo\",\"Neutro\",\"Negativo\",\"Positivo\",\"Positivo\",\"Positivo\",\"Muy Positivo\",\"Muy Positivo\",\"Negativo\",\"Muy Positivo\",\"Muy Negativo\",\"Muy Positivo\",\"Neutro\",\"Muy Positivo\",\"Positivo\",\"Muy Positivo\",\"Positivo\",\"Muy Positivo\",\"Muy Positivo\",\"Muy Positivo\",\"Positivo\",\"Muy Positivo\",\"Muy Positivo\",\"Muy Positivo\",\"Muy Negativo\",\"Neutro\",\"Muy Positivo\",\"Neutro\",\"Muy Positivo\",\"Muy Positivo\",\"Positivo\",\"Muy Positivo\",\"Neutro\",\"Muy Positivo\",\"Positivo\",\"Neutro\",\"Muy Positivo\",\"Positivo\",\"Positivo\",\"Muy Negativo\",\"Positivo\",\"Muy Positivo\",\"Neutro\",\"Muy Positivo\",\"Neutro\",\"Muy Positivo\",\"Muy Positivo\",\"Muy Positivo\",\"Positivo\",\"Muy Positivo\",\"Positivo\",\"Negativo\",\"Muy Positivo\",\"Muy Negativo\",\"Positivo\",\"Negativo\",\"Positivo\",\"Muy Negativo\",\"Positivo\",\"Muy Positivo\",\"Muy Positivo\",\"Negativo\",\"Neutro\",\"Muy Negativo\",\"Muy Positivo\",\"Muy Positivo\",\"Muy Positivo\",\"Positivo\",\"Muy Positivo\",\"Muy Positivo\",\"Muy Positivo\",\"Negativo\",\"Neutro\",\"Negativo\",\"Positivo\",\"Positivo\",\"Muy Positivo\",\"Muy Positivo\",\"Neutro\",\"Muy Positivo\",\"Muy Positivo\",\"Muy Positivo\",\"Positivo\",\"Muy Positivo\",\"Negativo\",\"Muy Positivo\",\"Positivo\",\"Neutro\",\"Positivo\",\"Positivo\",\"Muy Negativo\",\"Positivo\",\"Muy Positivo\",\"Muy Negativo\",\"Neutro\",\"Muy Negativo\",\"Neutro\",\"Negativo\",\"Positivo\",\"Muy Positivo\",\"Negativo\",\"Muy Positivo\",\"Neutro\",\"Muy Positivo\",\"Muy Negativo\",\"Positivo\",\"Muy Positivo\",\"Negativo\",\"Neutro\",\"Muy Positivo\",\"Positivo\",\"Neutro\",\"Muy Positivo\",\"Muy Positivo\",\"Muy Positivo\",\"Positivo\",\"Muy Negativo\",\"Positivo\",\"Negativo\",\"Muy Negativo\",\"Muy Positivo\",\"Muy Negativo\",\"Muy Negativo\",\"Positivo\",\"Neutro\",\"Negativo\",\"Muy Positivo\",\"Neutro\",\"Negativo\",\"Neutro\",\"Negativo\",\"Muy Negativo\",\"Neutro\",\"Muy Positivo\",\"Positivo\",\"Neutro\",\"Muy Positivo\",\"Positivo\",\"Positivo\",\"Muy Positivo\",\"Negativo\",\"Positivo\",\"Muy Negativo\",\"Negativo\",\"Muy Positivo\",\"Muy Positivo\",\"Muy Positivo\",\"Neutro\",\"Muy Positivo\",\"Positivo\",\"Positivo\",\"Muy Positivo\",\"Muy Positivo\",\"Neutro\",\"Positivo\",\"Muy Positivo\",\"Muy Positivo\",\"Negativo\",\"Muy Positivo\",\"Positivo\",\"Positivo\",\"Neutro\",\"Negativo\",\"Positivo\",\"Muy Positivo\",\"Muy Positivo\",\"Muy Negativo\",\"Muy Positivo\",\"Neutro\",\"Positivo\",\"Neutro\",\"Muy Positivo\",\"Negativo\",\"Muy Positivo\",\"Muy Negativo\",\"Muy Positivo\",\"Muy Positivo\",\"Muy Positivo\",\"Negativo\",\"Neutro\",\"Neutro\",\"Negativo\",\"Neutro\",\"Muy Negativo\",\"Muy Positivo\",\"Positivo\",\"Negativo\",\"Muy Positivo\",\"Neutro\",\"Positivo\",\"Negativo\",\"Muy Positivo\",\"Positivo\",\"Positivo\",\"Positivo\",\"Muy Negativo\",\"Positivo\",\"Neutro\",\"Positivo\",\"Muy Negativo\",\"Neutro\",\"Positivo\",\"Positivo\",\"Positivo\",\"Neutro\",\"Positivo\",\"Neutro\",\"Negativo\",\"Neutro\",\"Muy Negativo\",\"Positivo\",\"Muy Positivo\",\"Muy Positivo\",\"Muy Positivo\",\"Neutro\",\"Neutro\",\"Neutro\",\"Positivo\",\"Positivo\",\"Muy Positivo\",\"Negativo\",\"Neutro\",\"Neutro\",\"Positivo\",\"Neutro\",\"Positivo\",\"Neutro\",\"Neutro\",\"Muy Positivo\",\"Positivo\",\"Muy Positivo\",\"Muy Negativo\",\"Negativo\",\"Negativo\",\"Muy Positivo\",\"Positivo\",\"Muy Positivo\",\"Neutro\",\"Positivo\",\"Neutro\",\"Neutro\",\"Muy Positivo\",\"Muy Positivo\",\"Muy Negativo\",\"Muy Positivo\",\"Positivo\",\"Positivo\",\"Positivo\",\"Neutro\",\"Positivo\",\"Negativo\",\"Positivo\",\"Muy Positivo\",\"Neutro\",\"Positivo\",\"Positivo\",\"Muy Positivo\",\"Muy Positivo\",\"Negativo\",\"Muy Positivo\",\"Positivo\",\"Neutro\",\"Muy Positivo\",\"Muy Positivo\",\"Positivo\",\"Positivo\",\"Muy Positivo\",\"Neutro\",\"Muy Positivo\",\"Positivo\",\"Positivo\",\"Negativo\",\"Positivo\",\"Muy Positivo\",\"Muy Positivo\",\"Muy Positivo\",\"Positivo\",\"Muy Positivo\",\"Neutro\",\"Positivo\",\"Muy Positivo\",\"Negativo\",\"Negativo\",\"Positivo\",\"Muy Negativo\",\"Muy Positivo\",\"Positivo\",\"Neutro\",\"Muy Positivo\",\"Negativo\",\"Muy Negativo\",\"Negativo\",\"Negativo\",\"Muy Positivo\",\"Negativo\",\"Negativo\",\"Muy Positivo\",\"Muy Positivo\",\"Muy Negativo\",\"Negativo\",\"Negativo\",\"Neutro\",\"Muy Positivo\",\"Positivo\",\"Neutro\",\"Negativo\",\"Muy Positivo\",\"Muy Negativo\",\"Muy Positivo\",\"Positivo\",\"Neutro\",\"Muy Positivo\",\"Muy Positivo\",\"Positivo\",\"Muy Negativo\",\"Negativo\",\"Muy Negativo\",\"Neutro\",\"Muy Negativo\",\"Negativo\",\"Positivo\",\"Neutro\",\"Muy Negativo\",\"Positivo\",\"Positivo\",\"Muy Negativo\",\"Muy Positivo\",\"Muy Positivo\",\"Muy Positivo\",\"Positivo\",\"Positivo\",\"Positivo\",\"Muy Positivo\",\"Positivo\",\"Muy Positivo\",\"Muy Positivo\",\"Muy Negativo\",\"Muy Positivo\",\"Muy Positivo\",\"Muy Positivo\",\"Muy Positivo\",\"Negativo\",\"Neutro\",\"Neutro\",\"Neutro\",\"Negativo\",\"Negativo\",\"Muy Positivo\",\"Negativo\",\"Muy Positivo\",\"Positivo\",\"Muy Negativo\",\"Positivo\",\"Muy Positivo\",\"Muy Positivo\",\"Muy Positivo\",\"Negativo\",\"Muy Positivo\",\"Neutro\",\"Neutro\",\"Positivo\",\"Muy Positivo\",\"Negativo\",\"Positivo\",\"Neutro\",\"Muy Positivo\",\"Negativo\",\"Muy Negativo\",\"Neutro\",\"Muy Positivo\",\"Muy Negativo\",\"Neutro\",\"Muy Positivo\",\"Neutro\",\"Muy Positivo\",\"Neutro\",\"Positivo\",\"Positivo\",\"Muy Positivo\",\"Positivo\",\"Positivo\",\"Positivo\",\"Muy Positivo\",\"Neutro\",\"Muy Positivo\",\"Muy Positivo\",\"Muy Positivo\",\"Muy Positivo\",\"Muy Negativo\",\"Neutro\",\"Neutro\",\"Positivo\",\"Muy Negativo\",\"Muy Positivo\",\"Neutro\",\"Muy Negativo\",\"Muy Positivo\",\"Muy Positivo\",\"Muy Negativo\",\"Positivo\",\"Muy Negativo\",\"Muy Positivo\",\"Positivo\",\"Neutro\",\"Muy Negativo\",\"Muy Positivo\",\"Negativo\",\"Neutro\",\"Neutro\",\"Muy Positivo\",\"Muy Positivo\",\"Positivo\",\"Muy Positivo\",\"Muy Positivo\",\"Muy Positivo\",\"Positivo\",\"Muy Negativo\",\"Positivo\",\"Positivo\",\"Neutro\",\"Muy Positivo\",\"Neutro\",\"Negativo\",\"Muy Positivo\",\"Neutro\",\"Muy Negativo\",\"Muy Positivo\",\"Negativo\",\"Muy Negativo\",\"Muy Negativo\",\"Neutro\",\"Neutro\",\"Positivo\",\"Muy Positivo\",\"Negativo\",\"Negativo\",\"Positivo\",\"Neutro\",\"Neutro\",\"Positivo\",\"Neutro\",\"Neutro\",\"Positivo\",\"Negativo\",\"Neutro\",\"Muy Positivo\",\"Neutro\",\"Positivo\",\"Muy Positivo\",\"Muy Positivo\",\"Muy Positivo\",\"Muy Positivo\",\"Muy Negativo\",\"Positivo\",\"Neutro\",\"Neutro\",\"Positivo\",\"Neutro\",\"Muy Positivo\",\"Positivo\",\"Negativo\",\"Muy Positivo\",\"Negativo\",\"Muy Positivo\",\"Neutro\",\"Negativo\",\"Muy Positivo\",\"Neutro\",\"Muy Positivo\",\"Muy Positivo\",\"Negativo\",\"Muy Positivo\",\"Muy Negativo\",\"Muy Positivo\",\"Muy Positivo\",\"Positivo\",\"Muy Positivo\",\"Muy Positivo\",\"Neutro\",\"Positivo\",\"Negativo\",\"Muy Positivo\",\"Muy Positivo\",\"Neutro\",\"Muy Positivo\",\"Muy Positivo\",\"Muy Positivo\",\"Muy Positivo\",\"Negativo\",\"Negativo\",\"Muy Negativo\",\"Positivo\",\"Muy Positivo\",\"Muy Positivo\",\"Negativo\",\"Muy Negativo\",\"Positivo\",\"Neutro\",\"Muy Negativo\",\"Positivo\",\"Muy Negativo\",\"Positivo\",\"Neutro\",\"Negativo\",\"Positivo\",\"Negativo\",\"Muy Positivo\",\"Positivo\",\"Muy Positivo\",\"Positivo\",\"Muy Positivo\",\"Muy Positivo\",\"Muy Positivo\",\"Negativo\",\"Negativo\",\"Positivo\",\"Muy Positivo\",\"Negativo\",\"Negativo\",\"Muy Negativo\",\"Neutro\",\"Muy Negativo\",\"Neutro\",\"Neutro\",\"Muy Positivo\",\"Neutro\",\"Negativo\",\"Negativo\",\"Muy Positivo\",\"Neutro\",\"Negativo\",\"Muy Positivo\",\"Positivo\",\"Muy Positivo\",\"Neutro\",\"Neutro\",\"Muy Positivo\",\"Muy Negativo\",\"Muy Negativo\",\"Positivo\",\"Negativo\",\"Neutro\",\"Negativo\",\"Neutro\",\"Neutro\",\"Positivo\",\"Muy Positivo\",\"Muy Positivo\",\"Muy Negativo\",\"Muy Positivo\",\"Neutro\",\"Muy Negativo\",\"Muy Positivo\",\"Neutro\",\"Positivo\",\"Neutro\",\"Negativo\",\"Muy Positivo\",\"Neutro\",\"Neutro\",\"Muy Positivo\",\"Positivo\",\"Negativo\",\"Neutro\",\"Positivo\",\"Positivo\",\"Muy Positivo\",\"Muy Positivo\",\"Negativo\",\"Negativo\",\"Positivo\",\"Muy Positivo\",\"Negativo\",\"Muy Positivo\",\"Negativo\",\"Neutro\",\"Positivo\",\"Negativo\",\"Neutro\",\"Negativo\",\"Neutro\",\"Neutro\",\"Muy Positivo\",\"Muy Negativo\",\"Muy Positivo\",\"Muy Positivo\",\"Neutro\",\"Muy Positivo\",\"Muy Positivo\",\"Positivo\",\"Muy Negativo\",\"Neutro\",\"Positivo\",\"Negativo\",\"Neutro\",\"Positivo\",\"Neutro\",\"Positivo\",\"Positivo\",\"Muy Positivo\",\"Muy Positivo\",\"Neutro\",\"Muy Positivo\",\"Neutro\",\"Positivo\",\"Muy Positivo\",\"Negativo\",\"Negativo\",\"Muy Negativo\",\"Muy Negativo\",\"Negativo\",\"Muy Positivo\",\"Muy Positivo\",\"Muy Positivo\",\"Positivo\",\"Muy Positivo\",\"Neutro\",\"Negativo\",\"Muy Positivo\",\"Positivo\",\"Neutro\",\"Positivo\",\"Neutro\",\"Negativo\",\"Muy Positivo\",\"Muy Positivo\",\"Negativo\",\"Neutro\",\"Muy Positivo\",\"Neutro\",\"Muy Negativo\",\"Negativo\",\"Positivo\",\"Muy Positivo\",\"Neutro\",\"Neutro\",\"Muy Negativo\",\"Neutro\",\"Positivo\",\"Negativo\",\"Neutro\",\"Muy Positivo\",\"Neutro\",\"Muy Positivo\",\"Negativo\",\"Positivo\",\"Muy Positivo\",\"Neutro\",\"Neutro\",\"Muy Positivo\",\"Muy Negativo\",\"Positivo\",\"Positivo\",\"Muy Positivo\",\"Muy Positivo\",\"Muy Positivo\",\"Neutro\",\"Muy Negativo\",\"Muy Positivo\",\"Muy Positivo\",\"Muy Negativo\",\"Negativo\",\"Positivo\",\"Muy Negativo\",\"Positivo\",\"Positivo\",\"Muy Negativo\",\"Muy Positivo\",\"Muy Positivo\",\"Positivo\",\"Neutro\",\"Muy Positivo\",\"Positivo\",\"Muy Positivo\",\"Negativo\",\"Muy Positivo\",\"Muy Positivo\",\"Muy Positivo\",\"Muy Positivo\",\"Muy Positivo\",\"Neutro\",\"Muy Positivo\",\"Positivo\",\"Neutro\",\"Positivo\",\"Muy Positivo\",\"Positivo\",\"Positivo\",\"Positivo\",\"Negativo\",\"Neutro\",\"Positivo\",\"Neutro\",\"Muy Negativo\",\"Negativo\",\"Muy Positivo\",\"Negativo\",\"Positivo\",\"Muy Positivo\",\"Muy Positivo\",\"Negativo\",\"Positivo\",\"Negativo\",\"Muy Positivo\",\"Negativo\",\"Muy Positivo\",\"Muy Positivo\",\"Muy Positivo\",\"Neutro\",\"Positivo\",\"Neutro\",\"Muy Negativo\",\"Muy Positivo\",\"Neutro\",\"Muy Positivo\",\"Positivo\",\"Muy Negativo\",\"Muy Negativo\",\"Neutro\",\"Negativo\",\"Positivo\",\"Neutro\",\"Positivo\",\"Muy Positivo\",\"Neutro\",\"Muy Positivo\",\"Muy Negativo\",\"Positivo\",\"Negativo\",\"Positivo\",\"Positivo\",\"Negativo\",\"Muy Positivo\",\"Muy Positivo\",\"Negativo\",\"Neutro\",\"Neutro\",\"Muy Positivo\",\"Positivo\",\"Negativo\",\"Negativo\",\"Negativo\",\"Muy Positivo\",\"Positivo\",\"Muy Negativo\",\"Neutro\",\"Neutro\",\"Muy Negativo\",\"Muy Negativo\",\"Neutro\",\"Positivo\",\"Negativo\",\"Negativo\",\"Positivo\",\"Neutro\",\"Muy Positivo\",\"Positivo\",\"Muy Positivo\",\"Neutro\",\"Positivo\",\"Muy Positivo\",\"Positivo\",\"Muy Positivo\",\"Neutro\",\"Neutro\",\"Muy Negativo\",\"Positivo\",\"Negativo\",\"Muy Negativo\",\"Muy Positivo\",\"Negativo\",\"Muy Positivo\",\"Positivo\",\"Muy Positivo\",\"Muy Positivo\",\"Muy Positivo\",\"Positivo\",\"Neutro\",\"Positivo\",\"Muy Positivo\",\"Positivo\",\"Negativo\",\"Muy Positivo\",\"Muy Negativo\",\"Muy Positivo\",\"Muy Positivo\",\"Muy Positivo\",\"Positivo\",\"Muy Positivo\",\"Muy Positivo\",\"Positivo\",\"Negativo\",\"Positivo\",\"Negativo\",\"Neutro\",\"Negativo\",\"Negativo\",\"Positivo\",\"Neutro\",\"Muy Positivo\",\"Positivo\",\"Negativo\",\"Positivo\",\"Muy Positivo\",\"Positivo\",\"Muy Positivo\",\"Positivo\",\"Negativo\",\"Negativo\",\"Neutro\",\"Muy Negativo\",\"Neutro\",\"Muy Positivo\",\"Neutro\",\"Muy Positivo\",\"Neutro\",\"Muy Negativo\",\"Muy Positivo\",\"Muy Negativo\",\"Positivo\",\"Muy Positivo\",\"Muy Negativo\",\"Negativo\",\"Positivo\",\"Neutro\",\"Positivo\",\"Positivo\",\"Negativo\",\"Neutro\",\"Neutro\",\"Muy Positivo\",\"Positivo\",\"Muy Positivo\",\"Muy Positivo\",\"Positivo\",\"Muy Negativo\",\"Positivo\",\"Muy Positivo\",\"Positivo\",\"Muy Positivo\",\"Neutro\",\"Muy Negativo\",\"Muy Positivo\",\"Positivo\",\"Muy Positivo\",\"Neutro\",\"Negativo\",\"Muy Positivo\",\"Muy Positivo\",\"Positivo\",\"Positivo\",\"Negativo\",\"Positivo\",\"Neutro\",\"Neutro\",\"Muy Positivo\",\"Muy Positivo\",\"Negativo\",\"Negativo\",\"Muy Positivo\",\"Positivo\",\"Positivo\",\"Negativo\",\"Muy Positivo\",\"Positivo\",\"Muy Positivo\",\"Positivo\",\"Negativo\",\"Muy Positivo\",\"Muy Positivo\",\"Muy Positivo\",\"Negativo\",\"Neutro\",\"Muy Positivo\",\"Neutro\",\"Muy Negativo\",\"Neutro\",\"Positivo\",\"Muy Negativo\",\"Negativo\",\"Neutro\",\"Muy Positivo\",\"Muy Positivo\",\"Muy Positivo\",\"Positivo\",\"Positivo\",\"Muy Positivo\",\"Neutro\",\"Negativo\",\"Muy Positivo\",\"Negativo\",\"Positivo\",\"Neutro\",\"Muy Positivo\",\"Positivo\",\"Positivo\",\"Negativo\",\"Muy Positivo\",\"Negativo\",\"Muy Positivo\",\"Neutro\",\"Negativo\",\"Negativo\",\"Muy Negativo\",\"Positivo\",\"Muy Positivo\",\"Muy Positivo\",\"Muy Positivo\",\"Neutro\",\"Muy Positivo\",\"Muy Positivo\",\"Neutro\",\"Negativo\",\"Neutro\",\"Positivo\",\"Muy Positivo\",\"Neutro\",\"Muy Positivo\",\"Neutro\",\"Positivo\",\"Muy Positivo\",\"Muy Negativo\",\"Positivo\",\"Muy Positivo\",\"Positivo\",\"Muy Positivo\",\"Neutro\",\"Muy Positivo\",\"Neutro\",\"Positivo\",\"Muy Positivo\",\"Positivo\",\"Neutro\",\"Muy Positivo\",\"Muy Positivo\",\"Muy Positivo\",\"Negativo\",\"Muy Positivo\",\"Negativo\",\"Positivo\",\"Neutro\",\"Positivo\",\"Neutro\",\"Neutro\",\"Neutro\",\"Muy Positivo\",\"Positivo\",\"Muy Negativo\",\"Muy Positivo\",\"Negativo\",\"Muy Positivo\",\"Neutro\",\"Positivo\",\"Positivo\",\"Muy Positivo\",\"Positivo\",\"Positivo\",\"Muy Positivo\",\"Muy Positivo\",\"Muy Positivo\",\"Positivo\",\"Neutro\",\"Neutro\",\"Positivo\",\"Neutro\",\"Muy Positivo\",\"Positivo\",\"Muy Positivo\",\"Muy Positivo\",\"Neutro\",\"Muy Negativo\",\"Muy Positivo\",\"Positivo\",\"Muy Positivo\",\"Neutro\",\"Neutro\",\"Muy Negativo\",\"Positivo\",\"Neutro\",\"Negativo\",\"Positivo\",\"Muy Negativo\",\"Positivo\",\"Positivo\",\"Negativo\",\"Positivo\",\"Neutro\",\"Positivo\",\"Neutro\",\"Muy Positivo\",\"Muy Negativo\",\"Positivo\",\"Positivo\",\"Muy Positivo\",\"Muy Positivo\",\"Muy Positivo\",\"Negativo\",\"Muy Positivo\",\"Muy Negativo\",\"Muy Negativo\",\"Neutro\",\"Muy Positivo\",\"Neutro\",\"Positivo\",\"Negativo\",\"Muy Positivo\",\"Muy Negativo\",\"Neutro\",\"Positivo\",\"Positivo\",\"Positivo\",\"Muy Positivo\",\"Neutro\",\"Negativo\",\"Positivo\",\"Positivo\",\"Muy Positivo\",\"Positivo\",\"Negativo\",\"Muy Positivo\",\"Positivo\",\"Negativo\",\"Positivo\",\"Negativo\",\"Muy Negativo\",\"Muy Positivo\",\"Neutro\",\"Muy Negativo\",\"Negativo\",\"Muy Negativo\",\"Negativo\",\"Muy Positivo\",\"Negativo\",\"Muy Negativo\",\"Positivo\",\"Neutro\",\"Muy Negativo\",\"Neutro\",\"Positivo\",\"Positivo\",\"Negativo\",\"Positivo\",\"Neutro\",\"Negativo\",\"Positivo\",\"Positivo\",\"Neutro\",\"Muy Positivo\",\"Positivo\",\"Muy Positivo\",\"Neutro\",\"Muy Positivo\",\"Positivo\",\"Positivo\",\"Neutro\",\"Muy Negativo\",\"Muy Positivo\",\"Muy Positivo\",\"Muy Positivo\",\"Muy Positivo\",\"Muy Positivo\",\"Muy Positivo\",\"Positivo\",\"Muy Negativo\",\"Negativo\",\"Positivo\",\"Neutro\",\"Muy Positivo\",\"Negativo\",\"Muy Positivo\",\"Muy Positivo\",\"Negativo\",\"Negativo\",\"Neutro\",\"Positivo\",\"Positivo\",\"Negativo\",\"Positivo\",\"Negativo\",\"Neutro\",\"Muy Positivo\",\"Positivo\",\"Neutro\",\"Muy Positivo\",\"Muy Positivo\",\"Neutro\",\"Neutro\",\"Muy Negativo\",\"Positivo\",\"Muy Negativo\",\"Positivo\",\"Muy Negativo\",\"Positivo\",\"Muy Negativo\",\"Muy Negativo\",\"Negativo\",\"Muy Positivo\",\"Positivo\",\"Positivo\",\"Neutro\",\"Neutro\",\"Negativo\",\"Muy Positivo\",\"Muy Positivo\",\"Muy Negativo\",\"Muy Positivo\",\"Muy Negativo\",\"Muy Positivo\",\"Muy Negativo\",\"Muy Positivo\",\"Muy Negativo\",\"Muy Positivo\",\"Muy Negativo\",\"Muy Negativo\",\"Negativo\",\"Positivo\",\"Neutro\",\"Positivo\",\"Positivo\",\"Muy Positivo\",\"Neutro\",\"Negativo\",\"Muy Positivo\",\"Neutro\",\"Neutro\",\"Positivo\",\"Neutro\",\"Neutro\",\"Neutro\",\"Muy Negativo\",\"Positivo\",\"Positivo\",\"Muy Positivo\",\"Positivo\",\"Positivo\",\"Positivo\",\"Negativo\",\"Positivo\",\"Muy Positivo\",\"Negativo\",\"Negativo\",\"Positivo\",\"Muy Negativo\",\"Negativo\",\"Positivo\",\"Muy Positivo\",\"Muy Positivo\",\"Muy Positivo\",\"Muy Positivo\",\"Muy Positivo\",\"Muy Positivo\",\"Muy Negativo\",\"Neutro\",\"Negativo\",\"Muy Positivo\",\"Negativo\",\"Negativo\",\"Muy Negativo\",\"Neutro\",\"Positivo\",\"Neutro\",\"Positivo\",\"Muy Positivo\",\"Neutro\",\"Negativo\",\"Positivo\",\"Positivo\",\"Neutro\",\"Negativo\",\"Muy Negativo\",\"Neutro\",\"Neutro\",\"Muy Negativo\",\"Muy Positivo\",\"Neutro\",\"Muy Positivo\",\"Positivo\",\"Neutro\",\"Negativo\",\"Muy Positivo\",\"Positivo\",\"Positivo\",\"Negativo\",\"Muy Negativo\",\"Muy Positivo\",\"Positivo\",\"Negativo\",\"Muy Positivo\",\"Neutro\",\"Muy Positivo\",\"Negativo\",\"Positivo\",\"Muy Positivo\",\"Muy Positivo\",\"Negativo\",\"Muy Positivo\",\"Muy Positivo\",\"Negativo\",\"Muy Positivo\",\"Muy Positivo\",\"Muy Positivo\",\"Muy Positivo\",\"Negativo\",\"Muy Positivo\",\"Muy Positivo\",\"Muy Positivo\",\"Positivo\",\"Negativo\",\"Muy Positivo\",\"Negativo\",\"Negativo\",\"Neutro\",\"Muy Negativo\",\"Muy Positivo\",\"Positivo\",\"Muy Positivo\",\"Muy Positivo\",\"Neutro\",\"Positivo\",\"Neutro\",\"Neutro\",\"Positivo\",\"Neutro\",\"Positivo\",\"Neutro\",\"Positivo\",\"Muy Positivo\",\"Muy Positivo\",\"Muy Positivo\",\"Muy Positivo\",\"Positivo\",\"Negativo\",\"Positivo\",\"Neutro\",\"Muy Negativo\",\"Positivo\",\"Neutro\",\"Muy Positivo\",\"Muy Positivo\",\"Muy Positivo\",\"Muy Positivo\",\"Positivo\",\"Muy Positivo\",\"Neutro\",\"Negativo\",\"Neutro\",\"Neutro\",\"Muy Positivo\",\"Neutro\",\"Neutro\",\"Neutro\",\"Muy Positivo\",\"Positivo\",\"Positivo\",\"Neutro\",\"Positivo\",\"Muy Positivo\",\"Negativo\",\"Negativo\",\"Neutro\",\"Positivo\",\"Neutro\",\"Muy Positivo\",\"Muy Positivo\",\"Positivo\",\"Positivo\",\"Neutro\",\"Neutro\",\"Muy Negativo\",\"Negativo\",\"Negativo\",\"Muy Negativo\",\"Negativo\",\"Muy Negativo\",\"Neutro\",\"Neutro\",\"Neutro\",\"Neutro\",\"Positivo\",\"Positivo\",\"Negativo\",\"Negativo\",\"Muy Negativo\",\"Muy Negativo\",\"Positivo\",\"Positivo\",\"Negativo\",\"Neutro\",\"Muy Negativo\",\"Positivo\",\"Muy Positivo\",\"Neutro\",\"Neutro\",\"Positivo\",\"Neutro\",\"Positivo\",\"Positivo\",\"Muy Positivo\",\"Muy Positivo\",\"Muy Positivo\",\"Negativo\",\"Positivo\",\"Negativo\",\"Neutro\",\"Muy Positivo\",\"Muy Positivo\",\"Positivo\",\"Positivo\",\"Positivo\",\"Muy Negativo\",\"Neutro\",\"Negativo\",\"Neutro\",\"Muy Positivo\",\"Neutro\",\"Negativo\",\"Negativo\",\"Positivo\",\"Muy Positivo\",\"Negativo\",\"Muy Positivo\",\"Muy Negativo\",\"Muy Negativo\",\"Positivo\",\"Neutro\",\"Muy Negativo\",\"Negativo\",\"Positivo\",\"Muy Positivo\",\"Positivo\",\"Muy Negativo\",\"Neutro\",\"Neutro\",\"Negativo\",\"Negativo\",\"Positivo\",\"Neutro\",\"Muy Positivo\",\"Neutro\",\"Muy Negativo\",\"Positivo\",\"Positivo\",\"Negativo\",\"Negativo\",\"Muy Positivo\",\"Negativo\",\"Muy Positivo\",\"Neutro\",\"Positivo\",\"Neutro\",\"Neutro\",\"Muy Negativo\",\"Muy Negativo\",\"Negativo\",\"Muy Positivo\",\"Positivo\",\"Neutro\",\"Muy Positivo\",\"Negativo\",\"Negativo\",\"Negativo\",\"Muy Positivo\",\"Muy Negativo\",\"Negativo\",\"Positivo\",\"Positivo\",\"Muy Positivo\",\"Negativo\",\"Muy Negativo\",\"Negativo\",\"Positivo\",\"Muy Negativo\",\"Negativo\",\"Muy Positivo\",\"Neutro\",\"Muy Positivo\",\"Muy Positivo\",\"Muy Negativo\",\"Muy Positivo\",\"Negativo\",\"Muy Negativo\",\"Muy Negativo\",\"Muy Negativo\",\"Muy Positivo\",\"Positivo\",\"Muy Positivo\",\"Neutro\",\"Negativo\",\"Positivo\",\"Neutro\",\"Negativo\",\"Negativo\",\"Neutro\",\"Positivo\",\"Muy Negativo\",\"Positivo\",\"Muy Positivo\",\"Positivo\",\"Neutro\",\"Muy Positivo\",\"Positivo\",\"Positivo\",\"Neutro\",\"Muy Negativo\",\"Muy Positivo\",\"Neutro\",\"Positivo\",\"Negativo\",\"Positivo\",\"Muy Positivo\",\"Muy Positivo\",\"Negativo\",\"Negativo\",\"Muy Positivo\",\"Muy Positivo\",\"Muy Positivo\",\"Neutro\",\"Muy Positivo\",\"Positivo\",\"Muy Positivo\",\"Muy Positivo\",\"Positivo\",\"Negativo\",\"Muy Positivo\",\"Positivo\",\"Muy Positivo\",\"Neutro\",\"Positivo\",\"Positivo\",\"Positivo\",\"Negativo\",\"Muy Positivo\",\"Negativo\",\"Neutro\",\"Neutro\",\"Muy Negativo\",\"Positivo\",\"Neutro\",\"Negativo\",\"Positivo\",\"Positivo\",\"Negativo\",\"Muy Positivo\",\"Neutro\",\"Positivo\",\"Negativo\",\"Positivo\",\"Muy Positivo\",\"Muy Positivo\",\"Negativo\",\"Muy Positivo\",\"Positivo\",\"Neutro\",\"Muy Positivo\",\"Neutro\",\"Positivo\",\"Neutro\",\"Negativo\",\"Positivo\",\"Negativo\",\"Neutro\",\"Positivo\",\"Muy Positivo\",\"Muy Positivo\",\"Muy Positivo\",\"Muy Positivo\",\"Positivo\",\"Negativo\",\"Muy Negativo\",\"Neutro\",\"Positivo\",\"Negativo\",\"Positivo\",\"Muy Positivo\",\"Muy Negativo\",\"Muy Positivo\",\"Muy Negativo\",\"Neutro\",\"Neutro\",\"Negativo\",\"Muy Positivo\",\"Positivo\",\"Muy Positivo\",\"Muy Negativo\",\"Muy Positivo\",\"Negativo\",\"Muy Positivo\",\"Muy Positivo\",\"Muy Positivo\",\"Muy Positivo\",\"Positivo\",\"Positivo\",\"Muy Positivo\",\"Muy Positivo\",\"Muy Negativo\",\"Neutro\",\"Muy Positivo\",\"Muy Positivo\",\"Muy Positivo\",\"Muy Positivo\",\"Muy Positivo\",\"Positivo\",\"Positivo\",\"Neutro\",\"Positivo\",\"Negativo\",\"Negativo\",\"Muy Positivo\",\"Muy Negativo\",\"Positivo\",\"Positivo\",\"Positivo\",\"Muy Positivo\",\"Neutro\",\"Muy Positivo\",\"Neutro\",\"Muy Positivo\",\"Neutro\",\"Muy Positivo\",\"Muy Positivo\",\"Muy Positivo\",\"Muy Negativo\",\"Positivo\",\"Positivo\",\"Positivo\",\"Positivo\",\"Neutro\",\"Muy Positivo\",\"Negativo\",\"Muy Positivo\",\"Neutro\",\"Muy Positivo\",\"Muy Positivo\",\"Positivo\",\"Muy Positivo\",\"Muy Positivo\",\"Neutro\",\"Positivo\",\"Muy Positivo\",\"Muy Positivo\",\"Positivo\",\"Negativo\",\"Muy Positivo\",\"Muy Positivo\",\"Positivo\",\"Negativo\",\"Negativo\",\"Muy Negativo\",\"Muy Positivo\",\"Muy Negativo\",\"Muy Positivo\",\"Neutro\",\"Positivo\",\"Muy Positivo\",\"Negativo\",\"Negativo\",\"Negativo\",\"Muy Positivo\",\"Positivo\",\"Negativo\",\"Neutro\",\"Muy Positivo\",\"Muy Negativo\",\"Negativo\",\"Muy Positivo\",\"Muy Positivo\",\"Negativo\",\"Neutro\",\"Positivo\",\"Muy Positivo\",\"Negativo\",\"Negativo\",\"Neutro\",\"Positivo\",\"Negativo\",\"Muy Positivo\",\"Positivo\",\"Neutro\",\"Negativo\",\"Muy Positivo\",\"Muy Negativo\",\"Muy Negativo\",\"Negativo\",\"Neutro\",\"Neutro\",\"Muy Positivo\",\"Positivo\",\"Muy Positivo\",\"Neutro\",\"Muy Positivo\",\"Positivo\",\"Muy Positivo\",\"Negativo\",\"Neutro\",\"Negativo\",\"Positivo\",\"Positivo\",\"Negativo\",\"Muy Positivo\",\"Negativo\",\"Muy Positivo\",\"Muy Positivo\",\"Negativo\",\"Neutro\",\"Negativo\",\"Muy Positivo\",\"Positivo\",\"Positivo\",\"Muy Positivo\",\"Neutro\",\"Positivo\",\"Positivo\",\"Negativo\",\"Muy Positivo\",\"Neutro\",\"Neutro\",\"Neutro\",\"Muy Positivo\",\"Positivo\",\"Negativo\",\"Positivo\",\"Positivo\",\"Negativo\",\"Negativo\",\"Muy Positivo\",\"Neutro\",\"Muy Positivo\",\"Neutro\",\"Negativo\",\"Muy Positivo\",\"Muy Positivo\",\"Muy Negativo\",\"Positivo\",\"Negativo\",\"Muy Positivo\",\"Muy Positivo\",\"Muy Positivo\",\"Positivo\",\"Positivo\",\"Muy Positivo\",\"Positivo\",\"Muy Positivo\",\"Muy Positivo\",\"Positivo\",\"Muy Positivo\",\"Neutro\",\"Neutro\",\"Positivo\",\"Neutro\",\"Negativo\",\"Positivo\",\"Positivo\",\"Muy Positivo\",\"Muy Positivo\",\"Positivo\",\"Positivo\",\"Neutro\",\"Muy Positivo\",\"Positivo\",\"Neutro\",\"Muy Positivo\",\"Positivo\",\"Muy Positivo\",\"Positivo\",\"Positivo\",\"Muy Negativo\",\"Positivo\",\"Muy Positivo\",\"Muy Negativo\",\"Neutro\",\"Neutro\",\"Negativo\",\"Positivo\",\"Muy Positivo\",\"Muy Positivo\",\"Muy Positivo\",\"Neutro\",\"Negativo\",\"Muy Positivo\",\"Neutro\",\"Positivo\",\"Muy Positivo\",\"Neutro\",\"Negativo\",\"Negativo\",\"Positivo\",\"Muy Positivo\",\"Positivo\",\"Muy Positivo\",\"Muy Negativo\",\"Neutro\",\"Negativo\",\"Neutro\",\"Neutro\",\"Positivo\",\"Positivo\",\"Positivo\",\"Negativo\",\"Neutro\",\"Positivo\",\"Muy Positivo\",\"Positivo\",\"Positivo\",\"Neutro\",\"Muy Negativo\",\"Positivo\",\"Neutro\",\"Muy Positivo\",\"Positivo\",\"Negativo\",\"Negativo\",\"Neutro\",\"Neutro\",\"Positivo\",\"Neutro\",\"Negativo\",\"Muy Positivo\",\"Neutro\",\"Muy Positivo\",\"Muy Negativo\",\"Muy Positivo\",\"Positivo\",\"Positivo\",\"Neutro\",\"Neutro\",\"Positivo\",\"Muy Negativo\",\"Muy Positivo\",\"Neutro\",\"Positivo\",\"Positivo\",\"Muy Positivo\",\"Positivo\",\"Positivo\",\"Positivo\",\"Positivo\",\"Muy Positivo\",\"Positivo\",\"Muy Positivo\",\"Muy Positivo\",\"Muy Positivo\",\"Neutro\",\"Muy Positivo\",\"Muy Negativo\",\"Negativo\",\"Neutro\",\"Muy Positivo\",\"Negativo\",\"Muy Positivo\",\"Positivo\",\"Positivo\",\"Muy Positivo\",\"Positivo\",\"Muy Positivo\",\"Positivo\",\"Positivo\",\"Positivo\",\"Positivo\",\"Muy Positivo\",\"Muy Positivo\",\"Muy Positivo\",\"Negativo\",\"Neutro\",\"Neutro\",\"Neutro\",\"Negativo\",\"Muy Negativo\",\"Neutro\",\"Neutro\",\"Muy Negativo\",\"Neutro\",\"Muy Positivo\",\"Positivo\",\"Negativo\",\"Negativo\",\"Negativo\",\"Neutro\",\"Positivo\",\"Muy Positivo\",\"Muy Positivo\",\"Negativo\",\"Positivo\",\"Positivo\",\"Negativo\",\"Negativo\",\"Neutro\",\"Positivo\",\"Negativo\",\"Muy Positivo\",\"Muy Positivo\",\"Positivo\",\"Positivo\",\"Muy Positivo\",\"Positivo\",\"Muy Positivo\",\"Negativo\",\"Negativo\",\"Negativo\",\"Positivo\",\"Positivo\",\"Muy Positivo\",\"Muy Negativo\",\"Positivo\",\"Muy Positivo\",\"Muy Positivo\",\"Neutro\",\"Neutro\",\"Negativo\",\"Muy Positivo\",\"Muy Positivo\",\"Negativo\",\"Negativo\",\"Positivo\",\"Positivo\",\"Muy Negativo\",\"Muy Positivo\",\"Neutro\",\"Muy Positivo\",\"Positivo\",\"Negativo\",\"Negativo\",\"Muy Positivo\",\"Muy Positivo\",\"Positivo\",\"Muy Positivo\",\"Muy Positivo\",\"Negativo\",\"Positivo\",\"Muy Positivo\",\"Neutro\",\"Muy Negativo\",\"Positivo\",\"Negativo\",\"Muy Positivo\",\"Muy Positivo\",\"Muy Negativo\",\"Muy Positivo\",\"Positivo\",\"Positivo\",\"Positivo\",\"Neutro\",\"Muy Negativo\",\"Muy Positivo\",\"Muy Positivo\",\"Negativo\",\"Muy Positivo\",\"Muy Positivo\",\"Muy Positivo\",\"Neutro\",\"Neutro\",\"Positivo\",\"Negativo\",\"Negativo\",\"Positivo\",\"Negativo\",\"Positivo\",\"Positivo\",\"Positivo\",\"Muy Positivo\",\"Negativo\",\"Negativo\",\"Muy Positivo\",\"Negativo\",\"Negativo\",\"Neutro\",\"Muy Positivo\",\"Positivo\",\"Muy Positivo\",\"Positivo\",\"Positivo\",\"Negativo\",\"Muy Positivo\",\"Negativo\",\"Neutro\",\"Positivo\",\"Neutro\",\"Neutro\",\"Positivo\",\"Neutro\",\"Positivo\",\"Muy Positivo\",\"Muy Negativo\",\"Muy Positivo\",\"Muy Negativo\",\"Neutro\",\"Positivo\",\"Negativo\",\"Muy Positivo\",\"Neutro\",\"Muy Positivo\",\"Muy Positivo\",\"Positivo\",\"Muy Positivo\",\"Neutro\",\"Neutro\",\"Muy Positivo\",\"Neutro\",\"Positivo\",\"Neutro\",\"Muy Positivo\",\"Positivo\",\"Neutro\",\"Muy Negativo\",\"Positivo\",\"Negativo\",\"Positivo\",\"Muy Positivo\",\"Muy Negativo\",\"Muy Positivo\",\"Negativo\",\"Muy Positivo\",\"Neutro\",\"Muy Positivo\",\"Neutro\",\"Positivo\",\"Positivo\",\"Muy Positivo\",\"Muy Positivo\",\"Negativo\",\"Neutro\",\"Muy Positivo\",\"Muy Positivo\",\"Positivo\",\"Neutro\",\"Positivo\",\"Muy Positivo\",\"Negativo\",\"Positivo\",\"Muy Positivo\",\"Positivo\",\"Neutro\",\"Neutro\",\"Neutro\",\"Muy Positivo\",\"Neutro\",\"Negativo\",\"Neutro\",\"Neutro\",\"Positivo\",\"Muy Positivo\",\"Muy Positivo\",\"Positivo\",\"Muy Positivo\",\"Negativo\",\"Neutro\",\"Positivo\",\"Muy Positivo\",\"Positivo\",\"Neutro\",\"Positivo\",\"Positivo\",\"Negativo\",\"Negativo\",\"Muy Positivo\",\"Neutro\",\"Positivo\",\"Neutro\",\"Muy Positivo\",\"Neutro\",\"Muy Positivo\",\"Muy Positivo\",\"Muy Positivo\",\"Neutro\",\"Positivo\",\"Neutro\",\"Muy Positivo\",\"Muy Positivo\",\"Neutro\",\"Neutro\",\"Neutro\",\"Neutro\",\"Muy Negativo\",\"Muy Positivo\",\"Neutro\",\"Muy Positivo\",\"Muy Positivo\",\"Positivo\",\"Muy Positivo\",\"Neutro\",\"Positivo\",\"Muy Negativo\",\"Positivo\",\"Positivo\",\"Muy Negativo\",\"Neutro\",\"Muy Positivo\",\"Neutro\",\"Neutro\",\"Neutro\",\"Neutro\",\"Muy Positivo\",\"Positivo\",\"Muy Positivo\",\"Neutro\",\"Positivo\",\"Muy Positivo\",\"Neutro\",\"Muy Negativo\",\"Negativo\",\"Muy Negativo\",\"Neutro\",\"Muy Positivo\",\"Positivo\",\"Muy Negativo\",\"Neutro\",\"Negativo\",\"Negativo\",\"Positivo\",\"Neutro\",\"Negativo\",\"Neutro\",\"Positivo\",\"Muy Negativo\",\"Negativo\",\"Positivo\",\"Muy Positivo\",\"Muy Positivo\",\"Positivo\",\"Muy Positivo\",\"Muy Negativo\",\"Muy Positivo\",\"Neutro\",\"Neutro\",\"Neutro\",\"Neutro\",\"Positivo\",\"Muy Positivo\",\"Positivo\",\"Muy Positivo\",\"Neutro\",\"Neutro\",\"Positivo\",\"Neutro\",\"Negativo\",\"Positivo\",\"Negativo\",\"Neutro\",\"Positivo\",\"Positivo\",\"Muy Positivo\",\"Muy Negativo\",\"Muy Positivo\",\"Positivo\",\"Negativo\",\"Negativo\",\"Muy Positivo\",\"Muy Negativo\",\"Muy Positivo\",\"Positivo\",\"Neutro\",\"Neutro\",\"Neutro\",\"Positivo\",\"Positivo\",\"Negativo\",\"Muy Positivo\",\"Muy Positivo\",\"Muy Positivo\",\"Positivo\",\"Positivo\",\"Muy Positivo\",\"Muy Positivo\",\"Negativo\",\"Positivo\",\"Muy Positivo\",\"Positivo\",\"Negativo\",\"Muy Positivo\",\"Positivo\",\"Muy Positivo\",\"Positivo\",\"Muy Negativo\",\"Negativo\",\"Muy Negativo\",\"Muy Positivo\",\"Positivo\",\"Positivo\",\"Positivo\",\"Positivo\",\"Muy Positivo\",\"Negativo\",\"Positivo\",\"Neutro\",\"Muy Positivo\",\"Positivo\",\"Neutro\",\"Positivo\",\"Negativo\",\"Positivo\",\"Muy Negativo\",\"Negativo\",\"Positivo\",\"Neutro\",\"Muy Negativo\",\"Negativo\",\"Muy Negativo\",\"Muy Positivo\",\"Muy Positivo\",\"Neutro\",\"Negativo\",\"Negativo\",\"Negativo\",\"Neutro\",\"Neutro\",\"Muy Positivo\",\"Negativo\",\"Muy Positivo\",\"Muy Negativo\",\"Negativo\",\"Positivo\",\"Muy Positivo\",\"Muy Positivo\",\"Neutro\",\"Positivo\",\"Muy Positivo\",\"Muy Positivo\",\"Negativo\",\"Muy Positivo\",\"Neutro\",\"Muy Positivo\",\"Negativo\",\"Muy Positivo\",\"Negativo\",\"Positivo\",\"Neutro\",\"Muy Negativo\",\"Negativo\",\"Positivo\",\"Negativo\",\"Negativo\",\"Muy Negativo\",\"Muy Positivo\",\"Negativo\",\"Positivo\",\"Muy Positivo\",\"Muy Positivo\",\"Muy Positivo\",\"Neutro\",\"Muy Positivo\",\"Negativo\",\"Neutro\",\"Negativo\",\"Negativo\",\"Neutro\",\"Muy Positivo\",\"Muy Positivo\",\"Muy Positivo\",\"Negativo\",\"Muy Positivo\",\"Muy Positivo\",\"Muy Positivo\",\"Muy Positivo\",\"Positivo\",\"Positivo\",\"Neutro\",\"Muy Positivo\",\"Positivo\",\"Muy Positivo\",\"Neutro\",\"Muy Positivo\",\"Muy Positivo\",\"Neutro\",\"Neutro\",\"Positivo\",\"Neutro\",\"Positivo\",\"Muy Negativo\",\"Muy Positivo\",\"Muy Negativo\",\"Muy Positivo\",\"Muy Positivo\",\"Muy Negativo\",\"Muy Positivo\",\"Neutro\",\"Muy Positivo\",\"Positivo\",\"Neutro\",\"Positivo\",\"Positivo\",\"Positivo\",\"Negativo\",\"Negativo\",\"Muy Negativo\",\"Muy Positivo\",\"Positivo\",\"Muy Negativo\",\"Negativo\",\"Neutro\",\"Muy Positivo\",\"Negativo\",\"Positivo\",\"Muy Positivo\",\"Negativo\",\"Positivo\",\"Muy Negativo\",\"Negativo\",\"Positivo\",\"Muy Positivo\",\"Negativo\",\"Neutro\",\"Positivo\",\"Positivo\",\"Negativo\",\"Muy Positivo\",\"Negativo\",\"Negativo\",\"Muy Positivo\",\"Muy Positivo\",\"Muy Positivo\",\"Positivo\",\"Positivo\",\"Neutro\",\"Neutro\",\"Positivo\",\"Muy Negativo\",\"Muy Positivo\",\"Positivo\",\"Muy Positivo\",\"Muy Negativo\",\"Muy Negativo\",\"Positivo\",\"Positivo\",\"Muy Positivo\",\"Muy Negativo\",\"Positivo\",\"Muy Positivo\",\"Neutro\",\"Neutro\",\"Muy Positivo\",\"Muy Negativo\",\"Positivo\",\"Muy Positivo\",\"Muy Negativo\",\"Muy Positivo\",\"Neutro\",\"Neutro\",\"Positivo\",\"Positivo\",\"Negativo\",\"Negativo\",\"Negativo\",\"Positivo\",\"Muy Positivo\",\"Positivo\",\"Muy Positivo\",\"Negativo\",\"Positivo\",\"Negativo\",\"Neutro\",\"Negativo\",\"Muy Positivo\",\"Positivo\",\"Negativo\",\"Muy Positivo\",\"Neutro\",\"Muy Negativo\",\"Neutro\",\"Positivo\",\"Positivo\",\"Positivo\",\"Muy Positivo\",\"Neutro\",\"Negativo\",\"Negativo\",\"Neutro\",\"Negativo\",\"Muy Positivo\",\"Negativo\",\"Muy Negativo\",\"Neutro\",\"Negativo\",\"Positivo\",\"Positivo\",\"Positivo\",\"Neutro\",\"Neutro\",\"Neutro\",\"Positivo\",\"Muy Positivo\",\"Positivo\",\"Neutro\",\"Neutro\",\"Positivo\",\"Muy Negativo\",\"Negativo\",\"Positivo\",\"Muy Positivo\",\"Muy Positivo\",\"Positivo\",\"Muy Positivo\",\"Neutro\",\"Muy Negativo\",\"Muy Positivo\",\"Positivo\",\"Positivo\",\"Negativo\",\"Positivo\",\"Muy Negativo\",\"Muy Positivo\",\"Neutro\",\"Positivo\",\"Negativo\",\"Positivo\",\"Muy Positivo\",\"Muy Positivo\",\"Positivo\",\"Muy Positivo\",\"Muy Positivo\",\"Muy Positivo\",\"Muy Positivo\",\"Negativo\",\"Muy Negativo\",\"Neutro\",\"Muy Positivo\",\"Muy Positivo\",\"Muy Positivo\",\"Negativo\",\"Positivo\",\"Neutro\",\"Positivo\",\"Neutro\",\"Muy Positivo\",\"Muy Negativo\",\"Positivo\",\"Neutro\",\"Neutro\",\"Negativo\",\"Muy Positivo\",\"Positivo\",\"Muy Positivo\",\"Muy Positivo\",\"Muy Negativo\",\"Muy Negativo\",\"Muy Positivo\",\"Muy Negativo\",\"Negativo\",\"Negativo\",\"Neutro\",\"Neutro\",\"Negativo\",\"Muy Positivo\",\"Negativo\",\"Muy Negativo\",\"Muy Positivo\",\"Positivo\",\"Positivo\",\"Negativo\",\"Muy Positivo\",\"Positivo\",\"Positivo\",\"Negativo\",\"Muy Positivo\",\"Positivo\",\"Negativo\",\"Negativo\",\"Muy Positivo\",\"Muy Positivo\",\"Muy Negativo\",\"Muy Positivo\",\"Positivo\",\"Negativo\",\"Neutro\",\"Muy Positivo\",\"Muy Positivo\",\"Muy Positivo\",\"Neutro\",\"Negativo\",\"Positivo\",\"Muy Positivo\",\"Neutro\",\"Positivo\",\"Neutro\",\"Muy Positivo\",\"Positivo\",\"Negativo\",\"Negativo\",\"Muy Positivo\",\"Muy Positivo\",\"Muy Positivo\",\"Negativo\",\"Muy Positivo\",\"Neutro\",\"Neutro\",\"Muy Positivo\",\"Neutro\",\"Muy Negativo\",\"Muy Positivo\",\"Muy Negativo\",\"Positivo\",\"Muy Positivo\",\"Positivo\",\"Muy Positivo\",\"Muy Positivo\",\"Muy Negativo\",\"Muy Positivo\",\"Neutro\",\"Muy Positivo\",\"Positivo\",\"Neutro\",\"Muy Positivo\",\"Positivo\",\"Muy Positivo\",\"Muy Positivo\",\"Positivo\",\"Negativo\",\"Negativo\",\"Muy Negativo\",\"Muy Positivo\",\"Negativo\",\"Neutro\",\"Neutro\",\"Positivo\",\"Negativo\",\"Positivo\",\"Muy Positivo\",\"Muy Negativo\",\"Negativo\",\"Muy Positivo\",\"Muy Positivo\",\"Muy Negativo\",\"Positivo\",\"Negativo\",\"Muy Positivo\",\"Positivo\",\"Positivo\",\"Negativo\",\"Muy Negativo\",\"Neutro\",\"Muy Positivo\",\"Muy Positivo\",\"Neutro\",\"Muy Positivo\",\"Neutro\",\"Negativo\",\"Muy Positivo\",\"Neutro\",\"Negativo\",\"Muy Positivo\",\"Muy Positivo\",\"Positivo\",\"Muy Positivo\",\"Neutro\",\"Negativo\",\"Muy Positivo\",\"Neutro\",\"Positivo\",\"Neutro\",\"Negativo\",\"Muy Positivo\",\"Muy Positivo\",\"Muy Positivo\",\"Neutro\",\"Positivo\",\"Muy Positivo\",\"Muy Positivo\",\"Positivo\",\"Positivo\",\"Positivo\",\"Positivo\",\"Muy Positivo\",\"Negativo\",\"Muy Positivo\",\"Positivo\",\"Muy Negativo\",\"Neutro\",\"Muy Positivo\",\"Neutro\",\"Neutro\",\"Neutro\",\"Negativo\",\"Muy Negativo\",\"Positivo\",\"Negativo\",\"Positivo\",\"Muy Negativo\",\"Muy Positivo\",\"Neutro\",\"Muy Positivo\",\"Muy Positivo\",\"Negativo\",\"Muy Positivo\",\"Positivo\",\"Neutro\",\"Muy Positivo\",\"Muy Positivo\",\"Negativo\",\"Muy Positivo\",\"Muy Positivo\",\"Muy Positivo\",\"Neutro\",\"Neutro\",\"Muy Positivo\",\"Neutro\",\"Muy Negativo\",\"Positivo\",\"Muy Positivo\",\"Muy Negativo\",\"Positivo\",\"Muy Positivo\",\"Neutro\",\"Neutro\",\"Neutro\",\"Muy Positivo\",\"Neutro\",\"Muy Negativo\",\"Neutro\",\"Positivo\",\"Muy Positivo\",\"Muy Positivo\",\"Negativo\",\"Positivo\",\"Positivo\",\"Muy Positivo\",\"Neutro\",\"Muy Positivo\",\"Negativo\",\"Muy Positivo\",\"Neutro\",\"Neutro\",\"Positivo\",\"Muy Positivo\",\"Muy Positivo\",\"Neutro\",\"Positivo\",\"Positivo\",\"Negativo\",\"Negativo\",\"Neutro\",\"Negativo\",\"Positivo\",\"Muy Positivo\",\"Muy Positivo\",\"Positivo\",\"Negativo\",\"Muy Negativo\",\"Negativo\",\"Muy Negativo\",\"Muy Positivo\",\"Muy Positivo\",\"Positivo\",\"Neutro\",\"Muy Negativo\",\"Positivo\",\"Muy Negativo\",\"Negativo\",\"Muy Positivo\",\"Muy Positivo\",\"Negativo\",\"Muy Positivo\",\"Muy Positivo\",\"Muy Positivo\",\"Positivo\",\"Muy Negativo\",\"Neutro\",\"Muy Positivo\",\"Positivo\",\"Muy Positivo\",\"Positivo\",\"Muy Positivo\",\"Neutro\",\"Positivo\",\"Neutro\",\"Positivo\",\"Muy Negativo\",\"Muy Negativo\",\"Neutro\",\"Muy Positivo\",\"Positivo\",\"Positivo\",\"Muy Negativo\",\"Neutro\",\"Positivo\",\"Positivo\",\"Muy Positivo\",\"Muy Positivo\",\"Negativo\",\"Neutro\",\"Muy Positivo\",\"Neutro\",\"Neutro\",\"Positivo\",\"Positivo\",\"Positivo\",\"Muy Positivo\",\"Muy Negativo\",\"Muy Negativo\",\"Muy Positivo\",\"Muy Negativo\",\"Muy Positivo\",\"Muy Positivo\",\"Muy Positivo\",\"Neutro\",\"Positivo\",\"Positivo\",\"Muy Positivo\",\"Positivo\",\"Negativo\",\"Muy Positivo\",\"Muy Positivo\",\"Neutro\",\"Negativo\",\"Muy Positivo\",\"Muy Positivo\",\"Neutro\",\"Muy Positivo\",\"Muy Positivo\",\"Muy Positivo\",\"Muy Positivo\",\"Positivo\",\"Muy Positivo\",\"Muy Negativo\",\"Positivo\",\"Muy Positivo\",\"Muy Positivo\",\"Muy Positivo\",\"Muy Positivo\",\"Muy Positivo\",\"Muy Positivo\",\"Positivo\",\"Neutro\",\"Positivo\",\"Muy Positivo\",\"Muy Positivo\",\"Positivo\",\"Negativo\",\"Muy Positivo\",\"Muy Negativo\",\"Muy Positivo\",\"Positivo\",\"Neutro\",\"Neutro\",\"Muy Positivo\",\"Muy Positivo\",\"Muy Positivo\",\"Muy Positivo\",\"Muy Positivo\",\"Muy Positivo\",\"Muy Positivo\",\"Neutro\",\"Positivo\",\"Positivo\",\"Neutro\",\"Positivo\",\"Positivo\",\"Neutro\",\"Positivo\",\"Muy Positivo\",\"Neutro\",\"Negativo\",\"Negativo\",\"Negativo\",\"Muy Positivo\",\"Muy Positivo\",\"Negativo\",\"Muy Positivo\",\"Neutro\",\"Muy Negativo\",\"Muy Positivo\",\"Positivo\",\"Muy Positivo\",\"Muy Positivo\",\"Positivo\",\"Neutro\",\"Neutro\",\"Muy Positivo\",\"Positivo\",\"Positivo\",\"Neutro\",\"Negativo\",\"Muy Negativo\",\"Negativo\",\"Neutro\",\"Muy Negativo\",\"Negativo\",\"Positivo\",\"Muy Positivo\",\"Neutro\",\"Neutro\",\"Neutro\",\"Positivo\",\"Muy Negativo\",\"Positivo\",\"Neutro\",\"Muy Positivo\",\"Negativo\",\"Positivo\",\"Muy Positivo\",\"Neutro\",\"Neutro\",\"Muy Negativo\",\"Neutro\",\"Positivo\",\"Positivo\",\"Muy Negativo\",\"Positivo\",\"Positivo\",\"Neutro\",\"Neutro\",\"Neutro\",\"Neutro\",\"Muy Positivo\",\"Neutro\",\"Muy Negativo\",\"Neutro\",\"Positivo\",\"Positivo\",\"Positivo\",\"Positivo\",\"Negativo\",\"Neutro\",\"Neutro\",\"Muy Positivo\",\"Muy Positivo\",\"Neutro\",\"Muy Positivo\",\"Negativo\",\"Positivo\",\"Muy Negativo\",\"Positivo\",\"Muy Positivo\",\"Neutro\",\"Muy Negativo\",\"Neutro\",\"Positivo\",\"Positivo\",\"Muy Positivo\",\"Positivo\",\"Positivo\",\"Positivo\",\"Muy Negativo\",\"Neutro\",\"Muy Positivo\",\"Neutro\",\"Positivo\",\"Positivo\",\"Negativo\",\"Neutro\",\"Muy Positivo\",\"Muy Positivo\",\"Muy Positivo\",\"Muy Positivo\",\"Neutro\",\"Muy Positivo\",\"Positivo\",\"Muy Negativo\",\"Positivo\",\"Positivo\",\"Muy Positivo\",\"Positivo\",\"Positivo\",\"Negativo\",\"Neutro\",\"Negativo\",\"Negativo\",\"Positivo\",\"Positivo\",\"Muy Positivo\",\"Muy Negativo\",\"Positivo\",\"Muy Positivo\",\"Muy Positivo\",\"Positivo\",\"Negativo\",\"Positivo\",\"Muy Positivo\",\"Negativo\",\"Muy Positivo\",\"Muy Positivo\",\"Muy Positivo\",\"Muy Negativo\",\"Muy Positivo\",\"Positivo\",\"Positivo\",\"Muy Negativo\",\"Positivo\",\"Muy Positivo\",\"Neutro\",\"Muy Positivo\",\"Muy Positivo\",\"Muy Positivo\",\"Positivo\",\"Negativo\",\"Positivo\",\"Positivo\",\"Neutro\",\"Muy Positivo\",\"Muy Positivo\",\"Negativo\",\"Positivo\",\"Positivo\",\"Muy Positivo\",\"Muy Negativo\",\"Muy Positivo\",\"Muy Negativo\",\"Muy Positivo\",\"Neutro\",\"Negativo\",\"Muy Negativo\",\"Negativo\",\"Neutro\",\"Positivo\",\"Positivo\",\"Neutro\",\"Neutro\",\"Positivo\",\"Muy Positivo\",\"Muy Positivo\",\"Positivo\",\"Negativo\",\"Neutro\",\"Positivo\",\"Neutro\",\"Positivo\",\"Neutro\",\"Negativo\",\"Positivo\",\"Negativo\",\"Muy Negativo\",\"Muy Positivo\",\"Muy Negativo\",\"Neutro\",\"Muy Positivo\",\"Negativo\",\"Positivo\",\"Positivo\",\"Neutro\",\"Negativo\",\"Negativo\",\"Muy Positivo\",\"Muy Negativo\",\"Muy Negativo\",\"Positivo\",\"Muy Positivo\",\"Neutro\",\"Negativo\",\"Positivo\",\"Negativo\",\"Muy Positivo\",\"Neutro\",\"Muy Positivo\",\"Neutro\",\"Negativo\",\"Neutro\",\"Positivo\",\"Neutro\",\"Neutro\",\"Neutro\",\"Muy Positivo\",\"Positivo\",\"Positivo\",\"Neutro\",\"Muy Negativo\",\"Negativo\",\"Positivo\",\"Muy Negativo\",\"Positivo\",\"Neutro\",\"Negativo\",\"Muy Positivo\",\"Muy Positivo\",\"Neutro\",\"Neutro\",\"Muy Positivo\",\"Negativo\",\"Neutro\",\"Positivo\",\"Neutro\",\"Negativo\",\"Positivo\",\"Muy Negativo\",\"Neutro\",\"Positivo\",\"Positivo\",\"Negativo\",\"Muy Positivo\",\"Neutro\",\"Muy Positivo\",\"Muy Positivo\",\"Muy Positivo\",\"Neutro\",\"Negativo\",\"Muy Positivo\",\"Neutro\",\"Positivo\",\"Neutro\",\"Muy Negativo\",\"Positivo\",\"Muy Negativo\",\"Muy Positivo\",\"Muy Positivo\",\"Positivo\",\"Neutro\",\"Neutro\",\"Muy Positivo\",\"Muy Positivo\",\"Muy Positivo\",\"Positivo\",\"Positivo\",\"Muy Positivo\",\"Negativo\",\"Positivo\",\"Neutro\",\"Positivo\",\"Muy Positivo\",\"Positivo\",\"Muy Negativo\",\"Muy Negativo\",\"Neutro\",\"Muy Positivo\",\"Neutro\",\"Positivo\",\"Positivo\",\"Positivo\",\"Muy Positivo\",\"Positivo\",\"Negativo\",\"Muy Positivo\",\"Muy Positivo\",\"Muy Positivo\",\"Positivo\",\"Muy Negativo\",\"Neutro\",\"Negativo\",\"Muy Positivo\",\"Muy Positivo\",\"Muy Negativo\",\"Positivo\",\"Muy Positivo\",\"Negativo\",\"Positivo\",\"Muy Positivo\",\"Muy Negativo\",\"Muy Positivo\",\"Muy Negativo\",\"Neutro\",\"Muy Positivo\",\"Positivo\",\"Neutro\",\"Muy Positivo\",\"Negativo\",\"Neutro\",\"Neutro\",\"Neutro\",\"Muy Negativo\",\"Positivo\",\"Muy Positivo\",\"Muy Positivo\",\"Negativo\",\"Muy Negativo\",\"Neutro\",\"Positivo\",\"Positivo\",\"Muy Positivo\",\"Neutro\",\"Neutro\",\"Muy Positivo\",\"Muy Positivo\",\"Muy Positivo\",\"Muy Positivo\",\"Muy Positivo\",\"Neutro\",\"Positivo\",\"Negativo\",\"Muy Positivo\",\"Positivo\",\"Negativo\",\"Negativo\",\"Positivo\",\"Muy Positivo\",\"Muy Positivo\",\"Negativo\",\"Negativo\",\"Neutro\",\"Neutro\",\"Muy Positivo\",\"Muy Positivo\",\"Muy Positivo\",\"Positivo\",\"Muy Positivo\",\"Muy Positivo\",\"Muy Positivo\",\"Muy Positivo\",\"Neutro\",\"Muy Negativo\",\"Positivo\",\"Muy Positivo\",\"Muy Positivo\",\"Positivo\",\"Positivo\",\"Muy Positivo\",\"Muy Positivo\",\"Muy Positivo\",\"Muy Positivo\",\"Muy Positivo\",\"Muy Negativo\",\"Negativo\",\"Muy Positivo\",\"Negativo\",\"Muy Positivo\",\"Muy Positivo\",\"Neutro\",\"Muy Positivo\",\"Positivo\",\"Muy Positivo\",\"Muy Negativo\",\"Muy Negativo\",\"Positivo\",\"Positivo\",\"Negativo\",\"Positivo\",\"Positivo\",\"Muy Negativo\",\"Muy Negativo\",\"Positivo\",\"Muy Positivo\",\"Negativo\",\"Muy Negativo\",\"Neutro\",\"Muy Positivo\",\"Positivo\",\"Positivo\",\"Neutro\",\"Positivo\",\"Muy Negativo\",\"Neutro\",\"Muy Positivo\",\"Muy Positivo\",\"Muy Positivo\",\"Muy Positivo\",\"Neutro\",\"Neutro\",\"Negativo\",\"Neutro\",\"Muy Positivo\",\"Muy Positivo\",\"Muy Positivo\",\"Positivo\",\"Positivo\",\"Positivo\",\"Negativo\",\"Negativo\",\"Muy Positivo\",\"Muy Positivo\",\"Muy Positivo\",\"Neutro\",\"Muy Positivo\",\"Negativo\",\"Muy Positivo\",\"Positivo\",\"Neutro\",\"Positivo\",\"Negativo\",\"Positivo\",\"Muy Positivo\",\"Positivo\",\"Muy Positivo\",\"Muy Positivo\",\"Neutro\",\"Positivo\",\"Muy Negativo\",\"Muy Positivo\",\"Neutro\",\"Negativo\",\"Negativo\",\"Positivo\",\"Negativo\",\"Negativo\",\"Muy Positivo\",\"Neutro\",\"Positivo\",\"Positivo\",\"Muy Positivo\",\"Muy Positivo\",\"Muy Positivo\",\"Negativo\",\"Positivo\",\"Muy Positivo\",\"Muy Positivo\",\"Neutro\",\"Positivo\",\"Negativo\",\"Muy Positivo\",\"Muy Positivo\",\"Positivo\",\"Negativo\",\"Muy Positivo\",\"Muy Positivo\",\"Muy Negativo\",\"Positivo\",\"Negativo\",\"Muy Positivo\",\"Muy Positivo\",\"Muy Negativo\",\"Muy Negativo\",\"Muy Positivo\",\"Muy Positivo\",\"Muy Positivo\",\"Positivo\",\"Muy Positivo\",\"Muy Negativo\",\"Muy Positivo\",\"Positivo\",\"Positivo\",\"Positivo\",\"Negativo\",\"Muy Positivo\",\"Muy Negativo\",\"Muy Negativo\",\"Muy Negativo\",\"Positivo\",\"Positivo\",\"Neutro\",\"Muy Positivo\",\"Neutro\",\"Muy Positivo\",\"Positivo\",\"Positivo\",\"Muy Negativo\",\"Positivo\",\"Muy Positivo\",\"Neutro\",\"Neutro\",\"Muy Negativo\",\"Muy Positivo\",\"Positivo\",\"Muy Positivo\",\"Muy Positivo\",\"Neutro\",\"Muy Positivo\",\"Negativo\",\"Muy Positivo\",\"Positivo\",\"Muy Positivo\",\"Positivo\",\"Muy Positivo\",\"Muy Positivo\",\"Muy Positivo\",\"Muy Positivo\",\"Positivo\",\"Positivo\",\"Negativo\",\"Positivo\",\"Neutro\",\"Muy Positivo\",\"Neutro\",\"Muy Positivo\",\"Negativo\",\"Muy Positivo\",\"Muy Positivo\",\"Negativo\",\"Positivo\",\"Muy Positivo\",\"Muy Positivo\",\"Neutro\",\"Muy Negativo\",\"Muy Positivo\",\"Neutro\",\"Positivo\",\"Muy Positivo\",\"Positivo\",\"Neutro\",\"Negativo\",\"Muy Positivo\",\"Muy Positivo\",\"Positivo\",\"Muy Positivo\",\"Neutro\",\"Muy Negativo\",\"Muy Negativo\",\"Negativo\",\"Muy Positivo\",\"Neutro\",\"Positivo\",\"Negativo\",\"Muy Negativo\",\"Muy Negativo\",\"Neutro\",\"Positivo\",\"Muy Positivo\",\"Neutro\",\"Positivo\",\"Negativo\",\"Muy Positivo\",\"Negativo\",\"Neutro\",\"Neutro\",\"Negativo\",\"Muy Positivo\",\"Muy Negativo\",\"Muy Positivo\",\"Positivo\",\"Muy Positivo\",\"Muy Positivo\",\"Positivo\",\"Negativo\",\"Positivo\",\"Negativo\",\"Negativo\",\"Muy Positivo\",\"Neutro\",\"Negativo\",\"Positivo\",\"Positivo\",\"Muy Positivo\",\"Muy Positivo\",\"Neutro\",\"Negativo\",\"Muy Negativo\",\"Muy Positivo\",\"Negativo\",\"Muy Positivo\",\"Positivo\",\"Muy Positivo\",\"Muy Positivo\",\"Muy Positivo\",\"Muy Positivo\",\"Neutro\",\"Muy Negativo\",\"Muy Positivo\",\"Positivo\",\"Neutro\",\"Muy Positivo\",\"Negativo\",\"Neutro\",\"Positivo\",\"Neutro\",\"Muy Positivo\",\"Muy Positivo\",\"Neutro\",\"Positivo\",\"Neutro\",\"Neutro\",\"Muy Positivo\",\"Negativo\",\"Muy Negativo\",\"Negativo\",\"Muy Negativo\",\"Positivo\",\"Positivo\",\"Positivo\",\"Muy Negativo\",\"Muy Negativo\",\"Positivo\",\"Negativo\",\"Positivo\",\"Positivo\",\"Muy Positivo\",\"Negativo\",\"Muy Positivo\",\"Negativo\",\"Positivo\",\"Positivo\",\"Positivo\",\"Neutro\",\"Neutro\",\"Muy Positivo\",\"Muy Positivo\",\"Muy Positivo\",\"Negativo\",\"Muy Positivo\",\"Neutro\",\"Positivo\",\"Positivo\",\"Muy Positivo\",\"Muy Positivo\",\"Positivo\",\"Muy Positivo\",\"Muy Positivo\",\"Positivo\",\"Muy Positivo\",\"Muy Positivo\",\"Muy Negativo\",\"Neutro\",\"Neutro\",\"Muy Positivo\",\"Muy Positivo\",\"Muy Positivo\",\"Neutro\",\"Positivo\",\"Muy Positivo\",\"Neutro\",\"Positivo\",\"Muy Negativo\",\"Neutro\",\"Positivo\",\"Muy Positivo\",\"Neutro\",\"Muy Positivo\",\"Muy Positivo\",\"Muy Positivo\",\"Positivo\",\"Neutro\",\"Negativo\",\"Muy Negativo\",\"Muy Positivo\",\"Positivo\",\"Muy Positivo\",\"Muy Positivo\",\"Negativo\",\"Muy Positivo\",\"Positivo\",\"Positivo\",\"Neutro\",\"Neutro\",\"Neutro\",\"Neutro\",\"Neutro\",\"Neutro\",\"Positivo\",\"Positivo\",\"Neutro\",\"Muy Positivo\",\"Positivo\",\"Muy Positivo\",\"Muy Negativo\",\"Positivo\",\"Muy Positivo\",\"Positivo\",\"Muy Positivo\",\"Negativo\",\"Muy Positivo\",\"Neutro\",\"Muy Positivo\",\"Muy Negativo\",\"Positivo\",\"Muy Positivo\",\"Neutro\",\"Neutro\",\"Positivo\",\"Negativo\",\"Negativo\",\"Muy Positivo\",\"Positivo\",\"Muy Positivo\",\"Negativo\",\"Muy Positivo\",\"Positivo\",\"Muy Positivo\",\"Positivo\",\"Positivo\",\"Positivo\",\"Neutro\",\"Negativo\",\"Positivo\",\"Positivo\",\"Positivo\",\"Muy Positivo\",\"Muy Positivo\",\"Negativo\",\"Muy Positivo\",\"Positivo\",\"Negativo\",\"Positivo\",\"Muy Negativo\",\"Neutro\",\"Positivo\",\"Neutro\",\"Muy Positivo\",\"Positivo\",\"Muy Positivo\",\"Muy Positivo\",\"Neutro\",\"Positivo\",\"Positivo\",\"Positivo\",\"Neutro\",\"Positivo\",\"Muy Positivo\",\"Positivo\",\"Positivo\",\"Muy Positivo\",\"Muy Positivo\",\"Positivo\",\"Neutro\",\"Neutro\",\"Muy Positivo\",\"Neutro\",\"Positivo\",\"Muy Negativo\",\"Muy Positivo\",\"Positivo\",\"Muy Positivo\",\"Muy Positivo\",\"Muy Negativo\",\"Muy Negativo\",\"Positivo\",\"Muy Positivo\",\"Neutro\",\"Positivo\",\"Positivo\",\"Neutro\",\"Negativo\",\"Muy Positivo\",\"Muy Positivo\",\"Positivo\",\"Negativo\",\"Neutro\",\"Positivo\",\"Muy Positivo\",\"Neutro\",\"Muy Positivo\",\"Muy Positivo\",\"Muy Positivo\",\"Muy Positivo\",\"Muy Positivo\",\"Muy Positivo\",\"Positivo\",\"Negativo\",\"Muy Positivo\",\"Positivo\",\"Muy Negativo\",\"Neutro\",\"Negativo\",\"Muy Positivo\",\"Muy Positivo\",\"Muy Negativo\",\"Positivo\",\"Muy Positivo\",\"Muy Positivo\",\"Neutro\",\"Positivo\",\"Negativo\",\"Positivo\",\"Muy Positivo\",\"Negativo\",\"Muy Positivo\",\"Neutro\",\"Positivo\",\"Neutro\",\"Negativo\",\"Muy Positivo\",\"Neutro\",\"Positivo\",\"Muy Negativo\",\"Negativo\",\"Muy Negativo\",\"Muy Positivo\",\"Negativo\",\"Negativo\",\"Muy Positivo\",\"Muy Positivo\",\"Neutro\",\"Muy Positivo\",\"Negativo\",\"Muy Positivo\",\"Positivo\",\"Muy Positivo\",\"Muy Positivo\",\"Neutro\",\"Neutro\",\"Muy Negativo\",\"Positivo\",\"Neutro\",\"Muy Positivo\",\"Positivo\",\"Neutro\",\"Positivo\",\"Positivo\",\"Muy Positivo\",\"Muy Positivo\",\"Neutro\",\"Negativo\",\"Neutro\",\"Neutro\",\"Positivo\",\"Muy Positivo\",\"Neutro\",\"Positivo\",\"Positivo\",\"Muy Negativo\",\"Muy Negativo\",\"Negativo\",\"Muy Positivo\",\"Muy Positivo\",\"Neutro\",\"Muy Positivo\",\"Muy Positivo\",\"Positivo\",\"Neutro\",\"Positivo\",\"Muy Positivo\",\"Positivo\",\"Neutro\",\"Neutro\",\"Positivo\",\"Neutro\",\"Neutro\",\"Positivo\",\"Neutro\",\"Neutro\",\"Negativo\",\"Neutro\",\"Positivo\",\"Muy Positivo\",\"Neutro\",\"Muy Positivo\",\"Muy Positivo\",\"Negativo\",\"Positivo\",\"Neutro\",\"Positivo\",\"Muy Positivo\",\"Muy Negativo\",\"Positivo\",\"Positivo\",\"Muy Positivo\",\"Muy Positivo\",\"Muy Positivo\",\"Negativo\",\"Muy Negativo\",\"Neutro\",\"Neutro\",\"Positivo\",\"Neutro\",\"Negativo\",\"Neutro\",\"Muy Positivo\",\"Muy Positivo\",\"Muy Positivo\",\"Negativo\",\"Positivo\",\"Muy Negativo\",\"Muy Negativo\",\"Positivo\",\"Neutro\",\"Neutro\",\"Muy Negativo\",\"Muy Positivo\",\"Positivo\",\"Neutro\",\"Positivo\",\"Neutro\",\"Positivo\",\"Positivo\",\"Muy Positivo\",\"Muy Negativo\",\"Neutro\",\"Muy Positivo\",\"Muy Positivo\",\"Muy Positivo\",\"Positivo\",\"Neutro\",\"Positivo\",\"Muy Positivo\",\"Neutro\",\"Positivo\",\"Muy Positivo\",\"Muy Negativo\",\"Negativo\",\"Neutro\",\"Muy Positivo\",\"Neutro\",\"Muy Positivo\",\"Positivo\",\"Muy Positivo\",\"Neutro\",\"Muy Positivo\",\"Neutro\",\"Positivo\",\"Muy Positivo\",\"Muy Positivo\",\"Negativo\",\"Muy Positivo\",\"Negativo\",\"Muy Positivo\",\"Muy Positivo\",\"Negativo\",\"Neutro\",\"Negativo\",\"Neutro\",\"Positivo\",\"Muy Negativo\",\"Positivo\",\"Positivo\",\"Muy Positivo\",\"Positivo\",\"Muy Positivo\",\"Positivo\",\"Muy Positivo\",\"Muy Positivo\",\"Neutro\",\"Muy Positivo\",\"Muy Negativo\",\"Muy Positivo\",\"Neutro\",\"Negativo\",\"Negativo\",\"Neutro\",\"Muy Negativo\",\"Neutro\",\"Negativo\",\"Negativo\",\"Positivo\",\"Muy Positivo\",\"Positivo\",\"Neutro\",\"Muy Positivo\",\"Positivo\",\"Muy Positivo\",\"Neutro\",\"Positivo\",\"Negativo\",\"Muy Positivo\",\"Muy Positivo\",\"Muy Positivo\",\"Muy Positivo\",\"Muy Positivo\",\"Neutro\",\"Muy Positivo\",\"Neutro\",\"Neutro\",\"Neutro\",\"Negativo\",\"Negativo\",\"Neutro\",\"Neutro\",\"Neutro\",\"Muy Positivo\",\"Muy Positivo\",\"Positivo\",\"Neutro\",\"Muy Positivo\",\"Positivo\",\"Negativo\",\"Positivo\",\"Muy Positivo\",\"Muy Positivo\",\"Muy Positivo\",\"Muy Positivo\",\"Positivo\",\"Negativo\",\"Neutro\",\"Positivo\",\"Positivo\",\"Muy Positivo\",\"Muy Negativo\",\"Negativo\",\"Muy Positivo\",\"Positivo\",\"Neutro\",\"Neutro\",\"Positivo\",\"Positivo\",\"Muy Negativo\",\"Positivo\",\"Neutro\",\"Muy Positivo\",\"Muy Negativo\",\"Muy Positivo\",\"Positivo\",\"Muy Positivo\",\"Muy Positivo\",\"Neutro\",\"Negativo\",\"Muy Positivo\",\"Muy Positivo\",\"Muy Positivo\",\"Muy Positivo\",\"Muy Negativo\",\"Negativo\",\"Positivo\",\"Muy Positivo\",\"Muy Positivo\",\"Neutro\",\"Neutro\",\"Negativo\",\"Positivo\",\"Negativo\",\"Positivo\",\"Muy Positivo\",\"Muy Positivo\",\"Muy Negativo\",\"Neutro\",\"Neutro\",\"Positivo\",\"Muy Positivo\",\"Neutro\",\"Neutro\",\"Negativo\",\"Muy Positivo\",\"Muy Negativo\",\"Muy Negativo\",\"Muy Positivo\",\"Positivo\",\"Muy Positivo\",\"Positivo\",\"Muy Positivo\",\"Positivo\",\"Muy Positivo\",\"Neutro\",\"Neutro\",\"Neutro\",\"Muy Negativo\",\"Muy Positivo\",\"Positivo\",\"Neutro\",\"Muy Positivo\",\"Positivo\",\"Muy Positivo\",\"Muy Positivo\",\"Negativo\",\"Muy Positivo\",\"Positivo\",\"Muy Negativo\",\"Neutro\",\"Negativo\",\"Negativo\",\"Muy Positivo\",\"Muy Positivo\",\"Muy Positivo\",\"Muy Positivo\",\"Positivo\",\"Positivo\",\"Muy Positivo\",\"Positivo\",\"Muy Positivo\",\"Positivo\",\"Muy Positivo\",\"Negativo\",\"Muy Positivo\",\"Positivo\",\"Positivo\",\"Negativo\",\"Positivo\",\"Positivo\",\"Negativo\",\"Muy Positivo\",\"Muy Positivo\",\"Neutro\",\"Positivo\",\"Neutro\",\"Muy Positivo\",\"Muy Positivo\",\"Muy Positivo\",\"Positivo\",\"Muy Positivo\",\"Positivo\",\"Muy Negativo\",\"Neutro\",\"Positivo\",\"Muy Positivo\",\"Negativo\",\"Muy Positivo\",\"Negativo\",\"Positivo\",\"Muy Positivo\",\"Negativo\",\"Muy Positivo\",\"Neutro\",\"Negativo\",\"Muy Negativo\",\"Positivo\",\"Muy Positivo\",\"Neutro\",\"Muy Positivo\",\"Neutro\",\"Muy Positivo\",\"Muy Negativo\",\"Muy Positivo\",\"Neutro\",\"Muy Positivo\",\"Muy Positivo\",\"Muy Positivo\",\"Muy Positivo\",\"Neutro\",\"Neutro\",\"Positivo\",\"Muy Positivo\",\"Positivo\",\"Muy Negativo\",\"Muy Negativo\",\"Muy Positivo\",\"Positivo\",\"Negativo\",\"Muy Positivo\",\"Positivo\",\"Muy Positivo\",\"Neutro\",\"Positivo\",\"Neutro\",\"Positivo\",\"Positivo\",\"Positivo\",\"Negativo\",\"Muy Positivo\",\"Muy Negativo\",\"Muy Positivo\",\"Muy Positivo\",\"Neutro\",\"Positivo\",\"Neutro\",\"Muy Negativo\",\"Positivo\",\"Positivo\",\"Positivo\",\"Positivo\",\"Neutro\",\"Neutro\",\"Muy Negativo\",\"Positivo\",\"Negativo\",\"Positivo\",\"Positivo\",\"Muy Positivo\",\"Muy Negativo\",\"Muy Positivo\",\"Muy Negativo\",\"Negativo\",\"Muy Negativo\",\"Positivo\",\"Muy Positivo\",\"Muy Positivo\",\"Muy Positivo\",\"Positivo\",\"Negativo\",\"Neutro\",\"Muy Positivo\",\"Neutro\",\"Negativo\",\"Neutro\",\"Negativo\",\"Neutro\",\"Neutro\",\"Muy Positivo\",\"Muy Positivo\",\"Muy Negativo\",\"Muy Positivo\",\"Negativo\",\"Muy Negativo\",\"Neutro\",\"Muy Positivo\",\"Positivo\",\"Muy Positivo\",\"Positivo\",\"Neutro\",\"Positivo\",\"Muy Positivo\",\"Muy Positivo\",\"Muy Positivo\",\"Neutro\",\"Negativo\",\"Positivo\",\"Muy Positivo\",\"Neutro\",\"Muy Negativo\",\"Neutro\",\"Muy Positivo\",\"Neutro\",\"Muy Positivo\",\"Muy Positivo\",\"Muy Positivo\",\"Positivo\",\"Neutro\",\"Neutro\",\"Positivo\",\"Positivo\",\"Negativo\",\"Positivo\",\"Positivo\",\"Neutro\",\"Positivo\",\"Neutro\",\"Neutro\",\"Positivo\",\"Positivo\",\"Negativo\",\"Neutro\",\"Negativo\",\"Muy Positivo\",\"Neutro\",\"Muy Positivo\",\"Positivo\",\"Muy Negativo\",\"Muy Positivo\",\"Neutro\",\"Positivo\",\"Negativo\",\"Neutro\",\"Positivo\",\"Positivo\",\"Muy Positivo\",\"Positivo\",\"Muy Positivo\",\"Muy Positivo\",\"Muy Positivo\",\"Muy Positivo\",\"Muy Positivo\",\"Muy Positivo\",\"Muy Positivo\",\"Neutro\",\"Positivo\",\"Muy Positivo\",\"Positivo\",\"Positivo\",\"Positivo\",\"Neutro\",\"Muy Negativo\",\"Neutro\",\"Muy Positivo\",\"Muy Positivo\",\"Neutro\",\"Muy Positivo\",\"Muy Negativo\",\"Muy Positivo\",\"Muy Positivo\",\"Positivo\",\"Negativo\",\"Positivo\",\"Muy Positivo\",\"Neutro\",\"Neutro\",\"Neutro\",\"Positivo\",\"Positivo\",\"Neutro\",\"Muy Positivo\",\"Muy Positivo\",\"Muy Negativo\",\"Positivo\",\"Positivo\",\"Muy Positivo\",\"Muy Positivo\",\"Positivo\",\"Positivo\",\"Muy Positivo\",\"Positivo\",\"Positivo\",\"Positivo\",\"Positivo\",\"Muy Positivo\",\"Positivo\",\"Positivo\",\"Positivo\",\"Neutro\",\"Neutro\",\"Muy Negativo\",\"Neutro\",\"Muy Negativo\",\"Muy Positivo\",\"Muy Positivo\",\"Positivo\",\"Positivo\",\"Muy Positivo\",\"Negativo\",\"Neutro\",\"Positivo\",\"Neutro\",\"Positivo\",\"Positivo\",\"Negativo\",\"Positivo\",\"Positivo\",\"Neutro\",\"Positivo\",\"Neutro\",\"Positivo\",\"Muy Positivo\",\"Muy Positivo\",\"Muy Positivo\",\"Muy Positivo\",\"Positivo\",\"Positivo\",\"Muy Positivo\",\"Muy Negativo\",\"Muy Positivo\",\"Muy Positivo\",\"Negativo\",\"Positivo\",\"Positivo\",\"Negativo\",\"Muy Positivo\",\"Muy Positivo\",\"Positivo\",\"Neutro\",\"Negativo\",\"Negativo\",\"Positivo\",\"Muy Negativo\",\"Positivo\",\"Positivo\",\"Muy Negativo\",\"Negativo\",\"Neutro\",\"Muy Negativo\",\"Positivo\",\"Muy Positivo\",\"Muy Negativo\",\"Muy Positivo\",\"Neutro\",\"Negativo\",\"Negativo\",\"Positivo\",\"Muy Negativo\",\"Muy Positivo\",\"Negativo\",\"Muy Positivo\",\"Positivo\",\"Muy Positivo\",\"Muy Negativo\",\"Negativo\",\"Muy Positivo\",\"Negativo\",\"Positivo\",\"Muy Positivo\",\"Muy Positivo\",\"Neutro\",\"Neutro\",\"Positivo\",\"Neutro\",\"Muy Negativo\",\"Positivo\",\"Muy Negativo\",\"Neutro\",\"Muy Positivo\",\"Negativo\",\"Positivo\",\"Positivo\",\"Positivo\",\"Muy Positivo\",\"Positivo\",\"Negativo\",\"Muy Positivo\",\"Muy Positivo\",\"Muy Positivo\",\"Muy Positivo\",\"Muy Positivo\",\"Muy Positivo\",\"Muy Positivo\",\"Neutro\",\"Neutro\",\"Positivo\",\"Muy Negativo\",\"Muy Positivo\",\"Muy Positivo\",\"Muy Positivo\",\"Muy Positivo\",\"Muy Positivo\",\"Neutro\",\"Muy Positivo\",\"Positivo\",\"Neutro\",\"Positivo\",\"Neutro\",\"Positivo\",\"Muy Positivo\",\"Neutro\",\"Muy Positivo\",\"Muy Positivo\",\"Positivo\",\"Muy Negativo\",\"Muy Positivo\",\"Positivo\",\"Muy Positivo\",\"Muy Positivo\",\"Neutro\",\"Neutro\",\"Positivo\",\"Positivo\",\"Positivo\",\"Positivo\",\"Positivo\",\"Neutro\",\"Neutro\",\"Muy Negativo\",\"Positivo\",\"Negativo\",\"Muy Positivo\",\"Muy Positivo\",\"Neutro\",\"Neutro\",\"Neutro\",\"Positivo\",\"Muy Positivo\",\"Neutro\",\"Positivo\",\"Negativo\",\"Neutro\",\"Neutro\",\"Neutro\",\"Muy Positivo\",\"Muy Positivo\",\"Positivo\",\"Positivo\",\"Neutro\",\"Muy Positivo\",\"Muy Positivo\",\"Muy Negativo\",\"Muy Positivo\",\"Muy Negativo\",\"Negativo\",\"Negativo\",\"Positivo\",\"Neutro\",\"Positivo\",\"Muy Negativo\",\"Muy Positivo\",\"Positivo\",\"Muy Positivo\",\"Neutro\",\"Neutro\",\"Positivo\",\"Positivo\",\"Negativo\",\"Muy Negativo\",\"Neutro\",\"Muy Positivo\",\"Positivo\",\"Muy Negativo\",\"Positivo\",\"Positivo\",\"Muy Positivo\",\"Muy Negativo\",\"Positivo\",\"Negativo\",\"Negativo\",\"Muy Positivo\",\"Muy Negativo\",\"Muy Negativo\",\"Muy Positivo\",\"Muy Negativo\",\"Muy Negativo\",\"Negativo\",\"Muy Positivo\",\"Positivo\",\"Positivo\",\"Negativo\",\"Positivo\",\"Positivo\",\"Muy Positivo\",\"Neutro\",\"Negativo\",\"Neutro\",\"Negativo\",\"Negativo\",\"Positivo\",\"Neutro\",\"Neutro\",\"Muy Negativo\",\"Positivo\",\"Neutro\",\"Neutro\",\"Muy Positivo\",\"Muy Positivo\",\"Muy Positivo\",\"Neutro\",\"Positivo\",\"Negativo\",\"Muy Positivo\",\"Positivo\",\"Neutro\",\"Neutro\",\"Positivo\",\"Positivo\",\"Muy Negativo\",\"Muy Negativo\",\"Positivo\",\"Negativo\",\"Negativo\",\"Neutro\",\"Negativo\",\"Neutro\",\"Muy Positivo\",\"Positivo\",\"Muy Positivo\",\"Neutro\",\"Muy Positivo\",\"Positivo\",\"Negativo\",\"Positivo\",\"Muy Positivo\",\"Negativo\",\"Positivo\",\"Positivo\",\"Positivo\",\"Muy Positivo\",\"Negativo\",\"Muy Positivo\",\"Negativo\",\"Positivo\",\"Muy Positivo\",\"Muy Positivo\",\"Negativo\",\"Neutro\",\"Muy Negativo\",\"Muy Negativo\",\"Muy Positivo\",\"Muy Positivo\",\"Muy Negativo\",\"Negativo\",\"Neutro\",\"Positivo\",\"Positivo\",\"Muy Positivo\",\"Positivo\",\"Muy Negativo\",\"Muy Positivo\",\"Neutro\",\"Muy Negativo\",\"Positivo\",\"Positivo\",\"Muy Positivo\",\"Muy Positivo\",\"Neutro\",\"Positivo\",\"Negativo\",\"Muy Positivo\",\"Positivo\",\"Positivo\",\"Negativo\",\"Muy Positivo\",\"Positivo\",\"Muy Negativo\",\"Muy Positivo\",\"Negativo\",\"Muy Positivo\",\"Neutro\",\"Positivo\",\"Muy Positivo\",\"Muy Negativo\",\"Muy Positivo\",\"Positivo\",\"Muy Positivo\",\"Positivo\",\"Positivo\",\"Positivo\",\"Positivo\",\"Muy Positivo\",\"Positivo\",\"Neutro\",\"Muy Positivo\",\"Muy Positivo\",\"Positivo\",\"Neutro\",\"Neutro\",\"Muy Positivo\",\"Muy Negativo\",\"Muy Positivo\",\"Muy Negativo\",\"Neutro\",\"Negativo\",\"Positivo\",\"Positivo\",\"Muy Positivo\",\"Muy Positivo\",\"Positivo\",\"Negativo\",\"Muy Negativo\",\"Positivo\",\"Muy Negativo\",\"Muy Positivo\",\"Neutro\",\"Positivo\",\"Muy Positivo\",\"Positivo\",\"Muy Negativo\",\"Muy Positivo\",\"Neutro\",\"Neutro\",\"Muy Positivo\",\"Muy Positivo\",\"Positivo\",\"Muy Positivo\",\"Positivo\",\"Positivo\",\"Negativo\",\"Positivo\",\"Muy Positivo\",\"Neutro\",\"Muy Negativo\",\"Neutro\",\"Positivo\",\"Negativo\",\"Positivo\",\"Muy Negativo\",\"Positivo\",\"Neutro\",\"Negativo\",\"Positivo\",\"Positivo\",\"Negativo\",\"Muy Positivo\",\"Negativo\",\"Positivo\",\"Negativo\",\"Muy Positivo\",\"Muy Positivo\",\"Muy Negativo\",\"Muy Positivo\",\"Muy Negativo\",\"Positivo\",\"Positivo\",\"Positivo\",\"Neutro\",\"Muy Positivo\",\"Muy Positivo\",\"Muy Positivo\",\"Negativo\",\"Muy Positivo\",\"Neutro\",\"Neutro\",\"Neutro\",\"Muy Negativo\",\"Muy Negativo\",\"Positivo\",\"Muy Negativo\",\"Positivo\",\"Muy Positivo\",\"Muy Negativo\",\"Muy Negativo\",\"Muy Positivo\",\"Muy Negativo\",\"Positivo\",\"Negativo\",\"Positivo\",\"Muy Positivo\",\"Muy Positivo\",\"Positivo\",\"Negativo\",\"Muy Positivo\",\"Positivo\",\"Negativo\",\"Neutro\",\"Positivo\",\"Muy Positivo\",\"Muy Negativo\",\"Positivo\",\"Positivo\",\"Muy Positivo\",\"Negativo\",\"Neutro\",\"Negativo\",\"Negativo\",\"Muy Negativo\",\"Neutro\",\"Positivo\",\"Muy Positivo\",\"Muy Positivo\",\"Muy Positivo\",\"Positivo\",\"Muy Positivo\",\"Muy Negativo\",\"Negativo\",\"Muy Positivo\",\"Positivo\",\"Muy Negativo\",\"Muy Negativo\",\"Neutro\",\"Muy Positivo\",\"Positivo\",\"Negativo\",\"Muy Negativo\",\"Neutro\",\"Muy Positivo\",\"Neutro\",\"Negativo\",\"Positivo\",\"Muy Positivo\",\"Positivo\",\"Neutro\",\"Muy Negativo\",\"Positivo\",\"Muy Positivo\",\"Muy Positivo\",\"Neutro\",\"Positivo\",\"Positivo\",\"Negativo\",\"Muy Positivo\",\"Muy Positivo\",\"Muy Positivo\",\"Muy Positivo\",\"Positivo\",\"Muy Positivo\",\"Muy Positivo\",\"Negativo\",\"Positivo\",\"Muy Positivo\",\"Positivo\",\"Positivo\",\"Muy Positivo\",\"Negativo\",\"Muy Negativo\",\"Muy Negativo\",\"Muy Positivo\",\"Negativo\",\"Negativo\",\"Negativo\",\"Muy Positivo\",\"Positivo\",\"Neutro\",\"Neutro\",\"Positivo\",\"Positivo\",\"Muy Positivo\",\"Positivo\",\"Muy Positivo\",\"Muy Positivo\",\"Muy Positivo\",\"Positivo\",\"Positivo\",\"Positivo\",\"Negativo\",\"Positivo\",\"Negativo\",\"Muy Positivo\",\"Positivo\",\"Muy Negativo\",\"Neutro\",\"Muy Positivo\",\"Muy Negativo\",\"Neutro\",\"Neutro\",\"Muy Positivo\",\"Neutro\",\"Muy Positivo\",\"Muy Positivo\",\"Positivo\",\"Negativo\",\"Negativo\",\"Muy Positivo\",\"Positivo\",\"Positivo\",\"Muy Positivo\",\"Positivo\",\"Muy Positivo\",\"Negativo\",\"Muy Negativo\",\"Neutro\",\"Muy Positivo\",\"Negativo\",\"Neutro\",\"Positivo\",\"Neutro\",\"Positivo\",\"Neutro\",\"Muy Negativo\",\"Muy Positivo\",\"Muy Positivo\",\"Neutro\",\"Muy Positivo\",\"Negativo\",\"Muy Positivo\",\"Muy Negativo\",\"Positivo\",\"Positivo\",\"Negativo\",\"Negativo\",\"Neutro\",\"Muy Negativo\",\"Neutro\",\"Neutro\",\"Muy Negativo\",\"Negativo\",\"Negativo\",\"Neutro\",\"Muy Positivo\",\"Positivo\",\"Muy Positivo\",\"Muy Negativo\",\"Positivo\",\"Negativo\",\"Positivo\",\"Muy Positivo\",\"Negativo\",\"Positivo\",\"Negativo\",\"Muy Negativo\",\"Positivo\",\"Muy Positivo\",\"Neutro\",\"Neutro\",\"Muy Positivo\",\"Muy Positivo\",\"Muy Positivo\",\"Muy Negativo\",\"Muy Positivo\",\"Negativo\",\"Positivo\",\"Muy Positivo\",\"Neutro\",\"Negativo\",\"Muy Negativo\",\"Muy Positivo\",\"Positivo\",\"Muy Positivo\",\"Positivo\",\"Negativo\",\"Negativo\",\"Neutro\",\"Positivo\",\"Negativo\",\"Negativo\",\"Muy Positivo\",\"Muy Positivo\",\"Positivo\",\"Negativo\",\"Neutro\",\"Muy Negativo\",\"Positivo\",\"Negativo\",\"Positivo\",\"Negativo\",\"Muy Negativo\",\"Muy Positivo\",\"Neutro\",\"Muy Positivo\",\"Muy Positivo\",\"Positivo\",\"Negativo\",\"Muy Positivo\",\"Positivo\",\"Positivo\",\"Positivo\",\"Muy Positivo\",\"Muy Positivo\",\"Positivo\",\"Positivo\",\"Positivo\",\"Muy Positivo\",\"Muy Positivo\",\"Neutro\",\"Muy Positivo\",\"Positivo\",\"Positivo\",\"Muy Positivo\",\"Positivo\",\"Negativo\",\"Neutro\",\"Neutro\",\"Positivo\",\"Positivo\",\"Neutro\",\"Positivo\",\"Muy Negativo\",\"Neutro\",\"Neutro\",\"Negativo\",\"Neutro\",\"Positivo\",\"Neutro\",\"Positivo\",\"Negativo\",\"Positivo\",\"Positivo\",\"Muy Positivo\",\"Positivo\",\"Muy Positivo\",\"Muy Negativo\",\"Muy Positivo\",\"Muy Positivo\",\"Neutro\",\"Muy Negativo\",\"Muy Positivo\",\"Negativo\",\"Neutro\",\"Muy Positivo\",\"Muy Negativo\",\"Neutro\",\"Positivo\",\"Positivo\",\"Negativo\",\"Muy Negativo\",\"Muy Negativo\",\"Positivo\",\"Muy Positivo\",\"Positivo\",\"Neutro\",\"Muy Positivo\",\"Positivo\",\"Muy Positivo\",\"Positivo\",\"Neutro\",\"Muy Negativo\",\"Muy Positivo\",\"Muy Positivo\",\"Muy Positivo\",\"Neutro\",\"Muy Positivo\",\"Neutro\",\"Muy Positivo\",\"Muy Positivo\",\"Negativo\",\"Muy Positivo\",\"Muy Negativo\",\"Positivo\",\"Positivo\",\"Muy Positivo\",\"Neutro\",\"Positivo\",\"Muy Negativo\",\"Positivo\",\"Positivo\",\"Positivo\",\"Muy Positivo\",\"Positivo\",\"Negativo\",\"Positivo\",\"Negativo\",\"Positivo\",\"Negativo\",\"Positivo\",\"Neutro\",\"Negativo\",\"Muy Positivo\",\"Muy Positivo\",\"Muy Positivo\",\"Neutro\",\"Negativo\",\"Positivo\",\"Muy Negativo\",\"Muy Positivo\",\"Muy Positivo\",\"Muy Positivo\",\"Neutro\",\"Negativo\",\"Negativo\",\"Negativo\",\"Muy Positivo\",\"Muy Positivo\",\"Positivo\",\"Muy Positivo\",\"Negativo\",\"Muy Negativo\",\"Neutro\",\"Muy Negativo\",\"Muy Positivo\",\"Muy Positivo\",\"Muy Positivo\",\"Muy Positivo\",\"Negativo\",\"Negativo\",\"Negativo\",\"Neutro\",\"Negativo\",\"Positivo\",\"Muy Negativo\",\"Muy Positivo\",\"Muy Positivo\",\"Negativo\",\"Neutro\",\"Muy Positivo\",\"Muy Positivo\",\"Muy Negativo\",\"Muy Positivo\",\"Negativo\",\"Negativo\",\"Negativo\",\"Muy Negativo\",\"Muy Positivo\",\"Positivo\",\"Positivo\",\"Neutro\",\"Muy Positivo\",\"Neutro\",\"Negativo\",\"Positivo\",\"Negativo\",\"Positivo\",\"Positivo\",\"Positivo\",\"Muy Positivo\",\"Positivo\",\"Muy Positivo\",\"Neutro\",\"Negativo\",\"Neutro\",\"Muy Positivo\",\"Negativo\",\"Muy Negativo\",\"Neutro\",\"Positivo\",\"Muy Positivo\",\"Muy Negativo\",\"Positivo\",\"Muy Positivo\",\"Positivo\",\"Muy Positivo\",\"Muy Positivo\",\"Muy Positivo\",\"Muy Positivo\",\"Positivo\",\"Muy Positivo\",\"Neutro\",\"Muy Positivo\",\"Muy Positivo\",\"Muy Positivo\",\"Positivo\",\"Positivo\",\"Neutro\",\"Muy Positivo\",\"Muy Negativo\",\"Muy Negativo\",\"Positivo\",\"Muy Negativo\",\"Negativo\",\"Neutro\",\"Muy Positivo\",\"Positivo\",\"Positivo\",\"Muy Negativo\",\"Neutro\",\"Neutro\",\"Muy Positivo\",\"Positivo\",\"Muy Positivo\",\"Positivo\",\"Muy Positivo\",\"Muy Positivo\",\"Positivo\",\"Positivo\",\"Positivo\",\"Negativo\",\"Neutro\",\"Positivo\",\"Positivo\",\"Muy Positivo\",\"Negativo\",\"Muy Positivo\",\"Positivo\",\"Muy Positivo\",\"Negativo\",\"Muy Negativo\",\"Neutro\",\"Positivo\",\"Negativo\",\"Muy Positivo\",\"Muy Positivo\",\"Positivo\",\"Neutro\",\"Positivo\",\"Muy Negativo\",\"Negativo\",\"Positivo\",\"Neutro\",\"Muy Positivo\",\"Muy Positivo\",\"Muy Positivo\",\"Muy Positivo\",\"Muy Positivo\",\"Negativo\",\"Positivo\",\"Muy Negativo\",\"Neutro\",\"Muy Positivo\",\"Muy Positivo\",\"Muy Positivo\",\"Muy Positivo\",\"Positivo\",\"Positivo\",\"Muy Positivo\",\"Neutro\",\"Negativo\",\"Muy Positivo\",\"Neutro\",\"Muy Positivo\",\"Muy Negativo\",\"Negativo\",\"Muy Negativo\",\"Positivo\",\"Negativo\",\"Positivo\",\"Muy Positivo\",\"Negativo\",\"Neutro\",\"Negativo\",\"Positivo\",\"Muy Negativo\",\"Muy Positivo\",\"Positivo\",\"Muy Positivo\",\"Muy Positivo\",\"Positivo\",\"Muy Positivo\",\"Negativo\",\"Muy Positivo\",\"Muy Positivo\",\"Positivo\",\"Negativo\",\"Muy Negativo\",\"Positivo\",\"Positivo\",\"Muy Positivo\",\"Positivo\",\"Muy Positivo\",\"Muy Positivo\",\"Neutro\",\"Muy Positivo\",\"Positivo\",\"Neutro\",\"Positivo\",\"Muy Positivo\",\"Negativo\",\"Muy Positivo\",\"Negativo\",\"Positivo\",\"Muy Negativo\",\"Neutro\",\"Negativo\",\"Neutro\",\"Muy Negativo\",\"Positivo\",\"Muy Positivo\",\"Muy Positivo\",\"Positivo\",\"Negativo\",\"Positivo\",\"Neutro\",\"Positivo\",\"Positivo\",\"Positivo\",\"Neutro\",\"Muy Positivo\",\"Muy Positivo\",\"Positivo\",\"Muy Positivo\",\"Neutro\",\"Neutro\",\"Negativo\",\"Negativo\",\"Positivo\",\"Muy Positivo\",\"Muy Positivo\",\"Muy Negativo\",\"Positivo\",\"Muy Negativo\",\"Negativo\",\"Negativo\",\"Neutro\",\"Negativo\",\"Muy Positivo\",\"Positivo\",\"Positivo\",\"Muy Positivo\",\"Muy Positivo\",\"Muy Positivo\",\"Muy Positivo\",\"Positivo\",\"Muy Negativo\",\"Muy Negativo\",\"Neutro\",\"Negativo\",\"Muy Positivo\",\"Negativo\",\"Muy Negativo\",\"Neutro\",\"Muy Negativo\",\"Muy Positivo\",\"Muy Negativo\",\"Neutro\",\"Muy Positivo\",\"Positivo\",\"Muy Positivo\",\"Negativo\",\"Muy Positivo\",\"Muy Positivo\",\"Positivo\",\"Neutro\",\"Neutro\",\"Negativo\",\"Positivo\",\"Neutro\",\"Muy Positivo\",\"Positivo\",\"Neutro\",\"Negativo\",\"Negativo\",\"Negativo\",\"Negativo\",\"Positivo\",\"Positivo\",\"Muy Positivo\",\"Muy Positivo\",\"Negativo\",\"Muy Positivo\",\"Positivo\",\"Positivo\",\"Muy Positivo\",\"Muy Negativo\",\"Muy Positivo\",\"Neutro\",\"Neutro\",\"Muy Positivo\",\"Positivo\",\"Positivo\",\"Positivo\",\"Muy Negativo\",\"Positivo\",\"Negativo\",\"Negativo\",\"Muy Positivo\",\"Negativo\",\"Negativo\",\"Neutro\",\"Muy Positivo\",\"Negativo\",\"Muy Positivo\",\"Muy Positivo\",\"Muy Positivo\",\"Neutro\",\"Muy Positivo\",\"Muy Negativo\",\"Muy Positivo\",\"Muy Negativo\",\"Muy Positivo\",\"Positivo\",\"Neutro\",\"Muy Positivo\",\"Muy Positivo\",\"Neutro\",\"Positivo\",\"Positivo\",\"Muy Positivo\",\"Positivo\",\"Negativo\",\"Negativo\",\"Muy Positivo\",\"Neutro\",\"Neutro\",\"Muy Positivo\",\"Muy Negativo\",\"Muy Positivo\",\"Positivo\",\"Positivo\",\"Muy Positivo\",\"Positivo\",\"Muy Positivo\",\"Muy Positivo\",\"Muy Positivo\",\"Negativo\",\"Neutro\",\"Neutro\",\"Negativo\",\"Positivo\",\"Muy Positivo\",\"Positivo\",\"Muy Positivo\",\"Positivo\",\"Muy Positivo\",\"Positivo\",\"Muy Positivo\",\"Neutro\",\"Muy Positivo\",\"Muy Positivo\",\"Positivo\",\"Muy Negativo\",\"Neutro\",\"Muy Positivo\",\"Muy Positivo\",\"Positivo\",\"Muy Positivo\",\"Neutro\",\"Positivo\",\"Neutro\",\"Neutro\",\"Muy Positivo\",\"Neutro\",\"Muy Negativo\",\"Neutro\",\"Muy Positivo\",\"Negativo\",\"Negativo\",\"Muy Negativo\",\"Negativo\",\"Positivo\",\"Negativo\",\"Positivo\",\"Positivo\",\"Negativo\",\"Muy Positivo\",\"Neutro\",\"Neutro\",\"Muy Positivo\",\"Positivo\",\"Neutro\",\"Neutro\",\"Muy Positivo\",\"Muy Positivo\",\"Neutro\",\"Negativo\",\"Muy Positivo\",\"Muy Positivo\",\"Muy Positivo\",\"Neutro\",\"Muy Positivo\",\"Muy Positivo\",\"Neutro\",\"Negativo\",\"Muy Positivo\",\"Positivo\",\"Positivo\",\"Positivo\",\"Positivo\",\"Muy Negativo\",\"Positivo\",\"Muy Positivo\",\"Negativo\",\"Neutro\",\"Positivo\",\"Positivo\",\"Negativo\",\"Neutro\",\"Neutro\",\"Negativo\",\"Negativo\",\"Muy Positivo\",\"Muy Negativo\",\"Negativo\",\"Negativo\",\"Positivo\",\"Negativo\",\"Muy Positivo\",\"Muy Positivo\",\"Negativo\",\"Negativo\",\"Positivo\",\"Neutro\",\"Positivo\",\"Positivo\",\"Muy Negativo\",\"Neutro\",\"Muy Positivo\",\"Muy Positivo\",\"Neutro\",\"Neutro\",\"Muy Negativo\",\"Muy Positivo\",\"Positivo\",\"Neutro\",\"Positivo\",\"Muy Positivo\",\"Negativo\",\"Positivo\",\"Muy Negativo\",\"Muy Positivo\",\"Positivo\",\"Muy Positivo\",\"Muy Positivo\",\"Muy Positivo\",\"Muy Positivo\",\"Neutro\",\"Negativo\",\"Muy Negativo\",\"Positivo\",\"Neutro\",\"Negativo\",\"Muy Positivo\",\"Muy Positivo\",\"Negativo\",\"Negativo\",\"Muy Positivo\",\"Negativo\",\"Neutro\",\"Neutro\",\"Muy Positivo\",\"Muy Positivo\",\"Positivo\",\"Muy Positivo\",\"Neutro\",\"Negativo\",\"Neutro\",\"Negativo\",\"Positivo\",\"Muy Negativo\",\"Positivo\",\"Muy Negativo\",\"Muy Negativo\",\"Positivo\",\"Neutro\",\"Neutro\",\"Muy Positivo\",\"Positivo\",\"Negativo\",\"Positivo\",\"Negativo\",\"Negativo\",\"Muy Positivo\",\"Positivo\",\"Muy Negativo\",\"Negativo\",\"Positivo\",\"Neutro\",\"Neutro\",\"Neutro\",\"Neutro\",\"Positivo\",\"Neutro\",\"Positivo\",\"Positivo\",\"Muy Positivo\",\"Neutro\",\"Muy Negativo\",\"Muy Positivo\",\"Positivo\",\"Positivo\",\"Neutro\",\"Positivo\",\"Negativo\",\"Neutro\",\"Positivo\",\"Neutro\",\"Negativo\",\"Positivo\",\"Negativo\",\"Muy Positivo\",\"Muy Negativo\",\"Positivo\",\"Positivo\",\"Positivo\",\"Negativo\",\"Muy Positivo\",\"Positivo\",\"Muy Negativo\",\"Positivo\",\"Muy Negativo\",\"Neutro\",\"Neutro\",\"Negativo\",\"Positivo\",\"Muy Positivo\",\"Muy Positivo\",\"Muy Positivo\",\"Muy Positivo\",\"Neutro\",\"Negativo\",\"Negativo\",\"Positivo\",\"Muy Positivo\",\"Muy Positivo\",\"Neutro\",\"Muy Positivo\",\"Neutro\",\"Negativo\",\"Muy Positivo\",\"Muy Positivo\",\"Positivo\",\"Neutro\",\"Muy Positivo\",\"Muy Positivo\",\"Muy Positivo\",\"Positivo\",\"Muy Negativo\",\"Neutro\",\"Muy Positivo\",\"Muy Positivo\",\"Muy Positivo\",\"Muy Negativo\",\"Positivo\",\"Muy Positivo\",\"Positivo\",\"Muy Positivo\",\"Neutro\",\"Positivo\",\"Positivo\",\"Negativo\",\"Negativo\",\"Muy Positivo\",\"Muy Positivo\",\"Positivo\",\"Positivo\",\"Neutro\",\"Neutro\",\"Muy Negativo\",\"Negativo\",\"Muy Positivo\",\"Positivo\",\"Positivo\",\"Negativo\",\"Muy Positivo\",\"Negativo\",\"Muy Positivo\",\"Neutro\",\"Muy Positivo\",\"Positivo\",\"Positivo\",\"Muy Positivo\",\"Muy Positivo\",\"Neutro\",\"Muy Positivo\",\"Positivo\",\"Neutro\",\"Positivo\",\"Neutro\",\"Positivo\",\"Negativo\",\"Neutro\",\"Neutro\",\"Muy Positivo\",\"Muy Positivo\",\"Neutro\",\"Muy Positivo\",\"Positivo\",\"Muy Positivo\",\"Neutro\",\"Positivo\",\"Muy Positivo\",\"Negativo\",\"Negativo\",\"Neutro\",\"Neutro\",\"Positivo\",\"Muy Positivo\",\"Neutro\",\"Neutro\",\"Neutro\",\"Muy Positivo\",\"Muy Positivo\",\"Neutro\",\"Neutro\",\"Muy Positivo\",\"Muy Positivo\",\"Positivo\",\"Negativo\",\"Positivo\",\"Positivo\",\"Muy Positivo\",\"Muy Negativo\",\"Muy Negativo\",\"Muy Positivo\",\"Muy Positivo\",\"Neutro\",\"Muy Positivo\",\"Positivo\",\"Positivo\",\"Neutro\",\"Positivo\",\"Muy Positivo\",\"Muy Positivo\",\"Positivo\",\"Neutro\",\"Neutro\",\"Muy Positivo\",\"Negativo\",\"Muy Positivo\",\"Muy Positivo\",\"Positivo\",\"Positivo\",\"Negativo\",\"Muy Negativo\",\"Negativo\",\"Positivo\",\"Positivo\",\"Muy Positivo\",\"Positivo\",\"Neutro\",\"Neutro\",\"Muy Positivo\",\"Neutro\",\"Neutro\",\"Positivo\",\"Positivo\",\"Negativo\",\"Neutro\",\"Negativo\",\"Neutro\",\"Muy Positivo\",\"Positivo\",\"Negativo\",\"Muy Positivo\",\"Neutro\",\"Neutro\",\"Positivo\",\"Neutro\",\"Neutro\",\"Positivo\",\"Positivo\",\"Neutro\",\"Positivo\",\"Positivo\",\"Neutro\",\"Neutro\",\"Muy Positivo\",\"Muy Positivo\",\"Neutro\",\"Positivo\",\"Neutro\",\"Muy Negativo\",\"Positivo\",\"Muy Positivo\",\"Positivo\",\"Neutro\",\"Positivo\",\"Positivo\",\"Positivo\",\"Negativo\",\"Positivo\",\"Muy Positivo\",\"Muy Positivo\",\"Neutro\",\"Muy Positivo\",\"Negativo\",\"Positivo\",\"Muy Positivo\",\"Neutro\",\"Neutro\",\"Muy Positivo\",\"Negativo\",\"Neutro\",\"Muy Positivo\",\"Muy Positivo\",\"Neutro\",\"Positivo\",\"Negativo\",\"Muy Positivo\",\"Neutro\",\"Positivo\",\"Muy Positivo\",\"Muy Positivo\",\"Positivo\",\"Muy Negativo\",\"Muy Negativo\",\"Positivo\",\"Neutro\",\"Positivo\",\"Muy Positivo\",\"Neutro\",\"Neutro\",\"Negativo\",\"Muy Positivo\",\"Muy Positivo\",\"Positivo\",\"Negativo\",\"Muy Negativo\",\"Neutro\",\"Muy Negativo\",\"Positivo\",\"Neutro\",\"Muy Positivo\",\"Neutro\",\"Muy Positivo\",\"Muy Negativo\",\"Negativo\",\"Muy Positivo\",\"Neutro\",\"Neutro\",\"Muy Positivo\",\"Neutro\",\"Neutro\",\"Neutro\",\"Muy Negativo\",\"Neutro\",\"Negativo\",\"Muy Positivo\",\"Positivo\",\"Muy Negativo\",\"Positivo\",\"Positivo\",\"Muy Negativo\",\"Muy Positivo\",\"Neutro\",\"Positivo\",\"Negativo\",\"Positivo\",\"Positivo\",\"Positivo\",\"Neutro\",\"Neutro\",\"Muy Positivo\",\"Positivo\",\"Muy Positivo\",\"Positivo\",\"Neutro\",\"Negativo\",\"Muy Positivo\",\"Muy Positivo\",\"Negativo\",\"Muy Positivo\",\"Muy Positivo\",\"Neutro\",\"Muy Negativo\",\"Muy Negativo\",\"Muy Negativo\",\"Muy Negativo\",\"Muy Positivo\",\"Positivo\",\"Neutro\",\"Positivo\",\"Positivo\",\"Muy Positivo\",\"Negativo\",\"Muy Positivo\",\"Neutro\",\"Positivo\",\"Muy Positivo\",\"Neutro\",\"Neutro\",\"Negativo\",\"Negativo\",\"Muy Negativo\",\"Negativo\",\"Neutro\",\"Positivo\",\"Positivo\",\"Muy Positivo\",\"Neutro\",\"Muy Positivo\",\"Muy Negativo\",\"Positivo\",\"Positivo\",\"Neutro\",\"Negativo\",\"Muy Positivo\",\"Neutro\",\"Neutro\",\"Neutro\",\"Negativo\",\"Positivo\",\"Neutro\",\"Positivo\",\"Neutro\",\"Positivo\",\"Muy Negativo\",\"Muy Negativo\",\"Neutro\",\"Positivo\",\"Neutro\",\"Positivo\",\"Neutro\",\"Negativo\",\"Negativo\",\"Negativo\",\"Muy Positivo\",\"Muy Positivo\",\"Muy Positivo\",\"Muy Positivo\",\"Neutro\",\"Muy Negativo\",\"Muy Positivo\",\"Muy Positivo\",\"Positivo\",\"Muy Positivo\",\"Positivo\",\"Muy Positivo\",\"Negativo\",\"Muy Positivo\",\"Positivo\",\"Neutro\",\"Negativo\",\"Positivo\",\"Neutro\",\"Negativo\",\"Neutro\",\"Neutro\",\"Muy Positivo\",\"Muy Positivo\",\"Negativo\",\"Neutro\",\"Positivo\",\"Muy Negativo\",\"Neutro\",\"Neutro\",\"Muy Negativo\",\"Positivo\",\"Neutro\",\"Negativo\",\"Positivo\",\"Muy Negativo\",\"Positivo\",\"Positivo\",\"Muy Positivo\",\"Muy Positivo\",\"Negativo\",\"Positivo\",\"Negativo\",\"Neutro\",\"Positivo\",\"Negativo\",\"Muy Positivo\",\"Neutro\",\"Positivo\",\"Neutro\",\"Negativo\",\"Neutro\",\"Negativo\",\"Negativo\",\"Positivo\",\"Neutro\",\"Muy Negativo\",\"Muy Positivo\",\"Neutro\",\"Neutro\",\"Muy Positivo\",\"Positivo\",\"Positivo\",\"Positivo\",\"Negativo\",\"Positivo\",\"Neutro\",\"Negativo\",\"Muy Positivo\",\"Neutro\",\"Neutro\",\"Negativo\",\"Positivo\",\"Positivo\",\"Muy Positivo\",\"Muy Positivo\",\"Positivo\",\"Positivo\",\"Neutro\",\"Muy Positivo\",\"Negativo\",\"Muy Negativo\",\"Positivo\",\"Muy Positivo\",\"Muy Positivo\",\"Positivo\",\"Muy Positivo\",\"Negativo\",\"Muy Positivo\",\"Muy Positivo\",\"Muy Positivo\",\"Muy Positivo\",\"Neutro\",\"Neutro\",\"Muy Positivo\",\"Muy Positivo\",\"Muy Negativo\",\"Positivo\",\"Negativo\",\"Muy Negativo\",\"Neutro\",\"Positivo\",\"Muy Positivo\",\"Neutro\",\"Muy Positivo\",\"Positivo\",\"Muy Positivo\",\"Muy Positivo\",\"Neutro\",\"Neutro\",\"Positivo\",\"Neutro\",\"Neutro\",\"Muy Positivo\",\"Negativo\",\"Muy Negativo\",\"Muy Positivo\",\"Muy Positivo\",\"Negativo\",\"Muy Positivo\",\"Muy Positivo\",\"Negativo\",\"Muy Positivo\",\"Neutro\",\"Positivo\",\"Muy Positivo\",\"Muy Negativo\",\"Positivo\",\"Muy Positivo\",\"Muy Positivo\",\"Positivo\",\"Neutro\",\"Positivo\",\"Neutro\",\"Positivo\",\"Negativo\",\"Neutro\",\"Muy Positivo\",\"Positivo\",\"Positivo\",\"Neutro\",\"Muy Positivo\",\"Neutro\",\"Neutro\",\"Neutro\",\"Muy Positivo\",\"Neutro\",\"Positivo\",\"Muy Negativo\",\"Positivo\",\"Muy Negativo\",\"Positivo\",\"Muy Positivo\",\"Negativo\",\"Positivo\",\"Negativo\",\"Neutro\",\"Muy Positivo\",\"Negativo\",\"Negativo\",\"Neutro\",\"Muy Negativo\",\"Negativo\",\"Neutro\",\"Negativo\",\"Positivo\",\"Muy Negativo\",\"Muy Negativo\",\"Muy Positivo\",\"Muy Positivo\",\"Muy Negativo\",\"Negativo\",\"Muy Negativo\",\"Muy Positivo\",\"Positivo\",\"Negativo\",\"Positivo\",\"Positivo\",\"Neutro\",\"Positivo\",\"Neutro\",\"Muy Positivo\",\"Positivo\",\"Positivo\",\"Neutro\",\"Positivo\",\"Neutro\",\"Muy Positivo\",\"Muy Positivo\",\"Neutro\",\"Positivo\",\"Positivo\",\"Negativo\",\"Muy Positivo\",\"Muy Positivo\",\"Neutro\",\"Muy Positivo\",\"Positivo\",\"Positivo\",\"Neutro\",\"Positivo\",\"Neutro\",\"Muy Negativo\",\"Muy Positivo\",\"Negativo\",\"Neutro\",\"Muy Positivo\",\"Negativo\",\"Positivo\",\"Muy Positivo\",\"Negativo\",\"Muy Positivo\",\"Negativo\",\"Muy Positivo\",\"Neutro\",\"Negativo\",\"Muy Positivo\",\"Positivo\",\"Neutro\",\"Muy Positivo\",\"Positivo\",\"Neutro\",\"Neutro\",\"Muy Negativo\",\"Muy Positivo\",\"Positivo\",\"Neutro\",\"Positivo\",\"Neutro\",\"Muy Positivo\",\"Neutro\",\"Negativo\",\"Muy Positivo\",\"Positivo\",\"Muy Positivo\",\"Positivo\",\"Muy Positivo\",\"Muy Positivo\",\"Muy Positivo\",\"Muy Positivo\",\"Neutro\",\"Positivo\",\"Positivo\",\"Negativo\",\"Neutro\",\"Positivo\",\"Negativo\",\"Neutro\",\"Positivo\",\"Muy Negativo\",\"Negativo\",\"Positivo\",\"Positivo\",\"Negativo\",\"Neutro\",\"Muy Positivo\",\"Negativo\",\"Muy Positivo\",\"Muy Positivo\",\"Positivo\",\"Positivo\",\"Muy Positivo\",\"Positivo\",\"Negativo\",\"Muy Negativo\",\"Neutro\",\"Positivo\",\"Negativo\",\"Neutro\",\"Muy Positivo\",\"Positivo\",\"Muy Negativo\",\"Neutro\",\"Neutro\",\"Muy Positivo\",\"Neutro\",\"Neutro\",\"Muy Negativo\",\"Muy Positivo\",\"Muy Positivo\",\"Neutro\",\"Muy Positivo\",\"Muy Negativo\",\"Positivo\",\"Neutro\",\"Muy Positivo\",\"Negativo\",\"Positivo\",\"Negativo\",\"Muy Negativo\",\"Muy Positivo\",\"Negativo\",\"Neutro\",\"Neutro\",\"Positivo\",\"Neutro\",\"Muy Negativo\",\"Positivo\",\"Muy Positivo\",\"Positivo\",\"Positivo\",\"Muy Positivo\",\"Negativo\",\"Muy Positivo\",\"Negativo\",\"Positivo\",\"Muy Positivo\",\"Positivo\",\"Positivo\",\"Positivo\",\"Positivo\",\"Muy Positivo\",\"Muy Negativo\",\"Muy Negativo\",\"Neutro\",\"Neutro\",\"Muy Positivo\",\"Muy Positivo\",\"Positivo\",\"Muy Positivo\",\"Muy Positivo\",\"Muy Negativo\",\"Muy Positivo\",\"Neutro\",\"Muy Negativo\",\"Muy Positivo\",\"Positivo\",\"Muy Positivo\",\"Neutro\",\"Positivo\",\"Positivo\",\"Muy Positivo\",\"Positivo\",\"Negativo\",\"Muy Positivo\",\"Muy Positivo\",\"Positivo\",\"Neutro\",\"Negativo\",\"Neutro\",\"Muy Positivo\",\"Muy Positivo\",\"Muy Negativo\",\"Neutro\",\"Neutro\",\"Muy Positivo\",\"Negativo\",\"Negativo\",\"Negativo\",\"Positivo\",\"Muy Positivo\",\"Muy Positivo\",\"Neutro\",\"Neutro\",\"Positivo\",\"Neutro\",\"Positivo\",\"Positivo\",\"Muy Positivo\",\"Positivo\",\"Muy Negativo\",\"Neutro\",\"Positivo\",\"Muy Negativo\",\"Negativo\",\"Muy Negativo\",\"Neutro\",\"Neutro\",\"Muy Positivo\",\"Positivo\",\"Positivo\",\"Muy Positivo\",\"Positivo\",\"Positivo\",\"Muy Negativo\",\"Negativo\",\"Muy Negativo\",\"Negativo\",\"Muy Positivo\",\"Positivo\",\"Positivo\",\"Muy Positivo\",\"Muy Positivo\",\"Negativo\",\"Positivo\",\"Positivo\",\"Positivo\",\"Positivo\",\"Positivo\",\"Positivo\",\"Positivo\",\"Muy Positivo\",\"Positivo\",\"Negativo\",\"Negativo\",\"Positivo\",\"Muy Negativo\",\"Negativo\",\"Negativo\",\"Muy Negativo\",\"Negativo\",\"Positivo\",\"Neutro\",\"Neutro\",\"Neutro\",\"Neutro\",\"Negativo\",\"Muy Negativo\",\"Muy Negativo\",\"Positivo\",\"Muy Positivo\",\"Positivo\",\"Muy Positivo\",\"Neutro\",\"Muy Positivo\",\"Neutro\",\"Positivo\",\"Positivo\",\"Neutro\",\"Muy Negativo\",\"Muy Positivo\"],\"xaxis\":\"x\",\"yaxis\":\"y\",\"type\":\"histogram\"}],                        {\"template\":{\"data\":{\"histogram2dcontour\":[{\"type\":\"histogram2dcontour\",\"colorbar\":{\"outlinewidth\":0,\"ticks\":\"\"},\"colorscale\":[[0.0,\"#0d0887\"],[0.1111111111111111,\"#46039f\"],[0.2222222222222222,\"#7201a8\"],[0.3333333333333333,\"#9c179e\"],[0.4444444444444444,\"#bd3786\"],[0.5555555555555556,\"#d8576b\"],[0.6666666666666666,\"#ed7953\"],[0.7777777777777778,\"#fb9f3a\"],[0.8888888888888888,\"#fdca26\"],[1.0,\"#f0f921\"]]}],\"choropleth\":[{\"type\":\"choropleth\",\"colorbar\":{\"outlinewidth\":0,\"ticks\":\"\"}}],\"histogram2d\":[{\"type\":\"histogram2d\",\"colorbar\":{\"outlinewidth\":0,\"ticks\":\"\"},\"colorscale\":[[0.0,\"#0d0887\"],[0.1111111111111111,\"#46039f\"],[0.2222222222222222,\"#7201a8\"],[0.3333333333333333,\"#9c179e\"],[0.4444444444444444,\"#bd3786\"],[0.5555555555555556,\"#d8576b\"],[0.6666666666666666,\"#ed7953\"],[0.7777777777777778,\"#fb9f3a\"],[0.8888888888888888,\"#fdca26\"],[1.0,\"#f0f921\"]]}],\"heatmap\":[{\"type\":\"heatmap\",\"colorbar\":{\"outlinewidth\":0,\"ticks\":\"\"},\"colorscale\":[[0.0,\"#0d0887\"],[0.1111111111111111,\"#46039f\"],[0.2222222222222222,\"#7201a8\"],[0.3333333333333333,\"#9c179e\"],[0.4444444444444444,\"#bd3786\"],[0.5555555555555556,\"#d8576b\"],[0.6666666666666666,\"#ed7953\"],[0.7777777777777778,\"#fb9f3a\"],[0.8888888888888888,\"#fdca26\"],[1.0,\"#f0f921\"]]}],\"heatmapgl\":[{\"type\":\"heatmapgl\",\"colorbar\":{\"outlinewidth\":0,\"ticks\":\"\"},\"colorscale\":[[0.0,\"#0d0887\"],[0.1111111111111111,\"#46039f\"],[0.2222222222222222,\"#7201a8\"],[0.3333333333333333,\"#9c179e\"],[0.4444444444444444,\"#bd3786\"],[0.5555555555555556,\"#d8576b\"],[0.6666666666666666,\"#ed7953\"],[0.7777777777777778,\"#fb9f3a\"],[0.8888888888888888,\"#fdca26\"],[1.0,\"#f0f921\"]]}],\"contourcarpet\":[{\"type\":\"contourcarpet\",\"colorbar\":{\"outlinewidth\":0,\"ticks\":\"\"}}],\"contour\":[{\"type\":\"contour\",\"colorbar\":{\"outlinewidth\":0,\"ticks\":\"\"},\"colorscale\":[[0.0,\"#0d0887\"],[0.1111111111111111,\"#46039f\"],[0.2222222222222222,\"#7201a8\"],[0.3333333333333333,\"#9c179e\"],[0.4444444444444444,\"#bd3786\"],[0.5555555555555556,\"#d8576b\"],[0.6666666666666666,\"#ed7953\"],[0.7777777777777778,\"#fb9f3a\"],[0.8888888888888888,\"#fdca26\"],[1.0,\"#f0f921\"]]}],\"surface\":[{\"type\":\"surface\",\"colorbar\":{\"outlinewidth\":0,\"ticks\":\"\"},\"colorscale\":[[0.0,\"#0d0887\"],[0.1111111111111111,\"#46039f\"],[0.2222222222222222,\"#7201a8\"],[0.3333333333333333,\"#9c179e\"],[0.4444444444444444,\"#bd3786\"],[0.5555555555555556,\"#d8576b\"],[0.6666666666666666,\"#ed7953\"],[0.7777777777777778,\"#fb9f3a\"],[0.8888888888888888,\"#fdca26\"],[1.0,\"#f0f921\"]]}],\"mesh3d\":[{\"type\":\"mesh3d\",\"colorbar\":{\"outlinewidth\":0,\"ticks\":\"\"}}],\"scatter\":[{\"fillpattern\":{\"fillmode\":\"overlay\",\"size\":10,\"solidity\":0.2},\"type\":\"scatter\"}],\"parcoords\":[{\"type\":\"parcoords\",\"line\":{\"colorbar\":{\"outlinewidth\":0,\"ticks\":\"\"}}}],\"scatterpolargl\":[{\"type\":\"scatterpolargl\",\"marker\":{\"colorbar\":{\"outlinewidth\":0,\"ticks\":\"\"}}}],\"bar\":[{\"error_x\":{\"color\":\"#2a3f5f\"},\"error_y\":{\"color\":\"#2a3f5f\"},\"marker\":{\"line\":{\"color\":\"#E5ECF6\",\"width\":0.5},\"pattern\":{\"fillmode\":\"overlay\",\"size\":10,\"solidity\":0.2}},\"type\":\"bar\"}],\"scattergeo\":[{\"type\":\"scattergeo\",\"marker\":{\"colorbar\":{\"outlinewidth\":0,\"ticks\":\"\"}}}],\"scatterpolar\":[{\"type\":\"scatterpolar\",\"marker\":{\"colorbar\":{\"outlinewidth\":0,\"ticks\":\"\"}}}],\"histogram\":[{\"marker\":{\"pattern\":{\"fillmode\":\"overlay\",\"size\":10,\"solidity\":0.2}},\"type\":\"histogram\"}],\"scattergl\":[{\"type\":\"scattergl\",\"marker\":{\"colorbar\":{\"outlinewidth\":0,\"ticks\":\"\"}}}],\"scatter3d\":[{\"type\":\"scatter3d\",\"line\":{\"colorbar\":{\"outlinewidth\":0,\"ticks\":\"\"}},\"marker\":{\"colorbar\":{\"outlinewidth\":0,\"ticks\":\"\"}}}],\"scattermapbox\":[{\"type\":\"scattermapbox\",\"marker\":{\"colorbar\":{\"outlinewidth\":0,\"ticks\":\"\"}}}],\"scatterternary\":[{\"type\":\"scatterternary\",\"marker\":{\"colorbar\":{\"outlinewidth\":0,\"ticks\":\"\"}}}],\"scattercarpet\":[{\"type\":\"scattercarpet\",\"marker\":{\"colorbar\":{\"outlinewidth\":0,\"ticks\":\"\"}}}],\"carpet\":[{\"aaxis\":{\"endlinecolor\":\"#2a3f5f\",\"gridcolor\":\"white\",\"linecolor\":\"white\",\"minorgridcolor\":\"white\",\"startlinecolor\":\"#2a3f5f\"},\"baxis\":{\"endlinecolor\":\"#2a3f5f\",\"gridcolor\":\"white\",\"linecolor\":\"white\",\"minorgridcolor\":\"white\",\"startlinecolor\":\"#2a3f5f\"},\"type\":\"carpet\"}],\"table\":[{\"cells\":{\"fill\":{\"color\":\"#EBF0F8\"},\"line\":{\"color\":\"white\"}},\"header\":{\"fill\":{\"color\":\"#C8D4E3\"},\"line\":{\"color\":\"white\"}},\"type\":\"table\"}],\"barpolar\":[{\"marker\":{\"line\":{\"color\":\"#E5ECF6\",\"width\":0.5},\"pattern\":{\"fillmode\":\"overlay\",\"size\":10,\"solidity\":0.2}},\"type\":\"barpolar\"}],\"pie\":[{\"automargin\":true,\"type\":\"pie\"}]},\"layout\":{\"autotypenumbers\":\"strict\",\"colorway\":[\"#636efa\",\"#EF553B\",\"#00cc96\",\"#ab63fa\",\"#FFA15A\",\"#19d3f3\",\"#FF6692\",\"#B6E880\",\"#FF97FF\",\"#FECB52\"],\"font\":{\"color\":\"#2a3f5f\"},\"hovermode\":\"closest\",\"hoverlabel\":{\"align\":\"left\"},\"paper_bgcolor\":\"white\",\"plot_bgcolor\":\"#E5ECF6\",\"polar\":{\"bgcolor\":\"#E5ECF6\",\"angularaxis\":{\"gridcolor\":\"white\",\"linecolor\":\"white\",\"ticks\":\"\"},\"radialaxis\":{\"gridcolor\":\"white\",\"linecolor\":\"white\",\"ticks\":\"\"}},\"ternary\":{\"bgcolor\":\"#E5ECF6\",\"aaxis\":{\"gridcolor\":\"white\",\"linecolor\":\"white\",\"ticks\":\"\"},\"baxis\":{\"gridcolor\":\"white\",\"linecolor\":\"white\",\"ticks\":\"\"},\"caxis\":{\"gridcolor\":\"white\",\"linecolor\":\"white\",\"ticks\":\"\"}},\"coloraxis\":{\"colorbar\":{\"outlinewidth\":0,\"ticks\":\"\"}},\"colorscale\":{\"sequential\":[[0.0,\"#0d0887\"],[0.1111111111111111,\"#46039f\"],[0.2222222222222222,\"#7201a8\"],[0.3333333333333333,\"#9c179e\"],[0.4444444444444444,\"#bd3786\"],[0.5555555555555556,\"#d8576b\"],[0.6666666666666666,\"#ed7953\"],[0.7777777777777778,\"#fb9f3a\"],[0.8888888888888888,\"#fdca26\"],[1.0,\"#f0f921\"]],\"sequentialminus\":[[0.0,\"#0d0887\"],[0.1111111111111111,\"#46039f\"],[0.2222222222222222,\"#7201a8\"],[0.3333333333333333,\"#9c179e\"],[0.4444444444444444,\"#bd3786\"],[0.5555555555555556,\"#d8576b\"],[0.6666666666666666,\"#ed7953\"],[0.7777777777777778,\"#fb9f3a\"],[0.8888888888888888,\"#fdca26\"],[1.0,\"#f0f921\"]],\"diverging\":[[0,\"#8e0152\"],[0.1,\"#c51b7d\"],[0.2,\"#de77ae\"],[0.3,\"#f1b6da\"],[0.4,\"#fde0ef\"],[0.5,\"#f7f7f7\"],[0.6,\"#e6f5d0\"],[0.7,\"#b8e186\"],[0.8,\"#7fbc41\"],[0.9,\"#4d9221\"],[1,\"#276419\"]]},\"xaxis\":{\"gridcolor\":\"white\",\"linecolor\":\"white\",\"ticks\":\"\",\"title\":{\"standoff\":15},\"zerolinecolor\":\"white\",\"automargin\":true,\"zerolinewidth\":2},\"yaxis\":{\"gridcolor\":\"white\",\"linecolor\":\"white\",\"ticks\":\"\",\"title\":{\"standoff\":15},\"zerolinecolor\":\"white\",\"automargin\":true,\"zerolinewidth\":2},\"scene\":{\"xaxis\":{\"backgroundcolor\":\"#E5ECF6\",\"gridcolor\":\"white\",\"linecolor\":\"white\",\"showbackground\":true,\"ticks\":\"\",\"zerolinecolor\":\"white\",\"gridwidth\":2},\"yaxis\":{\"backgroundcolor\":\"#E5ECF6\",\"gridcolor\":\"white\",\"linecolor\":\"white\",\"showbackground\":true,\"ticks\":\"\",\"zerolinecolor\":\"white\",\"gridwidth\":2},\"zaxis\":{\"backgroundcolor\":\"#E5ECF6\",\"gridcolor\":\"white\",\"linecolor\":\"white\",\"showbackground\":true,\"ticks\":\"\",\"zerolinecolor\":\"white\",\"gridwidth\":2}},\"shapedefaults\":{\"line\":{\"color\":\"#2a3f5f\"}},\"annotationdefaults\":{\"arrowcolor\":\"#2a3f5f\",\"arrowhead\":0,\"arrowwidth\":1},\"geo\":{\"bgcolor\":\"white\",\"landcolor\":\"#E5ECF6\",\"subunitcolor\":\"white\",\"showland\":true,\"showlakes\":true,\"lakecolor\":\"white\"},\"title\":{\"x\":0.05},\"mapbox\":{\"style\":\"light\"}}},\"xaxis\":{\"anchor\":\"y\",\"domain\":[0.0,1.0],\"title\":{\"text\":\"Class\"}},\"yaxis\":{\"anchor\":\"x\",\"domain\":[0.0,1.0],\"title\":{\"text\":\"count\"}},\"legend\":{\"tracegroupgap\":0},\"title\":{\"text\":\"Conteo de clases \"},\"barmode\":\"relative\",\"bargap\":0.1},                        {\"responsive\": true}                    ).then(function(){\n",
              "                            \n",
              "var gd = document.getElementById('5f0e36d5-2adf-4a63-a082-8abb7faf98a8');\n",
              "var x = new MutationObserver(function (mutations, observer) {{\n",
              "        var display = window.getComputedStyle(gd).display;\n",
              "        if (!display || display === 'none') {{\n",
              "            console.log([gd, 'removed!']);\n",
              "            Plotly.purge(gd);\n",
              "            observer.disconnect();\n",
              "        }}\n",
              "}});\n",
              "\n",
              "// Listen for the removal of the full notebook cells\n",
              "var notebookContainer = gd.closest('#notebook-container');\n",
              "if (notebookContainer) {{\n",
              "    x.observe(notebookContainer, {childList: true});\n",
              "}}\n",
              "\n",
              "// Listen for the clearing of the current output cell\n",
              "var outputEl = gd.closest('.output');\n",
              "if (outputEl) {{\n",
              "    x.observe(outputEl, {childList: true});\n",
              "}}\n",
              "\n",
              "                        })                };                            </script>        </div>\n",
              "</body>\n",
              "</html>"
            ]
          },
          "metadata": {}
        },
        {
          "output_type": "display_data",
          "data": {
            "text/html": [
              "<html>\n",
              "<head><meta charset=\"utf-8\" /></head>\n",
              "<body>\n",
              "    <div>            <script src=\"https://cdnjs.cloudflare.com/ajax/libs/mathjax/2.7.5/MathJax.js?config=TeX-AMS-MML_SVG\"></script><script type=\"text/javascript\">if (window.MathJax && window.MathJax.Hub && window.MathJax.Hub.Config) {window.MathJax.Hub.Config({SVG: {font: \"STIX-Web\"}});}</script>                <script type=\"text/javascript\">window.PlotlyConfig = {MathJaxConfig: 'local'};</script>\n",
              "        <script charset=\"utf-8\" src=\"https://cdn.plot.ly/plotly-2.24.1.min.js\"></script>                <div id=\"caa5807f-ce6d-4a74-a7ed-bfff52f7ba2c\" class=\"plotly-graph-div\" style=\"height:525px; width:100%;\"></div>            <script type=\"text/javascript\">                                    window.PLOTLYENV=window.PLOTLYENV || {};                                    if (document.getElementById(\"caa5807f-ce6d-4a74-a7ed-bfff52f7ba2c\")) {                    Plotly.newPlot(                        \"caa5807f-ce6d-4a74-a7ed-bfff52f7ba2c\",                        [{\"domain\":{\"x\":[0.0,1.0],\"y\":[0.0,1.0]},\"hovertemplate\":\"Class=%{label}\\u003cextra\\u003e\\u003c\\u002fextra\\u003e\",\"labels\":[\"Muy Positivo\",\"Neutro\",\"Muy Positivo\",\"Neutro\",\"Neutro\",\"Positivo\",\"Negativo\",\"Neutro\",\"Muy Positivo\",\"Neutro\",\"Neutro\",\"Positivo\",\"Muy Negativo\",\"Neutro\",\"Negativo\",\"Negativo\",\"Muy Negativo\",\"Neutro\",\"Positivo\",\"Muy Positivo\",\"Neutro\",\"Negativo\",\"Positivo\",\"Muy Positivo\",\"Muy Positivo\",\"Neutro\",\"Positivo\",\"Neutro\",\"Negativo\",\"Neutro\",\"Muy Positivo\",\"Positivo\",\"Positivo\",\"Neutro\",\"Positivo\",\"Neutro\",\"Muy Negativo\",\"Neutro\",\"Neutro\",\"Positivo\",\"Muy Negativo\",\"Muy Positivo\",\"Muy Negativo\",\"Neutro\",\"Neutro\",\"Neutro\",\"Positivo\",\"Neutro\",\"Negativo\",\"Neutro\",\"Muy Negativo\",\"Positivo\",\"Neutro\",\"Muy Positivo\",\"Negativo\",\"Muy Negativo\",\"Muy Positivo\",\"Muy Positivo\",\"Muy Negativo\",\"Positivo\",\"Neutro\",\"Positivo\",\"Muy Positivo\",\"Positivo\",\"Muy Positivo\",\"Positivo\",\"Positivo\",\"Positivo\",\"Neutro\",\"Positivo\",\"Positivo\",\"Muy Negativo\",\"Neutro\",\"Negativo\",\"Muy Positivo\",\"Muy Negativo\",\"Positivo\",\"Muy Positivo\",\"Negativo\",\"Positivo\",\"Muy Positivo\",\"Positivo\",\"Positivo\",\"Neutro\",\"Negativo\",\"Neutro\",\"Muy Positivo\",\"Muy Positivo\",\"Positivo\",\"Positivo\",\"Muy Positivo\",\"Positivo\",\"Neutro\",\"Muy Positivo\",\"Muy Positivo\",\"Positivo\",\"Muy Positivo\",\"Positivo\",\"Muy Positivo\",\"Positivo\",\"Negativo\",\"Muy Positivo\",\"Muy Positivo\",\"Positivo\",\"Muy Positivo\",\"Muy Negativo\",\"Negativo\",\"Neutro\",\"Muy Positivo\",\"Muy Positivo\",\"Muy Positivo\",\"Positivo\",\"Neutro\",\"Negativo\",\"Positivo\",\"Muy Positivo\",\"Negativo\",\"Muy Negativo\",\"Negativo\",\"Positivo\",\"Muy Negativo\",\"Muy Positivo\",\"Negativo\",\"Negativo\",\"Positivo\",\"Muy Positivo\",\"Muy Positivo\",\"Muy Negativo\",\"Muy Positivo\",\"Muy Positivo\",\"Positivo\",\"Muy Negativo\",\"Neutro\",\"Negativo\",\"Positivo\",\"Negativo\",\"Negativo\",\"Positivo\",\"Muy Positivo\",\"Positivo\",\"Muy Negativo\",\"Muy Positivo\",\"Neutro\",\"Positivo\",\"Negativo\",\"Negativo\",\"Positivo\",\"Muy Negativo\",\"Neutro\",\"Neutro\",\"Negativo\",\"Neutro\",\"Negativo\",\"Muy Positivo\",\"Negativo\",\"Muy Positivo\",\"Positivo\",\"Muy Negativo\",\"Negativo\",\"Positivo\",\"Positivo\",\"Negativo\",\"Muy Negativo\",\"Neutro\",\"Muy Positivo\",\"Neutro\",\"Muy Positivo\",\"Muy Negativo\",\"Positivo\",\"Muy Positivo\",\"Neutro\",\"Muy Negativo\",\"Negativo\",\"Negativo\",\"Negativo\",\"Positivo\",\"Positivo\",\"Muy Positivo\",\"Muy Negativo\",\"Neutro\",\"Neutro\",\"Muy Positivo\",\"Positivo\",\"Muy Positivo\",\"Negativo\",\"Neutro\",\"Positivo\",\"Muy Positivo\",\"Muy Negativo\",\"Neutro\",\"Negativo\",\"Neutro\",\"Muy Negativo\",\"Muy Positivo\",\"Negativo\",\"Neutro\",\"Positivo\",\"Neutro\",\"Negativo\",\"Muy Positivo\",\"Muy Negativo\",\"Positivo\",\"Muy Positivo\",\"Muy Positivo\",\"Positivo\",\"Muy Positivo\",\"Neutro\",\"Muy Negativo\",\"Negativo\",\"Neutro\",\"Muy Positivo\",\"Neutro\",\"Neutro\",\"Neutro\",\"Negativo\",\"Neutro\",\"Neutro\",\"Negativo\",\"Positivo\",\"Positivo\",\"Muy Positivo\",\"Muy Positivo\",\"Positivo\",\"Positivo\",\"Negativo\",\"Muy Negativo\",\"Negativo\",\"Muy Positivo\",\"Positivo\",\"Negativo\",\"Muy Negativo\",\"Positivo\",\"Muy Negativo\",\"Muy Positivo\",\"Neutro\",\"Positivo\",\"Positivo\",\"Positivo\",\"Neutro\",\"Positivo\",\"Muy Positivo\",\"Muy Negativo\",\"Positivo\",\"Positivo\",\"Muy Positivo\",\"Neutro\",\"Negativo\",\"Muy Positivo\",\"Neutro\",\"Muy Positivo\",\"Negativo\",\"Positivo\",\"Positivo\",\"Neutro\",\"Positivo\",\"Negativo\",\"Muy Positivo\",\"Muy Positivo\",\"Neutro\",\"Negativo\",\"Positivo\",\"Neutro\",\"Muy Positivo\",\"Muy Positivo\",\"Negativo\",\"Positivo\",\"Negativo\",\"Negativo\",\"Negativo\",\"Neutro\",\"Muy Positivo\",\"Negativo\",\"Positivo\",\"Positivo\",\"Negativo\",\"Muy Positivo\",\"Negativo\",\"Negativo\",\"Positivo\",\"Muy Positivo\",\"Negativo\",\"Neutro\",\"Positivo\",\"Neutro\",\"Muy Positivo\",\"Positivo\",\"Negativo\",\"Muy Negativo\",\"Muy Negativo\",\"Muy Negativo\",\"Positivo\",\"Positivo\",\"Positivo\",\"Neutro\",\"Negativo\",\"Positivo\",\"Muy Positivo\",\"Muy Positivo\",\"Muy Positivo\",\"Muy Positivo\",\"Muy Negativo\",\"Positivo\",\"Muy Negativo\",\"Neutro\",\"Muy Positivo\",\"Negativo\",\"Neutro\",\"Neutro\",\"Muy Positivo\",\"Positivo\",\"Muy Positivo\",\"Positivo\",\"Neutro\",\"Neutro\",\"Neutro\",\"Muy Positivo\",\"Muy Positivo\",\"Muy Positivo\",\"Negativo\",\"Muy Positivo\",\"Negativo\",\"Muy Positivo\",\"Negativo\",\"Positivo\",\"Muy Positivo\",\"Neutro\",\"Neutro\",\"Neutro\",\"Positivo\",\"Negativo\",\"Positivo\",\"Neutro\",\"Muy Positivo\",\"Negativo\",\"Positivo\",\"Neutro\",\"Positivo\",\"Neutro\",\"Muy Positivo\",\"Positivo\",\"Muy Negativo\",\"Neutro\",\"Muy Negativo\",\"Neutro\",\"Neutro\",\"Negativo\",\"Neutro\",\"Positivo\",\"Negativo\",\"Positivo\",\"Muy Positivo\",\"Muy Positivo\",\"Neutro\",\"Neutro\",\"Muy Positivo\",\"Neutro\",\"Neutro\",\"Muy Positivo\",\"Positivo\",\"Muy Negativo\",\"Negativo\",\"Muy Positivo\",\"Muy Positivo\",\"Negativo\",\"Muy Positivo\",\"Neutro\",\"Positivo\",\"Neutro\",\"Muy Negativo\",\"Muy Positivo\",\"Muy Positivo\",\"Muy Positivo\",\"Positivo\",\"Negativo\",\"Neutro\",\"Negativo\",\"Positivo\",\"Positivo\",\"Neutro\",\"Muy Positivo\",\"Neutro\",\"Muy Positivo\",\"Muy Negativo\",\"Negativo\",\"Negativo\",\"Muy Positivo\",\"Muy Positivo\",\"Positivo\",\"Positivo\",\"Positivo\",\"Muy Negativo\",\"Muy Negativo\",\"Neutro\",\"Negativo\",\"Positivo\",\"Muy Positivo\",\"Positivo\",\"Positivo\",\"Muy Positivo\",\"Muy Positivo\",\"Neutro\",\"Negativo\",\"Neutro\",\"Muy Positivo\",\"Muy Positivo\",\"Negativo\",\"Positivo\",\"Positivo\",\"Muy Positivo\",\"Muy Negativo\",\"Positivo\",\"Muy Positivo\",\"Muy Negativo\",\"Negativo\",\"Positivo\",\"Positivo\",\"Positivo\",\"Muy Positivo\",\"Positivo\",\"Neutro\",\"Positivo\",\"Positivo\",\"Neutro\",\"Neutro\",\"Muy Negativo\",\"Positivo\",\"Muy Positivo\",\"Positivo\",\"Positivo\",\"Muy Positivo\",\"Neutro\",\"Positivo\",\"Muy Negativo\",\"Neutro\",\"Positivo\",\"Neutro\",\"Muy Positivo\",\"Muy Positivo\",\"Muy Negativo\",\"Muy Positivo\",\"Muy Positivo\",\"Positivo\",\"Neutro\",\"Negativo\",\"Neutro\",\"Muy Positivo\",\"Muy Positivo\",\"Positivo\",\"Positivo\",\"Muy Positivo\",\"Negativo\",\"Negativo\",\"Positivo\",\"Positivo\",\"Positivo\",\"Muy Positivo\",\"Muy Positivo\",\"Muy Positivo\",\"Neutro\",\"Muy Positivo\",\"Neutro\",\"Muy Positivo\",\"Muy Negativo\",\"Muy Negativo\",\"Muy Positivo\",\"Muy Positivo\",\"Neutro\",\"Neutro\",\"Negativo\",\"Muy Positivo\",\"Muy Negativo\",\"Muy Negativo\",\"Positivo\",\"Neutro\",\"Muy Positivo\",\"Muy Negativo\",\"Muy Positivo\",\"Positivo\",\"Negativo\",\"Neutro\",\"Neutro\",\"Positivo\",\"Muy Positivo\",\"Muy Positivo\",\"Neutro\",\"Negativo\",\"Muy Positivo\",\"Muy Positivo\",\"Muy Positivo\",\"Neutro\",\"Muy Positivo\",\"Muy Positivo\",\"Negativo\",\"Muy Negativo\",\"Negativo\",\"Neutro\",\"Neutro\",\"Muy Positivo\",\"Negativo\",\"Muy Negativo\",\"Muy Negativo\",\"Muy Positivo\",\"Muy Positivo\",\"Positivo\",\"Muy Negativo\",\"Muy Positivo\",\"Neutro\",\"Positivo\",\"Muy Positivo\",\"Muy Positivo\",\"Negativo\",\"Muy Positivo\",\"Muy Positivo\",\"Muy Negativo\",\"Positivo\",\"Neutro\",\"Positivo\",\"Muy Negativo\",\"Neutro\",\"Neutro\",\"Negativo\",\"Negativo\",\"Neutro\",\"Neutro\",\"Neutro\",\"Positivo\",\"Negativo\",\"Neutro\",\"Negativo\",\"Muy Negativo\",\"Negativo\",\"Positivo\",\"Muy Positivo\",\"Positivo\",\"Neutro\",\"Muy Positivo\",\"Muy Negativo\",\"Muy Positivo\",\"Negativo\",\"Positivo\",\"Positivo\",\"Neutro\",\"Positivo\",\"Muy Positivo\",\"Positivo\",\"Muy Negativo\",\"Neutro\",\"Neutro\",\"Positivo\",\"Muy Positivo\",\"Positivo\",\"Muy Positivo\",\"Muy Negativo\",\"Muy Negativo\",\"Positivo\",\"Neutro\",\"Neutro\",\"Positivo\",\"Muy Positivo\",\"Negativo\",\"Muy Positivo\",\"Positivo\",\"Neutro\",\"Positivo\",\"Neutro\",\"Muy Negativo\",\"Muy Positivo\",\"Negativo\",\"Muy Positivo\",\"Positivo\",\"Negativo\",\"Muy Positivo\",\"Muy Negativo\",\"Muy Negativo\",\"Muy Positivo\",\"Muy Positivo\",\"Neutro\",\"Muy Positivo\",\"Negativo\",\"Negativo\",\"Muy Positivo\",\"Muy Positivo\",\"Muy Positivo\",\"Neutro\",\"Muy Positivo\",\"Neutro\",\"Positivo\",\"Negativo\",\"Neutro\",\"Muy Positivo\",\"Positivo\",\"Neutro\",\"Muy Negativo\",\"Neutro\",\"Positivo\",\"Muy Positivo\",\"Positivo\",\"Muy Positivo\",\"Positivo\",\"Muy Positivo\",\"Neutro\",\"Positivo\",\"Muy Positivo\",\"Positivo\",\"Neutro\",\"Neutro\",\"Positivo\",\"Negativo\",\"Negativo\",\"Muy Positivo\",\"Positivo\",\"Muy Negativo\",\"Positivo\",\"Muy Positivo\",\"Muy Positivo\",\"Neutro\",\"Muy Positivo\",\"Muy Positivo\",\"Negativo\",\"Neutro\",\"Muy Negativo\",\"Muy Positivo\",\"Muy Negativo\",\"Neutro\",\"Neutro\",\"Positivo\",\"Positivo\",\"Muy Positivo\",\"Neutro\",\"Muy Positivo\",\"Neutro\",\"Positivo\",\"Muy Negativo\",\"Muy Positivo\",\"Negativo\",\"Muy Positivo\",\"Muy Negativo\",\"Positivo\",\"Positivo\",\"Muy Negativo\",\"Negativo\",\"Muy Negativo\",\"Positivo\",\"Positivo\",\"Muy Negativo\",\"Muy Positivo\",\"Muy Positivo\",\"Muy Positivo\",\"Muy Negativo\",\"Negativo\",\"Positivo\",\"Positivo\",\"Neutro\",\"Muy Positivo\",\"Negativo\",\"Negativo\",\"Neutro\",\"Muy Positivo\",\"Positivo\",\"Muy Negativo\",\"Neutro\",\"Negativo\",\"Positivo\",\"Neutro\",\"Neutro\",\"Muy Negativo\",\"Negativo\",\"Muy Positivo\",\"Negativo\",\"Neutro\",\"Negativo\",\"Negativo\",\"Neutro\",\"Muy Positivo\",\"Positivo\",\"Positivo\",\"Positivo\",\"Positivo\",\"Neutro\",\"Muy Positivo\",\"Neutro\",\"Muy Positivo\",\"Muy Negativo\",\"Neutro\",\"Negativo\",\"Neutro\",\"Muy Negativo\",\"Muy Positivo\",\"Neutro\",\"Muy Positivo\",\"Positivo\",\"Negativo\",\"Muy Positivo\",\"Muy Positivo\",\"Positivo\",\"Neutro\",\"Positivo\",\"Muy Positivo\",\"Positivo\",\"Positivo\",\"Negativo\",\"Negativo\",\"Muy Positivo\",\"Muy Positivo\",\"Muy Positivo\",\"Muy Positivo\",\"Muy Negativo\",\"Neutro\",\"Muy Positivo\",\"Muy Negativo\",\"Positivo\",\"Negativo\",\"Muy Positivo\",\"Muy Positivo\",\"Neutro\",\"Positivo\",\"Negativo\",\"Muy Positivo\",\"Muy Positivo\",\"Positivo\",\"Muy Positivo\",\"Muy Positivo\",\"Muy Negativo\",\"Positivo\",\"Neutro\",\"Positivo\",\"Muy Positivo\",\"Neutro\",\"Muy Negativo\",\"Muy Positivo\",\"Negativo\",\"Neutro\",\"Muy Positivo\",\"Muy Positivo\",\"Muy Negativo\",\"Neutro\",\"Muy Positivo\",\"Neutro\",\"Muy Negativo\",\"Muy Negativo\",\"Negativo\",\"Neutro\",\"Neutro\",\"Neutro\",\"Neutro\",\"Positivo\",\"Positivo\",\"Positivo\",\"Positivo\",\"Muy Positivo\",\"Muy Negativo\",\"Positivo\",\"Muy Positivo\",\"Neutro\",\"Negativo\",\"Muy Positivo\",\"Positivo\",\"Positivo\",\"Muy Positivo\",\"Negativo\",\"Muy Positivo\",\"Positivo\",\"Neutro\",\"Muy Positivo\",\"Neutro\",\"Muy Positivo\",\"Neutro\",\"Positivo\",\"Positivo\",\"Negativo\",\"Negativo\",\"Muy Negativo\",\"Muy Positivo\",\"Muy Negativo\",\"Muy Positivo\",\"Positivo\",\"Positivo\",\"Muy Positivo\",\"Positivo\",\"Positivo\",\"Muy Positivo\",\"Positivo\",\"Muy Positivo\",\"Neutro\",\"Positivo\",\"Muy Positivo\",\"Muy Positivo\",\"Negativo\",\"Muy Positivo\",\"Positivo\",\"Positivo\",\"Positivo\",\"Negativo\",\"Positivo\",\"Positivo\",\"Muy Negativo\",\"Positivo\",\"Muy Positivo\",\"Muy Negativo\",\"Negativo\",\"Positivo\",\"Muy Positivo\",\"Muy Positivo\",\"Neutro\",\"Neutro\",\"Positivo\",\"Negativo\",\"Neutro\",\"Muy Positivo\",\"Negativo\",\"Negativo\",\"Neutro\",\"Positivo\",\"Positivo\",\"Positivo\",\"Negativo\",\"Neutro\",\"Positivo\",\"Positivo\",\"Neutro\",\"Positivo\",\"Muy Negativo\",\"Muy Positivo\",\"Positivo\",\"Neutro\",\"Positivo\",\"Negativo\",\"Positivo\",\"Muy Positivo\",\"Muy Positivo\",\"Negativo\",\"Muy Positivo\",\"Negativo\",\"Negativo\",\"Positivo\",\"Neutro\",\"Neutro\",\"Muy Positivo\",\"Neutro\",\"Positivo\",\"Muy Positivo\",\"Neutro\",\"Negativo\",\"Positivo\",\"Negativo\",\"Muy Positivo\",\"Neutro\",\"Negativo\",\"Muy Negativo\",\"Muy Negativo\",\"Muy Positivo\",\"Positivo\",\"Negativo\",\"Muy Positivo\",\"Muy Positivo\",\"Muy Negativo\",\"Positivo\",\"Muy Positivo\",\"Negativo\",\"Positivo\",\"Positivo\",\"Neutro\",\"Neutro\",\"Muy Positivo\",\"Neutro\",\"Muy Positivo\",\"Muy Positivo\",\"Positivo\",\"Muy Negativo\",\"Muy Positivo\",\"Positivo\",\"Muy Positivo\",\"Positivo\",\"Muy Negativo\",\"Neutro\",\"Negativo\",\"Positivo\",\"Positivo\",\"Muy Positivo\",\"Muy Negativo\",\"Neutro\",\"Neutro\",\"Positivo\",\"Positivo\",\"Positivo\",\"Muy Positivo\",\"Muy Positivo\",\"Negativo\",\"Neutro\",\"Positivo\",\"Neutro\",\"Muy Positivo\",\"Positivo\",\"Positivo\",\"Positivo\",\"Muy Positivo\",\"Muy Positivo\",\"Muy Positivo\",\"Muy Positivo\",\"Muy Positivo\",\"Muy Positivo\",\"Positivo\",\"Muy Positivo\",\"Neutro\",\"Muy Positivo\",\"Muy Positivo\",\"Negativo\",\"Muy Positivo\",\"Neutro\",\"Muy Positivo\",\"Neutro\",\"Positivo\",\"Negativo\",\"Neutro\",\"Muy Positivo\",\"Muy Negativo\",\"Negativo\",\"Neutro\",\"Neutro\",\"Negativo\",\"Neutro\",\"Positivo\",\"Negativo\",\"Muy Positivo\",\"Neutro\",\"Muy Positivo\",\"Positivo\",\"Neutro\",\"Muy Positivo\",\"Negativo\",\"Muy Positivo\",\"Positivo\",\"Muy Positivo\",\"Positivo\",\"Muy Positivo\",\"Positivo\",\"Muy Positivo\",\"Positivo\",\"Muy Positivo\",\"Muy Negativo\",\"Muy Positivo\",\"Neutro\",\"Muy Positivo\",\"Neutro\",\"Positivo\",\"Negativo\",\"Muy Positivo\",\"Positivo\",\"Neutro\",\"Neutro\",\"Neutro\",\"Muy Positivo\",\"Negativo\",\"Muy Positivo\",\"Positivo\",\"Neutro\",\"Positivo\",\"Neutro\",\"Negativo\",\"Muy Negativo\",\"Muy Negativo\",\"Muy Positivo\",\"Muy Positivo\",\"Positivo\",\"Positivo\",\"Muy Positivo\",\"Muy Positivo\",\"Muy Positivo\",\"Neutro\",\"Positivo\",\"Muy Negativo\",\"Negativo\",\"Muy Positivo\",\"Muy Positivo\",\"Neutro\",\"Negativo\",\"Neutro\",\"Positivo\",\"Neutro\",\"Neutro\",\"Neutro\",\"Negativo\",\"Negativo\",\"Negativo\",\"Positivo\",\"Muy Negativo\",\"Negativo\",\"Positivo\",\"Positivo\",\"Neutro\",\"Negativo\",\"Muy Negativo\",\"Muy Positivo\",\"Muy Negativo\",\"Muy Positivo\",\"Negativo\",\"Positivo\",\"Muy Positivo\",\"Muy Positivo\",\"Muy Positivo\",\"Positivo\",\"Positivo\",\"Neutro\",\"Positivo\",\"Positivo\",\"Negativo\",\"Positivo\",\"Neutro\",\"Positivo\",\"Neutro\",\"Neutro\",\"Neutro\",\"Positivo\",\"Positivo\",\"Muy Positivo\",\"Muy Positivo\",\"Neutro\",\"Muy Positivo\",\"Positivo\",\"Muy Positivo\",\"Muy Positivo\",\"Muy Positivo\",\"Muy Positivo\",\"Muy Positivo\",\"Negativo\",\"Neutro\",\"Muy Negativo\",\"Positivo\",\"Negativo\",\"Positivo\",\"Muy Positivo\",\"Muy Positivo\",\"Positivo\",\"Negativo\",\"Muy Positivo\",\"Muy Positivo\",\"Negativo\",\"Muy Positivo\",\"Positivo\",\"Muy Positivo\",\"Muy Positivo\",\"Neutro\",\"Neutro\",\"Negativo\",\"Neutro\",\"Muy Positivo\",\"Neutro\",\"Muy Negativo\",\"Muy Positivo\",\"Negativo\",\"Muy Positivo\",\"Negativo\",\"Neutro\",\"Negativo\",\"Muy Positivo\",\"Muy Positivo\",\"Muy Negativo\",\"Muy Negativo\",\"Muy Positivo\",\"Positivo\",\"Positivo\",\"Positivo\",\"Positivo\",\"Negativo\",\"Muy Positivo\",\"Muy Negativo\",\"Muy Negativo\",\"Negativo\",\"Neutro\",\"Neutro\",\"Negativo\",\"Positivo\",\"Neutro\",\"Muy Negativo\",\"Neutro\",\"Muy Negativo\",\"Muy Positivo\",\"Negativo\",\"Muy Negativo\",\"Muy Negativo\",\"Muy Positivo\",\"Positivo\",\"Positivo\",\"Muy Negativo\",\"Muy Positivo\",\"Muy Positivo\",\"Muy Negativo\",\"Muy Positivo\",\"Neutro\",\"Muy Negativo\",\"Negativo\",\"Muy Positivo\",\"Positivo\",\"Neutro\",\"Positivo\",\"Positivo\",\"Muy Positivo\",\"Muy Positivo\",\"Neutro\",\"Muy Negativo\",\"Neutro\",\"Neutro\",\"Muy Positivo\",\"Neutro\",\"Muy Positivo\",\"Negativo\",\"Muy Positivo\",\"Muy Positivo\",\"Muy Negativo\",\"Muy Positivo\",\"Neutro\",\"Muy Negativo\",\"Negativo\",\"Muy Positivo\",\"Neutro\",\"Muy Positivo\",\"Positivo\",\"Muy Positivo\",\"Positivo\",\"Muy Positivo\",\"Muy Positivo\",\"Muy Negativo\",\"Muy Negativo\",\"Neutro\",\"Positivo\",\"Muy Positivo\",\"Positivo\",\"Neutro\",\"Muy Positivo\",\"Muy Negativo\",\"Positivo\",\"Negativo\",\"Muy Negativo\",\"Neutro\",\"Muy Positivo\",\"Neutro\",\"Neutro\",\"Muy Positivo\",\"Muy Positivo\",\"Positivo\",\"Positivo\",\"Neutro\",\"Muy Negativo\",\"Positivo\",\"Negativo\",\"Muy Positivo\",\"Neutro\",\"Positivo\",\"Muy Positivo\",\"Neutro\",\"Neutro\",\"Positivo\",\"Neutro\",\"Muy Negativo\",\"Positivo\",\"Muy Positivo\",\"Positivo\",\"Negativo\",\"Negativo\",\"Muy Positivo\",\"Muy Positivo\",\"Muy Positivo\",\"Neutro\",\"Positivo\",\"Positivo\",\"Muy Positivo\",\"Positivo\",\"Neutro\",\"Muy Positivo\",\"Muy Positivo\",\"Positivo\",\"Muy Positivo\",\"Negativo\",\"Muy Negativo\",\"Positivo\",\"Neutro\",\"Muy Negativo\",\"Muy Positivo\",\"Neutro\",\"Negativo\",\"Positivo\",\"Positivo\",\"Positivo\",\"Muy Positivo\",\"Positivo\",\"Muy Positivo\",\"Muy Positivo\",\"Neutro\",\"Muy Positivo\",\"Neutro\",\"Negativo\",\"Positivo\",\"Negativo\",\"Muy Positivo\",\"Positivo\",\"Muy Positivo\",\"Positivo\",\"Muy Positivo\",\"Positivo\",\"Neutro\",\"Muy Negativo\",\"Neutro\",\"Negativo\",\"Muy Positivo\",\"Negativo\",\"Neutro\",\"Negativo\",\"Positivo\",\"Negativo\",\"Negativo\",\"Negativo\",\"Neutro\",\"Negativo\",\"Muy Negativo\",\"Neutro\",\"Muy Negativo\",\"Muy Negativo\",\"Neutro\",\"Muy Negativo\",\"Neutro\",\"Positivo\",\"Muy Positivo\",\"Muy Positivo\",\"Muy Positivo\",\"Muy Positivo\",\"Negativo\",\"Muy Positivo\",\"Positivo\",\"Muy Positivo\",\"Negativo\",\"Positivo\",\"Neutro\",\"Muy Positivo\",\"Neutro\",\"Neutro\",\"Positivo\",\"Muy Negativo\",\"Negativo\",\"Muy Negativo\",\"Neutro\",\"Muy Positivo\",\"Neutro\",\"Neutro\",\"Neutro\",\"Muy Positivo\",\"Muy Positivo\",\"Negativo\",\"Muy Positivo\",\"Muy Positivo\",\"Positivo\",\"Positivo\",\"Neutro\",\"Neutro\",\"Muy Positivo\",\"Positivo\",\"Neutro\",\"Neutro\",\"Muy Positivo\",\"Muy Positivo\",\"Muy Positivo\",\"Positivo\",\"Positivo\",\"Positivo\",\"Muy Positivo\",\"Neutro\",\"Neutro\",\"Muy Positivo\",\"Neutro\",\"Muy Positivo\",\"Negativo\",\"Negativo\",\"Neutro\",\"Muy Negativo\",\"Positivo\",\"Positivo\",\"Muy Positivo\",\"Negativo\",\"Negativo\",\"Positivo\",\"Negativo\",\"Positivo\",\"Muy Positivo\",\"Muy Positivo\",\"Muy Positivo\",\"Muy Positivo\",\"Positivo\",\"Negativo\",\"Muy Positivo\",\"Positivo\",\"Muy Positivo\",\"Positivo\",\"Negativo\",\"Neutro\",\"Muy Negativo\",\"Neutro\",\"Muy Positivo\",\"Neutro\",\"Negativo\",\"Muy Negativo\",\"Negativo\",\"Muy Positivo\",\"Muy Positivo\",\"Positivo\",\"Muy Positivo\",\"Positivo\",\"Positivo\",\"Negativo\",\"Neutro\",\"Positivo\",\"Negativo\",\"Negativo\",\"Muy Positivo\",\"Neutro\",\"Negativo\",\"Positivo\",\"Muy Positivo\",\"Muy Positivo\",\"Muy Negativo\",\"Negativo\",\"Muy Positivo\",\"Negativo\",\"Positivo\",\"Positivo\",\"Muy Negativo\",\"Positivo\",\"Negativo\",\"Positivo\",\"Muy Positivo\",\"Muy Positivo\",\"Muy Positivo\",\"Negativo\",\"Muy Positivo\",\"Positivo\",\"Negativo\",\"Neutro\",\"Muy Positivo\",\"Neutro\",\"Muy Positivo\",\"Negativo\",\"Muy Positivo\",\"Negativo\",\"Neutro\",\"Positivo\",\"Muy Positivo\",\"Positivo\",\"Muy Positivo\",\"Negativo\",\"Positivo\",\"Muy Positivo\",\"Negativo\",\"Neutro\",\"Positivo\",\"Muy Positivo\",\"Muy Negativo\",\"Negativo\",\"Negativo\",\"Neutro\",\"Muy Positivo\",\"Muy Positivo\",\"Negativo\",\"Neutro\",\"Positivo\",\"Negativo\",\"Muy Negativo\",\"Positivo\",\"Muy Positivo\",\"Positivo\",\"Muy Positivo\",\"Positivo\",\"Muy Positivo\",\"Neutro\",\"Negativo\",\"Neutro\",\"Neutro\",\"Positivo\",\"Positivo\",\"Positivo\",\"Positivo\",\"Muy Positivo\",\"Muy Positivo\",\"Positivo\",\"Neutro\",\"Neutro\",\"Neutro\",\"Positivo\",\"Muy Positivo\",\"Muy Positivo\",\"Muy Positivo\",\"Negativo\",\"Muy Positivo\",\"Muy Negativo\",\"Neutro\",\"Muy Positivo\",\"Positivo\",\"Positivo\",\"Positivo\",\"Positivo\",\"Muy Negativo\",\"Positivo\",\"Positivo\",\"Positivo\",\"Negativo\",\"Muy Positivo\",\"Muy Negativo\",\"Negativo\",\"Neutro\",\"Neutro\",\"Positivo\",\"Muy Negativo\",\"Positivo\",\"Muy Positivo\",\"Positivo\",\"Positivo\",\"Positivo\",\"Muy Positivo\",\"Positivo\",\"Muy Negativo\",\"Negativo\",\"Positivo\",\"Muy Positivo\",\"Neutro\",\"Muy Positivo\",\"Neutro\",\"Muy Positivo\",\"Negativo\",\"Positivo\",\"Muy Positivo\",\"Positivo\",\"Muy Positivo\",\"Positivo\",\"Muy Positivo\",\"Muy Positivo\",\"Positivo\",\"Neutro\",\"Neutro\",\"Neutro\",\"Neutro\",\"Negativo\",\"Positivo\",\"Muy Positivo\",\"Positivo\",\"Muy Positivo\",\"Muy Positivo\",\"Muy Positivo\",\"Muy Positivo\",\"Neutro\",\"Muy Positivo\",\"Negativo\",\"Muy Positivo\",\"Neutro\",\"Muy Negativo\",\"Neutro\",\"Negativo\",\"Positivo\",\"Muy Positivo\",\"Muy Positivo\",\"Negativo\",\"Neutro\",\"Neutro\",\"Positivo\",\"Positivo\",\"Muy Negativo\",\"Muy Negativo\",\"Neutro\",\"Positivo\",\"Neutro\",\"Neutro\",\"Neutro\",\"Positivo\",\"Negativo\",\"Muy Positivo\",\"Neutro\",\"Muy Positivo\",\"Positivo\",\"Neutro\",\"Muy Positivo\",\"Muy Positivo\",\"Positivo\",\"Muy Negativo\",\"Positivo\",\"Muy Negativo\",\"Positivo\",\"Muy Negativo\",\"Muy Positivo\",\"Negativo\",\"Positivo\",\"Neutro\",\"Neutro\",\"Muy Negativo\",\"Muy Negativo\",\"Muy Negativo\",\"Positivo\",\"Negativo\",\"Positivo\",\"Neutro\",\"Positivo\",\"Muy Positivo\",\"Neutro\",\"Muy Negativo\",\"Positivo\",\"Muy Positivo\",\"Positivo\",\"Muy Positivo\",\"Positivo\",\"Negativo\",\"Muy Negativo\",\"Muy Positivo\",\"Positivo\",\"Negativo\",\"Negativo\",\"Positivo\",\"Neutro\",\"Positivo\",\"Muy Negativo\",\"Neutro\",\"Positivo\",\"Muy Negativo\",\"Neutro\",\"Negativo\",\"Positivo\",\"Positivo\",\"Positivo\",\"Positivo\",\"Positivo\",\"Neutro\",\"Neutro\",\"Muy Positivo\",\"Positivo\",\"Muy Positivo\",\"Muy Positivo\",\"Positivo\",\"Muy Positivo\",\"Positivo\",\"Negativo\",\"Positivo\",\"Muy Negativo\",\"Negativo\",\"Neutro\",\"Muy Negativo\",\"Positivo\",\"Negativo\",\"Muy Positivo\",\"Muy Positivo\",\"Neutro\",\"Negativo\",\"Muy Negativo\",\"Muy Negativo\",\"Negativo\",\"Negativo\",\"Muy Negativo\",\"Neutro\",\"Muy Negativo\",\"Muy Positivo\",\"Muy Positivo\",\"Positivo\",\"Muy Negativo\",\"Muy Positivo\",\"Positivo\",\"Negativo\",\"Negativo\",\"Positivo\",\"Positivo\",\"Muy Positivo\",\"Positivo\",\"Neutro\",\"Positivo\",\"Neutro\",\"Negativo\",\"Negativo\",\"Muy Positivo\",\"Muy Positivo\",\"Neutro\",\"Muy Negativo\",\"Positivo\",\"Muy Positivo\",\"Negativo\",\"Muy Positivo\",\"Positivo\",\"Negativo\",\"Negativo\",\"Positivo\",\"Positivo\",\"Positivo\",\"Muy Positivo\",\"Positivo\",\"Muy Negativo\",\"Negativo\",\"Muy Positivo\",\"Positivo\",\"Positivo\",\"Neutro\",\"Neutro\",\"Muy Positivo\",\"Muy Positivo\",\"Negativo\",\"Muy Negativo\",\"Muy Positivo\",\"Muy Negativo\",\"Neutro\",\"Muy Positivo\",\"Neutro\",\"Positivo\",\"Muy Positivo\",\"Muy Positivo\",\"Neutro\",\"Negativo\",\"Negativo\",\"Neutro\",\"Positivo\",\"Neutro\",\"Muy Positivo\",\"Muy Positivo\",\"Positivo\",\"Negativo\",\"Muy Positivo\",\"Muy Positivo\",\"Muy Positivo\",\"Neutro\",\"Muy Positivo\",\"Muy Positivo\",\"Muy Positivo\",\"Negativo\",\"Neutro\",\"Positivo\",\"Positivo\",\"Negativo\",\"Neutro\",\"Neutro\",\"Negativo\",\"Negativo\",\"Neutro\",\"Positivo\",\"Muy Negativo\",\"Positivo\",\"Positivo\",\"Neutro\",\"Muy Positivo\",\"Negativo\",\"Negativo\",\"Neutro\",\"Neutro\",\"Positivo\",\"Neutro\",\"Muy Negativo\",\"Muy Negativo\",\"Neutro\",\"Negativo\",\"Neutro\",\"Neutro\",\"Muy Positivo\",\"Neutro\",\"Muy Negativo\",\"Muy Positivo\",\"Muy Positivo\",\"Positivo\",\"Muy Negativo\",\"Neutro\",\"Muy Positivo\",\"Positivo\",\"Muy Positivo\",\"Neutro\",\"Muy Positivo\",\"Negativo\",\"Neutro\",\"Neutro\",\"Positivo\",\"Positivo\",\"Negativo\",\"Muy Positivo\",\"Neutro\",\"Positivo\",\"Muy Positivo\",\"Neutro\",\"Positivo\",\"Negativo\",\"Positivo\",\"Positivo\",\"Muy Negativo\",\"Muy Positivo\",\"Muy Positivo\",\"Positivo\",\"Positivo\",\"Negativo\",\"Neutro\",\"Muy Positivo\",\"Positivo\",\"Neutro\",\"Muy Positivo\",\"Positivo\",\"Neutro\",\"Neutro\",\"Neutro\",\"Positivo\",\"Neutro\",\"Muy Positivo\",\"Negativo\",\"Positivo\",\"Neutro\",\"Positivo\",\"Negativo\",\"Negativo\",\"Muy Positivo\",\"Muy Negativo\",\"Muy Positivo\",\"Muy Positivo\",\"Positivo\",\"Neutro\",\"Neutro\",\"Positivo\",\"Muy Positivo\",\"Muy Positivo\",\"Negativo\",\"Muy Positivo\",\"Neutro\",\"Neutro\",\"Negativo\",\"Muy Positivo\",\"Positivo\",\"Positivo\",\"Positivo\",\"Neutro\",\"Muy Positivo\",\"Muy Positivo\",\"Muy Positivo\",\"Neutro\",\"Positivo\",\"Muy Positivo\",\"Muy Positivo\",\"Neutro\",\"Neutro\",\"Positivo\",\"Positivo\",\"Positivo\",\"Muy Negativo\",\"Negativo\",\"Positivo\",\"Positivo\",\"Muy Negativo\",\"Muy Positivo\",\"Positivo\",\"Neutro\",\"Muy Negativo\",\"Positivo\",\"Muy Positivo\",\"Muy Positivo\",\"Muy Positivo\",\"Negativo\",\"Muy Positivo\",\"Muy Positivo\",\"Negativo\",\"Negativo\",\"Negativo\",\"Muy Negativo\",\"Muy Positivo\",\"Neutro\",\"Neutro\",\"Neutro\",\"Muy Positivo\",\"Negativo\",\"Neutro\",\"Positivo\",\"Muy Positivo\",\"Neutro\",\"Neutro\",\"Neutro\",\"Neutro\",\"Muy Positivo\",\"Muy Negativo\",\"Neutro\",\"Muy Negativo\",\"Muy Positivo\",\"Negativo\",\"Positivo\",\"Muy Positivo\",\"Negativo\",\"Positivo\",\"Positivo\",\"Positivo\",\"Muy Positivo\",\"Muy Positivo\",\"Muy Positivo\",\"Muy Negativo\",\"Muy Negativo\",\"Neutro\",\"Positivo\",\"Muy Negativo\",\"Neutro\",\"Positivo\",\"Negativo\",\"Muy Positivo\",\"Muy Negativo\",\"Muy Negativo\",\"Muy Positivo\",\"Negativo\",\"Neutro\",\"Muy Negativo\",\"Positivo\",\"Positivo\",\"Neutro\",\"Positivo\",\"Positivo\",\"Muy Positivo\",\"Muy Positivo\",\"Positivo\",\"Muy Negativo\",\"Muy Positivo\",\"Positivo\",\"Positivo\",\"Neutro\",\"Muy Positivo\",\"Positivo\",\"Negativo\",\"Muy Positivo\",\"Muy Positivo\",\"Muy Positivo\",\"Neutro\",\"Muy Positivo\",\"Positivo\",\"Muy Positivo\",\"Negativo\",\"Positivo\",\"Muy Negativo\",\"Muy Negativo\",\"Positivo\",\"Muy Positivo\",\"Neutro\",\"Positivo\",\"Muy Negativo\",\"Muy Negativo\",\"Muy Positivo\",\"Neutro\",\"Negativo\",\"Positivo\",\"Positivo\",\"Muy Positivo\",\"Muy Positivo\",\"Muy Negativo\",\"Negativo\",\"Muy Positivo\",\"Neutro\",\"Muy Positivo\",\"Negativo\",\"Negativo\",\"Negativo\",\"Positivo\",\"Neutro\",\"Muy Positivo\",\"Muy Positivo\",\"Neutro\",\"Positivo\",\"Neutro\",\"Negativo\",\"Negativo\",\"Muy Positivo\",\"Positivo\",\"Neutro\",\"Negativo\",\"Muy Positivo\",\"Neutro\",\"Muy Negativo\",\"Negativo\",\"Muy Positivo\",\"Muy Positivo\",\"Muy Positivo\",\"Muy Negativo\",\"Muy Positivo\",\"Neutro\",\"Positivo\",\"Positivo\",\"Negativo\",\"Negativo\",\"Muy Positivo\",\"Muy Positivo\",\"Neutro\",\"Muy Positivo\",\"Positivo\",\"Muy Positivo\",\"Neutro\",\"Positivo\",\"Muy Positivo\",\"Negativo\",\"Muy Positivo\",\"Negativo\",\"Neutro\",\"Positivo\",\"Negativo\",\"Neutro\",\"Muy Positivo\",\"Positivo\",\"Neutro\",\"Neutro\",\"Neutro\",\"Positivo\",\"Muy Negativo\",\"Negativo\",\"Neutro\",\"Positivo\",\"Positivo\",\"Neutro\",\"Muy Positivo\",\"Muy Positivo\",\"Muy Positivo\",\"Muy Positivo\",\"Muy Negativo\",\"Neutro\",\"Positivo\",\"Positivo\",\"Muy Positivo\",\"Positivo\",\"Neutro\",\"Positivo\",\"Muy Positivo\",\"Neutro\",\"Negativo\",\"Muy Positivo\",\"Positivo\",\"Muy Positivo\",\"Neutro\",\"Muy Positivo\",\"Muy Negativo\",\"Neutro\",\"Positivo\",\"Positivo\",\"Positivo\",\"Positivo\",\"Muy Positivo\",\"Positivo\",\"Muy Positivo\",\"Muy Positivo\",\"Neutro\",\"Muy Positivo\",\"Muy Positivo\",\"Muy Positivo\",\"Muy Negativo\",\"Negativo\",\"Negativo\",\"Muy Positivo\",\"Negativo\",\"Negativo\",\"Negativo\",\"Negativo\",\"Muy Negativo\",\"Muy Negativo\",\"Negativo\",\"Muy Positivo\",\"Muy Negativo\",\"Positivo\",\"Positivo\",\"Negativo\",\"Muy Positivo\",\"Muy Positivo\",\"Muy Positivo\",\"Muy Positivo\",\"Positivo\",\"Negativo\",\"Negativo\",\"Negativo\",\"Muy Negativo\",\"Neutro\",\"Positivo\",\"Muy Positivo\",\"Muy Negativo\",\"Positivo\",\"Positivo\",\"Muy Negativo\",\"Positivo\",\"Muy Positivo\",\"Muy Positivo\",\"Muy Positivo\",\"Neutro\",\"Muy Positivo\",\"Negativo\",\"Negativo\",\"Muy Positivo\",\"Negativo\",\"Positivo\",\"Positivo\",\"Positivo\",\"Negativo\",\"Muy Positivo\",\"Muy Negativo\",\"Muy Positivo\",\"Muy Positivo\",\"Negativo\",\"Neutro\",\"Positivo\",\"Negativo\",\"Positivo\",\"Negativo\",\"Muy Positivo\",\"Muy Positivo\",\"Negativo\",\"Muy Negativo\",\"Muy Positivo\",\"Positivo\",\"Muy Positivo\",\"Positivo\",\"Negativo\",\"Neutro\",\"Neutro\",\"Negativo\",\"Neutro\",\"Muy Negativo\",\"Positivo\",\"Neutro\",\"Positivo\",\"Muy Positivo\",\"Positivo\",\"Negativo\",\"Negativo\",\"Muy Positivo\",\"Positivo\",\"Neutro\",\"Muy Negativo\",\"Negativo\",\"Negativo\",\"Muy Positivo\",\"Negativo\",\"Neutro\",\"Negativo\",\"Muy Negativo\",\"Positivo\",\"Muy Positivo\",\"Positivo\",\"Muy Positivo\",\"Neutro\",\"Muy Negativo\",\"Neutro\",\"Negativo\",\"Muy Positivo\",\"Positivo\",\"Neutro\",\"Positivo\",\"Muy Negativo\",\"Negativo\",\"Neutro\",\"Negativo\",\"Positivo\",\"Positivo\",\"Positivo\",\"Muy Positivo\",\"Muy Positivo\",\"Negativo\",\"Muy Positivo\",\"Muy Negativo\",\"Muy Positivo\",\"Neutro\",\"Muy Positivo\",\"Positivo\",\"Muy Positivo\",\"Positivo\",\"Muy Positivo\",\"Muy Positivo\",\"Muy Positivo\",\"Positivo\",\"Muy Positivo\",\"Muy Positivo\",\"Muy Positivo\",\"Muy Negativo\",\"Neutro\",\"Muy Positivo\",\"Neutro\",\"Muy Positivo\",\"Muy Positivo\",\"Positivo\",\"Muy Positivo\",\"Neutro\",\"Muy Positivo\",\"Positivo\",\"Neutro\",\"Muy Positivo\",\"Positivo\",\"Positivo\",\"Muy Negativo\",\"Positivo\",\"Muy Positivo\",\"Neutro\",\"Muy Positivo\",\"Neutro\",\"Muy Positivo\",\"Muy Positivo\",\"Muy Positivo\",\"Positivo\",\"Muy Positivo\",\"Positivo\",\"Negativo\",\"Muy Positivo\",\"Muy Negativo\",\"Positivo\",\"Negativo\",\"Positivo\",\"Muy Negativo\",\"Positivo\",\"Muy Positivo\",\"Muy Positivo\",\"Negativo\",\"Neutro\",\"Muy Negativo\",\"Muy Positivo\",\"Muy Positivo\",\"Muy Positivo\",\"Positivo\",\"Muy Positivo\",\"Muy Positivo\",\"Muy Positivo\",\"Negativo\",\"Neutro\",\"Negativo\",\"Positivo\",\"Positivo\",\"Muy Positivo\",\"Muy Positivo\",\"Neutro\",\"Muy Positivo\",\"Muy Positivo\",\"Muy Positivo\",\"Positivo\",\"Muy Positivo\",\"Negativo\",\"Muy Positivo\",\"Positivo\",\"Neutro\",\"Positivo\",\"Positivo\",\"Muy Negativo\",\"Positivo\",\"Muy Positivo\",\"Muy Negativo\",\"Neutro\",\"Muy Negativo\",\"Neutro\",\"Negativo\",\"Positivo\",\"Muy Positivo\",\"Negativo\",\"Muy Positivo\",\"Neutro\",\"Muy Positivo\",\"Muy Negativo\",\"Positivo\",\"Muy Positivo\",\"Negativo\",\"Neutro\",\"Muy Positivo\",\"Positivo\",\"Neutro\",\"Muy Positivo\",\"Muy Positivo\",\"Muy Positivo\",\"Positivo\",\"Muy Negativo\",\"Positivo\",\"Negativo\",\"Muy Negativo\",\"Muy Positivo\",\"Muy Negativo\",\"Muy Negativo\",\"Positivo\",\"Neutro\",\"Negativo\",\"Muy Positivo\",\"Neutro\",\"Negativo\",\"Neutro\",\"Negativo\",\"Muy Negativo\",\"Neutro\",\"Muy Positivo\",\"Positivo\",\"Neutro\",\"Muy Positivo\",\"Positivo\",\"Positivo\",\"Muy Positivo\",\"Negativo\",\"Positivo\",\"Muy Negativo\",\"Negativo\",\"Muy Positivo\",\"Muy Positivo\",\"Muy Positivo\",\"Neutro\",\"Muy Positivo\",\"Positivo\",\"Positivo\",\"Muy Positivo\",\"Muy Positivo\",\"Neutro\",\"Positivo\",\"Muy Positivo\",\"Muy Positivo\",\"Negativo\",\"Muy Positivo\",\"Positivo\",\"Positivo\",\"Neutro\",\"Negativo\",\"Positivo\",\"Muy Positivo\",\"Muy Positivo\",\"Muy Negativo\",\"Muy Positivo\",\"Neutro\",\"Positivo\",\"Neutro\",\"Muy Positivo\",\"Negativo\",\"Muy Positivo\",\"Muy Negativo\",\"Muy Positivo\",\"Muy Positivo\",\"Muy Positivo\",\"Negativo\",\"Neutro\",\"Neutro\",\"Negativo\",\"Neutro\",\"Muy Negativo\",\"Muy Positivo\",\"Positivo\",\"Negativo\",\"Muy Positivo\",\"Neutro\",\"Positivo\",\"Negativo\",\"Muy Positivo\",\"Positivo\",\"Positivo\",\"Positivo\",\"Muy Negativo\",\"Positivo\",\"Neutro\",\"Positivo\",\"Muy Negativo\",\"Neutro\",\"Positivo\",\"Positivo\",\"Positivo\",\"Neutro\",\"Positivo\",\"Neutro\",\"Negativo\",\"Neutro\",\"Muy Negativo\",\"Positivo\",\"Muy Positivo\",\"Muy Positivo\",\"Muy Positivo\",\"Neutro\",\"Neutro\",\"Neutro\",\"Positivo\",\"Positivo\",\"Muy Positivo\",\"Negativo\",\"Neutro\",\"Neutro\",\"Positivo\",\"Neutro\",\"Positivo\",\"Neutro\",\"Neutro\",\"Muy Positivo\",\"Positivo\",\"Muy Positivo\",\"Muy Negativo\",\"Negativo\",\"Negativo\",\"Muy Positivo\",\"Positivo\",\"Muy Positivo\",\"Neutro\",\"Positivo\",\"Neutro\",\"Neutro\",\"Muy Positivo\",\"Muy Positivo\",\"Muy Negativo\",\"Muy Positivo\",\"Positivo\",\"Positivo\",\"Positivo\",\"Neutro\",\"Positivo\",\"Negativo\",\"Positivo\",\"Muy Positivo\",\"Neutro\",\"Positivo\",\"Positivo\",\"Muy Positivo\",\"Muy Positivo\",\"Negativo\",\"Muy Positivo\",\"Positivo\",\"Neutro\",\"Muy Positivo\",\"Muy Positivo\",\"Positivo\",\"Positivo\",\"Muy Positivo\",\"Neutro\",\"Muy Positivo\",\"Positivo\",\"Positivo\",\"Negativo\",\"Positivo\",\"Muy Positivo\",\"Muy Positivo\",\"Muy Positivo\",\"Positivo\",\"Muy Positivo\",\"Neutro\",\"Positivo\",\"Muy Positivo\",\"Negativo\",\"Negativo\",\"Positivo\",\"Muy Negativo\",\"Muy Positivo\",\"Positivo\",\"Neutro\",\"Muy Positivo\",\"Negativo\",\"Muy Negativo\",\"Negativo\",\"Negativo\",\"Muy Positivo\",\"Negativo\",\"Negativo\",\"Muy Positivo\",\"Muy Positivo\",\"Muy Negativo\",\"Negativo\",\"Negativo\",\"Neutro\",\"Muy Positivo\",\"Positivo\",\"Neutro\",\"Negativo\",\"Muy Positivo\",\"Muy Negativo\",\"Muy Positivo\",\"Positivo\",\"Neutro\",\"Muy Positivo\",\"Muy Positivo\",\"Positivo\",\"Muy Negativo\",\"Negativo\",\"Muy Negativo\",\"Neutro\",\"Muy Negativo\",\"Negativo\",\"Positivo\",\"Neutro\",\"Muy Negativo\",\"Positivo\",\"Positivo\",\"Muy Negativo\",\"Muy Positivo\",\"Muy Positivo\",\"Muy Positivo\",\"Positivo\",\"Positivo\",\"Positivo\",\"Muy Positivo\",\"Positivo\",\"Muy Positivo\",\"Muy Positivo\",\"Muy Negativo\",\"Muy Positivo\",\"Muy Positivo\",\"Muy Positivo\",\"Muy Positivo\",\"Negativo\",\"Neutro\",\"Neutro\",\"Neutro\",\"Negativo\",\"Negativo\",\"Muy Positivo\",\"Negativo\",\"Muy Positivo\",\"Positivo\",\"Muy Negativo\",\"Positivo\",\"Muy Positivo\",\"Muy Positivo\",\"Muy Positivo\",\"Negativo\",\"Muy Positivo\",\"Neutro\",\"Neutro\",\"Positivo\",\"Muy Positivo\",\"Negativo\",\"Positivo\",\"Neutro\",\"Muy Positivo\",\"Negativo\",\"Muy Negativo\",\"Neutro\",\"Muy Positivo\",\"Muy Negativo\",\"Neutro\",\"Muy Positivo\",\"Neutro\",\"Muy Positivo\",\"Neutro\",\"Positivo\",\"Positivo\",\"Muy Positivo\",\"Positivo\",\"Positivo\",\"Positivo\",\"Muy Positivo\",\"Neutro\",\"Muy Positivo\",\"Muy Positivo\",\"Muy Positivo\",\"Muy Positivo\",\"Muy Negativo\",\"Neutro\",\"Neutro\",\"Positivo\",\"Muy Negativo\",\"Muy Positivo\",\"Neutro\",\"Muy Negativo\",\"Muy Positivo\",\"Muy Positivo\",\"Muy Negativo\",\"Positivo\",\"Muy Negativo\",\"Muy Positivo\",\"Positivo\",\"Neutro\",\"Muy Negativo\",\"Muy Positivo\",\"Negativo\",\"Neutro\",\"Neutro\",\"Muy Positivo\",\"Muy Positivo\",\"Positivo\",\"Muy Positivo\",\"Muy Positivo\",\"Muy Positivo\",\"Positivo\",\"Muy Negativo\",\"Positivo\",\"Positivo\",\"Neutro\",\"Muy Positivo\",\"Neutro\",\"Negativo\",\"Muy Positivo\",\"Neutro\",\"Muy Negativo\",\"Muy Positivo\",\"Negativo\",\"Muy Negativo\",\"Muy Negativo\",\"Neutro\",\"Neutro\",\"Positivo\",\"Muy Positivo\",\"Negativo\",\"Negativo\",\"Positivo\",\"Neutro\",\"Neutro\",\"Positivo\",\"Neutro\",\"Neutro\",\"Positivo\",\"Negativo\",\"Neutro\",\"Muy Positivo\",\"Neutro\",\"Positivo\",\"Muy Positivo\",\"Muy Positivo\",\"Muy Positivo\",\"Muy Positivo\",\"Muy Negativo\",\"Positivo\",\"Neutro\",\"Neutro\",\"Positivo\",\"Neutro\",\"Muy Positivo\",\"Positivo\",\"Negativo\",\"Muy Positivo\",\"Negativo\",\"Muy Positivo\",\"Neutro\",\"Negativo\",\"Muy Positivo\",\"Neutro\",\"Muy Positivo\",\"Muy Positivo\",\"Negativo\",\"Muy Positivo\",\"Muy Negativo\",\"Muy Positivo\",\"Muy Positivo\",\"Positivo\",\"Muy Positivo\",\"Muy Positivo\",\"Neutro\",\"Positivo\",\"Negativo\",\"Muy Positivo\",\"Muy Positivo\",\"Neutro\",\"Muy Positivo\",\"Muy Positivo\",\"Muy Positivo\",\"Muy Positivo\",\"Negativo\",\"Negativo\",\"Muy Negativo\",\"Positivo\",\"Muy Positivo\",\"Muy Positivo\",\"Negativo\",\"Muy Negativo\",\"Positivo\",\"Neutro\",\"Muy Negativo\",\"Positivo\",\"Muy Negativo\",\"Positivo\",\"Neutro\",\"Negativo\",\"Positivo\",\"Negativo\",\"Muy Positivo\",\"Positivo\",\"Muy Positivo\",\"Positivo\",\"Muy Positivo\",\"Muy Positivo\",\"Muy Positivo\",\"Negativo\",\"Negativo\",\"Positivo\",\"Muy Positivo\",\"Negativo\",\"Negativo\",\"Muy Negativo\",\"Neutro\",\"Muy Negativo\",\"Neutro\",\"Neutro\",\"Muy Positivo\",\"Neutro\",\"Negativo\",\"Negativo\",\"Muy Positivo\",\"Neutro\",\"Negativo\",\"Muy Positivo\",\"Positivo\",\"Muy Positivo\",\"Neutro\",\"Neutro\",\"Muy Positivo\",\"Muy Negativo\",\"Muy Negativo\",\"Positivo\",\"Negativo\",\"Neutro\",\"Negativo\",\"Neutro\",\"Neutro\",\"Positivo\",\"Muy Positivo\",\"Muy Positivo\",\"Muy Negativo\",\"Muy Positivo\",\"Neutro\",\"Muy Negativo\",\"Muy Positivo\",\"Neutro\",\"Positivo\",\"Neutro\",\"Negativo\",\"Muy Positivo\",\"Neutro\",\"Neutro\",\"Muy Positivo\",\"Positivo\",\"Negativo\",\"Neutro\",\"Positivo\",\"Positivo\",\"Muy Positivo\",\"Muy Positivo\",\"Negativo\",\"Negativo\",\"Positivo\",\"Muy Positivo\",\"Negativo\",\"Muy Positivo\",\"Negativo\",\"Neutro\",\"Positivo\",\"Negativo\",\"Neutro\",\"Negativo\",\"Neutro\",\"Neutro\",\"Muy Positivo\",\"Muy Negativo\",\"Muy Positivo\",\"Muy Positivo\",\"Neutro\",\"Muy Positivo\",\"Muy Positivo\",\"Positivo\",\"Muy Negativo\",\"Neutro\",\"Positivo\",\"Negativo\",\"Neutro\",\"Positivo\",\"Neutro\",\"Positivo\",\"Positivo\",\"Muy Positivo\",\"Muy Positivo\",\"Neutro\",\"Muy Positivo\",\"Neutro\",\"Positivo\",\"Muy Positivo\",\"Negativo\",\"Negativo\",\"Muy Negativo\",\"Muy Negativo\",\"Negativo\",\"Muy Positivo\",\"Muy Positivo\",\"Muy Positivo\",\"Positivo\",\"Muy Positivo\",\"Neutro\",\"Negativo\",\"Muy Positivo\",\"Positivo\",\"Neutro\",\"Positivo\",\"Neutro\",\"Negativo\",\"Muy Positivo\",\"Muy Positivo\",\"Negativo\",\"Neutro\",\"Muy Positivo\",\"Neutro\",\"Muy Negativo\",\"Negativo\",\"Positivo\",\"Muy Positivo\",\"Neutro\",\"Neutro\",\"Muy Negativo\",\"Neutro\",\"Positivo\",\"Negativo\",\"Neutro\",\"Muy Positivo\",\"Neutro\",\"Muy Positivo\",\"Negativo\",\"Positivo\",\"Muy Positivo\",\"Neutro\",\"Neutro\",\"Muy Positivo\",\"Muy Negativo\",\"Positivo\",\"Positivo\",\"Muy Positivo\",\"Muy Positivo\",\"Muy Positivo\",\"Neutro\",\"Muy Negativo\",\"Muy Positivo\",\"Muy Positivo\",\"Muy Negativo\",\"Negativo\",\"Positivo\",\"Muy Negativo\",\"Positivo\",\"Positivo\",\"Muy Negativo\",\"Muy Positivo\",\"Muy Positivo\",\"Positivo\",\"Neutro\",\"Muy Positivo\",\"Positivo\",\"Muy Positivo\",\"Negativo\",\"Muy Positivo\",\"Muy Positivo\",\"Muy Positivo\",\"Muy Positivo\",\"Muy Positivo\",\"Neutro\",\"Muy Positivo\",\"Positivo\",\"Neutro\",\"Positivo\",\"Muy Positivo\",\"Positivo\",\"Positivo\",\"Positivo\",\"Negativo\",\"Neutro\",\"Positivo\",\"Neutro\",\"Muy Negativo\",\"Negativo\",\"Muy Positivo\",\"Negativo\",\"Positivo\",\"Muy Positivo\",\"Muy Positivo\",\"Negativo\",\"Positivo\",\"Negativo\",\"Muy Positivo\",\"Negativo\",\"Muy Positivo\",\"Muy Positivo\",\"Muy Positivo\",\"Neutro\",\"Positivo\",\"Neutro\",\"Muy Negativo\",\"Muy Positivo\",\"Neutro\",\"Muy Positivo\",\"Positivo\",\"Muy Negativo\",\"Muy Negativo\",\"Neutro\",\"Negativo\",\"Positivo\",\"Neutro\",\"Positivo\",\"Muy Positivo\",\"Neutro\",\"Muy Positivo\",\"Muy Negativo\",\"Positivo\",\"Negativo\",\"Positivo\",\"Positivo\",\"Negativo\",\"Muy Positivo\",\"Muy Positivo\",\"Negativo\",\"Neutro\",\"Neutro\",\"Muy Positivo\",\"Positivo\",\"Negativo\",\"Negativo\",\"Negativo\",\"Muy Positivo\",\"Positivo\",\"Muy Negativo\",\"Neutro\",\"Neutro\",\"Muy Negativo\",\"Muy Negativo\",\"Neutro\",\"Positivo\",\"Negativo\",\"Negativo\",\"Positivo\",\"Neutro\",\"Muy Positivo\",\"Positivo\",\"Muy Positivo\",\"Neutro\",\"Positivo\",\"Muy Positivo\",\"Positivo\",\"Muy Positivo\",\"Neutro\",\"Neutro\",\"Muy Negativo\",\"Positivo\",\"Negativo\",\"Muy Negativo\",\"Muy Positivo\",\"Negativo\",\"Muy Positivo\",\"Positivo\",\"Muy Positivo\",\"Muy Positivo\",\"Muy Positivo\",\"Positivo\",\"Neutro\",\"Positivo\",\"Muy Positivo\",\"Positivo\",\"Negativo\",\"Muy Positivo\",\"Muy Negativo\",\"Muy Positivo\",\"Muy Positivo\",\"Muy Positivo\",\"Positivo\",\"Muy Positivo\",\"Muy Positivo\",\"Positivo\",\"Negativo\",\"Positivo\",\"Negativo\",\"Neutro\",\"Negativo\",\"Negativo\",\"Positivo\",\"Neutro\",\"Muy Positivo\",\"Positivo\",\"Negativo\",\"Positivo\",\"Muy Positivo\",\"Positivo\",\"Muy Positivo\",\"Positivo\",\"Negativo\",\"Negativo\",\"Neutro\",\"Muy Negativo\",\"Neutro\",\"Muy Positivo\",\"Neutro\",\"Muy Positivo\",\"Neutro\",\"Muy Negativo\",\"Muy Positivo\",\"Muy Negativo\",\"Positivo\",\"Muy Positivo\",\"Muy Negativo\",\"Negativo\",\"Positivo\",\"Neutro\",\"Positivo\",\"Positivo\",\"Negativo\",\"Neutro\",\"Neutro\",\"Muy Positivo\",\"Positivo\",\"Muy Positivo\",\"Muy Positivo\",\"Positivo\",\"Muy Negativo\",\"Positivo\",\"Muy Positivo\",\"Positivo\",\"Muy Positivo\",\"Neutro\",\"Muy Negativo\",\"Muy Positivo\",\"Positivo\",\"Muy Positivo\",\"Neutro\",\"Negativo\",\"Muy Positivo\",\"Muy Positivo\",\"Positivo\",\"Positivo\",\"Negativo\",\"Positivo\",\"Neutro\",\"Neutro\",\"Muy Positivo\",\"Muy Positivo\",\"Negativo\",\"Negativo\",\"Muy Positivo\",\"Positivo\",\"Positivo\",\"Negativo\",\"Muy Positivo\",\"Positivo\",\"Muy Positivo\",\"Positivo\",\"Negativo\",\"Muy Positivo\",\"Muy Positivo\",\"Muy Positivo\",\"Negativo\",\"Neutro\",\"Muy Positivo\",\"Neutro\",\"Muy Negativo\",\"Neutro\",\"Positivo\",\"Muy Negativo\",\"Negativo\",\"Neutro\",\"Muy Positivo\",\"Muy Positivo\",\"Muy Positivo\",\"Positivo\",\"Positivo\",\"Muy Positivo\",\"Neutro\",\"Negativo\",\"Muy Positivo\",\"Negativo\",\"Positivo\",\"Neutro\",\"Muy Positivo\",\"Positivo\",\"Positivo\",\"Negativo\",\"Muy Positivo\",\"Negativo\",\"Muy Positivo\",\"Neutro\",\"Negativo\",\"Negativo\",\"Muy Negativo\",\"Positivo\",\"Muy Positivo\",\"Muy Positivo\",\"Muy Positivo\",\"Neutro\",\"Muy Positivo\",\"Muy Positivo\",\"Neutro\",\"Negativo\",\"Neutro\",\"Positivo\",\"Muy Positivo\",\"Neutro\",\"Muy Positivo\",\"Neutro\",\"Positivo\",\"Muy Positivo\",\"Muy Negativo\",\"Positivo\",\"Muy Positivo\",\"Positivo\",\"Muy Positivo\",\"Neutro\",\"Muy Positivo\",\"Neutro\",\"Positivo\",\"Muy Positivo\",\"Positivo\",\"Neutro\",\"Muy Positivo\",\"Muy Positivo\",\"Muy Positivo\",\"Negativo\",\"Muy Positivo\",\"Negativo\",\"Positivo\",\"Neutro\",\"Positivo\",\"Neutro\",\"Neutro\",\"Neutro\",\"Muy Positivo\",\"Positivo\",\"Muy Negativo\",\"Muy Positivo\",\"Negativo\",\"Muy Positivo\",\"Neutro\",\"Positivo\",\"Positivo\",\"Muy Positivo\",\"Positivo\",\"Positivo\",\"Muy Positivo\",\"Muy Positivo\",\"Muy Positivo\",\"Positivo\",\"Neutro\",\"Neutro\",\"Positivo\",\"Neutro\",\"Muy Positivo\",\"Positivo\",\"Muy Positivo\",\"Muy Positivo\",\"Neutro\",\"Muy Negativo\",\"Muy Positivo\",\"Positivo\",\"Muy Positivo\",\"Neutro\",\"Neutro\",\"Muy Negativo\",\"Positivo\",\"Neutro\",\"Negativo\",\"Positivo\",\"Muy Negativo\",\"Positivo\",\"Positivo\",\"Negativo\",\"Positivo\",\"Neutro\",\"Positivo\",\"Neutro\",\"Muy Positivo\",\"Muy Negativo\",\"Positivo\",\"Positivo\",\"Muy Positivo\",\"Muy Positivo\",\"Muy Positivo\",\"Negativo\",\"Muy Positivo\",\"Muy Negativo\",\"Muy Negativo\",\"Neutro\",\"Muy Positivo\",\"Neutro\",\"Positivo\",\"Negativo\",\"Muy Positivo\",\"Muy Negativo\",\"Neutro\",\"Positivo\",\"Positivo\",\"Positivo\",\"Muy Positivo\",\"Neutro\",\"Negativo\",\"Positivo\",\"Positivo\",\"Muy Positivo\",\"Positivo\",\"Negativo\",\"Muy Positivo\",\"Positivo\",\"Negativo\",\"Positivo\",\"Negativo\",\"Muy Negativo\",\"Muy Positivo\",\"Neutro\",\"Muy Negativo\",\"Negativo\",\"Muy Negativo\",\"Negativo\",\"Muy Positivo\",\"Negativo\",\"Muy Negativo\",\"Positivo\",\"Neutro\",\"Muy Negativo\",\"Neutro\",\"Positivo\",\"Positivo\",\"Negativo\",\"Positivo\",\"Neutro\",\"Negativo\",\"Positivo\",\"Positivo\",\"Neutro\",\"Muy Positivo\",\"Positivo\",\"Muy Positivo\",\"Neutro\",\"Muy Positivo\",\"Positivo\",\"Positivo\",\"Neutro\",\"Muy Negativo\",\"Muy Positivo\",\"Muy Positivo\",\"Muy Positivo\",\"Muy Positivo\",\"Muy Positivo\",\"Muy Positivo\",\"Positivo\",\"Muy Negativo\",\"Negativo\",\"Positivo\",\"Neutro\",\"Muy Positivo\",\"Negativo\",\"Muy Positivo\",\"Muy Positivo\",\"Negativo\",\"Negativo\",\"Neutro\",\"Positivo\",\"Positivo\",\"Negativo\",\"Positivo\",\"Negativo\",\"Neutro\",\"Muy Positivo\",\"Positivo\",\"Neutro\",\"Muy Positivo\",\"Muy Positivo\",\"Neutro\",\"Neutro\",\"Muy Negativo\",\"Positivo\",\"Muy Negativo\",\"Positivo\",\"Muy Negativo\",\"Positivo\",\"Muy Negativo\",\"Muy Negativo\",\"Negativo\",\"Muy Positivo\",\"Positivo\",\"Positivo\",\"Neutro\",\"Neutro\",\"Negativo\",\"Muy Positivo\",\"Muy Positivo\",\"Muy Negativo\",\"Muy Positivo\",\"Muy Negativo\",\"Muy Positivo\",\"Muy Negativo\",\"Muy Positivo\",\"Muy Negativo\",\"Muy Positivo\",\"Muy Negativo\",\"Muy Negativo\",\"Negativo\",\"Positivo\",\"Neutro\",\"Positivo\",\"Positivo\",\"Muy Positivo\",\"Neutro\",\"Negativo\",\"Muy Positivo\",\"Neutro\",\"Neutro\",\"Positivo\",\"Neutro\",\"Neutro\",\"Neutro\",\"Muy Negativo\",\"Positivo\",\"Positivo\",\"Muy Positivo\",\"Positivo\",\"Positivo\",\"Positivo\",\"Negativo\",\"Positivo\",\"Muy Positivo\",\"Negativo\",\"Negativo\",\"Positivo\",\"Muy Negativo\",\"Negativo\",\"Positivo\",\"Muy Positivo\",\"Muy Positivo\",\"Muy Positivo\",\"Muy Positivo\",\"Muy Positivo\",\"Muy Positivo\",\"Muy Negativo\",\"Neutro\",\"Negativo\",\"Muy Positivo\",\"Negativo\",\"Negativo\",\"Muy Negativo\",\"Neutro\",\"Positivo\",\"Neutro\",\"Positivo\",\"Muy Positivo\",\"Neutro\",\"Negativo\",\"Positivo\",\"Positivo\",\"Neutro\",\"Negativo\",\"Muy Negativo\",\"Neutro\",\"Neutro\",\"Muy Negativo\",\"Muy Positivo\",\"Neutro\",\"Muy Positivo\",\"Positivo\",\"Neutro\",\"Negativo\",\"Muy Positivo\",\"Positivo\",\"Positivo\",\"Negativo\",\"Muy Negativo\",\"Muy Positivo\",\"Positivo\",\"Negativo\",\"Muy Positivo\",\"Neutro\",\"Muy Positivo\",\"Negativo\",\"Positivo\",\"Muy Positivo\",\"Muy Positivo\",\"Negativo\",\"Muy Positivo\",\"Muy Positivo\",\"Negativo\",\"Muy Positivo\",\"Muy Positivo\",\"Muy Positivo\",\"Muy Positivo\",\"Negativo\",\"Muy Positivo\",\"Muy Positivo\",\"Muy Positivo\",\"Positivo\",\"Negativo\",\"Muy Positivo\",\"Negativo\",\"Negativo\",\"Neutro\",\"Muy Negativo\",\"Muy Positivo\",\"Positivo\",\"Muy Positivo\",\"Muy Positivo\",\"Neutro\",\"Positivo\",\"Neutro\",\"Neutro\",\"Positivo\",\"Neutro\",\"Positivo\",\"Neutro\",\"Positivo\",\"Muy Positivo\",\"Muy Positivo\",\"Muy Positivo\",\"Muy Positivo\",\"Positivo\",\"Negativo\",\"Positivo\",\"Neutro\",\"Muy Negativo\",\"Positivo\",\"Neutro\",\"Muy Positivo\",\"Muy Positivo\",\"Muy Positivo\",\"Muy Positivo\",\"Positivo\",\"Muy Positivo\",\"Neutro\",\"Negativo\",\"Neutro\",\"Neutro\",\"Muy Positivo\",\"Neutro\",\"Neutro\",\"Neutro\",\"Muy Positivo\",\"Positivo\",\"Positivo\",\"Neutro\",\"Positivo\",\"Muy Positivo\",\"Negativo\",\"Negativo\",\"Neutro\",\"Positivo\",\"Neutro\",\"Muy Positivo\",\"Muy Positivo\",\"Positivo\",\"Positivo\",\"Neutro\",\"Neutro\",\"Muy Negativo\",\"Negativo\",\"Negativo\",\"Muy Negativo\",\"Negativo\",\"Muy Negativo\",\"Neutro\",\"Neutro\",\"Neutro\",\"Neutro\",\"Positivo\",\"Positivo\",\"Negativo\",\"Negativo\",\"Muy Negativo\",\"Muy Negativo\",\"Positivo\",\"Positivo\",\"Negativo\",\"Neutro\",\"Muy Negativo\",\"Positivo\",\"Muy Positivo\",\"Neutro\",\"Neutro\",\"Positivo\",\"Neutro\",\"Positivo\",\"Positivo\",\"Muy Positivo\",\"Muy Positivo\",\"Muy Positivo\",\"Negativo\",\"Positivo\",\"Negativo\",\"Neutro\",\"Muy Positivo\",\"Muy Positivo\",\"Positivo\",\"Positivo\",\"Positivo\",\"Muy Negativo\",\"Neutro\",\"Negativo\",\"Neutro\",\"Muy Positivo\",\"Neutro\",\"Negativo\",\"Negativo\",\"Positivo\",\"Muy Positivo\",\"Negativo\",\"Muy Positivo\",\"Muy Negativo\",\"Muy Negativo\",\"Positivo\",\"Neutro\",\"Muy Negativo\",\"Negativo\",\"Positivo\",\"Muy Positivo\",\"Positivo\",\"Muy Negativo\",\"Neutro\",\"Neutro\",\"Negativo\",\"Negativo\",\"Positivo\",\"Neutro\",\"Muy Positivo\",\"Neutro\",\"Muy Negativo\",\"Positivo\",\"Positivo\",\"Negativo\",\"Negativo\",\"Muy Positivo\",\"Negativo\",\"Muy Positivo\",\"Neutro\",\"Positivo\",\"Neutro\",\"Neutro\",\"Muy Negativo\",\"Muy Negativo\",\"Negativo\",\"Muy Positivo\",\"Positivo\",\"Neutro\",\"Muy Positivo\",\"Negativo\",\"Negativo\",\"Negativo\",\"Muy Positivo\",\"Muy Negativo\",\"Negativo\",\"Positivo\",\"Positivo\",\"Muy Positivo\",\"Negativo\",\"Muy Negativo\",\"Negativo\",\"Positivo\",\"Muy Negativo\",\"Negativo\",\"Muy Positivo\",\"Neutro\",\"Muy Positivo\",\"Muy Positivo\",\"Muy Negativo\",\"Muy Positivo\",\"Negativo\",\"Muy Negativo\",\"Muy Negativo\",\"Muy Negativo\",\"Muy Positivo\",\"Positivo\",\"Muy Positivo\",\"Neutro\",\"Negativo\",\"Positivo\",\"Neutro\",\"Negativo\",\"Negativo\",\"Neutro\",\"Positivo\",\"Muy Negativo\",\"Positivo\",\"Muy Positivo\",\"Positivo\",\"Neutro\",\"Muy Positivo\",\"Positivo\",\"Positivo\",\"Neutro\",\"Muy Negativo\",\"Muy Positivo\",\"Neutro\",\"Positivo\",\"Negativo\",\"Positivo\",\"Muy Positivo\",\"Muy Positivo\",\"Negativo\",\"Negativo\",\"Muy Positivo\",\"Muy Positivo\",\"Muy Positivo\",\"Neutro\",\"Muy Positivo\",\"Positivo\",\"Muy Positivo\",\"Muy Positivo\",\"Positivo\",\"Negativo\",\"Muy Positivo\",\"Positivo\",\"Muy Positivo\",\"Neutro\",\"Positivo\",\"Positivo\",\"Positivo\",\"Negativo\",\"Muy Positivo\",\"Negativo\",\"Neutro\",\"Neutro\",\"Muy Negativo\",\"Positivo\",\"Neutro\",\"Negativo\",\"Positivo\",\"Positivo\",\"Negativo\",\"Muy Positivo\",\"Neutro\",\"Positivo\",\"Negativo\",\"Positivo\",\"Muy Positivo\",\"Muy Positivo\",\"Negativo\",\"Muy Positivo\",\"Positivo\",\"Neutro\",\"Muy Positivo\",\"Neutro\",\"Positivo\",\"Neutro\",\"Negativo\",\"Positivo\",\"Negativo\",\"Neutro\",\"Positivo\",\"Muy Positivo\",\"Muy Positivo\",\"Muy Positivo\",\"Muy Positivo\",\"Positivo\",\"Negativo\",\"Muy Negativo\",\"Neutro\",\"Positivo\",\"Negativo\",\"Positivo\",\"Muy Positivo\",\"Muy Negativo\",\"Muy Positivo\",\"Muy Negativo\",\"Neutro\",\"Neutro\",\"Negativo\",\"Muy Positivo\",\"Positivo\",\"Muy Positivo\",\"Muy Negativo\",\"Muy Positivo\",\"Negativo\",\"Muy Positivo\",\"Muy Positivo\",\"Muy Positivo\",\"Muy Positivo\",\"Positivo\",\"Positivo\",\"Muy Positivo\",\"Muy Positivo\",\"Muy Negativo\",\"Neutro\",\"Muy Positivo\",\"Muy Positivo\",\"Muy Positivo\",\"Muy Positivo\",\"Muy Positivo\",\"Positivo\",\"Positivo\",\"Neutro\",\"Positivo\",\"Negativo\",\"Negativo\",\"Muy Positivo\",\"Muy Negativo\",\"Positivo\",\"Positivo\",\"Positivo\",\"Muy Positivo\",\"Neutro\",\"Muy Positivo\",\"Neutro\",\"Muy Positivo\",\"Neutro\",\"Muy Positivo\",\"Muy Positivo\",\"Muy Positivo\",\"Muy Negativo\",\"Positivo\",\"Positivo\",\"Positivo\",\"Positivo\",\"Neutro\",\"Muy Positivo\",\"Negativo\",\"Muy Positivo\",\"Neutro\",\"Muy Positivo\",\"Muy Positivo\",\"Positivo\",\"Muy Positivo\",\"Muy Positivo\",\"Neutro\",\"Positivo\",\"Muy Positivo\",\"Muy Positivo\",\"Positivo\",\"Negativo\",\"Muy Positivo\",\"Muy Positivo\",\"Positivo\",\"Negativo\",\"Negativo\",\"Muy Negativo\",\"Muy Positivo\",\"Muy Negativo\",\"Muy Positivo\",\"Neutro\",\"Positivo\",\"Muy Positivo\",\"Negativo\",\"Negativo\",\"Negativo\",\"Muy Positivo\",\"Positivo\",\"Negativo\",\"Neutro\",\"Muy Positivo\",\"Muy Negativo\",\"Negativo\",\"Muy Positivo\",\"Muy Positivo\",\"Negativo\",\"Neutro\",\"Positivo\",\"Muy Positivo\",\"Negativo\",\"Negativo\",\"Neutro\",\"Positivo\",\"Negativo\",\"Muy Positivo\",\"Positivo\",\"Neutro\",\"Negativo\",\"Muy Positivo\",\"Muy Negativo\",\"Muy Negativo\",\"Negativo\",\"Neutro\",\"Neutro\",\"Muy Positivo\",\"Positivo\",\"Muy Positivo\",\"Neutro\",\"Muy Positivo\",\"Positivo\",\"Muy Positivo\",\"Negativo\",\"Neutro\",\"Negativo\",\"Positivo\",\"Positivo\",\"Negativo\",\"Muy Positivo\",\"Negativo\",\"Muy Positivo\",\"Muy Positivo\",\"Negativo\",\"Neutro\",\"Negativo\",\"Muy Positivo\",\"Positivo\",\"Positivo\",\"Muy Positivo\",\"Neutro\",\"Positivo\",\"Positivo\",\"Negativo\",\"Muy Positivo\",\"Neutro\",\"Neutro\",\"Neutro\",\"Muy Positivo\",\"Positivo\",\"Negativo\",\"Positivo\",\"Positivo\",\"Negativo\",\"Negativo\",\"Muy Positivo\",\"Neutro\",\"Muy Positivo\",\"Neutro\",\"Negativo\",\"Muy Positivo\",\"Muy Positivo\",\"Muy Negativo\",\"Positivo\",\"Negativo\",\"Muy Positivo\",\"Muy Positivo\",\"Muy Positivo\",\"Positivo\",\"Positivo\",\"Muy Positivo\",\"Positivo\",\"Muy Positivo\",\"Muy Positivo\",\"Positivo\",\"Muy Positivo\",\"Neutro\",\"Neutro\",\"Positivo\",\"Neutro\",\"Negativo\",\"Positivo\",\"Positivo\",\"Muy Positivo\",\"Muy Positivo\",\"Positivo\",\"Positivo\",\"Neutro\",\"Muy Positivo\",\"Positivo\",\"Neutro\",\"Muy Positivo\",\"Positivo\",\"Muy Positivo\",\"Positivo\",\"Positivo\",\"Muy Negativo\",\"Positivo\",\"Muy Positivo\",\"Muy Negativo\",\"Neutro\",\"Neutro\",\"Negativo\",\"Positivo\",\"Muy Positivo\",\"Muy Positivo\",\"Muy Positivo\",\"Neutro\",\"Negativo\",\"Muy Positivo\",\"Neutro\",\"Positivo\",\"Muy Positivo\",\"Neutro\",\"Negativo\",\"Negativo\",\"Positivo\",\"Muy Positivo\",\"Positivo\",\"Muy Positivo\",\"Muy Negativo\",\"Neutro\",\"Negativo\",\"Neutro\",\"Neutro\",\"Positivo\",\"Positivo\",\"Positivo\",\"Negativo\",\"Neutro\",\"Positivo\",\"Muy Positivo\",\"Positivo\",\"Positivo\",\"Neutro\",\"Muy Negativo\",\"Positivo\",\"Neutro\",\"Muy Positivo\",\"Positivo\",\"Negativo\",\"Negativo\",\"Neutro\",\"Neutro\",\"Positivo\",\"Neutro\",\"Negativo\",\"Muy Positivo\",\"Neutro\",\"Muy Positivo\",\"Muy Negativo\",\"Muy Positivo\",\"Positivo\",\"Positivo\",\"Neutro\",\"Neutro\",\"Positivo\",\"Muy Negativo\",\"Muy Positivo\",\"Neutro\",\"Positivo\",\"Positivo\",\"Muy Positivo\",\"Positivo\",\"Positivo\",\"Positivo\",\"Positivo\",\"Muy Positivo\",\"Positivo\",\"Muy Positivo\",\"Muy Positivo\",\"Muy Positivo\",\"Neutro\",\"Muy Positivo\",\"Muy Negativo\",\"Negativo\",\"Neutro\",\"Muy Positivo\",\"Negativo\",\"Muy Positivo\",\"Positivo\",\"Positivo\",\"Muy Positivo\",\"Positivo\",\"Muy Positivo\",\"Positivo\",\"Positivo\",\"Positivo\",\"Positivo\",\"Muy Positivo\",\"Muy Positivo\",\"Muy Positivo\",\"Negativo\",\"Neutro\",\"Neutro\",\"Neutro\",\"Negativo\",\"Muy Negativo\",\"Neutro\",\"Neutro\",\"Muy Negativo\",\"Neutro\",\"Muy Positivo\",\"Positivo\",\"Negativo\",\"Negativo\",\"Negativo\",\"Neutro\",\"Positivo\",\"Muy Positivo\",\"Muy Positivo\",\"Negativo\",\"Positivo\",\"Positivo\",\"Negativo\",\"Negativo\",\"Neutro\",\"Positivo\",\"Negativo\",\"Muy Positivo\",\"Muy Positivo\",\"Positivo\",\"Positivo\",\"Muy Positivo\",\"Positivo\",\"Muy Positivo\",\"Negativo\",\"Negativo\",\"Negativo\",\"Positivo\",\"Positivo\",\"Muy Positivo\",\"Muy Negativo\",\"Positivo\",\"Muy Positivo\",\"Muy Positivo\",\"Neutro\",\"Neutro\",\"Negativo\",\"Muy Positivo\",\"Muy Positivo\",\"Negativo\",\"Negativo\",\"Positivo\",\"Positivo\",\"Muy Negativo\",\"Muy Positivo\",\"Neutro\",\"Muy Positivo\",\"Positivo\",\"Negativo\",\"Negativo\",\"Muy Positivo\",\"Muy Positivo\",\"Positivo\",\"Muy Positivo\",\"Muy Positivo\",\"Negativo\",\"Positivo\",\"Muy Positivo\",\"Neutro\",\"Muy Negativo\",\"Positivo\",\"Negativo\",\"Muy Positivo\",\"Muy Positivo\",\"Muy Negativo\",\"Muy Positivo\",\"Positivo\",\"Positivo\",\"Positivo\",\"Neutro\",\"Muy Negativo\",\"Muy Positivo\",\"Muy Positivo\",\"Negativo\",\"Muy Positivo\",\"Muy Positivo\",\"Muy Positivo\",\"Neutro\",\"Neutro\",\"Positivo\",\"Negativo\",\"Negativo\",\"Positivo\",\"Negativo\",\"Positivo\",\"Positivo\",\"Positivo\",\"Muy Positivo\",\"Negativo\",\"Negativo\",\"Muy Positivo\",\"Negativo\",\"Negativo\",\"Neutro\",\"Muy Positivo\",\"Positivo\",\"Muy Positivo\",\"Positivo\",\"Positivo\",\"Negativo\",\"Muy Positivo\",\"Negativo\",\"Neutro\",\"Positivo\",\"Neutro\",\"Neutro\",\"Positivo\",\"Neutro\",\"Positivo\",\"Muy Positivo\",\"Muy Negativo\",\"Muy Positivo\",\"Muy Negativo\",\"Neutro\",\"Positivo\",\"Negativo\",\"Muy Positivo\",\"Neutro\",\"Muy Positivo\",\"Muy Positivo\",\"Positivo\",\"Muy Positivo\",\"Neutro\",\"Neutro\",\"Muy Positivo\",\"Neutro\",\"Positivo\",\"Neutro\",\"Muy Positivo\",\"Positivo\",\"Neutro\",\"Muy Negativo\",\"Positivo\",\"Negativo\",\"Positivo\",\"Muy Positivo\",\"Muy Negativo\",\"Muy Positivo\",\"Negativo\",\"Muy Positivo\",\"Neutro\",\"Muy Positivo\",\"Neutro\",\"Positivo\",\"Positivo\",\"Muy Positivo\",\"Muy Positivo\",\"Negativo\",\"Neutro\",\"Muy Positivo\",\"Muy Positivo\",\"Positivo\",\"Neutro\",\"Positivo\",\"Muy Positivo\",\"Negativo\",\"Positivo\",\"Muy Positivo\",\"Positivo\",\"Neutro\",\"Neutro\",\"Neutro\",\"Muy Positivo\",\"Neutro\",\"Negativo\",\"Neutro\",\"Neutro\",\"Positivo\",\"Muy Positivo\",\"Muy Positivo\",\"Positivo\",\"Muy Positivo\",\"Negativo\",\"Neutro\",\"Positivo\",\"Muy Positivo\",\"Positivo\",\"Neutro\",\"Positivo\",\"Positivo\",\"Negativo\",\"Negativo\",\"Muy Positivo\",\"Neutro\",\"Positivo\",\"Neutro\",\"Muy Positivo\",\"Neutro\",\"Muy Positivo\",\"Muy Positivo\",\"Muy Positivo\",\"Neutro\",\"Positivo\",\"Neutro\",\"Muy Positivo\",\"Muy Positivo\",\"Neutro\",\"Neutro\",\"Neutro\",\"Neutro\",\"Muy Negativo\",\"Muy Positivo\",\"Neutro\",\"Muy Positivo\",\"Muy Positivo\",\"Positivo\",\"Muy Positivo\",\"Neutro\",\"Positivo\",\"Muy Negativo\",\"Positivo\",\"Positivo\",\"Muy Negativo\",\"Neutro\",\"Muy Positivo\",\"Neutro\",\"Neutro\",\"Neutro\",\"Neutro\",\"Muy Positivo\",\"Positivo\",\"Muy Positivo\",\"Neutro\",\"Positivo\",\"Muy Positivo\",\"Neutro\",\"Muy Negativo\",\"Negativo\",\"Muy Negativo\",\"Neutro\",\"Muy Positivo\",\"Positivo\",\"Muy Negativo\",\"Neutro\",\"Negativo\",\"Negativo\",\"Positivo\",\"Neutro\",\"Negativo\",\"Neutro\",\"Positivo\",\"Muy Negativo\",\"Negativo\",\"Positivo\",\"Muy Positivo\",\"Muy Positivo\",\"Positivo\",\"Muy Positivo\",\"Muy Negativo\",\"Muy Positivo\",\"Neutro\",\"Neutro\",\"Neutro\",\"Neutro\",\"Positivo\",\"Muy Positivo\",\"Positivo\",\"Muy Positivo\",\"Neutro\",\"Neutro\",\"Positivo\",\"Neutro\",\"Negativo\",\"Positivo\",\"Negativo\",\"Neutro\",\"Positivo\",\"Positivo\",\"Muy Positivo\",\"Muy Negativo\",\"Muy Positivo\",\"Positivo\",\"Negativo\",\"Negativo\",\"Muy Positivo\",\"Muy Negativo\",\"Muy Positivo\",\"Positivo\",\"Neutro\",\"Neutro\",\"Neutro\",\"Positivo\",\"Positivo\",\"Negativo\",\"Muy Positivo\",\"Muy Positivo\",\"Muy Positivo\",\"Positivo\",\"Positivo\",\"Muy Positivo\",\"Muy Positivo\",\"Negativo\",\"Positivo\",\"Muy Positivo\",\"Positivo\",\"Negativo\",\"Muy Positivo\",\"Positivo\",\"Muy Positivo\",\"Positivo\",\"Muy Negativo\",\"Negativo\",\"Muy Negativo\",\"Muy Positivo\",\"Positivo\",\"Positivo\",\"Positivo\",\"Positivo\",\"Muy Positivo\",\"Negativo\",\"Positivo\",\"Neutro\",\"Muy Positivo\",\"Positivo\",\"Neutro\",\"Positivo\",\"Negativo\",\"Positivo\",\"Muy Negativo\",\"Negativo\",\"Positivo\",\"Neutro\",\"Muy Negativo\",\"Negativo\",\"Muy Negativo\",\"Muy Positivo\",\"Muy Positivo\",\"Neutro\",\"Negativo\",\"Negativo\",\"Negativo\",\"Neutro\",\"Neutro\",\"Muy Positivo\",\"Negativo\",\"Muy Positivo\",\"Muy Negativo\",\"Negativo\",\"Positivo\",\"Muy Positivo\",\"Muy Positivo\",\"Neutro\",\"Positivo\",\"Muy Positivo\",\"Muy Positivo\",\"Negativo\",\"Muy Positivo\",\"Neutro\",\"Muy Positivo\",\"Negativo\",\"Muy Positivo\",\"Negativo\",\"Positivo\",\"Neutro\",\"Muy Negativo\",\"Negativo\",\"Positivo\",\"Negativo\",\"Negativo\",\"Muy Negativo\",\"Muy Positivo\",\"Negativo\",\"Positivo\",\"Muy Positivo\",\"Muy Positivo\",\"Muy Positivo\",\"Neutro\",\"Muy Positivo\",\"Negativo\",\"Neutro\",\"Negativo\",\"Negativo\",\"Neutro\",\"Muy Positivo\",\"Muy Positivo\",\"Muy Positivo\",\"Negativo\",\"Muy Positivo\",\"Muy Positivo\",\"Muy Positivo\",\"Muy Positivo\",\"Positivo\",\"Positivo\",\"Neutro\",\"Muy Positivo\",\"Positivo\",\"Muy Positivo\",\"Neutro\",\"Muy Positivo\",\"Muy Positivo\",\"Neutro\",\"Neutro\",\"Positivo\",\"Neutro\",\"Positivo\",\"Muy Negativo\",\"Muy Positivo\",\"Muy Negativo\",\"Muy Positivo\",\"Muy Positivo\",\"Muy Negativo\",\"Muy Positivo\",\"Neutro\",\"Muy Positivo\",\"Positivo\",\"Neutro\",\"Positivo\",\"Positivo\",\"Positivo\",\"Negativo\",\"Negativo\",\"Muy Negativo\",\"Muy Positivo\",\"Positivo\",\"Muy Negativo\",\"Negativo\",\"Neutro\",\"Muy Positivo\",\"Negativo\",\"Positivo\",\"Muy Positivo\",\"Negativo\",\"Positivo\",\"Muy Negativo\",\"Negativo\",\"Positivo\",\"Muy Positivo\",\"Negativo\",\"Neutro\",\"Positivo\",\"Positivo\",\"Negativo\",\"Muy Positivo\",\"Negativo\",\"Negativo\",\"Muy Positivo\",\"Muy Positivo\",\"Muy Positivo\",\"Positivo\",\"Positivo\",\"Neutro\",\"Neutro\",\"Positivo\",\"Muy Negativo\",\"Muy Positivo\",\"Positivo\",\"Muy Positivo\",\"Muy Negativo\",\"Muy Negativo\",\"Positivo\",\"Positivo\",\"Muy Positivo\",\"Muy Negativo\",\"Positivo\",\"Muy Positivo\",\"Neutro\",\"Neutro\",\"Muy Positivo\",\"Muy Negativo\",\"Positivo\",\"Muy Positivo\",\"Muy Negativo\",\"Muy Positivo\",\"Neutro\",\"Neutro\",\"Positivo\",\"Positivo\",\"Negativo\",\"Negativo\",\"Negativo\",\"Positivo\",\"Muy Positivo\",\"Positivo\",\"Muy Positivo\",\"Negativo\",\"Positivo\",\"Negativo\",\"Neutro\",\"Negativo\",\"Muy Positivo\",\"Positivo\",\"Negativo\",\"Muy Positivo\",\"Neutro\",\"Muy Negativo\",\"Neutro\",\"Positivo\",\"Positivo\",\"Positivo\",\"Muy Positivo\",\"Neutro\",\"Negativo\",\"Negativo\",\"Neutro\",\"Negativo\",\"Muy Positivo\",\"Negativo\",\"Muy Negativo\",\"Neutro\",\"Negativo\",\"Positivo\",\"Positivo\",\"Positivo\",\"Neutro\",\"Neutro\",\"Neutro\",\"Positivo\",\"Muy Positivo\",\"Positivo\",\"Neutro\",\"Neutro\",\"Positivo\",\"Muy Negativo\",\"Negativo\",\"Positivo\",\"Muy Positivo\",\"Muy Positivo\",\"Positivo\",\"Muy Positivo\",\"Neutro\",\"Muy Negativo\",\"Muy Positivo\",\"Positivo\",\"Positivo\",\"Negativo\",\"Positivo\",\"Muy Negativo\",\"Muy Positivo\",\"Neutro\",\"Positivo\",\"Negativo\",\"Positivo\",\"Muy Positivo\",\"Muy Positivo\",\"Positivo\",\"Muy Positivo\",\"Muy Positivo\",\"Muy Positivo\",\"Muy Positivo\",\"Negativo\",\"Muy Negativo\",\"Neutro\",\"Muy Positivo\",\"Muy Positivo\",\"Muy Positivo\",\"Negativo\",\"Positivo\",\"Neutro\",\"Positivo\",\"Neutro\",\"Muy Positivo\",\"Muy Negativo\",\"Positivo\",\"Neutro\",\"Neutro\",\"Negativo\",\"Muy Positivo\",\"Positivo\",\"Muy Positivo\",\"Muy Positivo\",\"Muy Negativo\",\"Muy Negativo\",\"Muy Positivo\",\"Muy Negativo\",\"Negativo\",\"Negativo\",\"Neutro\",\"Neutro\",\"Negativo\",\"Muy Positivo\",\"Negativo\",\"Muy Negativo\",\"Muy Positivo\",\"Positivo\",\"Positivo\",\"Negativo\",\"Muy Positivo\",\"Positivo\",\"Positivo\",\"Negativo\",\"Muy Positivo\",\"Positivo\",\"Negativo\",\"Negativo\",\"Muy Positivo\",\"Muy Positivo\",\"Muy Negativo\",\"Muy Positivo\",\"Positivo\",\"Negativo\",\"Neutro\",\"Muy Positivo\",\"Muy Positivo\",\"Muy Positivo\",\"Neutro\",\"Negativo\",\"Positivo\",\"Muy Positivo\",\"Neutro\",\"Positivo\",\"Neutro\",\"Muy Positivo\",\"Positivo\",\"Negativo\",\"Negativo\",\"Muy Positivo\",\"Muy Positivo\",\"Muy Positivo\",\"Negativo\",\"Muy Positivo\",\"Neutro\",\"Neutro\",\"Muy Positivo\",\"Neutro\",\"Muy Negativo\",\"Muy Positivo\",\"Muy Negativo\",\"Positivo\",\"Muy Positivo\",\"Positivo\",\"Muy Positivo\",\"Muy Positivo\",\"Muy Negativo\",\"Muy Positivo\",\"Neutro\",\"Muy Positivo\",\"Positivo\",\"Neutro\",\"Muy Positivo\",\"Positivo\",\"Muy Positivo\",\"Muy Positivo\",\"Positivo\",\"Negativo\",\"Negativo\",\"Muy Negativo\",\"Muy Positivo\",\"Negativo\",\"Neutro\",\"Neutro\",\"Positivo\",\"Negativo\",\"Positivo\",\"Muy Positivo\",\"Muy Negativo\",\"Negativo\",\"Muy Positivo\",\"Muy Positivo\",\"Muy Negativo\",\"Positivo\",\"Negativo\",\"Muy Positivo\",\"Positivo\",\"Positivo\",\"Negativo\",\"Muy Negativo\",\"Neutro\",\"Muy Positivo\",\"Muy Positivo\",\"Neutro\",\"Muy Positivo\",\"Neutro\",\"Negativo\",\"Muy Positivo\",\"Neutro\",\"Negativo\",\"Muy Positivo\",\"Muy Positivo\",\"Positivo\",\"Muy Positivo\",\"Neutro\",\"Negativo\",\"Muy Positivo\",\"Neutro\",\"Positivo\",\"Neutro\",\"Negativo\",\"Muy Positivo\",\"Muy Positivo\",\"Muy Positivo\",\"Neutro\",\"Positivo\",\"Muy Positivo\",\"Muy Positivo\",\"Positivo\",\"Positivo\",\"Positivo\",\"Positivo\",\"Muy Positivo\",\"Negativo\",\"Muy Positivo\",\"Positivo\",\"Muy Negativo\",\"Neutro\",\"Muy Positivo\",\"Neutro\",\"Neutro\",\"Neutro\",\"Negativo\",\"Muy Negativo\",\"Positivo\",\"Negativo\",\"Positivo\",\"Muy Negativo\",\"Muy Positivo\",\"Neutro\",\"Muy Positivo\",\"Muy Positivo\",\"Negativo\",\"Muy Positivo\",\"Positivo\",\"Neutro\",\"Muy Positivo\",\"Muy Positivo\",\"Negativo\",\"Muy Positivo\",\"Muy Positivo\",\"Muy Positivo\",\"Neutro\",\"Neutro\",\"Muy Positivo\",\"Neutro\",\"Muy Negativo\",\"Positivo\",\"Muy Positivo\",\"Muy Negativo\",\"Positivo\",\"Muy Positivo\",\"Neutro\",\"Neutro\",\"Neutro\",\"Muy Positivo\",\"Neutro\",\"Muy Negativo\",\"Neutro\",\"Positivo\",\"Muy Positivo\",\"Muy Positivo\",\"Negativo\",\"Positivo\",\"Positivo\",\"Muy Positivo\",\"Neutro\",\"Muy Positivo\",\"Negativo\",\"Muy Positivo\",\"Neutro\",\"Neutro\",\"Positivo\",\"Muy Positivo\",\"Muy Positivo\",\"Neutro\",\"Positivo\",\"Positivo\",\"Negativo\",\"Negativo\",\"Neutro\",\"Negativo\",\"Positivo\",\"Muy Positivo\",\"Muy Positivo\",\"Positivo\",\"Negativo\",\"Muy Negativo\",\"Negativo\",\"Muy Negativo\",\"Muy Positivo\",\"Muy Positivo\",\"Positivo\",\"Neutro\",\"Muy Negativo\",\"Positivo\",\"Muy Negativo\",\"Negativo\",\"Muy Positivo\",\"Muy Positivo\",\"Negativo\",\"Muy Positivo\",\"Muy Positivo\",\"Muy Positivo\",\"Positivo\",\"Muy Negativo\",\"Neutro\",\"Muy Positivo\",\"Positivo\",\"Muy Positivo\",\"Positivo\",\"Muy Positivo\",\"Neutro\",\"Positivo\",\"Neutro\",\"Positivo\",\"Muy Negativo\",\"Muy Negativo\",\"Neutro\",\"Muy Positivo\",\"Positivo\",\"Positivo\",\"Muy Negativo\",\"Neutro\",\"Positivo\",\"Positivo\",\"Muy Positivo\",\"Muy Positivo\",\"Negativo\",\"Neutro\",\"Muy Positivo\",\"Neutro\",\"Neutro\",\"Positivo\",\"Positivo\",\"Positivo\",\"Muy Positivo\",\"Muy Negativo\",\"Muy Negativo\",\"Muy Positivo\",\"Muy Negativo\",\"Muy Positivo\",\"Muy Positivo\",\"Muy Positivo\",\"Neutro\",\"Positivo\",\"Positivo\",\"Muy Positivo\",\"Positivo\",\"Negativo\",\"Muy Positivo\",\"Muy Positivo\",\"Neutro\",\"Negativo\",\"Muy Positivo\",\"Muy Positivo\",\"Neutro\",\"Muy Positivo\",\"Muy Positivo\",\"Muy Positivo\",\"Muy Positivo\",\"Positivo\",\"Muy Positivo\",\"Muy Negativo\",\"Positivo\",\"Muy Positivo\",\"Muy Positivo\",\"Muy Positivo\",\"Muy Positivo\",\"Muy Positivo\",\"Muy Positivo\",\"Positivo\",\"Neutro\",\"Positivo\",\"Muy Positivo\",\"Muy Positivo\",\"Positivo\",\"Negativo\",\"Muy Positivo\",\"Muy Negativo\",\"Muy Positivo\",\"Positivo\",\"Neutro\",\"Neutro\",\"Muy Positivo\",\"Muy Positivo\",\"Muy Positivo\",\"Muy Positivo\",\"Muy Positivo\",\"Muy Positivo\",\"Muy Positivo\",\"Neutro\",\"Positivo\",\"Positivo\",\"Neutro\",\"Positivo\",\"Positivo\",\"Neutro\",\"Positivo\",\"Muy Positivo\",\"Neutro\",\"Negativo\",\"Negativo\",\"Negativo\",\"Muy Positivo\",\"Muy Positivo\",\"Negativo\",\"Muy Positivo\",\"Neutro\",\"Muy Negativo\",\"Muy Positivo\",\"Positivo\",\"Muy Positivo\",\"Muy Positivo\",\"Positivo\",\"Neutro\",\"Neutro\",\"Muy Positivo\",\"Positivo\",\"Positivo\",\"Neutro\",\"Negativo\",\"Muy Negativo\",\"Negativo\",\"Neutro\",\"Muy Negativo\",\"Negativo\",\"Positivo\",\"Muy Positivo\",\"Neutro\",\"Neutro\",\"Neutro\",\"Positivo\",\"Muy Negativo\",\"Positivo\",\"Neutro\",\"Muy Positivo\",\"Negativo\",\"Positivo\",\"Muy Positivo\",\"Neutro\",\"Neutro\",\"Muy Negativo\",\"Neutro\",\"Positivo\",\"Positivo\",\"Muy Negativo\",\"Positivo\",\"Positivo\",\"Neutro\",\"Neutro\",\"Neutro\",\"Neutro\",\"Muy Positivo\",\"Neutro\",\"Muy Negativo\",\"Neutro\",\"Positivo\",\"Positivo\",\"Positivo\",\"Positivo\",\"Negativo\",\"Neutro\",\"Neutro\",\"Muy Positivo\",\"Muy Positivo\",\"Neutro\",\"Muy Positivo\",\"Negativo\",\"Positivo\",\"Muy Negativo\",\"Positivo\",\"Muy Positivo\",\"Neutro\",\"Muy Negativo\",\"Neutro\",\"Positivo\",\"Positivo\",\"Muy Positivo\",\"Positivo\",\"Positivo\",\"Positivo\",\"Muy Negativo\",\"Neutro\",\"Muy Positivo\",\"Neutro\",\"Positivo\",\"Positivo\",\"Negativo\",\"Neutro\",\"Muy Positivo\",\"Muy Positivo\",\"Muy Positivo\",\"Muy Positivo\",\"Neutro\",\"Muy Positivo\",\"Positivo\",\"Muy Negativo\",\"Positivo\",\"Positivo\",\"Muy Positivo\",\"Positivo\",\"Positivo\",\"Negativo\",\"Neutro\",\"Negativo\",\"Negativo\",\"Positivo\",\"Positivo\",\"Muy Positivo\",\"Muy Negativo\",\"Positivo\",\"Muy Positivo\",\"Muy Positivo\",\"Positivo\",\"Negativo\",\"Positivo\",\"Muy Positivo\",\"Negativo\",\"Muy Positivo\",\"Muy Positivo\",\"Muy Positivo\",\"Muy Negativo\",\"Muy Positivo\",\"Positivo\",\"Positivo\",\"Muy Negativo\",\"Positivo\",\"Muy Positivo\",\"Neutro\",\"Muy Positivo\",\"Muy Positivo\",\"Muy Positivo\",\"Positivo\",\"Negativo\",\"Positivo\",\"Positivo\",\"Neutro\",\"Muy Positivo\",\"Muy Positivo\",\"Negativo\",\"Positivo\",\"Positivo\",\"Muy Positivo\",\"Muy Negativo\",\"Muy Positivo\",\"Muy Negativo\",\"Muy Positivo\",\"Neutro\",\"Negativo\",\"Muy Negativo\",\"Negativo\",\"Neutro\",\"Positivo\",\"Positivo\",\"Neutro\",\"Neutro\",\"Positivo\",\"Muy Positivo\",\"Muy Positivo\",\"Positivo\",\"Negativo\",\"Neutro\",\"Positivo\",\"Neutro\",\"Positivo\",\"Neutro\",\"Negativo\",\"Positivo\",\"Negativo\",\"Muy Negativo\",\"Muy Positivo\",\"Muy Negativo\",\"Neutro\",\"Muy Positivo\",\"Negativo\",\"Positivo\",\"Positivo\",\"Neutro\",\"Negativo\",\"Negativo\",\"Muy Positivo\",\"Muy Negativo\",\"Muy Negativo\",\"Positivo\",\"Muy Positivo\",\"Neutro\",\"Negativo\",\"Positivo\",\"Negativo\",\"Muy Positivo\",\"Neutro\",\"Muy Positivo\",\"Neutro\",\"Negativo\",\"Neutro\",\"Positivo\",\"Neutro\",\"Neutro\",\"Neutro\",\"Muy Positivo\",\"Positivo\",\"Positivo\",\"Neutro\",\"Muy Negativo\",\"Negativo\",\"Positivo\",\"Muy Negativo\",\"Positivo\",\"Neutro\",\"Negativo\",\"Muy Positivo\",\"Muy Positivo\",\"Neutro\",\"Neutro\",\"Muy Positivo\",\"Negativo\",\"Neutro\",\"Positivo\",\"Neutro\",\"Negativo\",\"Positivo\",\"Muy Negativo\",\"Neutro\",\"Positivo\",\"Positivo\",\"Negativo\",\"Muy Positivo\",\"Neutro\",\"Muy Positivo\",\"Muy Positivo\",\"Muy Positivo\",\"Neutro\",\"Negativo\",\"Muy Positivo\",\"Neutro\",\"Positivo\",\"Neutro\",\"Muy Negativo\",\"Positivo\",\"Muy Negativo\",\"Muy Positivo\",\"Muy Positivo\",\"Positivo\",\"Neutro\",\"Neutro\",\"Muy Positivo\",\"Muy Positivo\",\"Muy Positivo\",\"Positivo\",\"Positivo\",\"Muy Positivo\",\"Negativo\",\"Positivo\",\"Neutro\",\"Positivo\",\"Muy Positivo\",\"Positivo\",\"Muy Negativo\",\"Muy Negativo\",\"Neutro\",\"Muy Positivo\",\"Neutro\",\"Positivo\",\"Positivo\",\"Positivo\",\"Muy Positivo\",\"Positivo\",\"Negativo\",\"Muy Positivo\",\"Muy Positivo\",\"Muy Positivo\",\"Positivo\",\"Muy Negativo\",\"Neutro\",\"Negativo\",\"Muy Positivo\",\"Muy Positivo\",\"Muy Negativo\",\"Positivo\",\"Muy Positivo\",\"Negativo\",\"Positivo\",\"Muy Positivo\",\"Muy Negativo\",\"Muy Positivo\",\"Muy Negativo\",\"Neutro\",\"Muy Positivo\",\"Positivo\",\"Neutro\",\"Muy Positivo\",\"Negativo\",\"Neutro\",\"Neutro\",\"Neutro\",\"Muy Negativo\",\"Positivo\",\"Muy Positivo\",\"Muy Positivo\",\"Negativo\",\"Muy Negativo\",\"Neutro\",\"Positivo\",\"Positivo\",\"Muy Positivo\",\"Neutro\",\"Neutro\",\"Muy Positivo\",\"Muy Positivo\",\"Muy Positivo\",\"Muy Positivo\",\"Muy Positivo\",\"Neutro\",\"Positivo\",\"Negativo\",\"Muy Positivo\",\"Positivo\",\"Negativo\",\"Negativo\",\"Positivo\",\"Muy Positivo\",\"Muy Positivo\",\"Negativo\",\"Negativo\",\"Neutro\",\"Neutro\",\"Muy Positivo\",\"Muy Positivo\",\"Muy Positivo\",\"Positivo\",\"Muy Positivo\",\"Muy Positivo\",\"Muy Positivo\",\"Muy Positivo\",\"Neutro\",\"Muy Negativo\",\"Positivo\",\"Muy Positivo\",\"Muy Positivo\",\"Positivo\",\"Positivo\",\"Muy Positivo\",\"Muy Positivo\",\"Muy Positivo\",\"Muy Positivo\",\"Muy Positivo\",\"Muy Negativo\",\"Negativo\",\"Muy Positivo\",\"Negativo\",\"Muy Positivo\",\"Muy Positivo\",\"Neutro\",\"Muy Positivo\",\"Positivo\",\"Muy Positivo\",\"Muy Negativo\",\"Muy Negativo\",\"Positivo\",\"Positivo\",\"Negativo\",\"Positivo\",\"Positivo\",\"Muy Negativo\",\"Muy Negativo\",\"Positivo\",\"Muy Positivo\",\"Negativo\",\"Muy Negativo\",\"Neutro\",\"Muy Positivo\",\"Positivo\",\"Positivo\",\"Neutro\",\"Positivo\",\"Muy Negativo\",\"Neutro\",\"Muy Positivo\",\"Muy Positivo\",\"Muy Positivo\",\"Muy Positivo\",\"Neutro\",\"Neutro\",\"Negativo\",\"Neutro\",\"Muy Positivo\",\"Muy Positivo\",\"Muy Positivo\",\"Positivo\",\"Positivo\",\"Positivo\",\"Negativo\",\"Negativo\",\"Muy Positivo\",\"Muy Positivo\",\"Muy Positivo\",\"Neutro\",\"Muy Positivo\",\"Negativo\",\"Muy Positivo\",\"Positivo\",\"Neutro\",\"Positivo\",\"Negativo\",\"Positivo\",\"Muy Positivo\",\"Positivo\",\"Muy Positivo\",\"Muy Positivo\",\"Neutro\",\"Positivo\",\"Muy Negativo\",\"Muy Positivo\",\"Neutro\",\"Negativo\",\"Negativo\",\"Positivo\",\"Negativo\",\"Negativo\",\"Muy Positivo\",\"Neutro\",\"Positivo\",\"Positivo\",\"Muy Positivo\",\"Muy Positivo\",\"Muy Positivo\",\"Negativo\",\"Positivo\",\"Muy Positivo\",\"Muy Positivo\",\"Neutro\",\"Positivo\",\"Negativo\",\"Muy Positivo\",\"Muy Positivo\",\"Positivo\",\"Negativo\",\"Muy Positivo\",\"Muy Positivo\",\"Muy Negativo\",\"Positivo\",\"Negativo\",\"Muy Positivo\",\"Muy Positivo\",\"Muy Negativo\",\"Muy Negativo\",\"Muy Positivo\",\"Muy Positivo\",\"Muy Positivo\",\"Positivo\",\"Muy Positivo\",\"Muy Negativo\",\"Muy Positivo\",\"Positivo\",\"Positivo\",\"Positivo\",\"Negativo\",\"Muy Positivo\",\"Muy Negativo\",\"Muy Negativo\",\"Muy Negativo\",\"Positivo\",\"Positivo\",\"Neutro\",\"Muy Positivo\",\"Neutro\",\"Muy Positivo\",\"Positivo\",\"Positivo\",\"Muy Negativo\",\"Positivo\",\"Muy Positivo\",\"Neutro\",\"Neutro\",\"Muy Negativo\",\"Muy Positivo\",\"Positivo\",\"Muy Positivo\",\"Muy Positivo\",\"Neutro\",\"Muy Positivo\",\"Negativo\",\"Muy Positivo\",\"Positivo\",\"Muy Positivo\",\"Positivo\",\"Muy Positivo\",\"Muy Positivo\",\"Muy Positivo\",\"Muy Positivo\",\"Positivo\",\"Positivo\",\"Negativo\",\"Positivo\",\"Neutro\",\"Muy Positivo\",\"Neutro\",\"Muy Positivo\",\"Negativo\",\"Muy Positivo\",\"Muy Positivo\",\"Negativo\",\"Positivo\",\"Muy Positivo\",\"Muy Positivo\",\"Neutro\",\"Muy Negativo\",\"Muy Positivo\",\"Neutro\",\"Positivo\",\"Muy Positivo\",\"Positivo\",\"Neutro\",\"Negativo\",\"Muy Positivo\",\"Muy Positivo\",\"Positivo\",\"Muy Positivo\",\"Neutro\",\"Muy Negativo\",\"Muy Negativo\",\"Negativo\",\"Muy Positivo\",\"Neutro\",\"Positivo\",\"Negativo\",\"Muy Negativo\",\"Muy Negativo\",\"Neutro\",\"Positivo\",\"Muy Positivo\",\"Neutro\",\"Positivo\",\"Negativo\",\"Muy Positivo\",\"Negativo\",\"Neutro\",\"Neutro\",\"Negativo\",\"Muy Positivo\",\"Muy Negativo\",\"Muy Positivo\",\"Positivo\",\"Muy Positivo\",\"Muy Positivo\",\"Positivo\",\"Negativo\",\"Positivo\",\"Negativo\",\"Negativo\",\"Muy Positivo\",\"Neutro\",\"Negativo\",\"Positivo\",\"Positivo\",\"Muy Positivo\",\"Muy Positivo\",\"Neutro\",\"Negativo\",\"Muy Negativo\",\"Muy Positivo\",\"Negativo\",\"Muy Positivo\",\"Positivo\",\"Muy Positivo\",\"Muy Positivo\",\"Muy Positivo\",\"Muy Positivo\",\"Neutro\",\"Muy Negativo\",\"Muy Positivo\",\"Positivo\",\"Neutro\",\"Muy Positivo\",\"Negativo\",\"Neutro\",\"Positivo\",\"Neutro\",\"Muy Positivo\",\"Muy Positivo\",\"Neutro\",\"Positivo\",\"Neutro\",\"Neutro\",\"Muy Positivo\",\"Negativo\",\"Muy Negativo\",\"Negativo\",\"Muy Negativo\",\"Positivo\",\"Positivo\",\"Positivo\",\"Muy Negativo\",\"Muy Negativo\",\"Positivo\",\"Negativo\",\"Positivo\",\"Positivo\",\"Muy Positivo\",\"Negativo\",\"Muy Positivo\",\"Negativo\",\"Positivo\",\"Positivo\",\"Positivo\",\"Neutro\",\"Neutro\",\"Muy Positivo\",\"Muy Positivo\",\"Muy Positivo\",\"Negativo\",\"Muy Positivo\",\"Neutro\",\"Positivo\",\"Positivo\",\"Muy Positivo\",\"Muy Positivo\",\"Positivo\",\"Muy Positivo\",\"Muy Positivo\",\"Positivo\",\"Muy Positivo\",\"Muy Positivo\",\"Muy Negativo\",\"Neutro\",\"Neutro\",\"Muy Positivo\",\"Muy Positivo\",\"Muy Positivo\",\"Neutro\",\"Positivo\",\"Muy Positivo\",\"Neutro\",\"Positivo\",\"Muy Negativo\",\"Neutro\",\"Positivo\",\"Muy Positivo\",\"Neutro\",\"Muy Positivo\",\"Muy Positivo\",\"Muy Positivo\",\"Positivo\",\"Neutro\",\"Negativo\",\"Muy Negativo\",\"Muy Positivo\",\"Positivo\",\"Muy Positivo\",\"Muy Positivo\",\"Negativo\",\"Muy Positivo\",\"Positivo\",\"Positivo\",\"Neutro\",\"Neutro\",\"Neutro\",\"Neutro\",\"Neutro\",\"Neutro\",\"Positivo\",\"Positivo\",\"Neutro\",\"Muy Positivo\",\"Positivo\",\"Muy Positivo\",\"Muy Negativo\",\"Positivo\",\"Muy Positivo\",\"Positivo\",\"Muy Positivo\",\"Negativo\",\"Muy Positivo\",\"Neutro\",\"Muy Positivo\",\"Muy Negativo\",\"Positivo\",\"Muy Positivo\",\"Neutro\",\"Neutro\",\"Positivo\",\"Negativo\",\"Negativo\",\"Muy Positivo\",\"Positivo\",\"Muy Positivo\",\"Negativo\",\"Muy Positivo\",\"Positivo\",\"Muy Positivo\",\"Positivo\",\"Positivo\",\"Positivo\",\"Neutro\",\"Negativo\",\"Positivo\",\"Positivo\",\"Positivo\",\"Muy Positivo\",\"Muy Positivo\",\"Negativo\",\"Muy Positivo\",\"Positivo\",\"Negativo\",\"Positivo\",\"Muy Negativo\",\"Neutro\",\"Positivo\",\"Neutro\",\"Muy Positivo\",\"Positivo\",\"Muy Positivo\",\"Muy Positivo\",\"Neutro\",\"Positivo\",\"Positivo\",\"Positivo\",\"Neutro\",\"Positivo\",\"Muy Positivo\",\"Positivo\",\"Positivo\",\"Muy Positivo\",\"Muy Positivo\",\"Positivo\",\"Neutro\",\"Neutro\",\"Muy Positivo\",\"Neutro\",\"Positivo\",\"Muy Negativo\",\"Muy Positivo\",\"Positivo\",\"Muy Positivo\",\"Muy Positivo\",\"Muy Negativo\",\"Muy Negativo\",\"Positivo\",\"Muy Positivo\",\"Neutro\",\"Positivo\",\"Positivo\",\"Neutro\",\"Negativo\",\"Muy Positivo\",\"Muy Positivo\",\"Positivo\",\"Negativo\",\"Neutro\",\"Positivo\",\"Muy Positivo\",\"Neutro\",\"Muy Positivo\",\"Muy Positivo\",\"Muy Positivo\",\"Muy Positivo\",\"Muy Positivo\",\"Muy Positivo\",\"Positivo\",\"Negativo\",\"Muy Positivo\",\"Positivo\",\"Muy Negativo\",\"Neutro\",\"Negativo\",\"Muy Positivo\",\"Muy Positivo\",\"Muy Negativo\",\"Positivo\",\"Muy Positivo\",\"Muy Positivo\",\"Neutro\",\"Positivo\",\"Negativo\",\"Positivo\",\"Muy Positivo\",\"Negativo\",\"Muy Positivo\",\"Neutro\",\"Positivo\",\"Neutro\",\"Negativo\",\"Muy Positivo\",\"Neutro\",\"Positivo\",\"Muy Negativo\",\"Negativo\",\"Muy Negativo\",\"Muy Positivo\",\"Negativo\",\"Negativo\",\"Muy Positivo\",\"Muy Positivo\",\"Neutro\",\"Muy Positivo\",\"Negativo\",\"Muy Positivo\",\"Positivo\",\"Muy Positivo\",\"Muy Positivo\",\"Neutro\",\"Neutro\",\"Muy Negativo\",\"Positivo\",\"Neutro\",\"Muy Positivo\",\"Positivo\",\"Neutro\",\"Positivo\",\"Positivo\",\"Muy Positivo\",\"Muy Positivo\",\"Neutro\",\"Negativo\",\"Neutro\",\"Neutro\",\"Positivo\",\"Muy Positivo\",\"Neutro\",\"Positivo\",\"Positivo\",\"Muy Negativo\",\"Muy Negativo\",\"Negativo\",\"Muy Positivo\",\"Muy Positivo\",\"Neutro\",\"Muy Positivo\",\"Muy Positivo\",\"Positivo\",\"Neutro\",\"Positivo\",\"Muy Positivo\",\"Positivo\",\"Neutro\",\"Neutro\",\"Positivo\",\"Neutro\",\"Neutro\",\"Positivo\",\"Neutro\",\"Neutro\",\"Negativo\",\"Neutro\",\"Positivo\",\"Muy Positivo\",\"Neutro\",\"Muy Positivo\",\"Muy Positivo\",\"Negativo\",\"Positivo\",\"Neutro\",\"Positivo\",\"Muy Positivo\",\"Muy Negativo\",\"Positivo\",\"Positivo\",\"Muy Positivo\",\"Muy Positivo\",\"Muy Positivo\",\"Negativo\",\"Muy Negativo\",\"Neutro\",\"Neutro\",\"Positivo\",\"Neutro\",\"Negativo\",\"Neutro\",\"Muy Positivo\",\"Muy Positivo\",\"Muy Positivo\",\"Negativo\",\"Positivo\",\"Muy Negativo\",\"Muy Negativo\",\"Positivo\",\"Neutro\",\"Neutro\",\"Muy Negativo\",\"Muy Positivo\",\"Positivo\",\"Neutro\",\"Positivo\",\"Neutro\",\"Positivo\",\"Positivo\",\"Muy Positivo\",\"Muy Negativo\",\"Neutro\",\"Muy Positivo\",\"Muy Positivo\",\"Muy Positivo\",\"Positivo\",\"Neutro\",\"Positivo\",\"Muy Positivo\",\"Neutro\",\"Positivo\",\"Muy Positivo\",\"Muy Negativo\",\"Negativo\",\"Neutro\",\"Muy Positivo\",\"Neutro\",\"Muy Positivo\",\"Positivo\",\"Muy Positivo\",\"Neutro\",\"Muy Positivo\",\"Neutro\",\"Positivo\",\"Muy Positivo\",\"Muy Positivo\",\"Negativo\",\"Muy Positivo\",\"Negativo\",\"Muy Positivo\",\"Muy Positivo\",\"Negativo\",\"Neutro\",\"Negativo\",\"Neutro\",\"Positivo\",\"Muy Negativo\",\"Positivo\",\"Positivo\",\"Muy Positivo\",\"Positivo\",\"Muy Positivo\",\"Positivo\",\"Muy Positivo\",\"Muy Positivo\",\"Neutro\",\"Muy Positivo\",\"Muy Negativo\",\"Muy Positivo\",\"Neutro\",\"Negativo\",\"Negativo\",\"Neutro\",\"Muy Negativo\",\"Neutro\",\"Negativo\",\"Negativo\",\"Positivo\",\"Muy Positivo\",\"Positivo\",\"Neutro\",\"Muy Positivo\",\"Positivo\",\"Muy Positivo\",\"Neutro\",\"Positivo\",\"Negativo\",\"Muy Positivo\",\"Muy Positivo\",\"Muy Positivo\",\"Muy Positivo\",\"Muy Positivo\",\"Neutro\",\"Muy Positivo\",\"Neutro\",\"Neutro\",\"Neutro\",\"Negativo\",\"Negativo\",\"Neutro\",\"Neutro\",\"Neutro\",\"Muy Positivo\",\"Muy Positivo\",\"Positivo\",\"Neutro\",\"Muy Positivo\",\"Positivo\",\"Negativo\",\"Positivo\",\"Muy Positivo\",\"Muy Positivo\",\"Muy Positivo\",\"Muy Positivo\",\"Positivo\",\"Negativo\",\"Neutro\",\"Positivo\",\"Positivo\",\"Muy Positivo\",\"Muy Negativo\",\"Negativo\",\"Muy Positivo\",\"Positivo\",\"Neutro\",\"Neutro\",\"Positivo\",\"Positivo\",\"Muy Negativo\",\"Positivo\",\"Neutro\",\"Muy Positivo\",\"Muy Negativo\",\"Muy Positivo\",\"Positivo\",\"Muy Positivo\",\"Muy Positivo\",\"Neutro\",\"Negativo\",\"Muy Positivo\",\"Muy Positivo\",\"Muy Positivo\",\"Muy Positivo\",\"Muy Negativo\",\"Negativo\",\"Positivo\",\"Muy Positivo\",\"Muy Positivo\",\"Neutro\",\"Neutro\",\"Negativo\",\"Positivo\",\"Negativo\",\"Positivo\",\"Muy Positivo\",\"Muy Positivo\",\"Muy Negativo\",\"Neutro\",\"Neutro\",\"Positivo\",\"Muy Positivo\",\"Neutro\",\"Neutro\",\"Negativo\",\"Muy Positivo\",\"Muy Negativo\",\"Muy Negativo\",\"Muy Positivo\",\"Positivo\",\"Muy Positivo\",\"Positivo\",\"Muy Positivo\",\"Positivo\",\"Muy Positivo\",\"Neutro\",\"Neutro\",\"Neutro\",\"Muy Negativo\",\"Muy Positivo\",\"Positivo\",\"Neutro\",\"Muy Positivo\",\"Positivo\",\"Muy Positivo\",\"Muy Positivo\",\"Negativo\",\"Muy Positivo\",\"Positivo\",\"Muy Negativo\",\"Neutro\",\"Negativo\",\"Negativo\",\"Muy Positivo\",\"Muy Positivo\",\"Muy Positivo\",\"Muy Positivo\",\"Positivo\",\"Positivo\",\"Muy Positivo\",\"Positivo\",\"Muy Positivo\",\"Positivo\",\"Muy Positivo\",\"Negativo\",\"Muy Positivo\",\"Positivo\",\"Positivo\",\"Negativo\",\"Positivo\",\"Positivo\",\"Negativo\",\"Muy Positivo\",\"Muy Positivo\",\"Neutro\",\"Positivo\",\"Neutro\",\"Muy Positivo\",\"Muy Positivo\",\"Muy Positivo\",\"Positivo\",\"Muy Positivo\",\"Positivo\",\"Muy Negativo\",\"Neutro\",\"Positivo\",\"Muy Positivo\",\"Negativo\",\"Muy Positivo\",\"Negativo\",\"Positivo\",\"Muy Positivo\",\"Negativo\",\"Muy Positivo\",\"Neutro\",\"Negativo\",\"Muy Negativo\",\"Positivo\",\"Muy Positivo\",\"Neutro\",\"Muy Positivo\",\"Neutro\",\"Muy Positivo\",\"Muy Negativo\",\"Muy Positivo\",\"Neutro\",\"Muy Positivo\",\"Muy Positivo\",\"Muy Positivo\",\"Muy Positivo\",\"Neutro\",\"Neutro\",\"Positivo\",\"Muy Positivo\",\"Positivo\",\"Muy Negativo\",\"Muy Negativo\",\"Muy Positivo\",\"Positivo\",\"Negativo\",\"Muy Positivo\",\"Positivo\",\"Muy Positivo\",\"Neutro\",\"Positivo\",\"Neutro\",\"Positivo\",\"Positivo\",\"Positivo\",\"Negativo\",\"Muy Positivo\",\"Muy Negativo\",\"Muy Positivo\",\"Muy Positivo\",\"Neutro\",\"Positivo\",\"Neutro\",\"Muy Negativo\",\"Positivo\",\"Positivo\",\"Positivo\",\"Positivo\",\"Neutro\",\"Neutro\",\"Muy Negativo\",\"Positivo\",\"Negativo\",\"Positivo\",\"Positivo\",\"Muy Positivo\",\"Muy Negativo\",\"Muy Positivo\",\"Muy Negativo\",\"Negativo\",\"Muy Negativo\",\"Positivo\",\"Muy Positivo\",\"Muy Positivo\",\"Muy Positivo\",\"Positivo\",\"Negativo\",\"Neutro\",\"Muy Positivo\",\"Neutro\",\"Negativo\",\"Neutro\",\"Negativo\",\"Neutro\",\"Neutro\",\"Muy Positivo\",\"Muy Positivo\",\"Muy Negativo\",\"Muy Positivo\",\"Negativo\",\"Muy Negativo\",\"Neutro\",\"Muy Positivo\",\"Positivo\",\"Muy Positivo\",\"Positivo\",\"Neutro\",\"Positivo\",\"Muy Positivo\",\"Muy Positivo\",\"Muy Positivo\",\"Neutro\",\"Negativo\",\"Positivo\",\"Muy Positivo\",\"Neutro\",\"Muy Negativo\",\"Neutro\",\"Muy Positivo\",\"Neutro\",\"Muy Positivo\",\"Muy Positivo\",\"Muy Positivo\",\"Positivo\",\"Neutro\",\"Neutro\",\"Positivo\",\"Positivo\",\"Negativo\",\"Positivo\",\"Positivo\",\"Neutro\",\"Positivo\",\"Neutro\",\"Neutro\",\"Positivo\",\"Positivo\",\"Negativo\",\"Neutro\",\"Negativo\",\"Muy Positivo\",\"Neutro\",\"Muy Positivo\",\"Positivo\",\"Muy Negativo\",\"Muy Positivo\",\"Neutro\",\"Positivo\",\"Negativo\",\"Neutro\",\"Positivo\",\"Positivo\",\"Muy Positivo\",\"Positivo\",\"Muy Positivo\",\"Muy Positivo\",\"Muy Positivo\",\"Muy Positivo\",\"Muy Positivo\",\"Muy Positivo\",\"Muy Positivo\",\"Neutro\",\"Positivo\",\"Muy Positivo\",\"Positivo\",\"Positivo\",\"Positivo\",\"Neutro\",\"Muy Negativo\",\"Neutro\",\"Muy Positivo\",\"Muy Positivo\",\"Neutro\",\"Muy Positivo\",\"Muy Negativo\",\"Muy Positivo\",\"Muy Positivo\",\"Positivo\",\"Negativo\",\"Positivo\",\"Muy Positivo\",\"Neutro\",\"Neutro\",\"Neutro\",\"Positivo\",\"Positivo\",\"Neutro\",\"Muy Positivo\",\"Muy Positivo\",\"Muy Negativo\",\"Positivo\",\"Positivo\",\"Muy Positivo\",\"Muy Positivo\",\"Positivo\",\"Positivo\",\"Muy Positivo\",\"Positivo\",\"Positivo\",\"Positivo\",\"Positivo\",\"Muy Positivo\",\"Positivo\",\"Positivo\",\"Positivo\",\"Neutro\",\"Neutro\",\"Muy Negativo\",\"Neutro\",\"Muy Negativo\",\"Muy Positivo\",\"Muy Positivo\",\"Positivo\",\"Positivo\",\"Muy Positivo\",\"Negativo\",\"Neutro\",\"Positivo\",\"Neutro\",\"Positivo\",\"Positivo\",\"Negativo\",\"Positivo\",\"Positivo\",\"Neutro\",\"Positivo\",\"Neutro\",\"Positivo\",\"Muy Positivo\",\"Muy Positivo\",\"Muy Positivo\",\"Muy Positivo\",\"Positivo\",\"Positivo\",\"Muy Positivo\",\"Muy Negativo\",\"Muy Positivo\",\"Muy Positivo\",\"Negativo\",\"Positivo\",\"Positivo\",\"Negativo\",\"Muy Positivo\",\"Muy Positivo\",\"Positivo\",\"Neutro\",\"Negativo\",\"Negativo\",\"Positivo\",\"Muy Negativo\",\"Positivo\",\"Positivo\",\"Muy Negativo\",\"Negativo\",\"Neutro\",\"Muy Negativo\",\"Positivo\",\"Muy Positivo\",\"Muy Negativo\",\"Muy Positivo\",\"Neutro\",\"Negativo\",\"Negativo\",\"Positivo\",\"Muy Negativo\",\"Muy Positivo\",\"Negativo\",\"Muy Positivo\",\"Positivo\",\"Muy Positivo\",\"Muy Negativo\",\"Negativo\",\"Muy Positivo\",\"Negativo\",\"Positivo\",\"Muy Positivo\",\"Muy Positivo\",\"Neutro\",\"Neutro\",\"Positivo\",\"Neutro\",\"Muy Negativo\",\"Positivo\",\"Muy Negativo\",\"Neutro\",\"Muy Positivo\",\"Negativo\",\"Positivo\",\"Positivo\",\"Positivo\",\"Muy Positivo\",\"Positivo\",\"Negativo\",\"Muy Positivo\",\"Muy Positivo\",\"Muy Positivo\",\"Muy Positivo\",\"Muy Positivo\",\"Muy Positivo\",\"Muy Positivo\",\"Neutro\",\"Neutro\",\"Positivo\",\"Muy Negativo\",\"Muy Positivo\",\"Muy Positivo\",\"Muy Positivo\",\"Muy Positivo\",\"Muy Positivo\",\"Neutro\",\"Muy Positivo\",\"Positivo\",\"Neutro\",\"Positivo\",\"Neutro\",\"Positivo\",\"Muy Positivo\",\"Neutro\",\"Muy Positivo\",\"Muy Positivo\",\"Positivo\",\"Muy Negativo\",\"Muy Positivo\",\"Positivo\",\"Muy Positivo\",\"Muy Positivo\",\"Neutro\",\"Neutro\",\"Positivo\",\"Positivo\",\"Positivo\",\"Positivo\",\"Positivo\",\"Neutro\",\"Neutro\",\"Muy Negativo\",\"Positivo\",\"Negativo\",\"Muy Positivo\",\"Muy Positivo\",\"Neutro\",\"Neutro\",\"Neutro\",\"Positivo\",\"Muy Positivo\",\"Neutro\",\"Positivo\",\"Negativo\",\"Neutro\",\"Neutro\",\"Neutro\",\"Muy Positivo\",\"Muy Positivo\",\"Positivo\",\"Positivo\",\"Neutro\",\"Muy Positivo\",\"Muy Positivo\",\"Muy Negativo\",\"Muy Positivo\",\"Muy Negativo\",\"Negativo\",\"Negativo\",\"Positivo\",\"Neutro\",\"Positivo\",\"Muy Negativo\",\"Muy Positivo\",\"Positivo\",\"Muy Positivo\",\"Neutro\",\"Neutro\",\"Positivo\",\"Positivo\",\"Negativo\",\"Muy Negativo\",\"Neutro\",\"Muy Positivo\",\"Positivo\",\"Muy Negativo\",\"Positivo\",\"Positivo\",\"Muy Positivo\",\"Muy Negativo\",\"Positivo\",\"Negativo\",\"Negativo\",\"Muy Positivo\",\"Muy Negativo\",\"Muy Negativo\",\"Muy Positivo\",\"Muy Negativo\",\"Muy Negativo\",\"Negativo\",\"Muy Positivo\",\"Positivo\",\"Positivo\",\"Negativo\",\"Positivo\",\"Positivo\",\"Muy Positivo\",\"Neutro\",\"Negativo\",\"Neutro\",\"Negativo\",\"Negativo\",\"Positivo\",\"Neutro\",\"Neutro\",\"Muy Negativo\",\"Positivo\",\"Neutro\",\"Neutro\",\"Muy Positivo\",\"Muy Positivo\",\"Muy Positivo\",\"Neutro\",\"Positivo\",\"Negativo\",\"Muy Positivo\",\"Positivo\",\"Neutro\",\"Neutro\",\"Positivo\",\"Positivo\",\"Muy Negativo\",\"Muy Negativo\",\"Positivo\",\"Negativo\",\"Negativo\",\"Neutro\",\"Negativo\",\"Neutro\",\"Muy Positivo\",\"Positivo\",\"Muy Positivo\",\"Neutro\",\"Muy Positivo\",\"Positivo\",\"Negativo\",\"Positivo\",\"Muy Positivo\",\"Negativo\",\"Positivo\",\"Positivo\",\"Positivo\",\"Muy Positivo\",\"Negativo\",\"Muy Positivo\",\"Negativo\",\"Positivo\",\"Muy Positivo\",\"Muy Positivo\",\"Negativo\",\"Neutro\",\"Muy Negativo\",\"Muy Negativo\",\"Muy Positivo\",\"Muy Positivo\",\"Muy Negativo\",\"Negativo\",\"Neutro\",\"Positivo\",\"Positivo\",\"Muy Positivo\",\"Positivo\",\"Muy Negativo\",\"Muy Positivo\",\"Neutro\",\"Muy Negativo\",\"Positivo\",\"Positivo\",\"Muy Positivo\",\"Muy Positivo\",\"Neutro\",\"Positivo\",\"Negativo\",\"Muy Positivo\",\"Positivo\",\"Positivo\",\"Negativo\",\"Muy Positivo\",\"Positivo\",\"Muy Negativo\",\"Muy Positivo\",\"Negativo\",\"Muy Positivo\",\"Neutro\",\"Positivo\",\"Muy Positivo\",\"Muy Negativo\",\"Muy Positivo\",\"Positivo\",\"Muy Positivo\",\"Positivo\",\"Positivo\",\"Positivo\",\"Positivo\",\"Muy Positivo\",\"Positivo\",\"Neutro\",\"Muy Positivo\",\"Muy Positivo\",\"Positivo\",\"Neutro\",\"Neutro\",\"Muy Positivo\",\"Muy Negativo\",\"Muy Positivo\",\"Muy Negativo\",\"Neutro\",\"Negativo\",\"Positivo\",\"Positivo\",\"Muy Positivo\",\"Muy Positivo\",\"Positivo\",\"Negativo\",\"Muy Negativo\",\"Positivo\",\"Muy Negativo\",\"Muy Positivo\",\"Neutro\",\"Positivo\",\"Muy Positivo\",\"Positivo\",\"Muy Negativo\",\"Muy Positivo\",\"Neutro\",\"Neutro\",\"Muy Positivo\",\"Muy Positivo\",\"Positivo\",\"Muy Positivo\",\"Positivo\",\"Positivo\",\"Negativo\",\"Positivo\",\"Muy Positivo\",\"Neutro\",\"Muy Negativo\",\"Neutro\",\"Positivo\",\"Negativo\",\"Positivo\",\"Muy Negativo\",\"Positivo\",\"Neutro\",\"Negativo\",\"Positivo\",\"Positivo\",\"Negativo\",\"Muy Positivo\",\"Negativo\",\"Positivo\",\"Negativo\",\"Muy Positivo\",\"Muy Positivo\",\"Muy Negativo\",\"Muy Positivo\",\"Muy Negativo\",\"Positivo\",\"Positivo\",\"Positivo\",\"Neutro\",\"Muy Positivo\",\"Muy Positivo\",\"Muy Positivo\",\"Negativo\",\"Muy Positivo\",\"Neutro\",\"Neutro\",\"Neutro\",\"Muy Negativo\",\"Muy Negativo\",\"Positivo\",\"Muy Negativo\",\"Positivo\",\"Muy Positivo\",\"Muy Negativo\",\"Muy Negativo\",\"Muy Positivo\",\"Muy Negativo\",\"Positivo\",\"Negativo\",\"Positivo\",\"Muy Positivo\",\"Muy Positivo\",\"Positivo\",\"Negativo\",\"Muy Positivo\",\"Positivo\",\"Negativo\",\"Neutro\",\"Positivo\",\"Muy Positivo\",\"Muy Negativo\",\"Positivo\",\"Positivo\",\"Muy Positivo\",\"Negativo\",\"Neutro\",\"Negativo\",\"Negativo\",\"Muy Negativo\",\"Neutro\",\"Positivo\",\"Muy Positivo\",\"Muy Positivo\",\"Muy Positivo\",\"Positivo\",\"Muy Positivo\",\"Muy Negativo\",\"Negativo\",\"Muy Positivo\",\"Positivo\",\"Muy Negativo\",\"Muy Negativo\",\"Neutro\",\"Muy Positivo\",\"Positivo\",\"Negativo\",\"Muy Negativo\",\"Neutro\",\"Muy Positivo\",\"Neutro\",\"Negativo\",\"Positivo\",\"Muy Positivo\",\"Positivo\",\"Neutro\",\"Muy Negativo\",\"Positivo\",\"Muy Positivo\",\"Muy Positivo\",\"Neutro\",\"Positivo\",\"Positivo\",\"Negativo\",\"Muy Positivo\",\"Muy Positivo\",\"Muy Positivo\",\"Muy Positivo\",\"Positivo\",\"Muy Positivo\",\"Muy Positivo\",\"Negativo\",\"Positivo\",\"Muy Positivo\",\"Positivo\",\"Positivo\",\"Muy Positivo\",\"Negativo\",\"Muy Negativo\",\"Muy Negativo\",\"Muy Positivo\",\"Negativo\",\"Negativo\",\"Negativo\",\"Muy Positivo\",\"Positivo\",\"Neutro\",\"Neutro\",\"Positivo\",\"Positivo\",\"Muy Positivo\",\"Positivo\",\"Muy Positivo\",\"Muy Positivo\",\"Muy Positivo\",\"Positivo\",\"Positivo\",\"Positivo\",\"Negativo\",\"Positivo\",\"Negativo\",\"Muy Positivo\",\"Positivo\",\"Muy Negativo\",\"Neutro\",\"Muy Positivo\",\"Muy Negativo\",\"Neutro\",\"Neutro\",\"Muy Positivo\",\"Neutro\",\"Muy Positivo\",\"Muy Positivo\",\"Positivo\",\"Negativo\",\"Negativo\",\"Muy Positivo\",\"Positivo\",\"Positivo\",\"Muy Positivo\",\"Positivo\",\"Muy Positivo\",\"Negativo\",\"Muy Negativo\",\"Neutro\",\"Muy Positivo\",\"Negativo\",\"Neutro\",\"Positivo\",\"Neutro\",\"Positivo\",\"Neutro\",\"Muy Negativo\",\"Muy Positivo\",\"Muy Positivo\",\"Neutro\",\"Muy Positivo\",\"Negativo\",\"Muy Positivo\",\"Muy Negativo\",\"Positivo\",\"Positivo\",\"Negativo\",\"Negativo\",\"Neutro\",\"Muy Negativo\",\"Neutro\",\"Neutro\",\"Muy Negativo\",\"Negativo\",\"Negativo\",\"Neutro\",\"Muy Positivo\",\"Positivo\",\"Muy Positivo\",\"Muy Negativo\",\"Positivo\",\"Negativo\",\"Positivo\",\"Muy Positivo\",\"Negativo\",\"Positivo\",\"Negativo\",\"Muy Negativo\",\"Positivo\",\"Muy Positivo\",\"Neutro\",\"Neutro\",\"Muy Positivo\",\"Muy Positivo\",\"Muy Positivo\",\"Muy Negativo\",\"Muy Positivo\",\"Negativo\",\"Positivo\",\"Muy Positivo\",\"Neutro\",\"Negativo\",\"Muy Negativo\",\"Muy Positivo\",\"Positivo\",\"Muy Positivo\",\"Positivo\",\"Negativo\",\"Negativo\",\"Neutro\",\"Positivo\",\"Negativo\",\"Negativo\",\"Muy Positivo\",\"Muy Positivo\",\"Positivo\",\"Negativo\",\"Neutro\",\"Muy Negativo\",\"Positivo\",\"Negativo\",\"Positivo\",\"Negativo\",\"Muy Negativo\",\"Muy Positivo\",\"Neutro\",\"Muy Positivo\",\"Muy Positivo\",\"Positivo\",\"Negativo\",\"Muy Positivo\",\"Positivo\",\"Positivo\",\"Positivo\",\"Muy Positivo\",\"Muy Positivo\",\"Positivo\",\"Positivo\",\"Positivo\",\"Muy Positivo\",\"Muy Positivo\",\"Neutro\",\"Muy Positivo\",\"Positivo\",\"Positivo\",\"Muy Positivo\",\"Positivo\",\"Negativo\",\"Neutro\",\"Neutro\",\"Positivo\",\"Positivo\",\"Neutro\",\"Positivo\",\"Muy Negativo\",\"Neutro\",\"Neutro\",\"Negativo\",\"Neutro\",\"Positivo\",\"Neutro\",\"Positivo\",\"Negativo\",\"Positivo\",\"Positivo\",\"Muy Positivo\",\"Positivo\",\"Muy Positivo\",\"Muy Negativo\",\"Muy Positivo\",\"Muy Positivo\",\"Neutro\",\"Muy Negativo\",\"Muy Positivo\",\"Negativo\",\"Neutro\",\"Muy Positivo\",\"Muy Negativo\",\"Neutro\",\"Positivo\",\"Positivo\",\"Negativo\",\"Muy Negativo\",\"Muy Negativo\",\"Positivo\",\"Muy Positivo\",\"Positivo\",\"Neutro\",\"Muy Positivo\",\"Positivo\",\"Muy Positivo\",\"Positivo\",\"Neutro\",\"Muy Negativo\",\"Muy Positivo\",\"Muy Positivo\",\"Muy Positivo\",\"Neutro\",\"Muy Positivo\",\"Neutro\",\"Muy Positivo\",\"Muy Positivo\",\"Negativo\",\"Muy Positivo\",\"Muy Negativo\",\"Positivo\",\"Positivo\",\"Muy Positivo\",\"Neutro\",\"Positivo\",\"Muy Negativo\",\"Positivo\",\"Positivo\",\"Positivo\",\"Muy Positivo\",\"Positivo\",\"Negativo\",\"Positivo\",\"Negativo\",\"Positivo\",\"Negativo\",\"Positivo\",\"Neutro\",\"Negativo\",\"Muy Positivo\",\"Muy Positivo\",\"Muy Positivo\",\"Neutro\",\"Negativo\",\"Positivo\",\"Muy Negativo\",\"Muy Positivo\",\"Muy Positivo\",\"Muy Positivo\",\"Neutro\",\"Negativo\",\"Negativo\",\"Negativo\",\"Muy Positivo\",\"Muy Positivo\",\"Positivo\",\"Muy Positivo\",\"Negativo\",\"Muy Negativo\",\"Neutro\",\"Muy Negativo\",\"Muy Positivo\",\"Muy Positivo\",\"Muy Positivo\",\"Muy Positivo\",\"Negativo\",\"Negativo\",\"Negativo\",\"Neutro\",\"Negativo\",\"Positivo\",\"Muy Negativo\",\"Muy Positivo\",\"Muy Positivo\",\"Negativo\",\"Neutro\",\"Muy Positivo\",\"Muy Positivo\",\"Muy Negativo\",\"Muy Positivo\",\"Negativo\",\"Negativo\",\"Negativo\",\"Muy Negativo\",\"Muy Positivo\",\"Positivo\",\"Positivo\",\"Neutro\",\"Muy Positivo\",\"Neutro\",\"Negativo\",\"Positivo\",\"Negativo\",\"Positivo\",\"Positivo\",\"Positivo\",\"Muy Positivo\",\"Positivo\",\"Muy Positivo\",\"Neutro\",\"Negativo\",\"Neutro\",\"Muy Positivo\",\"Negativo\",\"Muy Negativo\",\"Neutro\",\"Positivo\",\"Muy Positivo\",\"Muy Negativo\",\"Positivo\",\"Muy Positivo\",\"Positivo\",\"Muy Positivo\",\"Muy Positivo\",\"Muy Positivo\",\"Muy Positivo\",\"Positivo\",\"Muy Positivo\",\"Neutro\",\"Muy Positivo\",\"Muy Positivo\",\"Muy Positivo\",\"Positivo\",\"Positivo\",\"Neutro\",\"Muy Positivo\",\"Muy Negativo\",\"Muy Negativo\",\"Positivo\",\"Muy Negativo\",\"Negativo\",\"Neutro\",\"Muy Positivo\",\"Positivo\",\"Positivo\",\"Muy Negativo\",\"Neutro\",\"Neutro\",\"Muy Positivo\",\"Positivo\",\"Muy Positivo\",\"Positivo\",\"Muy Positivo\",\"Muy Positivo\",\"Positivo\",\"Positivo\",\"Positivo\",\"Negativo\",\"Neutro\",\"Positivo\",\"Positivo\",\"Muy Positivo\",\"Negativo\",\"Muy Positivo\",\"Positivo\",\"Muy Positivo\",\"Negativo\",\"Muy Negativo\",\"Neutro\",\"Positivo\",\"Negativo\",\"Muy Positivo\",\"Muy Positivo\",\"Positivo\",\"Neutro\",\"Positivo\",\"Muy Negativo\",\"Negativo\",\"Positivo\",\"Neutro\",\"Muy Positivo\",\"Muy Positivo\",\"Muy Positivo\",\"Muy Positivo\",\"Muy Positivo\",\"Negativo\",\"Positivo\",\"Muy Negativo\",\"Neutro\",\"Muy Positivo\",\"Muy Positivo\",\"Muy Positivo\",\"Muy Positivo\",\"Positivo\",\"Positivo\",\"Muy Positivo\",\"Neutro\",\"Negativo\",\"Muy Positivo\",\"Neutro\",\"Muy Positivo\",\"Muy Negativo\",\"Negativo\",\"Muy Negativo\",\"Positivo\",\"Negativo\",\"Positivo\",\"Muy Positivo\",\"Negativo\",\"Neutro\",\"Negativo\",\"Positivo\",\"Muy Negativo\",\"Muy Positivo\",\"Positivo\",\"Muy Positivo\",\"Muy Positivo\",\"Positivo\",\"Muy Positivo\",\"Negativo\",\"Muy Positivo\",\"Muy Positivo\",\"Positivo\",\"Negativo\",\"Muy Negativo\",\"Positivo\",\"Positivo\",\"Muy Positivo\",\"Positivo\",\"Muy Positivo\",\"Muy Positivo\",\"Neutro\",\"Muy Positivo\",\"Positivo\",\"Neutro\",\"Positivo\",\"Muy Positivo\",\"Negativo\",\"Muy Positivo\",\"Negativo\",\"Positivo\",\"Muy Negativo\",\"Neutro\",\"Negativo\",\"Neutro\",\"Muy Negativo\",\"Positivo\",\"Muy Positivo\",\"Muy Positivo\",\"Positivo\",\"Negativo\",\"Positivo\",\"Neutro\",\"Positivo\",\"Positivo\",\"Positivo\",\"Neutro\",\"Muy Positivo\",\"Muy Positivo\",\"Positivo\",\"Muy Positivo\",\"Neutro\",\"Neutro\",\"Negativo\",\"Negativo\",\"Positivo\",\"Muy Positivo\",\"Muy Positivo\",\"Muy Negativo\",\"Positivo\",\"Muy Negativo\",\"Negativo\",\"Negativo\",\"Neutro\",\"Negativo\",\"Muy Positivo\",\"Positivo\",\"Positivo\",\"Muy Positivo\",\"Muy Positivo\",\"Muy Positivo\",\"Muy Positivo\",\"Positivo\",\"Muy Negativo\",\"Muy Negativo\",\"Neutro\",\"Negativo\",\"Muy Positivo\",\"Negativo\",\"Muy Negativo\",\"Neutro\",\"Muy Negativo\",\"Muy Positivo\",\"Muy Negativo\",\"Neutro\",\"Muy Positivo\",\"Positivo\",\"Muy Positivo\",\"Negativo\",\"Muy Positivo\",\"Muy Positivo\",\"Positivo\",\"Neutro\",\"Neutro\",\"Negativo\",\"Positivo\",\"Neutro\",\"Muy Positivo\",\"Positivo\",\"Neutro\",\"Negativo\",\"Negativo\",\"Negativo\",\"Negativo\",\"Positivo\",\"Positivo\",\"Muy Positivo\",\"Muy Positivo\",\"Negativo\",\"Muy Positivo\",\"Positivo\",\"Positivo\",\"Muy Positivo\",\"Muy Negativo\",\"Muy Positivo\",\"Neutro\",\"Neutro\",\"Muy Positivo\",\"Positivo\",\"Positivo\",\"Positivo\",\"Muy Negativo\",\"Positivo\",\"Negativo\",\"Negativo\",\"Muy Positivo\",\"Negativo\",\"Negativo\",\"Neutro\",\"Muy Positivo\",\"Negativo\",\"Muy Positivo\",\"Muy Positivo\",\"Muy Positivo\",\"Neutro\",\"Muy Positivo\",\"Muy Negativo\",\"Muy Positivo\",\"Muy Negativo\",\"Muy Positivo\",\"Positivo\",\"Neutro\",\"Muy Positivo\",\"Muy Positivo\",\"Neutro\",\"Positivo\",\"Positivo\",\"Muy Positivo\",\"Positivo\",\"Negativo\",\"Negativo\",\"Muy Positivo\",\"Neutro\",\"Neutro\",\"Muy Positivo\",\"Muy Negativo\",\"Muy Positivo\",\"Positivo\",\"Positivo\",\"Muy Positivo\",\"Positivo\",\"Muy Positivo\",\"Muy Positivo\",\"Muy Positivo\",\"Negativo\",\"Neutro\",\"Neutro\",\"Negativo\",\"Positivo\",\"Muy Positivo\",\"Positivo\",\"Muy Positivo\",\"Positivo\",\"Muy Positivo\",\"Positivo\",\"Muy Positivo\",\"Neutro\",\"Muy Positivo\",\"Muy Positivo\",\"Positivo\",\"Muy Negativo\",\"Neutro\",\"Muy Positivo\",\"Muy Positivo\",\"Positivo\",\"Muy Positivo\",\"Neutro\",\"Positivo\",\"Neutro\",\"Neutro\",\"Muy Positivo\",\"Neutro\",\"Muy Negativo\",\"Neutro\",\"Muy Positivo\",\"Negativo\",\"Negativo\",\"Muy Negativo\",\"Negativo\",\"Positivo\",\"Negativo\",\"Positivo\",\"Positivo\",\"Negativo\",\"Muy Positivo\",\"Neutro\",\"Neutro\",\"Muy Positivo\",\"Positivo\",\"Neutro\",\"Neutro\",\"Muy Positivo\",\"Muy Positivo\",\"Neutro\",\"Negativo\",\"Muy Positivo\",\"Muy Positivo\",\"Muy Positivo\",\"Neutro\",\"Muy Positivo\",\"Muy Positivo\",\"Neutro\",\"Negativo\",\"Muy Positivo\",\"Positivo\",\"Positivo\",\"Positivo\",\"Positivo\",\"Muy Negativo\",\"Positivo\",\"Muy Positivo\",\"Negativo\",\"Neutro\",\"Positivo\",\"Positivo\",\"Negativo\",\"Neutro\",\"Neutro\",\"Negativo\",\"Negativo\",\"Muy Positivo\",\"Muy Negativo\",\"Negativo\",\"Negativo\",\"Positivo\",\"Negativo\",\"Muy Positivo\",\"Muy Positivo\",\"Negativo\",\"Negativo\",\"Positivo\",\"Neutro\",\"Positivo\",\"Positivo\",\"Muy Negativo\",\"Neutro\",\"Muy Positivo\",\"Muy Positivo\",\"Neutro\",\"Neutro\",\"Muy Negativo\",\"Muy Positivo\",\"Positivo\",\"Neutro\",\"Positivo\",\"Muy Positivo\",\"Negativo\",\"Positivo\",\"Muy Negativo\",\"Muy Positivo\",\"Positivo\",\"Muy Positivo\",\"Muy Positivo\",\"Muy Positivo\",\"Muy Positivo\",\"Neutro\",\"Negativo\",\"Muy Negativo\",\"Positivo\",\"Neutro\",\"Negativo\",\"Muy Positivo\",\"Muy Positivo\",\"Negativo\",\"Negativo\",\"Muy Positivo\",\"Negativo\",\"Neutro\",\"Neutro\",\"Muy Positivo\",\"Muy Positivo\",\"Positivo\",\"Muy Positivo\",\"Neutro\",\"Negativo\",\"Neutro\",\"Negativo\",\"Positivo\",\"Muy Negativo\",\"Positivo\",\"Muy Negativo\",\"Muy Negativo\",\"Positivo\",\"Neutro\",\"Neutro\",\"Muy Positivo\",\"Positivo\",\"Negativo\",\"Positivo\",\"Negativo\",\"Negativo\",\"Muy Positivo\",\"Positivo\",\"Muy Negativo\",\"Negativo\",\"Positivo\",\"Neutro\",\"Neutro\",\"Neutro\",\"Neutro\",\"Positivo\",\"Neutro\",\"Positivo\",\"Positivo\",\"Muy Positivo\",\"Neutro\",\"Muy Negativo\",\"Muy Positivo\",\"Positivo\",\"Positivo\",\"Neutro\",\"Positivo\",\"Negativo\",\"Neutro\",\"Positivo\",\"Neutro\",\"Negativo\",\"Positivo\",\"Negativo\",\"Muy Positivo\",\"Muy Negativo\",\"Positivo\",\"Positivo\",\"Positivo\",\"Negativo\",\"Muy Positivo\",\"Positivo\",\"Muy Negativo\",\"Positivo\",\"Muy Negativo\",\"Neutro\",\"Neutro\",\"Negativo\",\"Positivo\",\"Muy Positivo\",\"Muy Positivo\",\"Muy Positivo\",\"Muy Positivo\",\"Neutro\",\"Negativo\",\"Negativo\",\"Positivo\",\"Muy Positivo\",\"Muy Positivo\",\"Neutro\",\"Muy Positivo\",\"Neutro\",\"Negativo\",\"Muy Positivo\",\"Muy Positivo\",\"Positivo\",\"Neutro\",\"Muy Positivo\",\"Muy Positivo\",\"Muy Positivo\",\"Positivo\",\"Muy Negativo\",\"Neutro\",\"Muy Positivo\",\"Muy Positivo\",\"Muy Positivo\",\"Muy Negativo\",\"Positivo\",\"Muy Positivo\",\"Positivo\",\"Muy Positivo\",\"Neutro\",\"Positivo\",\"Positivo\",\"Negativo\",\"Negativo\",\"Muy Positivo\",\"Muy Positivo\",\"Positivo\",\"Positivo\",\"Neutro\",\"Neutro\",\"Muy Negativo\",\"Negativo\",\"Muy Positivo\",\"Positivo\",\"Positivo\",\"Negativo\",\"Muy Positivo\",\"Negativo\",\"Muy Positivo\",\"Neutro\",\"Muy Positivo\",\"Positivo\",\"Positivo\",\"Muy Positivo\",\"Muy Positivo\",\"Neutro\",\"Muy Positivo\",\"Positivo\",\"Neutro\",\"Positivo\",\"Neutro\",\"Positivo\",\"Negativo\",\"Neutro\",\"Neutro\",\"Muy Positivo\",\"Muy Positivo\",\"Neutro\",\"Muy Positivo\",\"Positivo\",\"Muy Positivo\",\"Neutro\",\"Positivo\",\"Muy Positivo\",\"Negativo\",\"Negativo\",\"Neutro\",\"Neutro\",\"Positivo\",\"Muy Positivo\",\"Neutro\",\"Neutro\",\"Neutro\",\"Muy Positivo\",\"Muy Positivo\",\"Neutro\",\"Neutro\",\"Muy Positivo\",\"Muy Positivo\",\"Positivo\",\"Negativo\",\"Positivo\",\"Positivo\",\"Muy Positivo\",\"Muy Negativo\",\"Muy Negativo\",\"Muy Positivo\",\"Muy Positivo\",\"Neutro\",\"Muy Positivo\",\"Positivo\",\"Positivo\",\"Neutro\",\"Positivo\",\"Muy Positivo\",\"Muy Positivo\",\"Positivo\",\"Neutro\",\"Neutro\",\"Muy Positivo\",\"Negativo\",\"Muy Positivo\",\"Muy Positivo\",\"Positivo\",\"Positivo\",\"Negativo\",\"Muy Negativo\",\"Negativo\",\"Positivo\",\"Positivo\",\"Muy Positivo\",\"Positivo\",\"Neutro\",\"Neutro\",\"Muy Positivo\",\"Neutro\",\"Neutro\",\"Positivo\",\"Positivo\",\"Negativo\",\"Neutro\",\"Negativo\",\"Neutro\",\"Muy Positivo\",\"Positivo\",\"Negativo\",\"Muy Positivo\",\"Neutro\",\"Neutro\",\"Positivo\",\"Neutro\",\"Neutro\",\"Positivo\",\"Positivo\",\"Neutro\",\"Positivo\",\"Positivo\",\"Neutro\",\"Neutro\",\"Muy Positivo\",\"Muy Positivo\",\"Neutro\",\"Positivo\",\"Neutro\",\"Muy Negativo\",\"Positivo\",\"Muy Positivo\",\"Positivo\",\"Neutro\",\"Positivo\",\"Positivo\",\"Positivo\",\"Negativo\",\"Positivo\",\"Muy Positivo\",\"Muy Positivo\",\"Neutro\",\"Muy Positivo\",\"Negativo\",\"Positivo\",\"Muy Positivo\",\"Neutro\",\"Neutro\",\"Muy Positivo\",\"Negativo\",\"Neutro\",\"Muy Positivo\",\"Muy Positivo\",\"Neutro\",\"Positivo\",\"Negativo\",\"Muy Positivo\",\"Neutro\",\"Positivo\",\"Muy Positivo\",\"Muy Positivo\",\"Positivo\",\"Muy Negativo\",\"Muy Negativo\",\"Positivo\",\"Neutro\",\"Positivo\",\"Muy Positivo\",\"Neutro\",\"Neutro\",\"Negativo\",\"Muy Positivo\",\"Muy Positivo\",\"Positivo\",\"Negativo\",\"Muy Negativo\",\"Neutro\",\"Muy Negativo\",\"Positivo\",\"Neutro\",\"Muy Positivo\",\"Neutro\",\"Muy Positivo\",\"Muy Negativo\",\"Negativo\",\"Muy Positivo\",\"Neutro\",\"Neutro\",\"Muy Positivo\",\"Neutro\",\"Neutro\",\"Neutro\",\"Muy Negativo\",\"Neutro\",\"Negativo\",\"Muy Positivo\",\"Positivo\",\"Muy Negativo\",\"Positivo\",\"Positivo\",\"Muy Negativo\",\"Muy Positivo\",\"Neutro\",\"Positivo\",\"Negativo\",\"Positivo\",\"Positivo\",\"Positivo\",\"Neutro\",\"Neutro\",\"Muy Positivo\",\"Positivo\",\"Muy Positivo\",\"Positivo\",\"Neutro\",\"Negativo\",\"Muy Positivo\",\"Muy Positivo\",\"Negativo\",\"Muy Positivo\",\"Muy Positivo\",\"Neutro\",\"Muy Negativo\",\"Muy Negativo\",\"Muy Negativo\",\"Muy Negativo\",\"Muy Positivo\",\"Positivo\",\"Neutro\",\"Positivo\",\"Positivo\",\"Muy Positivo\",\"Negativo\",\"Muy Positivo\",\"Neutro\",\"Positivo\",\"Muy Positivo\",\"Neutro\",\"Neutro\",\"Negativo\",\"Negativo\",\"Muy Negativo\",\"Negativo\",\"Neutro\",\"Positivo\",\"Positivo\",\"Muy Positivo\",\"Neutro\",\"Muy Positivo\",\"Muy Negativo\",\"Positivo\",\"Positivo\",\"Neutro\",\"Negativo\",\"Muy Positivo\",\"Neutro\",\"Neutro\",\"Neutro\",\"Negativo\",\"Positivo\",\"Neutro\",\"Positivo\",\"Neutro\",\"Positivo\",\"Muy Negativo\",\"Muy Negativo\",\"Neutro\",\"Positivo\",\"Neutro\",\"Positivo\",\"Neutro\",\"Negativo\",\"Negativo\",\"Negativo\",\"Muy Positivo\",\"Muy Positivo\",\"Muy Positivo\",\"Muy Positivo\",\"Neutro\",\"Muy Negativo\",\"Muy Positivo\",\"Muy Positivo\",\"Positivo\",\"Muy Positivo\",\"Positivo\",\"Muy Positivo\",\"Negativo\",\"Muy Positivo\",\"Positivo\",\"Neutro\",\"Negativo\",\"Positivo\",\"Neutro\",\"Negativo\",\"Neutro\",\"Neutro\",\"Muy Positivo\",\"Muy Positivo\",\"Negativo\",\"Neutro\",\"Positivo\",\"Muy Negativo\",\"Neutro\",\"Neutro\",\"Muy Negativo\",\"Positivo\",\"Neutro\",\"Negativo\",\"Positivo\",\"Muy Negativo\",\"Positivo\",\"Positivo\",\"Muy Positivo\",\"Muy Positivo\",\"Negativo\",\"Positivo\",\"Negativo\",\"Neutro\",\"Positivo\",\"Negativo\",\"Muy Positivo\",\"Neutro\",\"Positivo\",\"Neutro\",\"Negativo\",\"Neutro\",\"Negativo\",\"Negativo\",\"Positivo\",\"Neutro\",\"Muy Negativo\",\"Muy Positivo\",\"Neutro\",\"Neutro\",\"Muy Positivo\",\"Positivo\",\"Positivo\",\"Positivo\",\"Negativo\",\"Positivo\",\"Neutro\",\"Negativo\",\"Muy Positivo\",\"Neutro\",\"Neutro\",\"Negativo\",\"Positivo\",\"Positivo\",\"Muy Positivo\",\"Muy Positivo\",\"Positivo\",\"Positivo\",\"Neutro\",\"Muy Positivo\",\"Negativo\",\"Muy Negativo\",\"Positivo\",\"Muy Positivo\",\"Muy Positivo\",\"Positivo\",\"Muy Positivo\",\"Negativo\",\"Muy Positivo\",\"Muy Positivo\",\"Muy Positivo\",\"Muy Positivo\",\"Neutro\",\"Neutro\",\"Muy Positivo\",\"Muy Positivo\",\"Muy Negativo\",\"Positivo\",\"Negativo\",\"Muy Negativo\",\"Neutro\",\"Positivo\",\"Muy Positivo\",\"Neutro\",\"Muy Positivo\",\"Positivo\",\"Muy Positivo\",\"Muy Positivo\",\"Neutro\",\"Neutro\",\"Positivo\",\"Neutro\",\"Neutro\",\"Muy Positivo\",\"Negativo\",\"Muy Negativo\",\"Muy Positivo\",\"Muy Positivo\",\"Negativo\",\"Muy Positivo\",\"Muy Positivo\",\"Negativo\",\"Muy Positivo\",\"Neutro\",\"Positivo\",\"Muy Positivo\",\"Muy Negativo\",\"Positivo\",\"Muy Positivo\",\"Muy Positivo\",\"Positivo\",\"Neutro\",\"Positivo\",\"Neutro\",\"Positivo\",\"Negativo\",\"Neutro\",\"Muy Positivo\",\"Positivo\",\"Positivo\",\"Neutro\",\"Muy Positivo\",\"Neutro\",\"Neutro\",\"Neutro\",\"Muy Positivo\",\"Neutro\",\"Positivo\",\"Muy Negativo\",\"Positivo\",\"Muy Negativo\",\"Positivo\",\"Muy Positivo\",\"Negativo\",\"Positivo\",\"Negativo\",\"Neutro\",\"Muy Positivo\",\"Negativo\",\"Negativo\",\"Neutro\",\"Muy Negativo\",\"Negativo\",\"Neutro\",\"Negativo\",\"Positivo\",\"Muy Negativo\",\"Muy Negativo\",\"Muy Positivo\",\"Muy Positivo\",\"Muy Negativo\",\"Negativo\",\"Muy Negativo\",\"Muy Positivo\",\"Positivo\",\"Negativo\",\"Positivo\",\"Positivo\",\"Neutro\",\"Positivo\",\"Neutro\",\"Muy Positivo\",\"Positivo\",\"Positivo\",\"Neutro\",\"Positivo\",\"Neutro\",\"Muy Positivo\",\"Muy Positivo\",\"Neutro\",\"Positivo\",\"Positivo\",\"Negativo\",\"Muy Positivo\",\"Muy Positivo\",\"Neutro\",\"Muy Positivo\",\"Positivo\",\"Positivo\",\"Neutro\",\"Positivo\",\"Neutro\",\"Muy Negativo\",\"Muy Positivo\",\"Negativo\",\"Neutro\",\"Muy Positivo\",\"Negativo\",\"Positivo\",\"Muy Positivo\",\"Negativo\",\"Muy Positivo\",\"Negativo\",\"Muy Positivo\",\"Neutro\",\"Negativo\",\"Muy Positivo\",\"Positivo\",\"Neutro\",\"Muy Positivo\",\"Positivo\",\"Neutro\",\"Neutro\",\"Muy Negativo\",\"Muy Positivo\",\"Positivo\",\"Neutro\",\"Positivo\",\"Neutro\",\"Muy Positivo\",\"Neutro\",\"Negativo\",\"Muy Positivo\",\"Positivo\",\"Muy Positivo\",\"Positivo\",\"Muy Positivo\",\"Muy Positivo\",\"Muy Positivo\",\"Muy Positivo\",\"Neutro\",\"Positivo\",\"Positivo\",\"Negativo\",\"Neutro\",\"Positivo\",\"Negativo\",\"Neutro\",\"Positivo\",\"Muy Negativo\",\"Negativo\",\"Positivo\",\"Positivo\",\"Negativo\",\"Neutro\",\"Muy Positivo\",\"Negativo\",\"Muy Positivo\",\"Muy Positivo\",\"Positivo\",\"Positivo\",\"Muy Positivo\",\"Positivo\",\"Negativo\",\"Muy Negativo\",\"Neutro\",\"Positivo\",\"Negativo\",\"Neutro\",\"Muy Positivo\",\"Positivo\",\"Muy Negativo\",\"Neutro\",\"Neutro\",\"Muy Positivo\",\"Neutro\",\"Neutro\",\"Muy Negativo\",\"Muy Positivo\",\"Muy Positivo\",\"Neutro\",\"Muy Positivo\",\"Muy Negativo\",\"Positivo\",\"Neutro\",\"Muy Positivo\",\"Negativo\",\"Positivo\",\"Negativo\",\"Muy Negativo\",\"Muy Positivo\",\"Negativo\",\"Neutro\",\"Neutro\",\"Positivo\",\"Neutro\",\"Muy Negativo\",\"Positivo\",\"Muy Positivo\",\"Positivo\",\"Positivo\",\"Muy Positivo\",\"Negativo\",\"Muy Positivo\",\"Negativo\",\"Positivo\",\"Muy Positivo\",\"Positivo\",\"Positivo\",\"Positivo\",\"Positivo\",\"Muy Positivo\",\"Muy Negativo\",\"Muy Negativo\",\"Neutro\",\"Neutro\",\"Muy Positivo\",\"Muy Positivo\",\"Positivo\",\"Muy Positivo\",\"Muy Positivo\",\"Muy Negativo\",\"Muy Positivo\",\"Neutro\",\"Muy Negativo\",\"Muy Positivo\",\"Positivo\",\"Muy Positivo\",\"Neutro\",\"Positivo\",\"Positivo\",\"Muy Positivo\",\"Positivo\",\"Negativo\",\"Muy Positivo\",\"Muy Positivo\",\"Positivo\",\"Neutro\",\"Negativo\",\"Neutro\",\"Muy Positivo\",\"Muy Positivo\",\"Muy Negativo\",\"Neutro\",\"Neutro\",\"Muy Positivo\",\"Negativo\",\"Negativo\",\"Negativo\",\"Positivo\",\"Muy Positivo\",\"Muy Positivo\",\"Neutro\",\"Neutro\",\"Positivo\",\"Neutro\",\"Positivo\",\"Positivo\",\"Muy Positivo\",\"Positivo\",\"Muy Negativo\",\"Neutro\",\"Positivo\",\"Muy Negativo\",\"Negativo\",\"Muy Negativo\",\"Neutro\",\"Neutro\",\"Muy Positivo\",\"Positivo\",\"Positivo\",\"Muy Positivo\",\"Positivo\",\"Positivo\",\"Muy Negativo\",\"Negativo\",\"Muy Negativo\",\"Negativo\",\"Muy Positivo\",\"Positivo\",\"Positivo\",\"Muy Positivo\",\"Muy Positivo\",\"Negativo\",\"Positivo\",\"Positivo\",\"Positivo\",\"Positivo\",\"Positivo\",\"Positivo\",\"Positivo\",\"Muy Positivo\",\"Positivo\",\"Negativo\",\"Negativo\",\"Positivo\",\"Muy Negativo\",\"Negativo\",\"Negativo\",\"Muy Negativo\",\"Negativo\",\"Positivo\",\"Neutro\",\"Neutro\",\"Neutro\",\"Neutro\",\"Negativo\",\"Muy Negativo\",\"Muy Negativo\",\"Positivo\",\"Muy Positivo\",\"Positivo\",\"Muy Positivo\",\"Neutro\",\"Muy Positivo\",\"Neutro\",\"Positivo\",\"Positivo\",\"Neutro\",\"Muy Negativo\",\"Muy Positivo\"],\"legendgroup\":\"\",\"name\":\"\",\"showlegend\":true,\"type\":\"pie\"}],                        {\"template\":{\"data\":{\"histogram2dcontour\":[{\"type\":\"histogram2dcontour\",\"colorbar\":{\"outlinewidth\":0,\"ticks\":\"\"},\"colorscale\":[[0.0,\"#0d0887\"],[0.1111111111111111,\"#46039f\"],[0.2222222222222222,\"#7201a8\"],[0.3333333333333333,\"#9c179e\"],[0.4444444444444444,\"#bd3786\"],[0.5555555555555556,\"#d8576b\"],[0.6666666666666666,\"#ed7953\"],[0.7777777777777778,\"#fb9f3a\"],[0.8888888888888888,\"#fdca26\"],[1.0,\"#f0f921\"]]}],\"choropleth\":[{\"type\":\"choropleth\",\"colorbar\":{\"outlinewidth\":0,\"ticks\":\"\"}}],\"histogram2d\":[{\"type\":\"histogram2d\",\"colorbar\":{\"outlinewidth\":0,\"ticks\":\"\"},\"colorscale\":[[0.0,\"#0d0887\"],[0.1111111111111111,\"#46039f\"],[0.2222222222222222,\"#7201a8\"],[0.3333333333333333,\"#9c179e\"],[0.4444444444444444,\"#bd3786\"],[0.5555555555555556,\"#d8576b\"],[0.6666666666666666,\"#ed7953\"],[0.7777777777777778,\"#fb9f3a\"],[0.8888888888888888,\"#fdca26\"],[1.0,\"#f0f921\"]]}],\"heatmap\":[{\"type\":\"heatmap\",\"colorbar\":{\"outlinewidth\":0,\"ticks\":\"\"},\"colorscale\":[[0.0,\"#0d0887\"],[0.1111111111111111,\"#46039f\"],[0.2222222222222222,\"#7201a8\"],[0.3333333333333333,\"#9c179e\"],[0.4444444444444444,\"#bd3786\"],[0.5555555555555556,\"#d8576b\"],[0.6666666666666666,\"#ed7953\"],[0.7777777777777778,\"#fb9f3a\"],[0.8888888888888888,\"#fdca26\"],[1.0,\"#f0f921\"]]}],\"heatmapgl\":[{\"type\":\"heatmapgl\",\"colorbar\":{\"outlinewidth\":0,\"ticks\":\"\"},\"colorscale\":[[0.0,\"#0d0887\"],[0.1111111111111111,\"#46039f\"],[0.2222222222222222,\"#7201a8\"],[0.3333333333333333,\"#9c179e\"],[0.4444444444444444,\"#bd3786\"],[0.5555555555555556,\"#d8576b\"],[0.6666666666666666,\"#ed7953\"],[0.7777777777777778,\"#fb9f3a\"],[0.8888888888888888,\"#fdca26\"],[1.0,\"#f0f921\"]]}],\"contourcarpet\":[{\"type\":\"contourcarpet\",\"colorbar\":{\"outlinewidth\":0,\"ticks\":\"\"}}],\"contour\":[{\"type\":\"contour\",\"colorbar\":{\"outlinewidth\":0,\"ticks\":\"\"},\"colorscale\":[[0.0,\"#0d0887\"],[0.1111111111111111,\"#46039f\"],[0.2222222222222222,\"#7201a8\"],[0.3333333333333333,\"#9c179e\"],[0.4444444444444444,\"#bd3786\"],[0.5555555555555556,\"#d8576b\"],[0.6666666666666666,\"#ed7953\"],[0.7777777777777778,\"#fb9f3a\"],[0.8888888888888888,\"#fdca26\"],[1.0,\"#f0f921\"]]}],\"surface\":[{\"type\":\"surface\",\"colorbar\":{\"outlinewidth\":0,\"ticks\":\"\"},\"colorscale\":[[0.0,\"#0d0887\"],[0.1111111111111111,\"#46039f\"],[0.2222222222222222,\"#7201a8\"],[0.3333333333333333,\"#9c179e\"],[0.4444444444444444,\"#bd3786\"],[0.5555555555555556,\"#d8576b\"],[0.6666666666666666,\"#ed7953\"],[0.7777777777777778,\"#fb9f3a\"],[0.8888888888888888,\"#fdca26\"],[1.0,\"#f0f921\"]]}],\"mesh3d\":[{\"type\":\"mesh3d\",\"colorbar\":{\"outlinewidth\":0,\"ticks\":\"\"}}],\"scatter\":[{\"fillpattern\":{\"fillmode\":\"overlay\",\"size\":10,\"solidity\":0.2},\"type\":\"scatter\"}],\"parcoords\":[{\"type\":\"parcoords\",\"line\":{\"colorbar\":{\"outlinewidth\":0,\"ticks\":\"\"}}}],\"scatterpolargl\":[{\"type\":\"scatterpolargl\",\"marker\":{\"colorbar\":{\"outlinewidth\":0,\"ticks\":\"\"}}}],\"bar\":[{\"error_x\":{\"color\":\"#2a3f5f\"},\"error_y\":{\"color\":\"#2a3f5f\"},\"marker\":{\"line\":{\"color\":\"#E5ECF6\",\"width\":0.5},\"pattern\":{\"fillmode\":\"overlay\",\"size\":10,\"solidity\":0.2}},\"type\":\"bar\"}],\"scattergeo\":[{\"type\":\"scattergeo\",\"marker\":{\"colorbar\":{\"outlinewidth\":0,\"ticks\":\"\"}}}],\"scatterpolar\":[{\"type\":\"scatterpolar\",\"marker\":{\"colorbar\":{\"outlinewidth\":0,\"ticks\":\"\"}}}],\"histogram\":[{\"marker\":{\"pattern\":{\"fillmode\":\"overlay\",\"size\":10,\"solidity\":0.2}},\"type\":\"histogram\"}],\"scattergl\":[{\"type\":\"scattergl\",\"marker\":{\"colorbar\":{\"outlinewidth\":0,\"ticks\":\"\"}}}],\"scatter3d\":[{\"type\":\"scatter3d\",\"line\":{\"colorbar\":{\"outlinewidth\":0,\"ticks\":\"\"}},\"marker\":{\"colorbar\":{\"outlinewidth\":0,\"ticks\":\"\"}}}],\"scattermapbox\":[{\"type\":\"scattermapbox\",\"marker\":{\"colorbar\":{\"outlinewidth\":0,\"ticks\":\"\"}}}],\"scatterternary\":[{\"type\":\"scatterternary\",\"marker\":{\"colorbar\":{\"outlinewidth\":0,\"ticks\":\"\"}}}],\"scattercarpet\":[{\"type\":\"scattercarpet\",\"marker\":{\"colorbar\":{\"outlinewidth\":0,\"ticks\":\"\"}}}],\"carpet\":[{\"aaxis\":{\"endlinecolor\":\"#2a3f5f\",\"gridcolor\":\"white\",\"linecolor\":\"white\",\"minorgridcolor\":\"white\",\"startlinecolor\":\"#2a3f5f\"},\"baxis\":{\"endlinecolor\":\"#2a3f5f\",\"gridcolor\":\"white\",\"linecolor\":\"white\",\"minorgridcolor\":\"white\",\"startlinecolor\":\"#2a3f5f\"},\"type\":\"carpet\"}],\"table\":[{\"cells\":{\"fill\":{\"color\":\"#EBF0F8\"},\"line\":{\"color\":\"white\"}},\"header\":{\"fill\":{\"color\":\"#C8D4E3\"},\"line\":{\"color\":\"white\"}},\"type\":\"table\"}],\"barpolar\":[{\"marker\":{\"line\":{\"color\":\"#E5ECF6\",\"width\":0.5},\"pattern\":{\"fillmode\":\"overlay\",\"size\":10,\"solidity\":0.2}},\"type\":\"barpolar\"}],\"pie\":[{\"automargin\":true,\"type\":\"pie\"}]},\"layout\":{\"autotypenumbers\":\"strict\",\"colorway\":[\"#636efa\",\"#EF553B\",\"#00cc96\",\"#ab63fa\",\"#FFA15A\",\"#19d3f3\",\"#FF6692\",\"#B6E880\",\"#FF97FF\",\"#FECB52\"],\"font\":{\"color\":\"#2a3f5f\"},\"hovermode\":\"closest\",\"hoverlabel\":{\"align\":\"left\"},\"paper_bgcolor\":\"white\",\"plot_bgcolor\":\"#E5ECF6\",\"polar\":{\"bgcolor\":\"#E5ECF6\",\"angularaxis\":{\"gridcolor\":\"white\",\"linecolor\":\"white\",\"ticks\":\"\"},\"radialaxis\":{\"gridcolor\":\"white\",\"linecolor\":\"white\",\"ticks\":\"\"}},\"ternary\":{\"bgcolor\":\"#E5ECF6\",\"aaxis\":{\"gridcolor\":\"white\",\"linecolor\":\"white\",\"ticks\":\"\"},\"baxis\":{\"gridcolor\":\"white\",\"linecolor\":\"white\",\"ticks\":\"\"},\"caxis\":{\"gridcolor\":\"white\",\"linecolor\":\"white\",\"ticks\":\"\"}},\"coloraxis\":{\"colorbar\":{\"outlinewidth\":0,\"ticks\":\"\"}},\"colorscale\":{\"sequential\":[[0.0,\"#0d0887\"],[0.1111111111111111,\"#46039f\"],[0.2222222222222222,\"#7201a8\"],[0.3333333333333333,\"#9c179e\"],[0.4444444444444444,\"#bd3786\"],[0.5555555555555556,\"#d8576b\"],[0.6666666666666666,\"#ed7953\"],[0.7777777777777778,\"#fb9f3a\"],[0.8888888888888888,\"#fdca26\"],[1.0,\"#f0f921\"]],\"sequentialminus\":[[0.0,\"#0d0887\"],[0.1111111111111111,\"#46039f\"],[0.2222222222222222,\"#7201a8\"],[0.3333333333333333,\"#9c179e\"],[0.4444444444444444,\"#bd3786\"],[0.5555555555555556,\"#d8576b\"],[0.6666666666666666,\"#ed7953\"],[0.7777777777777778,\"#fb9f3a\"],[0.8888888888888888,\"#fdca26\"],[1.0,\"#f0f921\"]],\"diverging\":[[0,\"#8e0152\"],[0.1,\"#c51b7d\"],[0.2,\"#de77ae\"],[0.3,\"#f1b6da\"],[0.4,\"#fde0ef\"],[0.5,\"#f7f7f7\"],[0.6,\"#e6f5d0\"],[0.7,\"#b8e186\"],[0.8,\"#7fbc41\"],[0.9,\"#4d9221\"],[1,\"#276419\"]]},\"xaxis\":{\"gridcolor\":\"white\",\"linecolor\":\"white\",\"ticks\":\"\",\"title\":{\"standoff\":15},\"zerolinecolor\":\"white\",\"automargin\":true,\"zerolinewidth\":2},\"yaxis\":{\"gridcolor\":\"white\",\"linecolor\":\"white\",\"ticks\":\"\",\"title\":{\"standoff\":15},\"zerolinecolor\":\"white\",\"automargin\":true,\"zerolinewidth\":2},\"scene\":{\"xaxis\":{\"backgroundcolor\":\"#E5ECF6\",\"gridcolor\":\"white\",\"linecolor\":\"white\",\"showbackground\":true,\"ticks\":\"\",\"zerolinecolor\":\"white\",\"gridwidth\":2},\"yaxis\":{\"backgroundcolor\":\"#E5ECF6\",\"gridcolor\":\"white\",\"linecolor\":\"white\",\"showbackground\":true,\"ticks\":\"\",\"zerolinecolor\":\"white\",\"gridwidth\":2},\"zaxis\":{\"backgroundcolor\":\"#E5ECF6\",\"gridcolor\":\"white\",\"linecolor\":\"white\",\"showbackground\":true,\"ticks\":\"\",\"zerolinecolor\":\"white\",\"gridwidth\":2}},\"shapedefaults\":{\"line\":{\"color\":\"#2a3f5f\"}},\"annotationdefaults\":{\"arrowcolor\":\"#2a3f5f\",\"arrowhead\":0,\"arrowwidth\":1},\"geo\":{\"bgcolor\":\"white\",\"landcolor\":\"#E5ECF6\",\"subunitcolor\":\"white\",\"showland\":true,\"showlakes\":true,\"lakecolor\":\"white\"},\"title\":{\"x\":0.05},\"mapbox\":{\"style\":\"light\"}}},\"legend\":{\"tracegroupgap\":0},\"title\":{\"text\":\"Proporci\\u00f3n de clases\"}},                        {\"responsive\": true}                    ).then(function(){\n",
              "                            \n",
              "var gd = document.getElementById('caa5807f-ce6d-4a74-a7ed-bfff52f7ba2c');\n",
              "var x = new MutationObserver(function (mutations, observer) {{\n",
              "        var display = window.getComputedStyle(gd).display;\n",
              "        if (!display || display === 'none') {{\n",
              "            console.log([gd, 'removed!']);\n",
              "            Plotly.purge(gd);\n",
              "            observer.disconnect();\n",
              "        }}\n",
              "}});\n",
              "\n",
              "// Listen for the removal of the full notebook cells\n",
              "var notebookContainer = gd.closest('#notebook-container');\n",
              "if (notebookContainer) {{\n",
              "    x.observe(notebookContainer, {childList: true});\n",
              "}}\n",
              "\n",
              "// Listen for the clearing of the current output cell\n",
              "var outputEl = gd.closest('.output');\n",
              "if (outputEl) {{\n",
              "    x.observe(outputEl, {childList: true});\n",
              "}}\n",
              "\n",
              "                        })                };                            </script>        </div>\n",
              "</body>\n",
              "</html>"
            ]
          },
          "metadata": {}
        }
      ]
    },
    {
      "cell_type": "markdown",
      "source": [
        "De las enteriores visualizaciones podemos inferir que las reseñas positivas dominan por encia de las neutras y de las negativas. Ademas, las reseñas muy negativas ocupan un proporción pequeña lo cual nos puede indicar que las palabras presentes en reseñas negativas pueden determinantes a la hora de reconocer una de estas."
      ],
      "metadata": {
        "id": "pTYavvRq1LM9"
      }
    },
    {
      "cell_type": "markdown",
      "source": [
        "### Analisis de la longitud de las reseñas\n",
        "\n",
        "En este punto revisaremos algunas estadisticas importantes sobre la longitud de las reseñas. Esto es importante por cuanto la longitud de una reseña puede dar pistas si esta es negativa, positiva o neutra. Por ejemplo, las personas con sentiemientos neutros sobre su experiencia puede que dejen reseñas cortas y directas. Por otro lado, personas con gran insatisfacción pueden dejar reseñas bastante descriptivas.\n",
        "\n",
        "Para lograr lo anterior, añadiremos una nueva columna a nuestro data frame sobre la longitud de la reseña y asi poder sacar algunas estadisticas de la misma. Como se vera, la columna lleva el nombre de 'OrginalLenght' dado que mas adelante se deberan hacer transformaciones sobre las reseñas que van a alterar su longitud."
      ],
      "metadata": {
        "id": "m5smhJeI1yC0"
      }
    },
    {
      "cell_type": "code",
      "source": [
        "def text_length(tweet):\n",
        "    str_len=len(tweet.split(\" \"))\n",
        "    return(str_len)\n",
        "reviews['OriginalLength']= reviews['Review'].apply(lambda x:text_length(x))\n",
        "reviews.head()"
      ],
      "metadata": {
        "colab": {
          "base_uri": "https://localhost:8080/",
          "height": 206
        },
        "id": "JTlk_jzg1xdu",
        "outputId": "b88236fd-98f3-4d40-8e7d-3650f038b2ca"
      },
      "execution_count": null,
      "outputs": [
        {
          "output_type": "execute_result",
          "data": {
            "text/plain": [
              "                                              Review         Class  \\\n",
              "0  Muy buena atención y aclaración de dudas por p...  Muy Positivo   \n",
              "1  Buen hotel si están obligados a estar cerca de...        Neutro   \n",
              "2  Es un lugar muy lindo para fotografías, visite...  Muy Positivo   \n",
              "3  Abusados con la factura de alimentos siempre s...        Neutro   \n",
              "4  Tuvimos un par de personas en el grupo que rea...        Neutro   \n",
              "\n",
              "   OriginalLength  \n",
              "0              40  \n",
              "1              54  \n",
              "2              17  \n",
              "3              81  \n",
              "4              70  "
            ],
            "text/html": [
              "\n",
              "  <div id=\"df-7f48a8ef-c3d2-4836-9ebb-1d8d0fef20ca\" class=\"colab-df-container\">\n",
              "    <div>\n",
              "<style scoped>\n",
              "    .dataframe tbody tr th:only-of-type {\n",
              "        vertical-align: middle;\n",
              "    }\n",
              "\n",
              "    .dataframe tbody tr th {\n",
              "        vertical-align: top;\n",
              "    }\n",
              "\n",
              "    .dataframe thead th {\n",
              "        text-align: right;\n",
              "    }\n",
              "</style>\n",
              "<table border=\"1\" class=\"dataframe\">\n",
              "  <thead>\n",
              "    <tr style=\"text-align: right;\">\n",
              "      <th></th>\n",
              "      <th>Review</th>\n",
              "      <th>Class</th>\n",
              "      <th>OriginalLength</th>\n",
              "    </tr>\n",
              "  </thead>\n",
              "  <tbody>\n",
              "    <tr>\n",
              "      <th>0</th>\n",
              "      <td>Muy buena atención y aclaración de dudas por p...</td>\n",
              "      <td>Muy Positivo</td>\n",
              "      <td>40</td>\n",
              "    </tr>\n",
              "    <tr>\n",
              "      <th>1</th>\n",
              "      <td>Buen hotel si están obligados a estar cerca de...</td>\n",
              "      <td>Neutro</td>\n",
              "      <td>54</td>\n",
              "    </tr>\n",
              "    <tr>\n",
              "      <th>2</th>\n",
              "      <td>Es un lugar muy lindo para fotografías, visite...</td>\n",
              "      <td>Muy Positivo</td>\n",
              "      <td>17</td>\n",
              "    </tr>\n",
              "    <tr>\n",
              "      <th>3</th>\n",
              "      <td>Abusados con la factura de alimentos siempre s...</td>\n",
              "      <td>Neutro</td>\n",
              "      <td>81</td>\n",
              "    </tr>\n",
              "    <tr>\n",
              "      <th>4</th>\n",
              "      <td>Tuvimos un par de personas en el grupo que rea...</td>\n",
              "      <td>Neutro</td>\n",
              "      <td>70</td>\n",
              "    </tr>\n",
              "  </tbody>\n",
              "</table>\n",
              "</div>\n",
              "    <div class=\"colab-df-buttons\">\n",
              "\n",
              "  <div class=\"colab-df-container\">\n",
              "    <button class=\"colab-df-convert\" onclick=\"convertToInteractive('df-7f48a8ef-c3d2-4836-9ebb-1d8d0fef20ca')\"\n",
              "            title=\"Convert this dataframe to an interactive table.\"\n",
              "            style=\"display:none;\">\n",
              "\n",
              "  <svg xmlns=\"http://www.w3.org/2000/svg\" height=\"24px\" viewBox=\"0 -960 960 960\">\n",
              "    <path d=\"M120-120v-720h720v720H120Zm60-500h600v-160H180v160Zm220 220h160v-160H400v160Zm0 220h160v-160H400v160ZM180-400h160v-160H180v160Zm440 0h160v-160H620v160ZM180-180h160v-160H180v160Zm440 0h160v-160H620v160Z\"/>\n",
              "  </svg>\n",
              "    </button>\n",
              "\n",
              "  <style>\n",
              "    .colab-df-container {\n",
              "      display:flex;\n",
              "      gap: 12px;\n",
              "    }\n",
              "\n",
              "    .colab-df-convert {\n",
              "      background-color: #E8F0FE;\n",
              "      border: none;\n",
              "      border-radius: 50%;\n",
              "      cursor: pointer;\n",
              "      display: none;\n",
              "      fill: #1967D2;\n",
              "      height: 32px;\n",
              "      padding: 0 0 0 0;\n",
              "      width: 32px;\n",
              "    }\n",
              "\n",
              "    .colab-df-convert:hover {\n",
              "      background-color: #E2EBFA;\n",
              "      box-shadow: 0px 1px 2px rgba(60, 64, 67, 0.3), 0px 1px 3px 1px rgba(60, 64, 67, 0.15);\n",
              "      fill: #174EA6;\n",
              "    }\n",
              "\n",
              "    .colab-df-buttons div {\n",
              "      margin-bottom: 4px;\n",
              "    }\n",
              "\n",
              "    [theme=dark] .colab-df-convert {\n",
              "      background-color: #3B4455;\n",
              "      fill: #D2E3FC;\n",
              "    }\n",
              "\n",
              "    [theme=dark] .colab-df-convert:hover {\n",
              "      background-color: #434B5C;\n",
              "      box-shadow: 0px 1px 3px 1px rgba(0, 0, 0, 0.15);\n",
              "      filter: drop-shadow(0px 1px 2px rgba(0, 0, 0, 0.3));\n",
              "      fill: #FFFFFF;\n",
              "    }\n",
              "  </style>\n",
              "\n",
              "    <script>\n",
              "      const buttonEl =\n",
              "        document.querySelector('#df-7f48a8ef-c3d2-4836-9ebb-1d8d0fef20ca button.colab-df-convert');\n",
              "      buttonEl.style.display =\n",
              "        google.colab.kernel.accessAllowed ? 'block' : 'none';\n",
              "\n",
              "      async function convertToInteractive(key) {\n",
              "        const element = document.querySelector('#df-7f48a8ef-c3d2-4836-9ebb-1d8d0fef20ca');\n",
              "        const dataTable =\n",
              "          await google.colab.kernel.invokeFunction('convertToInteractive',\n",
              "                                                    [key], {});\n",
              "        if (!dataTable) return;\n",
              "\n",
              "        const docLinkHtml = 'Like what you see? Visit the ' +\n",
              "          '<a target=\"_blank\" href=https://colab.research.google.com/notebooks/data_table.ipynb>data table notebook</a>'\n",
              "          + ' to learn more about interactive tables.';\n",
              "        element.innerHTML = '';\n",
              "        dataTable['output_type'] = 'display_data';\n",
              "        await google.colab.output.renderOutput(dataTable, element);\n",
              "        const docLink = document.createElement('div');\n",
              "        docLink.innerHTML = docLinkHtml;\n",
              "        element.appendChild(docLink);\n",
              "      }\n",
              "    </script>\n",
              "  </div>\n",
              "\n",
              "\n",
              "<div id=\"df-adc3b5e8-af4d-4f65-97b3-459ae104edc1\">\n",
              "  <button class=\"colab-df-quickchart\" onclick=\"quickchart('df-adc3b5e8-af4d-4f65-97b3-459ae104edc1')\"\n",
              "            title=\"Suggest charts\"\n",
              "            style=\"display:none;\">\n",
              "\n",
              "<svg xmlns=\"http://www.w3.org/2000/svg\" height=\"24px\"viewBox=\"0 0 24 24\"\n",
              "     width=\"24px\">\n",
              "    <g>\n",
              "        <path d=\"M19 3H5c-1.1 0-2 .9-2 2v14c0 1.1.9 2 2 2h14c1.1 0 2-.9 2-2V5c0-1.1-.9-2-2-2zM9 17H7v-7h2v7zm4 0h-2V7h2v10zm4 0h-2v-4h2v4z\"/>\n",
              "    </g>\n",
              "</svg>\n",
              "  </button>\n",
              "\n",
              "<style>\n",
              "  .colab-df-quickchart {\n",
              "      --bg-color: #E8F0FE;\n",
              "      --fill-color: #1967D2;\n",
              "      --hover-bg-color: #E2EBFA;\n",
              "      --hover-fill-color: #174EA6;\n",
              "      --disabled-fill-color: #AAA;\n",
              "      --disabled-bg-color: #DDD;\n",
              "  }\n",
              "\n",
              "  [theme=dark] .colab-df-quickchart {\n",
              "      --bg-color: #3B4455;\n",
              "      --fill-color: #D2E3FC;\n",
              "      --hover-bg-color: #434B5C;\n",
              "      --hover-fill-color: #FFFFFF;\n",
              "      --disabled-bg-color: #3B4455;\n",
              "      --disabled-fill-color: #666;\n",
              "  }\n",
              "\n",
              "  .colab-df-quickchart {\n",
              "    background-color: var(--bg-color);\n",
              "    border: none;\n",
              "    border-radius: 50%;\n",
              "    cursor: pointer;\n",
              "    display: none;\n",
              "    fill: var(--fill-color);\n",
              "    height: 32px;\n",
              "    padding: 0;\n",
              "    width: 32px;\n",
              "  }\n",
              "\n",
              "  .colab-df-quickchart:hover {\n",
              "    background-color: var(--hover-bg-color);\n",
              "    box-shadow: 0 1px 2px rgba(60, 64, 67, 0.3), 0 1px 3px 1px rgba(60, 64, 67, 0.15);\n",
              "    fill: var(--button-hover-fill-color);\n",
              "  }\n",
              "\n",
              "  .colab-df-quickchart-complete:disabled,\n",
              "  .colab-df-quickchart-complete:disabled:hover {\n",
              "    background-color: var(--disabled-bg-color);\n",
              "    fill: var(--disabled-fill-color);\n",
              "    box-shadow: none;\n",
              "  }\n",
              "\n",
              "  .colab-df-spinner {\n",
              "    border: 2px solid var(--fill-color);\n",
              "    border-color: transparent;\n",
              "    border-bottom-color: var(--fill-color);\n",
              "    animation:\n",
              "      spin 1s steps(1) infinite;\n",
              "  }\n",
              "\n",
              "  @keyframes spin {\n",
              "    0% {\n",
              "      border-color: transparent;\n",
              "      border-bottom-color: var(--fill-color);\n",
              "      border-left-color: var(--fill-color);\n",
              "    }\n",
              "    20% {\n",
              "      border-color: transparent;\n",
              "      border-left-color: var(--fill-color);\n",
              "      border-top-color: var(--fill-color);\n",
              "    }\n",
              "    30% {\n",
              "      border-color: transparent;\n",
              "      border-left-color: var(--fill-color);\n",
              "      border-top-color: var(--fill-color);\n",
              "      border-right-color: var(--fill-color);\n",
              "    }\n",
              "    40% {\n",
              "      border-color: transparent;\n",
              "      border-right-color: var(--fill-color);\n",
              "      border-top-color: var(--fill-color);\n",
              "    }\n",
              "    60% {\n",
              "      border-color: transparent;\n",
              "      border-right-color: var(--fill-color);\n",
              "    }\n",
              "    80% {\n",
              "      border-color: transparent;\n",
              "      border-right-color: var(--fill-color);\n",
              "      border-bottom-color: var(--fill-color);\n",
              "    }\n",
              "    90% {\n",
              "      border-color: transparent;\n",
              "      border-bottom-color: var(--fill-color);\n",
              "    }\n",
              "  }\n",
              "</style>\n",
              "\n",
              "  <script>\n",
              "    async function quickchart(key) {\n",
              "      const quickchartButtonEl =\n",
              "        document.querySelector('#' + key + ' button');\n",
              "      quickchartButtonEl.disabled = true;  // To prevent multiple clicks.\n",
              "      quickchartButtonEl.classList.add('colab-df-spinner');\n",
              "      try {\n",
              "        const charts = await google.colab.kernel.invokeFunction(\n",
              "            'suggestCharts', [key], {});\n",
              "      } catch (error) {\n",
              "        console.error('Error during call to suggestCharts:', error);\n",
              "      }\n",
              "      quickchartButtonEl.classList.remove('colab-df-spinner');\n",
              "      quickchartButtonEl.classList.add('colab-df-quickchart-complete');\n",
              "    }\n",
              "    (() => {\n",
              "      let quickchartButtonEl =\n",
              "        document.querySelector('#df-adc3b5e8-af4d-4f65-97b3-459ae104edc1 button');\n",
              "      quickchartButtonEl.style.display =\n",
              "        google.colab.kernel.accessAllowed ? 'block' : 'none';\n",
              "    })();\n",
              "  </script>\n",
              "</div>\n",
              "\n",
              "    </div>\n",
              "  </div>\n"
            ],
            "application/vnd.google.colaboratory.intrinsic+json": {
              "type": "dataframe",
              "variable_name": "reviews",
              "summary": "{\n  \"name\": \"reviews\",\n  \"rows\": 7875,\n  \"fields\": [\n    {\n      \"column\": \"Review\",\n      \"properties\": {\n        \"dtype\": \"string\",\n        \"num_unique_values\": 7802,\n        \"samples\": [\n          \"Fascinante viaje atr\\u00e1s en el tiempo con Henequin o producci\\u00f3n de Sisal. La gu\\u00eda era encantadora y la ceynote era una ventaja a\\u00f1adida\",\n          \"Una estancia en un hotel maravilloso! El personal es amable, el desayuno de buffet es estupendo y muy bonita piscina en la azotea. Sin duda se lo recomendar\\u00eda a todo el mundo! La ubicaci\\u00f3n tambi\\u00e9n es genial, a corta distancia a pie de los lugares m\\u00e1s populares.\",\n          \"Excelente hotel, muy buena ubicaci\\u00f3n, frente al parque central de La Habana vieja, muy cerca del casco hist\\u00f3rico, de La Floridita, la Bodeguita del Medio. Es uno de los hoteles m\\u00e1s antiguos de La Habana, pero en excelente estado. El desayuno muy bueno, muy variado, con un caf\\u00e9 muy rico.\"\n        ],\n        \"semantic_type\": \"\",\n        \"description\": \"\"\n      }\n    },\n    {\n      \"column\": \"Class\",\n      \"properties\": {\n        \"dtype\": \"category\",\n        \"num_unique_values\": 5,\n        \"samples\": [\n          \"Neutro\",\n          \"Muy Negativo\",\n          \"Positivo\"\n        ],\n        \"semantic_type\": \"\",\n        \"description\": \"\"\n      }\n    },\n    {\n      \"column\": \"OriginalLength\",\n      \"properties\": {\n        \"dtype\": \"number\",\n        \"std\": 81,\n        \"min\": 2,\n        \"max\": 1793,\n        \"num_unique_values\": 359,\n        \"samples\": [\n          185,\n          58,\n          169\n        ],\n        \"semantic_type\": \"\",\n        \"description\": \"\"\n      }\n    }\n  ]\n}"
            }
          },
          "metadata": {},
          "execution_count": 35
        }
      ]
    },
    {
      "cell_type": "code",
      "source": [
        "reviews['OriginalLength'].describe()"
      ],
      "metadata": {
        "colab": {
          "base_uri": "https://localhost:8080/"
        },
        "id": "xZWf8uko27T6",
        "outputId": "0dc095b6-8ed0-45d2-8168-093d59cd3033"
      },
      "execution_count": null,
      "outputs": [
        {
          "output_type": "execute_result",
          "data": {
            "text/plain": [
              "count    7875.000000\n",
              "mean       71.028190\n",
              "std        81.745547\n",
              "min         2.000000\n",
              "25%        34.000000\n",
              "50%        46.000000\n",
              "75%        86.000000\n",
              "max      1793.000000\n",
              "Name: OriginalLength, dtype: float64"
            ]
          },
          "metadata": {},
          "execution_count": 36
        }
      ]
    },
    {
      "cell_type": "code",
      "source": [
        "fig = px.histogram(reviews,\n",
        "                  x='OriginalLength',\n",
        "                  marginal='box',\n",
        "                  title=\"Longitud de las reseñas originales\")\n",
        "fig.update_layout(bargap=0.1)\n",
        "fig.show()"
      ],
      "metadata": {
        "colab": {
          "base_uri": "https://localhost:8080/",
          "height": 542
        },
        "id": "fn8t-xow2_kG",
        "outputId": "3e2610f6-5083-49f6-be94-62d5f58a4fa3"
      },
      "execution_count": null,
      "outputs": [
        {
          "output_type": "display_data",
          "data": {
            "text/html": [
              "<html>\n",
              "<head><meta charset=\"utf-8\" /></head>\n",
              "<body>\n",
              "    <div>            <script src=\"https://cdnjs.cloudflare.com/ajax/libs/mathjax/2.7.5/MathJax.js?config=TeX-AMS-MML_SVG\"></script><script type=\"text/javascript\">if (window.MathJax && window.MathJax.Hub && window.MathJax.Hub.Config) {window.MathJax.Hub.Config({SVG: {font: \"STIX-Web\"}});}</script>                <script type=\"text/javascript\">window.PlotlyConfig = {MathJaxConfig: 'local'};</script>\n",
              "        <script charset=\"utf-8\" src=\"https://cdn.plot.ly/plotly-2.24.1.min.js\"></script>                <div id=\"47777d14-2981-4a1a-a28c-4a3d8017a93a\" class=\"plotly-graph-div\" style=\"height:525px; width:100%;\"></div>            <script type=\"text/javascript\">                                    window.PLOTLYENV=window.PLOTLYENV || {};                                    if (document.getElementById(\"47777d14-2981-4a1a-a28c-4a3d8017a93a\")) {                    Plotly.newPlot(                        \"47777d14-2981-4a1a-a28c-4a3d8017a93a\",                        [{\"alignmentgroup\":\"True\",\"bingroup\":\"x\",\"hovertemplate\":\"OriginalLength=%{x}\\u003cbr\\u003ecount=%{y}\\u003cextra\\u003e\\u003c\\u002fextra\\u003e\",\"legendgroup\":\"\",\"marker\":{\"color\":\"#636efa\",\"pattern\":{\"shape\":\"\"}},\"name\":\"\",\"offsetgroup\":\"\",\"orientation\":\"v\",\"showlegend\":false,\"x\":[40,54,17,81,70,34,120,139,31,27,44,88,49,244,45,126,44,6,15,42,49,77,92,24,18,76,30,17,920,145,33,41,69,39,24,45,70,22,30,37,54,96,16,41,78,93,32,116,71,71,20,92,27,34,132,145,17,30,58,24,1061,109,61,23,30,30,37,45,121,98,39,99,25,28,36,81,19,45,129,96,47,35,19,54,41,48,34,56,20,45,32,41,45,19,45,33,24,33,44,128,81,189,28,24,10,67,146,119,33,46,23,58,39,45,33,95,139,29,100,63,141,35,100,86,99,55,30,106,41,24,16,106,46,111,713,38,69,96,39,66,74,259,45,37,26,39,36,44,37,88,61,140,67,25,49,33,39,40,82,35,168,52,55,81,30,139,33,35,40,36,172,12,50,68,89,49,55,45,131,29,1467,43,58,49,208,46,20,19,44,54,63,138,22,13,39,22,85,43,46,26,45,12,40,45,30,45,51,21,82,48,28,45,45,38,110,141,19,45,19,25,26,60,139,22,67,38,183,55,69,161,132,27,40,96,83,35,144,59,135,73,42,46,64,23,133,63,261,137,23,16,18,80,29,142,51,120,31,18,132,41,60,45,23,10,19,19,64,290,43,47,45,22,100,39,39,137,73,71,48,26,47,70,20,46,66,25,131,222,145,47,32,145,57,143,137,99,14,38,45,19,99,27,19,45,55,143,48,32,42,36,30,25,37,137,87,40,40,37,45,540,54,20,147,30,28,34,23,74,73,86,44,64,83,51,1021,43,42,45,45,70,25,53,88,65,35,76,46,31,67,25,81,29,37,46,24,214,75,149,92,66,49,42,1793,267,89,45,32,37,236,460,16,41,45,38,74,102,45,59,29,73,97,19,28,41,41,35,45,99,80,67,27,119,125,142,29,86,29,54,24,40,89,113,26,18,110,32,34,64,108,214,52,36,135,46,216,48,45,124,129,136,26,69,45,100,57,99,46,99,39,41,29,408,146,137,48,145,59,347,50,29,22,30,59,88,61,419,71,50,111,139,97,141,137,141,47,55,40,21,42,41,71,36,150,147,392,141,43,135,61,52,140,108,45,117,33,45,84,44,25,69,24,81,15,71,68,45,29,28,36,34,73,36,25,51,26,132,130,25,104,24,45,75,43,49,148,20,26,34,35,25,19,35,21,38,64,116,143,150,106,42,137,32,39,37,563,23,46,24,124,43,46,27,64,147,45,18,56,26,80,294,23,46,25,40,90,80,293,43,56,113,53,42,38,149,32,28,136,318,38,29,89,22,132,34,34,79,19,45,48,49,135,24,143,62,51,36,22,23,90,54,33,17,70,52,32,28,38,52,55,67,44,56,57,40,23,53,22,32,76,40,35,22,40,49,126,133,134,150,109,46,19,34,49,32,17,39,32,25,19,380,144,17,34,92,45,39,62,44,53,69,71,63,158,25,53,38,147,68,31,91,37,120,160,37,41,59,67,34,82,55,47,127,37,29,198,50,15,34,124,144,44,36,31,21,43,44,36,35,140,58,45,122,34,15,89,111,45,115,39,124,37,38,55,49,79,29,348,376,18,235,26,47,139,78,92,22,134,73,103,16,98,33,39,18,24,25,125,79,90,44,30,9,59,143,136,27,108,73,24,144,45,38,206,43,81,42,19,96,51,38,37,160,54,145,37,59,180,55,81,99,75,140,100,45,141,71,47,44,52,51,145,30,39,88,69,143,35,131,70,45,44,30,40,33,78,29,32,34,34,29,90,96,33,161,22,28,35,21,35,70,17,80,38,143,143,41,45,133,24,66,358,264,281,35,20,79,71,36,43,57,42,45,17,35,26,103,45,35,105,89,68,132,29,18,147,137,119,45,52,97,21,46,87,90,39,19,141,50,47,22,126,37,39,34,222,22,58,20,88,33,96,82,136,77,133,27,266,40,44,43,28,38,49,24,53,45,24,33,61,44,45,125,33,28,134,23,44,34,59,17,88,34,21,19,125,60,66,51,20,45,109,21,68,58,48,300,34,30,65,36,69,76,34,26,124,19,33,29,71,33,18,16,25,71,38,40,133,19,45,45,14,44,28,37,43,45,40,61,34,153,60,22,513,31,30,24,23,68,33,84,53,110,30,45,22,42,59,54,68,151,43,150,22,31,77,118,16,27,137,695,101,39,41,36,23,25,32,47,139,20,140,183,14,74,24,282,28,45,109,17,94,95,37,58,45,25,26,38,43,46,128,52,107,133,135,78,55,39,55,45,47,106,123,38,64,21,23,27,51,55,23,24,18,39,57,132,36,84,39,44,178,240,92,189,46,110,44,44,45,361,86,45,21,31,153,235,491,37,83,70,22,413,57,45,44,73,132,44,18,40,45,20,69,102,45,50,39,49,26,208,52,28,58,116,40,48,137,20,28,34,51,56,22,30,51,39,45,54,30,108,131,289,44,44,121,97,42,35,73,119,50,153,76,104,37,46,140,34,61,204,30,45,47,33,41,112,49,35,21,46,41,263,19,71,22,304,66,45,150,56,135,57,41,25,35,21,29,43,61,44,21,45,138,116,48,87,68,51,121,617,39,25,53,25,298,74,91,33,45,21,86,19,47,70,45,15,130,45,45,74,108,32,247,101,43,45,80,45,143,32,47,20,41,24,45,45,33,15,143,96,919,41,39,46,15,65,45,35,38,29,39,31,151,39,76,38,66,45,38,28,32,37,44,170,24,38,104,36,25,24,131,134,34,32,31,76,51,20,46,114,70,41,87,30,136,46,25,43,116,32,21,17,111,75,42,108,47,55,232,44,55,25,35,89,33,38,107,52,135,19,44,24,37,39,18,24,56,45,27,52,32,95,28,55,38,124,113,31,49,36,28,126,41,53,116,75,42,35,76,33,79,36,64,23,42,23,21,54,23,44,34,30,409,33,26,96,154,19,31,68,22,45,29,13,139,42,33,20,16,49,35,29,28,32,47,19,28,62,54,114,97,29,44,118,45,70,130,66,134,143,62,54,80,138,31,129,138,27,18,40,45,22,123,57,12,110,103,51,137,34,24,98,137,68,67,63,44,67,115,48,40,45,24,85,148,45,53,55,106,153,58,29,36,70,37,27,131,46,44,134,37,138,92,51,43,199,39,102,63,27,23,97,19,45,38,139,41,34,21,13,115,78,29,44,142,52,20,126,90,38,43,39,42,132,84,53,45,41,31,60,65,35,59,68,45,46,146,35,66,45,45,38,69,29,99,142,12,22,34,55,59,42,96,45,30,69,105,96,51,46,29,20,27,24,155,40,18,136,33,31,62,231,31,46,22,73,258,139,42,135,73,79,117,122,25,25,53,594,49,55,18,24,72,136,48,44,30,45,148,38,112,51,41,82,109,142,139,27,21,58,57,103,23,41,37,19,84,45,31,151,37,42,55,37,37,219,67,48,45,75,82,106,31,44,46,23,53,73,44,118,92,133,39,45,62,184,37,26,45,28,45,35,122,129,64,38,130,30,47,45,53,43,22,73,79,92,111,56,144,59,15,45,28,27,29,80,19,39,29,45,33,45,27,152,138,56,49,70,46,31,27,46,46,23,41,39,25,94,85,94,55,45,93,24,55,52,84,83,37,60,137,154,39,28,33,132,144,45,35,196,66,34,135,49,50,26,140,71,92,70,49,36,21,43,42,45,41,53,60,41,24,137,28,48,124,58,97,34,33,29,145,298,77,44,78,43,58,54,105,31,36,45,39,130,102,64,126,92,42,39,91,98,49,61,139,45,34,31,131,21,142,31,45,41,44,113,36,30,22,175,45,137,44,49,66,21,136,45,68,50,59,27,44,138,133,122,124,42,25,108,49,42,23,133,45,45,43,91,134,36,142,158,37,33,34,58,45,23,36,56,44,38,54,126,39,54,22,32,42,38,79,73,45,36,134,86,20,102,42,69,12,29,36,45,65,135,54,60,123,20,426,25,19,20,23,37,39,29,109,146,26,53,134,16,45,45,147,112,95,23,58,91,43,41,114,69,31,45,46,144,21,81,39,45,44,45,38,37,43,126,106,100,45,52,25,140,132,136,36,40,23,149,40,135,36,142,20,20,38,157,60,24,167,36,396,35,41,32,26,17,218,54,40,85,45,75,33,47,38,140,18,52,62,17,65,142,27,151,146,28,134,70,42,45,23,21,126,72,24,67,27,34,115,123,146,62,26,105,81,75,78,122,28,43,73,129,27,52,113,40,40,144,64,131,45,57,116,41,46,62,54,42,34,22,44,77,38,27,148,155,132,24,45,43,42,45,41,31,138,53,133,28,55,41,43,36,144,128,28,30,43,41,57,135,132,26,38,26,20,88,70,49,97,137,46,132,45,88,25,109,140,27,83,77,133,53,91,43,47,36,42,79,29,63,137,100,43,83,66,130,94,65,28,45,32,160,138,115,33,17,136,59,55,43,115,141,145,37,60,23,30,43,145,43,92,47,24,45,90,24,30,111,45,39,141,45,36,105,129,80,185,28,32,148,138,48,58,68,83,22,36,44,96,197,192,47,141,58,50,79,50,52,47,70,124,47,14,26,149,42,27,43,38,61,80,138,1510,45,38,136,114,17,32,62,44,119,141,40,49,47,102,25,37,137,24,62,29,26,146,287,27,53,45,44,164,39,46,71,59,49,32,64,85,138,25,53,19,44,36,35,46,74,23,21,75,99,44,37,106,41,18,24,25,135,19,70,43,42,61,38,57,40,25,50,35,56,56,41,47,43,30,468,45,26,36,31,105,120,37,24,45,36,486,18,27,45,127,50,52,48,48,52,29,73,32,400,70,25,24,237,23,30,23,42,71,51,71,20,148,18,65,144,41,64,35,35,75,82,38,40,18,58,24,41,71,71,98,38,40,74,64,35,72,50,18,44,139,26,45,134,41,26,89,19,93,36,42,51,45,45,28,67,64,15,47,42,72,65,17,47,16,79,46,53,48,39,96,20,24,20,46,133,25,130,22,17,20,27,23,55,112,17,63,45,115,52,117,46,38,40,46,40,49,109,36,129,63,51,18,60,44,76,24,174,423,42,40,17,20,111,41,45,42,58,45,41,19,148,107,39,30,98,74,45,21,19,32,27,227,30,41,34,26,39,46,106,40,30,30,43,127,106,39,35,20,128,36,75,43,41,31,57,20,209,69,18,29,45,102,141,36,57,54,45,45,39,42,82,63,27,63,20,38,66,26,45,9,85,44,45,45,94,34,61,22,83,32,43,34,28,40,135,35,42,71,97,42,129,41,37,55,79,28,135,60,204,135,46,58,111,17,27,94,208,40,46,24,20,80,135,37,46,35,104,38,138,53,63,32,69,32,29,137,54,31,95,37,70,101,67,35,20,407,27,53,52,40,22,52,42,28,98,49,26,35,145,71,42,155,132,119,23,39,51,29,45,30,111,33,114,100,71,107,111,137,47,148,42,139,23,125,22,800,59,24,37,33,126,30,60,137,16,33,150,74,129,47,55,34,46,20,85,54,170,26,37,69,52,29,162,28,45,17,45,45,31,37,138,25,26,139,17,94,22,137,29,29,61,40,44,139,137,57,50,49,29,46,35,38,45,17,54,44,32,16,25,100,39,64,46,139,35,86,33,45,40,59,61,142,44,45,30,25,32,38,55,44,46,21,45,29,35,127,118,43,88,72,21,88,133,66,43,42,43,25,58,45,23,33,81,22,89,31,40,45,36,53,50,16,68,25,139,31,105,143,261,45,34,20,45,38,95,290,27,28,42,37,17,21,22,24,46,95,35,20,149,37,55,111,31,132,56,58,45,111,157,47,20,21,44,46,134,39,21,105,16,30,80,112,44,28,72,150,68,18,47,45,63,12,17,38,40,90,45,20,44,54,55,128,60,118,26,111,24,37,45,42,46,42,22,15,43,109,139,32,36,82,44,45,84,21,41,28,30,39,105,48,139,60,39,19,91,27,203,140,146,199,45,112,44,102,34,24,23,20,61,21,144,42,53,47,49,45,54,36,75,28,34,29,58,23,177,47,71,32,36,132,85,17,18,44,35,34,140,126,142,20,18,58,132,141,26,78,99,45,18,148,46,78,38,20,28,26,78,60,15,28,22,423,61,139,137,67,31,49,95,17,45,25,67,141,31,32,37,22,69,36,41,45,42,29,46,146,19,42,18,70,41,36,63,49,23,27,28,53,73,21,48,34,44,120,22,117,16,31,44,82,46,104,57,56,40,24,40,26,45,65,51,27,40,97,142,32,99,188,139,40,35,73,43,40,133,78,43,26,119,18,30,55,138,31,33,38,36,47,188,45,125,140,45,39,53,69,48,67,273,155,32,29,35,59,25,130,304,42,64,49,22,53,45,64,41,61,81,79,42,47,133,27,44,64,22,35,21,229,82,25,143,46,45,64,140,34,64,108,70,52,120,145,75,36,36,105,35,29,45,22,38,34,50,44,82,37,90,117,145,25,80,17,42,45,103,36,33,75,45,25,59,18,21,85,31,60,31,36,45,78,33,149,40,57,50,29,37,45,57,20,146,39,30,27,168,85,34,23,126,102,23,65,21,44,157,364,61,55,30,18,22,35,21,18,41,96,69,25,35,69,37,43,140,40,32,49,45,129,20,47,101,24,134,25,45,45,25,149,263,50,42,23,45,45,33,286,47,52,47,86,65,28,25,28,65,46,24,45,147,35,18,32,63,22,80,92,54,31,33,74,25,52,41,18,40,22,45,20,12,45,142,47,51,59,60,45,29,79,65,77,45,64,29,140,136,22,45,217,148,38,41,69,12,38,55,45,31,27,99,146,101,45,123,72,78,26,141,135,41,39,45,133,49,113,46,22,19,139,45,38,382,36,40,20,68,76,23,106,24,45,175,49,16,137,26,124,77,44,32,68,31,139,142,133,127,40,139,65,28,45,90,34,45,201,70,75,58,205,45,132,30,25,78,124,135,256,67,45,35,94,68,43,67,109,41,87,160,134,42,25,24,134,45,43,20,91,29,141,55,28,40,82,29,40,22,18,50,28,21,23,48,94,61,44,31,118,39,133,48,54,70,54,77,73,46,119,18,39,48,188,44,98,54,22,129,26,62,65,45,64,46,44,56,19,26,18,211,79,45,69,60,136,27,58,67,45,37,98,36,45,46,40,47,46,42,36,37,58,60,50,35,99,43,48,31,45,36,42,41,74,89,23,23,138,54,39,44,45,113,73,146,32,40,21,34,34,17,61,122,25,45,136,98,30,46,25,36,33,36,54,35,139,29,45,35,286,98,46,37,149,15,74,38,135,64,45,35,57,24,27,136,27,30,43,20,45,30,23,29,34,26,149,60,21,45,21,19,19,107,77,34,39,24,263,46,20,76,107,71,36,52,37,97,85,44,26,76,142,33,48,126,26,147,40,118,131,34,66,54,24,26,36,21,43,20,34,39,45,47,176,21,72,46,152,89,143,44,37,16,43,27,48,36,58,46,47,61,143,80,173,27,95,23,49,23,49,86,57,45,45,32,13,86,138,37,20,56,33,46,158,71,47,91,114,52,194,129,79,149,26,28,235,38,148,21,35,45,45,250,47,40,153,54,48,45,138,67,30,154,133,37,149,37,42,35,40,42,35,99,42,139,20,42,135,39,17,79,44,138,19,45,172,49,45,108,140,138,46,103,26,47,49,86,42,59,39,95,60,145,43,137,69,59,117,35,96,28,43,45,17,40,29,46,30,110,133,49,49,46,101,77,47,43,20,21,45,46,138,46,44,40,20,30,26,37,82,66,61,50,31,65,186,58,323,26,34,45,53,53,50,27,45,81,45,84,44,73,115,49,80,22,40,70,51,37,58,22,34,102,108,27,23,34,22,45,101,92,111,33,24,32,37,38,49,65,68,27,26,38,45,41,38,63,21,38,23,45,53,45,30,33,117,138,43,136,106,44,57,28,101,95,17,43,34,88,45,59,84,92,33,88,68,284,44,88,26,277,34,27,259,887,14,162,44,35,19,36,16,26,30,21,33,60,84,49,36,32,44,20,29,21,32,101,315,45,151,36,34,569,205,53,25,41,61,38,39,36,58,126,45,22,37,37,38,45,46,22,46,30,36,21,46,24,51,27,173,26,36,49,45,47,42,53,31,91,32,46,18,259,50,135,880,127,27,30,49,88,48,38,62,141,144,71,141,39,224,36,136,41,46,118,43,53,34,54,45,37,111,34,79,1355,50,129,135,39,27,91,138,22,50,22,57,49,188,29,30,30,25,27,22,31,45,52,42,92,65,93,51,54,109,19,130,45,46,138,15,45,46,36,51,107,33,28,132,139,99,112,149,108,47,24,26,23,45,60,124,138,92,24,21,70,58,140,48,48,35,135,49,128,19,30,145,20,186,71,112,96,85,28,51,41,17,48,26,26,60,44,46,547,21,33,37,64,76,66,22,151,136,35,46,63,136,44,29,30,130,73,37,82,39,139,28,120,93,143,679,91,50,141,16,35,136,60,489,45,35,110,110,51,22,30,94,63,18,57,21,18,17,45,77,108,113,69,27,45,94,45,67,33,38,97,53,42,24,41,41,21,43,31,15,35,17,93,28,46,26,215,50,35,57,45,150,151,104,32,21,18,33,118,37,106,41,38,47,42,94,50,68,35,69,44,57,84,32,38,39,86,51,21,21,149,78,104,41,56,38,45,50,55,86,216,61,89,45,43,19,111,84,43,148,76,284,37,34,62,20,44,104,58,33,44,134,158,83,22,53,139,67,17,18,149,39,162,153,61,74,94,71,64,41,26,32,55,20,55,39,24,32,45,150,61,63,123,47,39,123,136,60,45,129,28,55,101,28,41,46,76,76,32,25,45,48,31,168,70,37,39,37,41,40,65,47,66,29,62,174,211,32,140,86,139,90,30,39,72,52,27,109,27,49,151,56,137,61,36,24,26,42,23,94,94,96,565,58,45,61,32,21,41,70,30,20,30,45,123,51,25,56,68,48,75,55,117,95,33,205,35,41,73,144,58,51,45,134,79,40,38,102,28,45,88,130,31,33,83,128,23,33,71,132,25,36,47,60,21,108,45,20,188,56,45,49,45,187,25,35,82,45,150,50,138,29,45,23,57,45,72,56,109,31,137,20,51,37,167,45,15,39,44,107,88,53,91,29,40,44,139,45,39,134,114,20,73,41,19,103,395,38,37,74,45,34,46,35,47,33,28,96,55,52,49,35,32,29,111,26,42,102,23,16,137,86,132,125,131,28,78,45,88,45,35,25,125,23,23,45,140,40,35,19,35,146,38,45,33,24,40,22,49,36,131,119,53,133,16,21,64,145,30,79,145,526,36,45,28,84,125,319,13,108,25,28,126,81,50,141,45,59,97,132,80,91,37,34,44,45,105,78,138,60,57,98,131,52,45,54,29,68,52,24,59,47,79,54,19,43,32,83,46,45,32,20,135,56,147,37,40,45,34,387,44,14,23,17,137,59,138,20,26,47,46,24,11,55,48,18,19,187,50,136,89,61,112,23,23,137,79,26,22,311,112,21,16,58,48,36,17,22,153,35,96,72,82,27,44,94,50,31,52,60,320,34,50,38,78,23,47,44,51,172,33,68,41,97,24,644,80,34,281,41,203,145,57,70,55,18,62,42,45,138,26,25,85,49,145,95,45,144,35,138,124,93,41,43,73,71,223,135,34,118,20,132,45,35,101,147,123,62,47,108,25,78,37,49,46,45,101,18,54,106,49,98,32,28,39,38,34,25,81,60,44,34,751,138,105,89,16,107,129,37,70,34,46,48,135,18,55,55,39,46,658,126,40,162,74,40,41,44,108,90,64,54,65,23,44,66,33,85,142,169,56,63,136,33,29,72,32,44,74,23,17,31,50,95,34,47,127,79,48,141,99,38,21,43,113,28,53,19,75,44,45,45,18,73,45,45,39,33,50,114,66,34,17,73,28,44,37,44,36,63,44,50,162,172,75,38,91,54,34,40,26,59,115,95,130,63,21,17,138,45,54,126,47,40,19,39,35,49,74,40,38,59,139,83,153,87,38,30,48,195,112,174,35,38,32,114,112,100,265,17,31,30,143,105,26,140,45,42,49,123,38,62,28,58,16,25,44,49,115,105,41,16,43,135,54,75,17,543,20,29,138,37,168,45,56,91,52,16,71,145,58,150,33,31,46,57,18,116,21,45,15,33,32,2,22,23,22,25,26,38,94,72,26,232,87,50,67,46,19,44,75,45,50,35,54,115,49,45,45,97,71,21,45,24,47,24,133,44,33,22,16,87,255,40,55,57,67,296,34,32,136,138,150,25,45,138,54,136,43,34,86,35,82,61,25,63,50,30,54,122,77,60,142,35,32,67,69,41,36,28,45,43,36,45,39,176,87,148,46,36,24,33,50,77,40,34,88,22,45,151,119,31,27,41,32,63,85,22,70,36,108,42,34,20,42,45,39,100,32,72,27,38,26,28,47,58,51,51,33,120,36,19,105,84,32,68,25,30,59,73,72,38,45,80,48,46,22,63,56,20,152,44,21,81,33,42,42,57,64,21,74,495,38,67,20,21,23,81,42,77,96,154,47,46,135,48,45,123,36,21,103,171,71,65,18,71,38,45,66,22,62,134,25,37,50,79,47,30,132,124,135,83,144,148,45,43,55,109,45,25,80,79,45,131,17,58,92,80,42,23,83,32,24,80,347,27,189,27,97,77,30,139,51,24,112,34,37,108,138,31,34,50,91,62,52,142,72,135,83,92,724,13,81,39,19,28,154,63,43,34,18,45,24,20,43,17,71,46,304,201,72,52,44,37,135,20,73,134,22,45,41,22,117,44,66,28,133,158,35,45,135,59,154,47,44,23,44,132,24,109,56,50,32,45,139,87,77,16,30,144,21,33,54,48,98,19,20,52,79,77,91,22,43,41,37,36,119,71,119,19,49,530,35,41,68,23,19,120,75,21,77,37,51,73,69,43,46,22,132,25,74,25,38,20,24,24,45,24,80,35,41,118,52,138,61,23,69,49,37,54,58,16,45,63,20,20,133,48,36,40,74,43,116,140,13,73,18,41,73,41,20,45,112,45,219,133,70,139,45,482,45,79,143,22,84,41,67,70,25,44,114,99,57,44,52,25,145,132,52,55,77,25,129,140,54,27,42,45,235,54,44,132,70,25,49,84,95,104,43,35,29,200,45,44,14,45,50,86,24,89,36,130,75,84,64,61,99,82,128,24,45,79,141,73,19,54,50,110,45,99,28,62,9,43,23,115,63,108,118,167,47,29,20,24,23,39,142,59,33,38,103,110,54,23,226,164,50,37,90,17,278,78,39,26,36,81,22,118,37,72,59,24,45,115,43,50,43,76,129,133,29,44,31,62,46,75,16,37,31,15,85,31,52,45,143,664,59,52,126,34,50,58,33,46,45,23,26,23,30,21,39,71,94,27,30,118,20,44,107,55,18,113,46,36,116,33,48,334,39,43,31,106,38,45,58,43,44,153,46,45,39,39,46,57,19,84,36,82,34,108,143,136,8,138,130,131,57,24,44,45,32,40,24,32,94,32,47,20,91,120,146,45,125,1321,24,65,48,22,26,36,168,28,43,49,26,54,38,41,17,55,22,54,128,23,79,59,101,43,20,47,39,36,54,45,43,35,135,24,26,37,66,44,56,163,20,324,48,19,57,139,117,24,63,19,35,94,44,45,45,151,31,56,95,35,44,18,32,52,22,17,134,37,47,45,17,45,24,46,28,36,189,33,39,45,35,19,188,27,587,65,145,204,45,135,50,23,41,40,130,36,45,28,150,47,17,127,194,40,40,43,37,17,31,142,27,59,151,152,53,19,53,39,101,140,46,34,32,37,190,23,59,34,74,43,128,78,22,94,72,34,21,19,25,83,139,48,24,38,52,27,48,110,74,36,208,45,41,291,60,156,38,134,28,27,43,53,38,169,69,53,60,46,142,18,27,120,34,60,140,43,136,26,26,20,65,26,45,45,142,81,44,81,70,31,24,41,17,25,88,47,39,31,148,46,28,862,31,20,93,30,34,16,16,45,45,50,53,136,20,39,162,43,36,35,29,69,28,67,77,44,296,31,136,25,43,165,72,18,104,44,59,44,60,37,149,46,45,40,37,26,156,45,560,113,20,23,54,64,140,76,145,54,28,79,36,65,141,33,52,122,24,72,25,26,41,44,126,42,134,63,27,47,43,65,32,40,24,81,403,32,151,93,38,89,127,115,15,45,129,139,39,20,39,136,19,44,17,60,61,45,125,140,55,34,45,45,94,51,43,46,140,52,18,100,45,42,38,54,45,41,134,17,163,24,16,49,40,17,193,150,95,240,26,37,151,39,25,146,43,62,23,127,123,53,42,20,59,61,33,65,22,47,23,58,200,40,52,39,86,67,33,46,44,60,31,42,83,25,140,26,43,86,45,35,20,73,49,39,29,61,39,67,43,49,38,61,33,236,411,137,22,131,63,37,60,68,146,44,92,139,34,98,42,44,31,24,46,62,28,62,30,44,39,59,88,44,23,88,34,22,49,25,72,40,43,19,72,41,24,51,138,33,62,38,95,114,45,45,37,59,50,82,43,54,58,47,107,51,45,39,86,222,129,45,18,40,84,30,35,52,74,33,96,17,45,14,17,130,79,21,91,31,66,44,48,55,28,53,76,24,74,29,44,26,60,42,39,45,138,38,22,25,21,35,146,136,52,73,137,46,52,221,26,120,21,52,62,48,25,44,33,143,45,65,39,134,28,45,26,45,35,49,133,35,76,40,20,17,97,174,132,274,40,21,20,15,54,4,32,44,135,144,46,65,38,38,59,19,18,45,36,45,20,41,16,88,112,44,45,131,23,22,45,34,63,40,45,61,31,44,45,117,123,25,130,60,46,35,49,20,98,145,43,110,16,157,91,35,23,71,215,63,112,233,77,47,32,65,162,54,48,116,107,41,45,84,45,41,41,57,29,37,45,24,25,33,24,35,53,45,45,37,92,24,35,45,40,43,56,26,138,60,71,22,57,52,51,39,37,49,29,66,45,50,16,44,18,42,70,29,52,40,142,153,78,54,36,45,60,47,176,702,25,30,229,20,35,19,90,42,108,142,36,85,44,36,107,21,20,23,45,45,34,26,110,34,28,37,30,42,95,143,72,65,28,46,561,74,28,77,45,31,24,66,118,33,45,35,23,48,92,84,47,35,47,22,55,73,135,133,65,46,361,59,30,82,131,44,29,21,20,40,70,73,30,146,27,58,29,55,81,24,139,92,27,155,144,130,108,270,17,57,236,22,66,39,74,28,45,43,25,55,242,24,83,45,29,22,48,21,145,28,42,44,58,19,86,103,47,39,36,19,42,108,88,22,26,32,33,41,18,78,49,41,33,28,39,33,33,39,59,133,281,142,40,29,37,72,65,44,88,94,35,132,27,38,88,66,70,128,59,47,41,127,38,66,25,21,71,48,40,18,229,53,120,26,56,32,42,61,28,14,35,18,55,26,92,86,86,45,65,62,149,19,32,37,22,45,45,83,148,92,137,25,46,19,33,133,72,23,135,59,37,21,39,39,34,19,91,207,32,32,17,52,46,38,20,102,70,48,59,65,43,57,50,19,65,24,47,29,19,41,145,41,38,20,29,425,42,55,28,77,50,91,70,28,97,57,38,103,35,45,17,34,40,46,77,39,132,30,86,16,62,33,24,981,76,46,143,68,57,23,36,40,47,40,39,65,38,37,64,34,19,21,36,116,61,23,158,19,38,35,65,27,41,110,25,42,32,99,62,18,66,87,28,35,140,19,61,46,30,41,41,132,31,26,24,43,42,28,101,40,176,182,22,38,137,50,36,435,38,87,93,124,36,132,44,45,88,91,70,52,17,45,59,45,141,98,50,1269,22,25,71,36,21,36,71,88,22,20,117,37,32,575,36,39,46,33,35,19,61,169,21,40,92,45,43,137,25,45,122,51,32,22,43,22,37,41,171,196,145,36,109,14,136,31,40,45,15,53,28,19,137,274,86,56,56,30,47,38,91,88,45,112,27,73,45,33,146,45,24,192,70,40,39,74,89,107,35,21,34,45,129,26,75,45,37,38,114,34,140,72,47,31,280,36,143,39,172,39,37,20,36,22,55,153,42,28,28,45,17,72,154,22,91,49,45,20,30,27,144,48,141,103,29,114,21,17,46,30,67,66,39,31,84,45,30,193,257,52,69,37,50,21,126,81,53,121,77,68,87,15,14,124,32,49,28,19,19,25,39,117,18,56,77,81,44,39,21,35,43,50,97,46,43,32,83,101,110,70,83,77,44,197,154,39,111,40,48,57,45,49,45,43,55,123,38,55,142,39,76,20,27,31,34,36,139,38,72,148,29,127,25,59,146,37,19,42,65,20,64,75,131,136,52,35,52,59,35,55,25,179,138,174,19,141,65,126,19,660,139,147,17,367,43,49,47,44,137,19,23,47,44,108,18,30,144,28,27,36,43,134,287,32,88,47,202,40,110,26,32,335,50,79,23,40,38,30,45,48,78,23,542,18,54,25,37,135,118,66,55,142,53,37,50,37,32,75,53,22,54,36,34,48,44,29,149,131,20,58,34,72,86,148,21,19,80,27,88,37,126,20,22,57,142,102,30,32,57,40,30,45,49,141,94,24,165,45,9,136,26,57,124,61,27,228,23,33,30,36,78,47,57,32,45,140,355,27,20,54,87,28,18,48,35,144,64,54,28,37,51,28,55,141,25,148,70,75,37,1231,30,32,124,111,144,44,59,91,44,22,18,65,144,37,134,98,73,62,62,30,61,47,94,117,140,20,134,132,44,114,36,99,29,68,50,115,27,80,132,140,38,94,52,55,84,116,42,161,132,32,63,43,30,24,57,631,19,27,25,18,45,38,105,44,56,32,45,51,45,33,52,36,100,24,46,45,39,36,140,14,45,106,109,45,143,32,47,40,48,185,39,19,65,17,24,115,58,65,136,101,50,22,34,27,45,18,31,30,58,31,54,105,45,59,143,54,35,30,31,111,54,52,61,20,138,48,44,157,341,27,77,46,43,133,39,89,62,53,18,19,28,82,127,23,25,134,37,23,39,132,34,45,23,45,87,29,71,111,111,50,16,19,46,110,45,22,76,25,37,113,26,117,70,45,55,33,123,125,57,13,43,112,39,14,44,18,67,64,41,20,64,59,103,63,44,45,65,47,20,48,28,33,124,17,22,33,51,52,36,22,28,99,33,36,36,34,137,91,53,20,145,43,146,75,148,43,84,45,112,30,19,20,124,14,50,18,27,33,135,45,69,32,52,46,45,152,20,42,133,33,89,138,14,41,108,138,29,54,59,45,88,20,197,25,49,17,54,46,39,79,31,61,21,31,32,133,24,82,35,49,46,34,96,166,128,42,22,60,119,132,110,47,142,41,110,33,19,31,16,28,309,25,35,20,36,44,21,156,38,49,25,35,73,20,23,27,60,70,112,40,150,34,31,38,25,32,140,22,38,47,90,115,132,55,19,41,45,50,46,30,208,46,135,143,141,137,35,38,26,45,25,45,60,138,105,36,24,37,114,23,22,97,14,57,127,45,46,84,38,76,335,19,131,34,144,97,34,71,45,53,33,35,28,57,144,137,37,29,44,66,36,135,46,206,45,44,59,78,120,121,123,21,17,31,122,27,137,32,89,46,46,49,126,53,113,81,25,53,44,136,31,153,72,148,26,136,152,45,40,144,19,46,23,42,61,250,219,26,39,24,282,61,19,121,45,46,55,219,162,184,183,41,130,26,19,21,141,33,46,75,45,17,45,52,81,23,74,107,21,37,69,45,29,35,101,45,164,58,30,21,38,49,59,139,75,26,17,44,45,35,38,61,58,30,72,36,64,322,126,127,60,20,41,40,45,150,748,36,82,27,46,53,97,27,163,17,28,36,20,65,95,27,61,30,45,20,152,82,45,43,138,136,45,163,69,42,20,16,59,46,808,41,23,25,88,43,138,17,45,113,45,76,42,112,109,43,45,55,33,146,67,49,63,17,89,40,50,44,45,31,97,136,18,38,54,136,40,43,97,120,54,35,41,93,68,82,547,138,31,72,30,43,110,59,87,228,92,30,63,84,113,45,169,87,17,136,43,42,44,58,50,44,43,291,38,37,45,53,68,132,45,14,107,137,66,110,104,26,40,65,50,29,21,47,43,29,95,27,104,42,28,59,394,45,30,46,171,37,127,85,139,100,27,30,79,47,35,42,29,60,46,110,32,31,27,72,17,49,34,45,44,42,44,64,85,26,26,50,54,52,142,54,42,41,37,39,65,34,145,24,68,45,44,371,51,142,64,143,45,138,65,19,62,93,33,72,94,48,36,45,36,34,138,23,45,37,24,257,29,92,113,28,45,41,59,39,42,33,56,125,26,43,45,31,125,37,31,85,111,48,140,173,61,52,36,33,63,40,32,43,23,107,45,20,29,60,90,113,39,25,80,23,24,145,45,142,44,28,36,99,48,664,44,33,72,21,118,58,101,141,91,41,106,300,59,64,51,37,40,46,60,23,45,29,43,38,109,45,50,98,29,88,19,20,20,53,133,51,127,71,51,73,115,41,25,25,138,20,14,30,38,61,145,17,42,73,67,30,143,33,146,75,35,50,109,39,43,138,39,402,19,39,30,70,49,40,32,83,136,122,92,28,52,18,45,46,31,376,208,35,70,27,44,146,63,67,55,147,62,45,40,22,48,45,41,137,82,318,45,21,44,41,95,47,25,29,52,46,139,31,27,141,20,40,47,45,137,141,108,23,46,41,71,22,125,61,37,254,144,132,131,46,196,27,124,45,47,43,79,26,144,33,147,38,52,27,77,27,45,119,31,135,18,170,206,27,36,144,45,485,35,54,84,19,129,140,16,81,37,22,21,47,27,17,20,116,31,97,40,23,23,29,93,107,20,47,140,45,46,40,38,95,11,30,100,27,66,56,28,22,59,96,39,37,30,292,18,45,151,141,18,33,51,62,28,62,63,42,55,55,142,88,119,147,40,53,141,17,41,43,43,45,24,45,47,31,28,34,47,75,84,35,39,33,76,48,21,143,23,44,30,31,49,81,35,92,42,18,21,58,39,24,28,45,40,131,55,153,22,25,71,58,140,34,60,78,81,77,79,26,43,89,45,17,59,103,71,194,131,42,46,116,31,47,31,56,19,45,35,48,39,94,32,131,219,43,26,32,125,99,38,77,24,59,25,45,32,36,26,29,88,53,68,87,37,77,28,36,56,46,58,117,35,65,126,174,686,143,50,110,29,21,149,28,27,67,72,17,26,39,24,87,22,58,38,70,45,87,48,139,27,21,140,26,68,50,45,51,163,323,25,140,25,134,140,24,44,222,75,149,17,144,44,44,36,99,41,239,39,48,177,29,25,83,36,282,63,25,194,68,68,38,137,27,35,26,37,145,33,140,35,95,55,137,41,81,47,222,19,34,137,37,99,182,166,35,44,22,28,26,58,60,23,177,45,44,28,98,27,57,25,16,75,783,45,39,50,87,45,36,21,47,45,87,40,27,85,45,41,36,39,22,120,148,33,21,45,146,110,141,197,226,64,32,58,26,26,34,21,98,43,30,30,22,131,28,41,38,242,46,65,140,18,96,28,58,47,146,35,40,96,32,32,24,40,145,35,25,59,312,45,81,45,72,79,62,26,36,19,59,28,112,48,83,37,71,72,56,141,57,130,45,25,129,105,42,24,44,22,25,24,45,45,56,93,18,30,49,43,18,40,36,33,38,138,23,25,87,237,22,87,54,223,46,84,150,56,43,147,134,25,54,38,132,108,85,45,54,177,50,129,43,109,19,47,140,126,44],\"xaxis\":\"x\",\"yaxis\":\"y\",\"type\":\"histogram\"},{\"alignmentgroup\":\"True\",\"hovertemplate\":\"OriginalLength=%{x}\\u003cextra\\u003e\\u003c\\u002fextra\\u003e\",\"legendgroup\":\"\",\"marker\":{\"color\":\"#636efa\"},\"name\":\"\",\"notched\":true,\"offsetgroup\":\"\",\"showlegend\":false,\"x\":[40,54,17,81,70,34,120,139,31,27,44,88,49,244,45,126,44,6,15,42,49,77,92,24,18,76,30,17,920,145,33,41,69,39,24,45,70,22,30,37,54,96,16,41,78,93,32,116,71,71,20,92,27,34,132,145,17,30,58,24,1061,109,61,23,30,30,37,45,121,98,39,99,25,28,36,81,19,45,129,96,47,35,19,54,41,48,34,56,20,45,32,41,45,19,45,33,24,33,44,128,81,189,28,24,10,67,146,119,33,46,23,58,39,45,33,95,139,29,100,63,141,35,100,86,99,55,30,106,41,24,16,106,46,111,713,38,69,96,39,66,74,259,45,37,26,39,36,44,37,88,61,140,67,25,49,33,39,40,82,35,168,52,55,81,30,139,33,35,40,36,172,12,50,68,89,49,55,45,131,29,1467,43,58,49,208,46,20,19,44,54,63,138,22,13,39,22,85,43,46,26,45,12,40,45,30,45,51,21,82,48,28,45,45,38,110,141,19,45,19,25,26,60,139,22,67,38,183,55,69,161,132,27,40,96,83,35,144,59,135,73,42,46,64,23,133,63,261,137,23,16,18,80,29,142,51,120,31,18,132,41,60,45,23,10,19,19,64,290,43,47,45,22,100,39,39,137,73,71,48,26,47,70,20,46,66,25,131,222,145,47,32,145,57,143,137,99,14,38,45,19,99,27,19,45,55,143,48,32,42,36,30,25,37,137,87,40,40,37,45,540,54,20,147,30,28,34,23,74,73,86,44,64,83,51,1021,43,42,45,45,70,25,53,88,65,35,76,46,31,67,25,81,29,37,46,24,214,75,149,92,66,49,42,1793,267,89,45,32,37,236,460,16,41,45,38,74,102,45,59,29,73,97,19,28,41,41,35,45,99,80,67,27,119,125,142,29,86,29,54,24,40,89,113,26,18,110,32,34,64,108,214,52,36,135,46,216,48,45,124,129,136,26,69,45,100,57,99,46,99,39,41,29,408,146,137,48,145,59,347,50,29,22,30,59,88,61,419,71,50,111,139,97,141,137,141,47,55,40,21,42,41,71,36,150,147,392,141,43,135,61,52,140,108,45,117,33,45,84,44,25,69,24,81,15,71,68,45,29,28,36,34,73,36,25,51,26,132,130,25,104,24,45,75,43,49,148,20,26,34,35,25,19,35,21,38,64,116,143,150,106,42,137,32,39,37,563,23,46,24,124,43,46,27,64,147,45,18,56,26,80,294,23,46,25,40,90,80,293,43,56,113,53,42,38,149,32,28,136,318,38,29,89,22,132,34,34,79,19,45,48,49,135,24,143,62,51,36,22,23,90,54,33,17,70,52,32,28,38,52,55,67,44,56,57,40,23,53,22,32,76,40,35,22,40,49,126,133,134,150,109,46,19,34,49,32,17,39,32,25,19,380,144,17,34,92,45,39,62,44,53,69,71,63,158,25,53,38,147,68,31,91,37,120,160,37,41,59,67,34,82,55,47,127,37,29,198,50,15,34,124,144,44,36,31,21,43,44,36,35,140,58,45,122,34,15,89,111,45,115,39,124,37,38,55,49,79,29,348,376,18,235,26,47,139,78,92,22,134,73,103,16,98,33,39,18,24,25,125,79,90,44,30,9,59,143,136,27,108,73,24,144,45,38,206,43,81,42,19,96,51,38,37,160,54,145,37,59,180,55,81,99,75,140,100,45,141,71,47,44,52,51,145,30,39,88,69,143,35,131,70,45,44,30,40,33,78,29,32,34,34,29,90,96,33,161,22,28,35,21,35,70,17,80,38,143,143,41,45,133,24,66,358,264,281,35,20,79,71,36,43,57,42,45,17,35,26,103,45,35,105,89,68,132,29,18,147,137,119,45,52,97,21,46,87,90,39,19,141,50,47,22,126,37,39,34,222,22,58,20,88,33,96,82,136,77,133,27,266,40,44,43,28,38,49,24,53,45,24,33,61,44,45,125,33,28,134,23,44,34,59,17,88,34,21,19,125,60,66,51,20,45,109,21,68,58,48,300,34,30,65,36,69,76,34,26,124,19,33,29,71,33,18,16,25,71,38,40,133,19,45,45,14,44,28,37,43,45,40,61,34,153,60,22,513,31,30,24,23,68,33,84,53,110,30,45,22,42,59,54,68,151,43,150,22,31,77,118,16,27,137,695,101,39,41,36,23,25,32,47,139,20,140,183,14,74,24,282,28,45,109,17,94,95,37,58,45,25,26,38,43,46,128,52,107,133,135,78,55,39,55,45,47,106,123,38,64,21,23,27,51,55,23,24,18,39,57,132,36,84,39,44,178,240,92,189,46,110,44,44,45,361,86,45,21,31,153,235,491,37,83,70,22,413,57,45,44,73,132,44,18,40,45,20,69,102,45,50,39,49,26,208,52,28,58,116,40,48,137,20,28,34,51,56,22,30,51,39,45,54,30,108,131,289,44,44,121,97,42,35,73,119,50,153,76,104,37,46,140,34,61,204,30,45,47,33,41,112,49,35,21,46,41,263,19,71,22,304,66,45,150,56,135,57,41,25,35,21,29,43,61,44,21,45,138,116,48,87,68,51,121,617,39,25,53,25,298,74,91,33,45,21,86,19,47,70,45,15,130,45,45,74,108,32,247,101,43,45,80,45,143,32,47,20,41,24,45,45,33,15,143,96,919,41,39,46,15,65,45,35,38,29,39,31,151,39,76,38,66,45,38,28,32,37,44,170,24,38,104,36,25,24,131,134,34,32,31,76,51,20,46,114,70,41,87,30,136,46,25,43,116,32,21,17,111,75,42,108,47,55,232,44,55,25,35,89,33,38,107,52,135,19,44,24,37,39,18,24,56,45,27,52,32,95,28,55,38,124,113,31,49,36,28,126,41,53,116,75,42,35,76,33,79,36,64,23,42,23,21,54,23,44,34,30,409,33,26,96,154,19,31,68,22,45,29,13,139,42,33,20,16,49,35,29,28,32,47,19,28,62,54,114,97,29,44,118,45,70,130,66,134,143,62,54,80,138,31,129,138,27,18,40,45,22,123,57,12,110,103,51,137,34,24,98,137,68,67,63,44,67,115,48,40,45,24,85,148,45,53,55,106,153,58,29,36,70,37,27,131,46,44,134,37,138,92,51,43,199,39,102,63,27,23,97,19,45,38,139,41,34,21,13,115,78,29,44,142,52,20,126,90,38,43,39,42,132,84,53,45,41,31,60,65,35,59,68,45,46,146,35,66,45,45,38,69,29,99,142,12,22,34,55,59,42,96,45,30,69,105,96,51,46,29,20,27,24,155,40,18,136,33,31,62,231,31,46,22,73,258,139,42,135,73,79,117,122,25,25,53,594,49,55,18,24,72,136,48,44,30,45,148,38,112,51,41,82,109,142,139,27,21,58,57,103,23,41,37,19,84,45,31,151,37,42,55,37,37,219,67,48,45,75,82,106,31,44,46,23,53,73,44,118,92,133,39,45,62,184,37,26,45,28,45,35,122,129,64,38,130,30,47,45,53,43,22,73,79,92,111,56,144,59,15,45,28,27,29,80,19,39,29,45,33,45,27,152,138,56,49,70,46,31,27,46,46,23,41,39,25,94,85,94,55,45,93,24,55,52,84,83,37,60,137,154,39,28,33,132,144,45,35,196,66,34,135,49,50,26,140,71,92,70,49,36,21,43,42,45,41,53,60,41,24,137,28,48,124,58,97,34,33,29,145,298,77,44,78,43,58,54,105,31,36,45,39,130,102,64,126,92,42,39,91,98,49,61,139,45,34,31,131,21,142,31,45,41,44,113,36,30,22,175,45,137,44,49,66,21,136,45,68,50,59,27,44,138,133,122,124,42,25,108,49,42,23,133,45,45,43,91,134,36,142,158,37,33,34,58,45,23,36,56,44,38,54,126,39,54,22,32,42,38,79,73,45,36,134,86,20,102,42,69,12,29,36,45,65,135,54,60,123,20,426,25,19,20,23,37,39,29,109,146,26,53,134,16,45,45,147,112,95,23,58,91,43,41,114,69,31,45,46,144,21,81,39,45,44,45,38,37,43,126,106,100,45,52,25,140,132,136,36,40,23,149,40,135,36,142,20,20,38,157,60,24,167,36,396,35,41,32,26,17,218,54,40,85,45,75,33,47,38,140,18,52,62,17,65,142,27,151,146,28,134,70,42,45,23,21,126,72,24,67,27,34,115,123,146,62,26,105,81,75,78,122,28,43,73,129,27,52,113,40,40,144,64,131,45,57,116,41,46,62,54,42,34,22,44,77,38,27,148,155,132,24,45,43,42,45,41,31,138,53,133,28,55,41,43,36,144,128,28,30,43,41,57,135,132,26,38,26,20,88,70,49,97,137,46,132,45,88,25,109,140,27,83,77,133,53,91,43,47,36,42,79,29,63,137,100,43,83,66,130,94,65,28,45,32,160,138,115,33,17,136,59,55,43,115,141,145,37,60,23,30,43,145,43,92,47,24,45,90,24,30,111,45,39,141,45,36,105,129,80,185,28,32,148,138,48,58,68,83,22,36,44,96,197,192,47,141,58,50,79,50,52,47,70,124,47,14,26,149,42,27,43,38,61,80,138,1510,45,38,136,114,17,32,62,44,119,141,40,49,47,102,25,37,137,24,62,29,26,146,287,27,53,45,44,164,39,46,71,59,49,32,64,85,138,25,53,19,44,36,35,46,74,23,21,75,99,44,37,106,41,18,24,25,135,19,70,43,42,61,38,57,40,25,50,35,56,56,41,47,43,30,468,45,26,36,31,105,120,37,24,45,36,486,18,27,45,127,50,52,48,48,52,29,73,32,400,70,25,24,237,23,30,23,42,71,51,71,20,148,18,65,144,41,64,35,35,75,82,38,40,18,58,24,41,71,71,98,38,40,74,64,35,72,50,18,44,139,26,45,134,41,26,89,19,93,36,42,51,45,45,28,67,64,15,47,42,72,65,17,47,16,79,46,53,48,39,96,20,24,20,46,133,25,130,22,17,20,27,23,55,112,17,63,45,115,52,117,46,38,40,46,40,49,109,36,129,63,51,18,60,44,76,24,174,423,42,40,17,20,111,41,45,42,58,45,41,19,148,107,39,30,98,74,45,21,19,32,27,227,30,41,34,26,39,46,106,40,30,30,43,127,106,39,35,20,128,36,75,43,41,31,57,20,209,69,18,29,45,102,141,36,57,54,45,45,39,42,82,63,27,63,20,38,66,26,45,9,85,44,45,45,94,34,61,22,83,32,43,34,28,40,135,35,42,71,97,42,129,41,37,55,79,28,135,60,204,135,46,58,111,17,27,94,208,40,46,24,20,80,135,37,46,35,104,38,138,53,63,32,69,32,29,137,54,31,95,37,70,101,67,35,20,407,27,53,52,40,22,52,42,28,98,49,26,35,145,71,42,155,132,119,23,39,51,29,45,30,111,33,114,100,71,107,111,137,47,148,42,139,23,125,22,800,59,24,37,33,126,30,60,137,16,33,150,74,129,47,55,34,46,20,85,54,170,26,37,69,52,29,162,28,45,17,45,45,31,37,138,25,26,139,17,94,22,137,29,29,61,40,44,139,137,57,50,49,29,46,35,38,45,17,54,44,32,16,25,100,39,64,46,139,35,86,33,45,40,59,61,142,44,45,30,25,32,38,55,44,46,21,45,29,35,127,118,43,88,72,21,88,133,66,43,42,43,25,58,45,23,33,81,22,89,31,40,45,36,53,50,16,68,25,139,31,105,143,261,45,34,20,45,38,95,290,27,28,42,37,17,21,22,24,46,95,35,20,149,37,55,111,31,132,56,58,45,111,157,47,20,21,44,46,134,39,21,105,16,30,80,112,44,28,72,150,68,18,47,45,63,12,17,38,40,90,45,20,44,54,55,128,60,118,26,111,24,37,45,42,46,42,22,15,43,109,139,32,36,82,44,45,84,21,41,28,30,39,105,48,139,60,39,19,91,27,203,140,146,199,45,112,44,102,34,24,23,20,61,21,144,42,53,47,49,45,54,36,75,28,34,29,58,23,177,47,71,32,36,132,85,17,18,44,35,34,140,126,142,20,18,58,132,141,26,78,99,45,18,148,46,78,38,20,28,26,78,60,15,28,22,423,61,139,137,67,31,49,95,17,45,25,67,141,31,32,37,22,69,36,41,45,42,29,46,146,19,42,18,70,41,36,63,49,23,27,28,53,73,21,48,34,44,120,22,117,16,31,44,82,46,104,57,56,40,24,40,26,45,65,51,27,40,97,142,32,99,188,139,40,35,73,43,40,133,78,43,26,119,18,30,55,138,31,33,38,36,47,188,45,125,140,45,39,53,69,48,67,273,155,32,29,35,59,25,130,304,42,64,49,22,53,45,64,41,61,81,79,42,47,133,27,44,64,22,35,21,229,82,25,143,46,45,64,140,34,64,108,70,52,120,145,75,36,36,105,35,29,45,22,38,34,50,44,82,37,90,117,145,25,80,17,42,45,103,36,33,75,45,25,59,18,21,85,31,60,31,36,45,78,33,149,40,57,50,29,37,45,57,20,146,39,30,27,168,85,34,23,126,102,23,65,21,44,157,364,61,55,30,18,22,35,21,18,41,96,69,25,35,69,37,43,140,40,32,49,45,129,20,47,101,24,134,25,45,45,25,149,263,50,42,23,45,45,33,286,47,52,47,86,65,28,25,28,65,46,24,45,147,35,18,32,63,22,80,92,54,31,33,74,25,52,41,18,40,22,45,20,12,45,142,47,51,59,60,45,29,79,65,77,45,64,29,140,136,22,45,217,148,38,41,69,12,38,55,45,31,27,99,146,101,45,123,72,78,26,141,135,41,39,45,133,49,113,46,22,19,139,45,38,382,36,40,20,68,76,23,106,24,45,175,49,16,137,26,124,77,44,32,68,31,139,142,133,127,40,139,65,28,45,90,34,45,201,70,75,58,205,45,132,30,25,78,124,135,256,67,45,35,94,68,43,67,109,41,87,160,134,42,25,24,134,45,43,20,91,29,141,55,28,40,82,29,40,22,18,50,28,21,23,48,94,61,44,31,118,39,133,48,54,70,54,77,73,46,119,18,39,48,188,44,98,54,22,129,26,62,65,45,64,46,44,56,19,26,18,211,79,45,69,60,136,27,58,67,45,37,98,36,45,46,40,47,46,42,36,37,58,60,50,35,99,43,48,31,45,36,42,41,74,89,23,23,138,54,39,44,45,113,73,146,32,40,21,34,34,17,61,122,25,45,136,98,30,46,25,36,33,36,54,35,139,29,45,35,286,98,46,37,149,15,74,38,135,64,45,35,57,24,27,136,27,30,43,20,45,30,23,29,34,26,149,60,21,45,21,19,19,107,77,34,39,24,263,46,20,76,107,71,36,52,37,97,85,44,26,76,142,33,48,126,26,147,40,118,131,34,66,54,24,26,36,21,43,20,34,39,45,47,176,21,72,46,152,89,143,44,37,16,43,27,48,36,58,46,47,61,143,80,173,27,95,23,49,23,49,86,57,45,45,32,13,86,138,37,20,56,33,46,158,71,47,91,114,52,194,129,79,149,26,28,235,38,148,21,35,45,45,250,47,40,153,54,48,45,138,67,30,154,133,37,149,37,42,35,40,42,35,99,42,139,20,42,135,39,17,79,44,138,19,45,172,49,45,108,140,138,46,103,26,47,49,86,42,59,39,95,60,145,43,137,69,59,117,35,96,28,43,45,17,40,29,46,30,110,133,49,49,46,101,77,47,43,20,21,45,46,138,46,44,40,20,30,26,37,82,66,61,50,31,65,186,58,323,26,34,45,53,53,50,27,45,81,45,84,44,73,115,49,80,22,40,70,51,37,58,22,34,102,108,27,23,34,22,45,101,92,111,33,24,32,37,38,49,65,68,27,26,38,45,41,38,63,21,38,23,45,53,45,30,33,117,138,43,136,106,44,57,28,101,95,17,43,34,88,45,59,84,92,33,88,68,284,44,88,26,277,34,27,259,887,14,162,44,35,19,36,16,26,30,21,33,60,84,49,36,32,44,20,29,21,32,101,315,45,151,36,34,569,205,53,25,41,61,38,39,36,58,126,45,22,37,37,38,45,46,22,46,30,36,21,46,24,51,27,173,26,36,49,45,47,42,53,31,91,32,46,18,259,50,135,880,127,27,30,49,88,48,38,62,141,144,71,141,39,224,36,136,41,46,118,43,53,34,54,45,37,111,34,79,1355,50,129,135,39,27,91,138,22,50,22,57,49,188,29,30,30,25,27,22,31,45,52,42,92,65,93,51,54,109,19,130,45,46,138,15,45,46,36,51,107,33,28,132,139,99,112,149,108,47,24,26,23,45,60,124,138,92,24,21,70,58,140,48,48,35,135,49,128,19,30,145,20,186,71,112,96,85,28,51,41,17,48,26,26,60,44,46,547,21,33,37,64,76,66,22,151,136,35,46,63,136,44,29,30,130,73,37,82,39,139,28,120,93,143,679,91,50,141,16,35,136,60,489,45,35,110,110,51,22,30,94,63,18,57,21,18,17,45,77,108,113,69,27,45,94,45,67,33,38,97,53,42,24,41,41,21,43,31,15,35,17,93,28,46,26,215,50,35,57,45,150,151,104,32,21,18,33,118,37,106,41,38,47,42,94,50,68,35,69,44,57,84,32,38,39,86,51,21,21,149,78,104,41,56,38,45,50,55,86,216,61,89,45,43,19,111,84,43,148,76,284,37,34,62,20,44,104,58,33,44,134,158,83,22,53,139,67,17,18,149,39,162,153,61,74,94,71,64,41,26,32,55,20,55,39,24,32,45,150,61,63,123,47,39,123,136,60,45,129,28,55,101,28,41,46,76,76,32,25,45,48,31,168,70,37,39,37,41,40,65,47,66,29,62,174,211,32,140,86,139,90,30,39,72,52,27,109,27,49,151,56,137,61,36,24,26,42,23,94,94,96,565,58,45,61,32,21,41,70,30,20,30,45,123,51,25,56,68,48,75,55,117,95,33,205,35,41,73,144,58,51,45,134,79,40,38,102,28,45,88,130,31,33,83,128,23,33,71,132,25,36,47,60,21,108,45,20,188,56,45,49,45,187,25,35,82,45,150,50,138,29,45,23,57,45,72,56,109,31,137,20,51,37,167,45,15,39,44,107,88,53,91,29,40,44,139,45,39,134,114,20,73,41,19,103,395,38,37,74,45,34,46,35,47,33,28,96,55,52,49,35,32,29,111,26,42,102,23,16,137,86,132,125,131,28,78,45,88,45,35,25,125,23,23,45,140,40,35,19,35,146,38,45,33,24,40,22,49,36,131,119,53,133,16,21,64,145,30,79,145,526,36,45,28,84,125,319,13,108,25,28,126,81,50,141,45,59,97,132,80,91,37,34,44,45,105,78,138,60,57,98,131,52,45,54,29,68,52,24,59,47,79,54,19,43,32,83,46,45,32,20,135,56,147,37,40,45,34,387,44,14,23,17,137,59,138,20,26,47,46,24,11,55,48,18,19,187,50,136,89,61,112,23,23,137,79,26,22,311,112,21,16,58,48,36,17,22,153,35,96,72,82,27,44,94,50,31,52,60,320,34,50,38,78,23,47,44,51,172,33,68,41,97,24,644,80,34,281,41,203,145,57,70,55,18,62,42,45,138,26,25,85,49,145,95,45,144,35,138,124,93,41,43,73,71,223,135,34,118,20,132,45,35,101,147,123,62,47,108,25,78,37,49,46,45,101,18,54,106,49,98,32,28,39,38,34,25,81,60,44,34,751,138,105,89,16,107,129,37,70,34,46,48,135,18,55,55,39,46,658,126,40,162,74,40,41,44,108,90,64,54,65,23,44,66,33,85,142,169,56,63,136,33,29,72,32,44,74,23,17,31,50,95,34,47,127,79,48,141,99,38,21,43,113,28,53,19,75,44,45,45,18,73,45,45,39,33,50,114,66,34,17,73,28,44,37,44,36,63,44,50,162,172,75,38,91,54,34,40,26,59,115,95,130,63,21,17,138,45,54,126,47,40,19,39,35,49,74,40,38,59,139,83,153,87,38,30,48,195,112,174,35,38,32,114,112,100,265,17,31,30,143,105,26,140,45,42,49,123,38,62,28,58,16,25,44,49,115,105,41,16,43,135,54,75,17,543,20,29,138,37,168,45,56,91,52,16,71,145,58,150,33,31,46,57,18,116,21,45,15,33,32,2,22,23,22,25,26,38,94,72,26,232,87,50,67,46,19,44,75,45,50,35,54,115,49,45,45,97,71,21,45,24,47,24,133,44,33,22,16,87,255,40,55,57,67,296,34,32,136,138,150,25,45,138,54,136,43,34,86,35,82,61,25,63,50,30,54,122,77,60,142,35,32,67,69,41,36,28,45,43,36,45,39,176,87,148,46,36,24,33,50,77,40,34,88,22,45,151,119,31,27,41,32,63,85,22,70,36,108,42,34,20,42,45,39,100,32,72,27,38,26,28,47,58,51,51,33,120,36,19,105,84,32,68,25,30,59,73,72,38,45,80,48,46,22,63,56,20,152,44,21,81,33,42,42,57,64,21,74,495,38,67,20,21,23,81,42,77,96,154,47,46,135,48,45,123,36,21,103,171,71,65,18,71,38,45,66,22,62,134,25,37,50,79,47,30,132,124,135,83,144,148,45,43,55,109,45,25,80,79,45,131,17,58,92,80,42,23,83,32,24,80,347,27,189,27,97,77,30,139,51,24,112,34,37,108,138,31,34,50,91,62,52,142,72,135,83,92,724,13,81,39,19,28,154,63,43,34,18,45,24,20,43,17,71,46,304,201,72,52,44,37,135,20,73,134,22,45,41,22,117,44,66,28,133,158,35,45,135,59,154,47,44,23,44,132,24,109,56,50,32,45,139,87,77,16,30,144,21,33,54,48,98,19,20,52,79,77,91,22,43,41,37,36,119,71,119,19,49,530,35,41,68,23,19,120,75,21,77,37,51,73,69,43,46,22,132,25,74,25,38,20,24,24,45,24,80,35,41,118,52,138,61,23,69,49,37,54,58,16,45,63,20,20,133,48,36,40,74,43,116,140,13,73,18,41,73,41,20,45,112,45,219,133,70,139,45,482,45,79,143,22,84,41,67,70,25,44,114,99,57,44,52,25,145,132,52,55,77,25,129,140,54,27,42,45,235,54,44,132,70,25,49,84,95,104,43,35,29,200,45,44,14,45,50,86,24,89,36,130,75,84,64,61,99,82,128,24,45,79,141,73,19,54,50,110,45,99,28,62,9,43,23,115,63,108,118,167,47,29,20,24,23,39,142,59,33,38,103,110,54,23,226,164,50,37,90,17,278,78,39,26,36,81,22,118,37,72,59,24,45,115,43,50,43,76,129,133,29,44,31,62,46,75,16,37,31,15,85,31,52,45,143,664,59,52,126,34,50,58,33,46,45,23,26,23,30,21,39,71,94,27,30,118,20,44,107,55,18,113,46,36,116,33,48,334,39,43,31,106,38,45,58,43,44,153,46,45,39,39,46,57,19,84,36,82,34,108,143,136,8,138,130,131,57,24,44,45,32,40,24,32,94,32,47,20,91,120,146,45,125,1321,24,65,48,22,26,36,168,28,43,49,26,54,38,41,17,55,22,54,128,23,79,59,101,43,20,47,39,36,54,45,43,35,135,24,26,37,66,44,56,163,20,324,48,19,57,139,117,24,63,19,35,94,44,45,45,151,31,56,95,35,44,18,32,52,22,17,134,37,47,45,17,45,24,46,28,36,189,33,39,45,35,19,188,27,587,65,145,204,45,135,50,23,41,40,130,36,45,28,150,47,17,127,194,40,40,43,37,17,31,142,27,59,151,152,53,19,53,39,101,140,46,34,32,37,190,23,59,34,74,43,128,78,22,94,72,34,21,19,25,83,139,48,24,38,52,27,48,110,74,36,208,45,41,291,60,156,38,134,28,27,43,53,38,169,69,53,60,46,142,18,27,120,34,60,140,43,136,26,26,20,65,26,45,45,142,81,44,81,70,31,24,41,17,25,88,47,39,31,148,46,28,862,31,20,93,30,34,16,16,45,45,50,53,136,20,39,162,43,36,35,29,69,28,67,77,44,296,31,136,25,43,165,72,18,104,44,59,44,60,37,149,46,45,40,37,26,156,45,560,113,20,23,54,64,140,76,145,54,28,79,36,65,141,33,52,122,24,72,25,26,41,44,126,42,134,63,27,47,43,65,32,40,24,81,403,32,151,93,38,89,127,115,15,45,129,139,39,20,39,136,19,44,17,60,61,45,125,140,55,34,45,45,94,51,43,46,140,52,18,100,45,42,38,54,45,41,134,17,163,24,16,49,40,17,193,150,95,240,26,37,151,39,25,146,43,62,23,127,123,53,42,20,59,61,33,65,22,47,23,58,200,40,52,39,86,67,33,46,44,60,31,42,83,25,140,26,43,86,45,35,20,73,49,39,29,61,39,67,43,49,38,61,33,236,411,137,22,131,63,37,60,68,146,44,92,139,34,98,42,44,31,24,46,62,28,62,30,44,39,59,88,44,23,88,34,22,49,25,72,40,43,19,72,41,24,51,138,33,62,38,95,114,45,45,37,59,50,82,43,54,58,47,107,51,45,39,86,222,129,45,18,40,84,30,35,52,74,33,96,17,45,14,17,130,79,21,91,31,66,44,48,55,28,53,76,24,74,29,44,26,60,42,39,45,138,38,22,25,21,35,146,136,52,73,137,46,52,221,26,120,21,52,62,48,25,44,33,143,45,65,39,134,28,45,26,45,35,49,133,35,76,40,20,17,97,174,132,274,40,21,20,15,54,4,32,44,135,144,46,65,38,38,59,19,18,45,36,45,20,41,16,88,112,44,45,131,23,22,45,34,63,40,45,61,31,44,45,117,123,25,130,60,46,35,49,20,98,145,43,110,16,157,91,35,23,71,215,63,112,233,77,47,32,65,162,54,48,116,107,41,45,84,45,41,41,57,29,37,45,24,25,33,24,35,53,45,45,37,92,24,35,45,40,43,56,26,138,60,71,22,57,52,51,39,37,49,29,66,45,50,16,44,18,42,70,29,52,40,142,153,78,54,36,45,60,47,176,702,25,30,229,20,35,19,90,42,108,142,36,85,44,36,107,21,20,23,45,45,34,26,110,34,28,37,30,42,95,143,72,65,28,46,561,74,28,77,45,31,24,66,118,33,45,35,23,48,92,84,47,35,47,22,55,73,135,133,65,46,361,59,30,82,131,44,29,21,20,40,70,73,30,146,27,58,29,55,81,24,139,92,27,155,144,130,108,270,17,57,236,22,66,39,74,28,45,43,25,55,242,24,83,45,29,22,48,21,145,28,42,44,58,19,86,103,47,39,36,19,42,108,88,22,26,32,33,41,18,78,49,41,33,28,39,33,33,39,59,133,281,142,40,29,37,72,65,44,88,94,35,132,27,38,88,66,70,128,59,47,41,127,38,66,25,21,71,48,40,18,229,53,120,26,56,32,42,61,28,14,35,18,55,26,92,86,86,45,65,62,149,19,32,37,22,45,45,83,148,92,137,25,46,19,33,133,72,23,135,59,37,21,39,39,34,19,91,207,32,32,17,52,46,38,20,102,70,48,59,65,43,57,50,19,65,24,47,29,19,41,145,41,38,20,29,425,42,55,28,77,50,91,70,28,97,57,38,103,35,45,17,34,40,46,77,39,132,30,86,16,62,33,24,981,76,46,143,68,57,23,36,40,47,40,39,65,38,37,64,34,19,21,36,116,61,23,158,19,38,35,65,27,41,110,25,42,32,99,62,18,66,87,28,35,140,19,61,46,30,41,41,132,31,26,24,43,42,28,101,40,176,182,22,38,137,50,36,435,38,87,93,124,36,132,44,45,88,91,70,52,17,45,59,45,141,98,50,1269,22,25,71,36,21,36,71,88,22,20,117,37,32,575,36,39,46,33,35,19,61,169,21,40,92,45,43,137,25,45,122,51,32,22,43,22,37,41,171,196,145,36,109,14,136,31,40,45,15,53,28,19,137,274,86,56,56,30,47,38,91,88,45,112,27,73,45,33,146,45,24,192,70,40,39,74,89,107,35,21,34,45,129,26,75,45,37,38,114,34,140,72,47,31,280,36,143,39,172,39,37,20,36,22,55,153,42,28,28,45,17,72,154,22,91,49,45,20,30,27,144,48,141,103,29,114,21,17,46,30,67,66,39,31,84,45,30,193,257,52,69,37,50,21,126,81,53,121,77,68,87,15,14,124,32,49,28,19,19,25,39,117,18,56,77,81,44,39,21,35,43,50,97,46,43,32,83,101,110,70,83,77,44,197,154,39,111,40,48,57,45,49,45,43,55,123,38,55,142,39,76,20,27,31,34,36,139,38,72,148,29,127,25,59,146,37,19,42,65,20,64,75,131,136,52,35,52,59,35,55,25,179,138,174,19,141,65,126,19,660,139,147,17,367,43,49,47,44,137,19,23,47,44,108,18,30,144,28,27,36,43,134,287,32,88,47,202,40,110,26,32,335,50,79,23,40,38,30,45,48,78,23,542,18,54,25,37,135,118,66,55,142,53,37,50,37,32,75,53,22,54,36,34,48,44,29,149,131,20,58,34,72,86,148,21,19,80,27,88,37,126,20,22,57,142,102,30,32,57,40,30,45,49,141,94,24,165,45,9,136,26,57,124,61,27,228,23,33,30,36,78,47,57,32,45,140,355,27,20,54,87,28,18,48,35,144,64,54,28,37,51,28,55,141,25,148,70,75,37,1231,30,32,124,111,144,44,59,91,44,22,18,65,144,37,134,98,73,62,62,30,61,47,94,117,140,20,134,132,44,114,36,99,29,68,50,115,27,80,132,140,38,94,52,55,84,116,42,161,132,32,63,43,30,24,57,631,19,27,25,18,45,38,105,44,56,32,45,51,45,33,52,36,100,24,46,45,39,36,140,14,45,106,109,45,143,32,47,40,48,185,39,19,65,17,24,115,58,65,136,101,50,22,34,27,45,18,31,30,58,31,54,105,45,59,143,54,35,30,31,111,54,52,61,20,138,48,44,157,341,27,77,46,43,133,39,89,62,53,18,19,28,82,127,23,25,134,37,23,39,132,34,45,23,45,87,29,71,111,111,50,16,19,46,110,45,22,76,25,37,113,26,117,70,45,55,33,123,125,57,13,43,112,39,14,44,18,67,64,41,20,64,59,103,63,44,45,65,47,20,48,28,33,124,17,22,33,51,52,36,22,28,99,33,36,36,34,137,91,53,20,145,43,146,75,148,43,84,45,112,30,19,20,124,14,50,18,27,33,135,45,69,32,52,46,45,152,20,42,133,33,89,138,14,41,108,138,29,54,59,45,88,20,197,25,49,17,54,46,39,79,31,61,21,31,32,133,24,82,35,49,46,34,96,166,128,42,22,60,119,132,110,47,142,41,110,33,19,31,16,28,309,25,35,20,36,44,21,156,38,49,25,35,73,20,23,27,60,70,112,40,150,34,31,38,25,32,140,22,38,47,90,115,132,55,19,41,45,50,46,30,208,46,135,143,141,137,35,38,26,45,25,45,60,138,105,36,24,37,114,23,22,97,14,57,127,45,46,84,38,76,335,19,131,34,144,97,34,71,45,53,33,35,28,57,144,137,37,29,44,66,36,135,46,206,45,44,59,78,120,121,123,21,17,31,122,27,137,32,89,46,46,49,126,53,113,81,25,53,44,136,31,153,72,148,26,136,152,45,40,144,19,46,23,42,61,250,219,26,39,24,282,61,19,121,45,46,55,219,162,184,183,41,130,26,19,21,141,33,46,75,45,17,45,52,81,23,74,107,21,37,69,45,29,35,101,45,164,58,30,21,38,49,59,139,75,26,17,44,45,35,38,61,58,30,72,36,64,322,126,127,60,20,41,40,45,150,748,36,82,27,46,53,97,27,163,17,28,36,20,65,95,27,61,30,45,20,152,82,45,43,138,136,45,163,69,42,20,16,59,46,808,41,23,25,88,43,138,17,45,113,45,76,42,112,109,43,45,55,33,146,67,49,63,17,89,40,50,44,45,31,97,136,18,38,54,136,40,43,97,120,54,35,41,93,68,82,547,138,31,72,30,43,110,59,87,228,92,30,63,84,113,45,169,87,17,136,43,42,44,58,50,44,43,291,38,37,45,53,68,132,45,14,107,137,66,110,104,26,40,65,50,29,21,47,43,29,95,27,104,42,28,59,394,45,30,46,171,37,127,85,139,100,27,30,79,47,35,42,29,60,46,110,32,31,27,72,17,49,34,45,44,42,44,64,85,26,26,50,54,52,142,54,42,41,37,39,65,34,145,24,68,45,44,371,51,142,64,143,45,138,65,19,62,93,33,72,94,48,36,45,36,34,138,23,45,37,24,257,29,92,113,28,45,41,59,39,42,33,56,125,26,43,45,31,125,37,31,85,111,48,140,173,61,52,36,33,63,40,32,43,23,107,45,20,29,60,90,113,39,25,80,23,24,145,45,142,44,28,36,99,48,664,44,33,72,21,118,58,101,141,91,41,106,300,59,64,51,37,40,46,60,23,45,29,43,38,109,45,50,98,29,88,19,20,20,53,133,51,127,71,51,73,115,41,25,25,138,20,14,30,38,61,145,17,42,73,67,30,143,33,146,75,35,50,109,39,43,138,39,402,19,39,30,70,49,40,32,83,136,122,92,28,52,18,45,46,31,376,208,35,70,27,44,146,63,67,55,147,62,45,40,22,48,45,41,137,82,318,45,21,44,41,95,47,25,29,52,46,139,31,27,141,20,40,47,45,137,141,108,23,46,41,71,22,125,61,37,254,144,132,131,46,196,27,124,45,47,43,79,26,144,33,147,38,52,27,77,27,45,119,31,135,18,170,206,27,36,144,45,485,35,54,84,19,129,140,16,81,37,22,21,47,27,17,20,116,31,97,40,23,23,29,93,107,20,47,140,45,46,40,38,95,11,30,100,27,66,56,28,22,59,96,39,37,30,292,18,45,151,141,18,33,51,62,28,62,63,42,55,55,142,88,119,147,40,53,141,17,41,43,43,45,24,45,47,31,28,34,47,75,84,35,39,33,76,48,21,143,23,44,30,31,49,81,35,92,42,18,21,58,39,24,28,45,40,131,55,153,22,25,71,58,140,34,60,78,81,77,79,26,43,89,45,17,59,103,71,194,131,42,46,116,31,47,31,56,19,45,35,48,39,94,32,131,219,43,26,32,125,99,38,77,24,59,25,45,32,36,26,29,88,53,68,87,37,77,28,36,56,46,58,117,35,65,126,174,686,143,50,110,29,21,149,28,27,67,72,17,26,39,24,87,22,58,38,70,45,87,48,139,27,21,140,26,68,50,45,51,163,323,25,140,25,134,140,24,44,222,75,149,17,144,44,44,36,99,41,239,39,48,177,29,25,83,36,282,63,25,194,68,68,38,137,27,35,26,37,145,33,140,35,95,55,137,41,81,47,222,19,34,137,37,99,182,166,35,44,22,28,26,58,60,23,177,45,44,28,98,27,57,25,16,75,783,45,39,50,87,45,36,21,47,45,87,40,27,85,45,41,36,39,22,120,148,33,21,45,146,110,141,197,226,64,32,58,26,26,34,21,98,43,30,30,22,131,28,41,38,242,46,65,140,18,96,28,58,47,146,35,40,96,32,32,24,40,145,35,25,59,312,45,81,45,72,79,62,26,36,19,59,28,112,48,83,37,71,72,56,141,57,130,45,25,129,105,42,24,44,22,25,24,45,45,56,93,18,30,49,43,18,40,36,33,38,138,23,25,87,237,22,87,54,223,46,84,150,56,43,147,134,25,54,38,132,108,85,45,54,177,50,129,43,109,19,47,140,126,44],\"xaxis\":\"x2\",\"yaxis\":\"y2\",\"type\":\"box\"}],                        {\"template\":{\"data\":{\"histogram2dcontour\":[{\"type\":\"histogram2dcontour\",\"colorbar\":{\"outlinewidth\":0,\"ticks\":\"\"},\"colorscale\":[[0.0,\"#0d0887\"],[0.1111111111111111,\"#46039f\"],[0.2222222222222222,\"#7201a8\"],[0.3333333333333333,\"#9c179e\"],[0.4444444444444444,\"#bd3786\"],[0.5555555555555556,\"#d8576b\"],[0.6666666666666666,\"#ed7953\"],[0.7777777777777778,\"#fb9f3a\"],[0.8888888888888888,\"#fdca26\"],[1.0,\"#f0f921\"]]}],\"choropleth\":[{\"type\":\"choropleth\",\"colorbar\":{\"outlinewidth\":0,\"ticks\":\"\"}}],\"histogram2d\":[{\"type\":\"histogram2d\",\"colorbar\":{\"outlinewidth\":0,\"ticks\":\"\"},\"colorscale\":[[0.0,\"#0d0887\"],[0.1111111111111111,\"#46039f\"],[0.2222222222222222,\"#7201a8\"],[0.3333333333333333,\"#9c179e\"],[0.4444444444444444,\"#bd3786\"],[0.5555555555555556,\"#d8576b\"],[0.6666666666666666,\"#ed7953\"],[0.7777777777777778,\"#fb9f3a\"],[0.8888888888888888,\"#fdca26\"],[1.0,\"#f0f921\"]]}],\"heatmap\":[{\"type\":\"heatmap\",\"colorbar\":{\"outlinewidth\":0,\"ticks\":\"\"},\"colorscale\":[[0.0,\"#0d0887\"],[0.1111111111111111,\"#46039f\"],[0.2222222222222222,\"#7201a8\"],[0.3333333333333333,\"#9c179e\"],[0.4444444444444444,\"#bd3786\"],[0.5555555555555556,\"#d8576b\"],[0.6666666666666666,\"#ed7953\"],[0.7777777777777778,\"#fb9f3a\"],[0.8888888888888888,\"#fdca26\"],[1.0,\"#f0f921\"]]}],\"heatmapgl\":[{\"type\":\"heatmapgl\",\"colorbar\":{\"outlinewidth\":0,\"ticks\":\"\"},\"colorscale\":[[0.0,\"#0d0887\"],[0.1111111111111111,\"#46039f\"],[0.2222222222222222,\"#7201a8\"],[0.3333333333333333,\"#9c179e\"],[0.4444444444444444,\"#bd3786\"],[0.5555555555555556,\"#d8576b\"],[0.6666666666666666,\"#ed7953\"],[0.7777777777777778,\"#fb9f3a\"],[0.8888888888888888,\"#fdca26\"],[1.0,\"#f0f921\"]]}],\"contourcarpet\":[{\"type\":\"contourcarpet\",\"colorbar\":{\"outlinewidth\":0,\"ticks\":\"\"}}],\"contour\":[{\"type\":\"contour\",\"colorbar\":{\"outlinewidth\":0,\"ticks\":\"\"},\"colorscale\":[[0.0,\"#0d0887\"],[0.1111111111111111,\"#46039f\"],[0.2222222222222222,\"#7201a8\"],[0.3333333333333333,\"#9c179e\"],[0.4444444444444444,\"#bd3786\"],[0.5555555555555556,\"#d8576b\"],[0.6666666666666666,\"#ed7953\"],[0.7777777777777778,\"#fb9f3a\"],[0.8888888888888888,\"#fdca26\"],[1.0,\"#f0f921\"]]}],\"surface\":[{\"type\":\"surface\",\"colorbar\":{\"outlinewidth\":0,\"ticks\":\"\"},\"colorscale\":[[0.0,\"#0d0887\"],[0.1111111111111111,\"#46039f\"],[0.2222222222222222,\"#7201a8\"],[0.3333333333333333,\"#9c179e\"],[0.4444444444444444,\"#bd3786\"],[0.5555555555555556,\"#d8576b\"],[0.6666666666666666,\"#ed7953\"],[0.7777777777777778,\"#fb9f3a\"],[0.8888888888888888,\"#fdca26\"],[1.0,\"#f0f921\"]]}],\"mesh3d\":[{\"type\":\"mesh3d\",\"colorbar\":{\"outlinewidth\":0,\"ticks\":\"\"}}],\"scatter\":[{\"fillpattern\":{\"fillmode\":\"overlay\",\"size\":10,\"solidity\":0.2},\"type\":\"scatter\"}],\"parcoords\":[{\"type\":\"parcoords\",\"line\":{\"colorbar\":{\"outlinewidth\":0,\"ticks\":\"\"}}}],\"scatterpolargl\":[{\"type\":\"scatterpolargl\",\"marker\":{\"colorbar\":{\"outlinewidth\":0,\"ticks\":\"\"}}}],\"bar\":[{\"error_x\":{\"color\":\"#2a3f5f\"},\"error_y\":{\"color\":\"#2a3f5f\"},\"marker\":{\"line\":{\"color\":\"#E5ECF6\",\"width\":0.5},\"pattern\":{\"fillmode\":\"overlay\",\"size\":10,\"solidity\":0.2}},\"type\":\"bar\"}],\"scattergeo\":[{\"type\":\"scattergeo\",\"marker\":{\"colorbar\":{\"outlinewidth\":0,\"ticks\":\"\"}}}],\"scatterpolar\":[{\"type\":\"scatterpolar\",\"marker\":{\"colorbar\":{\"outlinewidth\":0,\"ticks\":\"\"}}}],\"histogram\":[{\"marker\":{\"pattern\":{\"fillmode\":\"overlay\",\"size\":10,\"solidity\":0.2}},\"type\":\"histogram\"}],\"scattergl\":[{\"type\":\"scattergl\",\"marker\":{\"colorbar\":{\"outlinewidth\":0,\"ticks\":\"\"}}}],\"scatter3d\":[{\"type\":\"scatter3d\",\"line\":{\"colorbar\":{\"outlinewidth\":0,\"ticks\":\"\"}},\"marker\":{\"colorbar\":{\"outlinewidth\":0,\"ticks\":\"\"}}}],\"scattermapbox\":[{\"type\":\"scattermapbox\",\"marker\":{\"colorbar\":{\"outlinewidth\":0,\"ticks\":\"\"}}}],\"scatterternary\":[{\"type\":\"scatterternary\",\"marker\":{\"colorbar\":{\"outlinewidth\":0,\"ticks\":\"\"}}}],\"scattercarpet\":[{\"type\":\"scattercarpet\",\"marker\":{\"colorbar\":{\"outlinewidth\":0,\"ticks\":\"\"}}}],\"carpet\":[{\"aaxis\":{\"endlinecolor\":\"#2a3f5f\",\"gridcolor\":\"white\",\"linecolor\":\"white\",\"minorgridcolor\":\"white\",\"startlinecolor\":\"#2a3f5f\"},\"baxis\":{\"endlinecolor\":\"#2a3f5f\",\"gridcolor\":\"white\",\"linecolor\":\"white\",\"minorgridcolor\":\"white\",\"startlinecolor\":\"#2a3f5f\"},\"type\":\"carpet\"}],\"table\":[{\"cells\":{\"fill\":{\"color\":\"#EBF0F8\"},\"line\":{\"color\":\"white\"}},\"header\":{\"fill\":{\"color\":\"#C8D4E3\"},\"line\":{\"color\":\"white\"}},\"type\":\"table\"}],\"barpolar\":[{\"marker\":{\"line\":{\"color\":\"#E5ECF6\",\"width\":0.5},\"pattern\":{\"fillmode\":\"overlay\",\"size\":10,\"solidity\":0.2}},\"type\":\"barpolar\"}],\"pie\":[{\"automargin\":true,\"type\":\"pie\"}]},\"layout\":{\"autotypenumbers\":\"strict\",\"colorway\":[\"#636efa\",\"#EF553B\",\"#00cc96\",\"#ab63fa\",\"#FFA15A\",\"#19d3f3\",\"#FF6692\",\"#B6E880\",\"#FF97FF\",\"#FECB52\"],\"font\":{\"color\":\"#2a3f5f\"},\"hovermode\":\"closest\",\"hoverlabel\":{\"align\":\"left\"},\"paper_bgcolor\":\"white\",\"plot_bgcolor\":\"#E5ECF6\",\"polar\":{\"bgcolor\":\"#E5ECF6\",\"angularaxis\":{\"gridcolor\":\"white\",\"linecolor\":\"white\",\"ticks\":\"\"},\"radialaxis\":{\"gridcolor\":\"white\",\"linecolor\":\"white\",\"ticks\":\"\"}},\"ternary\":{\"bgcolor\":\"#E5ECF6\",\"aaxis\":{\"gridcolor\":\"white\",\"linecolor\":\"white\",\"ticks\":\"\"},\"baxis\":{\"gridcolor\":\"white\",\"linecolor\":\"white\",\"ticks\":\"\"},\"caxis\":{\"gridcolor\":\"white\",\"linecolor\":\"white\",\"ticks\":\"\"}},\"coloraxis\":{\"colorbar\":{\"outlinewidth\":0,\"ticks\":\"\"}},\"colorscale\":{\"sequential\":[[0.0,\"#0d0887\"],[0.1111111111111111,\"#46039f\"],[0.2222222222222222,\"#7201a8\"],[0.3333333333333333,\"#9c179e\"],[0.4444444444444444,\"#bd3786\"],[0.5555555555555556,\"#d8576b\"],[0.6666666666666666,\"#ed7953\"],[0.7777777777777778,\"#fb9f3a\"],[0.8888888888888888,\"#fdca26\"],[1.0,\"#f0f921\"]],\"sequentialminus\":[[0.0,\"#0d0887\"],[0.1111111111111111,\"#46039f\"],[0.2222222222222222,\"#7201a8\"],[0.3333333333333333,\"#9c179e\"],[0.4444444444444444,\"#bd3786\"],[0.5555555555555556,\"#d8576b\"],[0.6666666666666666,\"#ed7953\"],[0.7777777777777778,\"#fb9f3a\"],[0.8888888888888888,\"#fdca26\"],[1.0,\"#f0f921\"]],\"diverging\":[[0,\"#8e0152\"],[0.1,\"#c51b7d\"],[0.2,\"#de77ae\"],[0.3,\"#f1b6da\"],[0.4,\"#fde0ef\"],[0.5,\"#f7f7f7\"],[0.6,\"#e6f5d0\"],[0.7,\"#b8e186\"],[0.8,\"#7fbc41\"],[0.9,\"#4d9221\"],[1,\"#276419\"]]},\"xaxis\":{\"gridcolor\":\"white\",\"linecolor\":\"white\",\"ticks\":\"\",\"title\":{\"standoff\":15},\"zerolinecolor\":\"white\",\"automargin\":true,\"zerolinewidth\":2},\"yaxis\":{\"gridcolor\":\"white\",\"linecolor\":\"white\",\"ticks\":\"\",\"title\":{\"standoff\":15},\"zerolinecolor\":\"white\",\"automargin\":true,\"zerolinewidth\":2},\"scene\":{\"xaxis\":{\"backgroundcolor\":\"#E5ECF6\",\"gridcolor\":\"white\",\"linecolor\":\"white\",\"showbackground\":true,\"ticks\":\"\",\"zerolinecolor\":\"white\",\"gridwidth\":2},\"yaxis\":{\"backgroundcolor\":\"#E5ECF6\",\"gridcolor\":\"white\",\"linecolor\":\"white\",\"showbackground\":true,\"ticks\":\"\",\"zerolinecolor\":\"white\",\"gridwidth\":2},\"zaxis\":{\"backgroundcolor\":\"#E5ECF6\",\"gridcolor\":\"white\",\"linecolor\":\"white\",\"showbackground\":true,\"ticks\":\"\",\"zerolinecolor\":\"white\",\"gridwidth\":2}},\"shapedefaults\":{\"line\":{\"color\":\"#2a3f5f\"}},\"annotationdefaults\":{\"arrowcolor\":\"#2a3f5f\",\"arrowhead\":0,\"arrowwidth\":1},\"geo\":{\"bgcolor\":\"white\",\"landcolor\":\"#E5ECF6\",\"subunitcolor\":\"white\",\"showland\":true,\"showlakes\":true,\"lakecolor\":\"white\"},\"title\":{\"x\":0.05},\"mapbox\":{\"style\":\"light\"}}},\"xaxis\":{\"anchor\":\"y\",\"domain\":[0.0,1.0],\"title\":{\"text\":\"OriginalLength\"}},\"yaxis\":{\"anchor\":\"x\",\"domain\":[0.0,0.8316],\"title\":{\"text\":\"count\"}},\"xaxis2\":{\"anchor\":\"y2\",\"domain\":[0.0,1.0],\"matches\":\"x\",\"showticklabels\":false,\"showgrid\":true},\"yaxis2\":{\"anchor\":\"x2\",\"domain\":[0.8416,1.0],\"matches\":\"y2\",\"showticklabels\":false,\"showline\":false,\"ticks\":\"\",\"showgrid\":false},\"legend\":{\"tracegroupgap\":0},\"title\":{\"text\":\"Longitud de las rese\\u00f1as originales\"},\"barmode\":\"relative\",\"bargap\":0.1},                        {\"responsive\": true}                    ).then(function(){\n",
              "                            \n",
              "var gd = document.getElementById('47777d14-2981-4a1a-a28c-4a3d8017a93a');\n",
              "var x = new MutationObserver(function (mutations, observer) {{\n",
              "        var display = window.getComputedStyle(gd).display;\n",
              "        if (!display || display === 'none') {{\n",
              "            console.log([gd, 'removed!']);\n",
              "            Plotly.purge(gd);\n",
              "            observer.disconnect();\n",
              "        }}\n",
              "}});\n",
              "\n",
              "// Listen for the removal of the full notebook cells\n",
              "var notebookContainer = gd.closest('#notebook-container');\n",
              "if (notebookContainer) {{\n",
              "    x.observe(notebookContainer, {childList: true});\n",
              "}}\n",
              "\n",
              "// Listen for the clearing of the current output cell\n",
              "var outputEl = gd.closest('.output');\n",
              "if (outputEl) {{\n",
              "    x.observe(outputEl, {childList: true});\n",
              "}}\n",
              "\n",
              "                        })                };                            </script>        </div>\n",
              "</body>\n",
              "</html>"
            ]
          },
          "metadata": {}
        }
      ]
    },
    {
      "cell_type": "markdown",
      "source": [
        "De lo anterior podemos inferir de que la longitud de los datos siga al parecido a una distribucón normal y que existen muchos outliers o reseñas cuya longitud se aleja bastante del promedio. Veamoslo ahora por la clase involucrada."
      ],
      "metadata": {
        "id": "61Yh9c6C36ln"
      }
    },
    {
      "cell_type": "code",
      "source": [
        "reviews.groupby('Class')['OriginalLength'].agg(['mean','max','min'])\n"
      ],
      "metadata": {
        "colab": {
          "base_uri": "https://localhost:8080/",
          "height": 237
        },
        "id": "1N_JddjP48LQ",
        "outputId": "15a9f38b-d5ea-4683-e92d-c34369e1aa11"
      },
      "execution_count": null,
      "outputs": [
        {
          "output_type": "execute_result",
          "data": {
            "text/plain": [
              "                   mean   max  min\n",
              "Class                             \n",
              "Muy Negativo  87.602828   887    9\n",
              "Muy Positivo  57.496400  1793    8\n",
              "Negativo      87.439662  1321    9\n",
              "Neutro        78.747141  1467    4\n",
              "Positivo      64.683359  1021    2"
            ],
            "text/html": [
              "\n",
              "  <div id=\"df-aecb698d-95b0-475a-a10c-303cfd490f3c\" class=\"colab-df-container\">\n",
              "    <div>\n",
              "<style scoped>\n",
              "    .dataframe tbody tr th:only-of-type {\n",
              "        vertical-align: middle;\n",
              "    }\n",
              "\n",
              "    .dataframe tbody tr th {\n",
              "        vertical-align: top;\n",
              "    }\n",
              "\n",
              "    .dataframe thead th {\n",
              "        text-align: right;\n",
              "    }\n",
              "</style>\n",
              "<table border=\"1\" class=\"dataframe\">\n",
              "  <thead>\n",
              "    <tr style=\"text-align: right;\">\n",
              "      <th></th>\n",
              "      <th>mean</th>\n",
              "      <th>max</th>\n",
              "      <th>min</th>\n",
              "    </tr>\n",
              "    <tr>\n",
              "      <th>Class</th>\n",
              "      <th></th>\n",
              "      <th></th>\n",
              "      <th></th>\n",
              "    </tr>\n",
              "  </thead>\n",
              "  <tbody>\n",
              "    <tr>\n",
              "      <th>Muy Negativo</th>\n",
              "      <td>87.602828</td>\n",
              "      <td>887</td>\n",
              "      <td>9</td>\n",
              "    </tr>\n",
              "    <tr>\n",
              "      <th>Muy Positivo</th>\n",
              "      <td>57.496400</td>\n",
              "      <td>1793</td>\n",
              "      <td>8</td>\n",
              "    </tr>\n",
              "    <tr>\n",
              "      <th>Negativo</th>\n",
              "      <td>87.439662</td>\n",
              "      <td>1321</td>\n",
              "      <td>9</td>\n",
              "    </tr>\n",
              "    <tr>\n",
              "      <th>Neutro</th>\n",
              "      <td>78.747141</td>\n",
              "      <td>1467</td>\n",
              "      <td>4</td>\n",
              "    </tr>\n",
              "    <tr>\n",
              "      <th>Positivo</th>\n",
              "      <td>64.683359</td>\n",
              "      <td>1021</td>\n",
              "      <td>2</td>\n",
              "    </tr>\n",
              "  </tbody>\n",
              "</table>\n",
              "</div>\n",
              "    <div class=\"colab-df-buttons\">\n",
              "\n",
              "  <div class=\"colab-df-container\">\n",
              "    <button class=\"colab-df-convert\" onclick=\"convertToInteractive('df-aecb698d-95b0-475a-a10c-303cfd490f3c')\"\n",
              "            title=\"Convert this dataframe to an interactive table.\"\n",
              "            style=\"display:none;\">\n",
              "\n",
              "  <svg xmlns=\"http://www.w3.org/2000/svg\" height=\"24px\" viewBox=\"0 -960 960 960\">\n",
              "    <path d=\"M120-120v-720h720v720H120Zm60-500h600v-160H180v160Zm220 220h160v-160H400v160Zm0 220h160v-160H400v160ZM180-400h160v-160H180v160Zm440 0h160v-160H620v160ZM180-180h160v-160H180v160Zm440 0h160v-160H620v160Z\"/>\n",
              "  </svg>\n",
              "    </button>\n",
              "\n",
              "  <style>\n",
              "    .colab-df-container {\n",
              "      display:flex;\n",
              "      gap: 12px;\n",
              "    }\n",
              "\n",
              "    .colab-df-convert {\n",
              "      background-color: #E8F0FE;\n",
              "      border: none;\n",
              "      border-radius: 50%;\n",
              "      cursor: pointer;\n",
              "      display: none;\n",
              "      fill: #1967D2;\n",
              "      height: 32px;\n",
              "      padding: 0 0 0 0;\n",
              "      width: 32px;\n",
              "    }\n",
              "\n",
              "    .colab-df-convert:hover {\n",
              "      background-color: #E2EBFA;\n",
              "      box-shadow: 0px 1px 2px rgba(60, 64, 67, 0.3), 0px 1px 3px 1px rgba(60, 64, 67, 0.15);\n",
              "      fill: #174EA6;\n",
              "    }\n",
              "\n",
              "    .colab-df-buttons div {\n",
              "      margin-bottom: 4px;\n",
              "    }\n",
              "\n",
              "    [theme=dark] .colab-df-convert {\n",
              "      background-color: #3B4455;\n",
              "      fill: #D2E3FC;\n",
              "    }\n",
              "\n",
              "    [theme=dark] .colab-df-convert:hover {\n",
              "      background-color: #434B5C;\n",
              "      box-shadow: 0px 1px 3px 1px rgba(0, 0, 0, 0.15);\n",
              "      filter: drop-shadow(0px 1px 2px rgba(0, 0, 0, 0.3));\n",
              "      fill: #FFFFFF;\n",
              "    }\n",
              "  </style>\n",
              "\n",
              "    <script>\n",
              "      const buttonEl =\n",
              "        document.querySelector('#df-aecb698d-95b0-475a-a10c-303cfd490f3c button.colab-df-convert');\n",
              "      buttonEl.style.display =\n",
              "        google.colab.kernel.accessAllowed ? 'block' : 'none';\n",
              "\n",
              "      async function convertToInteractive(key) {\n",
              "        const element = document.querySelector('#df-aecb698d-95b0-475a-a10c-303cfd490f3c');\n",
              "        const dataTable =\n",
              "          await google.colab.kernel.invokeFunction('convertToInteractive',\n",
              "                                                    [key], {});\n",
              "        if (!dataTable) return;\n",
              "\n",
              "        const docLinkHtml = 'Like what you see? Visit the ' +\n",
              "          '<a target=\"_blank\" href=https://colab.research.google.com/notebooks/data_table.ipynb>data table notebook</a>'\n",
              "          + ' to learn more about interactive tables.';\n",
              "        element.innerHTML = '';\n",
              "        dataTable['output_type'] = 'display_data';\n",
              "        await google.colab.output.renderOutput(dataTable, element);\n",
              "        const docLink = document.createElement('div');\n",
              "        docLink.innerHTML = docLinkHtml;\n",
              "        element.appendChild(docLink);\n",
              "      }\n",
              "    </script>\n",
              "  </div>\n",
              "\n",
              "\n",
              "<div id=\"df-d4da697d-5e8b-4f19-97ad-691258477da5\">\n",
              "  <button class=\"colab-df-quickchart\" onclick=\"quickchart('df-d4da697d-5e8b-4f19-97ad-691258477da5')\"\n",
              "            title=\"Suggest charts\"\n",
              "            style=\"display:none;\">\n",
              "\n",
              "<svg xmlns=\"http://www.w3.org/2000/svg\" height=\"24px\"viewBox=\"0 0 24 24\"\n",
              "     width=\"24px\">\n",
              "    <g>\n",
              "        <path d=\"M19 3H5c-1.1 0-2 .9-2 2v14c0 1.1.9 2 2 2h14c1.1 0 2-.9 2-2V5c0-1.1-.9-2-2-2zM9 17H7v-7h2v7zm4 0h-2V7h2v10zm4 0h-2v-4h2v4z\"/>\n",
              "    </g>\n",
              "</svg>\n",
              "  </button>\n",
              "\n",
              "<style>\n",
              "  .colab-df-quickchart {\n",
              "      --bg-color: #E8F0FE;\n",
              "      --fill-color: #1967D2;\n",
              "      --hover-bg-color: #E2EBFA;\n",
              "      --hover-fill-color: #174EA6;\n",
              "      --disabled-fill-color: #AAA;\n",
              "      --disabled-bg-color: #DDD;\n",
              "  }\n",
              "\n",
              "  [theme=dark] .colab-df-quickchart {\n",
              "      --bg-color: #3B4455;\n",
              "      --fill-color: #D2E3FC;\n",
              "      --hover-bg-color: #434B5C;\n",
              "      --hover-fill-color: #FFFFFF;\n",
              "      --disabled-bg-color: #3B4455;\n",
              "      --disabled-fill-color: #666;\n",
              "  }\n",
              "\n",
              "  .colab-df-quickchart {\n",
              "    background-color: var(--bg-color);\n",
              "    border: none;\n",
              "    border-radius: 50%;\n",
              "    cursor: pointer;\n",
              "    display: none;\n",
              "    fill: var(--fill-color);\n",
              "    height: 32px;\n",
              "    padding: 0;\n",
              "    width: 32px;\n",
              "  }\n",
              "\n",
              "  .colab-df-quickchart:hover {\n",
              "    background-color: var(--hover-bg-color);\n",
              "    box-shadow: 0 1px 2px rgba(60, 64, 67, 0.3), 0 1px 3px 1px rgba(60, 64, 67, 0.15);\n",
              "    fill: var(--button-hover-fill-color);\n",
              "  }\n",
              "\n",
              "  .colab-df-quickchart-complete:disabled,\n",
              "  .colab-df-quickchart-complete:disabled:hover {\n",
              "    background-color: var(--disabled-bg-color);\n",
              "    fill: var(--disabled-fill-color);\n",
              "    box-shadow: none;\n",
              "  }\n",
              "\n",
              "  .colab-df-spinner {\n",
              "    border: 2px solid var(--fill-color);\n",
              "    border-color: transparent;\n",
              "    border-bottom-color: var(--fill-color);\n",
              "    animation:\n",
              "      spin 1s steps(1) infinite;\n",
              "  }\n",
              "\n",
              "  @keyframes spin {\n",
              "    0% {\n",
              "      border-color: transparent;\n",
              "      border-bottom-color: var(--fill-color);\n",
              "      border-left-color: var(--fill-color);\n",
              "    }\n",
              "    20% {\n",
              "      border-color: transparent;\n",
              "      border-left-color: var(--fill-color);\n",
              "      border-top-color: var(--fill-color);\n",
              "    }\n",
              "    30% {\n",
              "      border-color: transparent;\n",
              "      border-left-color: var(--fill-color);\n",
              "      border-top-color: var(--fill-color);\n",
              "      border-right-color: var(--fill-color);\n",
              "    }\n",
              "    40% {\n",
              "      border-color: transparent;\n",
              "      border-right-color: var(--fill-color);\n",
              "      border-top-color: var(--fill-color);\n",
              "    }\n",
              "    60% {\n",
              "      border-color: transparent;\n",
              "      border-right-color: var(--fill-color);\n",
              "    }\n",
              "    80% {\n",
              "      border-color: transparent;\n",
              "      border-right-color: var(--fill-color);\n",
              "      border-bottom-color: var(--fill-color);\n",
              "    }\n",
              "    90% {\n",
              "      border-color: transparent;\n",
              "      border-bottom-color: var(--fill-color);\n",
              "    }\n",
              "  }\n",
              "</style>\n",
              "\n",
              "  <script>\n",
              "    async function quickchart(key) {\n",
              "      const quickchartButtonEl =\n",
              "        document.querySelector('#' + key + ' button');\n",
              "      quickchartButtonEl.disabled = true;  // To prevent multiple clicks.\n",
              "      quickchartButtonEl.classList.add('colab-df-spinner');\n",
              "      try {\n",
              "        const charts = await google.colab.kernel.invokeFunction(\n",
              "            'suggestCharts', [key], {});\n",
              "      } catch (error) {\n",
              "        console.error('Error during call to suggestCharts:', error);\n",
              "      }\n",
              "      quickchartButtonEl.classList.remove('colab-df-spinner');\n",
              "      quickchartButtonEl.classList.add('colab-df-quickchart-complete');\n",
              "    }\n",
              "    (() => {\n",
              "      let quickchartButtonEl =\n",
              "        document.querySelector('#df-d4da697d-5e8b-4f19-97ad-691258477da5 button');\n",
              "      quickchartButtonEl.style.display =\n",
              "        google.colab.kernel.accessAllowed ? 'block' : 'none';\n",
              "    })();\n",
              "  </script>\n",
              "</div>\n",
              "\n",
              "    </div>\n",
              "  </div>\n"
            ],
            "application/vnd.google.colaboratory.intrinsic+json": {
              "type": "dataframe",
              "summary": "{\n  \"name\": \"reviews\",\n  \"rows\": 5,\n  \"fields\": [\n    {\n      \"column\": \"Class\",\n      \"properties\": {\n        \"dtype\": \"string\",\n        \"num_unique_values\": 5,\n        \"samples\": [\n          \"Muy Positivo\",\n          \"Positivo\",\n          \"Negativo\"\n        ],\n        \"semantic_type\": \"\",\n        \"description\": \"\"\n      }\n    },\n    {\n      \"column\": \"mean\",\n      \"properties\": {\n        \"dtype\": \"number\",\n        \"std\": 13.60366403136885,\n        \"min\": 57.49639983058026,\n        \"max\": 87.60282776349614,\n        \"num_unique_values\": 5,\n        \"samples\": [\n          57.49639983058026,\n          64.68335862417804,\n          87.43966244725739\n        ],\n        \"semantic_type\": \"\",\n        \"description\": \"\"\n      }\n    },\n    {\n      \"column\": \"max\",\n      \"properties\": {\n        \"dtype\": \"number\",\n        \"std\": 360,\n        \"min\": 887,\n        \"max\": 1793,\n        \"num_unique_values\": 5,\n        \"samples\": [\n          1793,\n          1021,\n          1321\n        ],\n        \"semantic_type\": \"\",\n        \"description\": \"\"\n      }\n    },\n    {\n      \"column\": \"min\",\n      \"properties\": {\n        \"dtype\": \"number\",\n        \"std\": 3,\n        \"min\": 2,\n        \"max\": 9,\n        \"num_unique_values\": 4,\n        \"samples\": [\n          8,\n          2,\n          9\n        ],\n        \"semantic_type\": \"\",\n        \"description\": \"\"\n      }\n    }\n  ]\n}"
            }
          },
          "metadata": {},
          "execution_count": 38
        }
      ]
    },
    {
      "cell_type": "markdown",
      "source": [
        "Como se nota el dominio de los negativo tiene el promedio mas alto de longitud lo cual es entendible dado que pueden ser mas descriptivas. Sin embargo, las reseñas mas cortas resultaron ser las muy positivas y no las neutras como lo habiamos inferido."
      ],
      "metadata": {
        "id": "IA4RsSge5RVa"
      }
    },
    {
      "cell_type": "markdown",
      "source": [
        "### Limpieza de las reseñas\n",
        "\n",
        "Una vez hemos entendido las dimensión y comportamiento de las reseñas y sus clasificaciones es necesario que entremos a limpiar las reseñas de toda clase de palabras que son gramaticalmente impresindibles pero que no agregan mayor signigicancia a la misma. Esto se conoce como 'stopwords' o palabras vacias. Adicional esto tambien limpieramos nuestras reseñas de 'fillerwords' que son palabras que en el discurso oral usariamos como muletillas pero que muchas persona inapropiadamente tambien las usan en su discurso escrito.\n",
        "\n",
        "Adicional esto, tambien buscaremos eliminar todo tipo de caracteres especial o informacíon que no se puede analizar directamente mediante tecnicas de analisis de texto tales como links.\n",
        "\n",
        "Por ultimo, se usa la funcion 'lemmatizer' para dejar las palabras en su forma base o infinitiva, por ejemplo, la palabra 'felicitaciones' se deja en la forma 'felicitar'. Esto se hace con el fin de que el modelo no tome como diferentes palabras con el mismo significado pero con diferente conjugación."
      ],
      "metadata": {
        "id": "9l92tJaO6oqG"
      }
    },
    {
      "cell_type": "code",
      "execution_count": null,
      "metadata": {
        "id": "YDUZ2p4SMkDm"
      },
      "outputs": [],
      "source": [
        "import string\n",
        "\n",
        "def data_cleaning(data):\n",
        "    cleaned_data = []\n",
        "    fillerWord =  (\"Eh\",\"Mmm\",\"Pues\",\"Bueno\",\"Este\",\"Como\",\"Entonces\",\"O sea\",\"Tipo\",\"¿Sabes?\",\"En fin\",\"¿Entiendes?\",\"Vale\",\"La cosa es que\", \"¿Verdad?\")\n",
        "    fillerword_reg= r\"\\b(Eh|Mmm|Pues|Bueno|Este|Como|Entonces|O\\s+sea|Tipo|¿Sabes?|En\\s+fin|¿Entiendes?|Vale|La\\s+cosa\\s+es\\s+que|¿Verdad?)\\b\"\n",
        "    STOPWORDS = set(stopwords.words('spanish'))\n",
        "    remove = [\"no\", \"ni\", \"tampoco\", \"jamás\", \"nunca\", \"nadie\", \"ninguno\", \"ningún\", \"nada\"]\n",
        "    for i in remove:\n",
        "        STOPWORDS.discard(i)\n",
        "\n",
        "    STOPWORDS.add(fillerWord)\n",
        "    for i in range(len(data)):\n",
        "        rev = re.sub(\"#\", \"\", data[i])#extracting hashtags\n",
        "        rev = re.sub(r'^https?:\\/\\/.*[\\r\\n]*', '',rev, flags=re.MULTILINE)#extracting links\n",
        "        html=re.compile(r'<.*?>')#extracting html tags\n",
        "        rev =html.sub(r\"\", rev)\n",
        "        #extracting symbols and characters\n",
        "        rev=re.sub(r'@\\w+',\"\",rev)\n",
        "        rev=re.sub(r'#\\w+',\"\",rev)\n",
        "        rev=re.sub(r'\\w+:\\/{2}[\\d\\w-]+(\\.[\\d\\w-]+)*(?:(?:\\/[^\\s/]*))*', '', rev)\n",
        "        punctuation = r\"\"\"!\"#$%&'()*+,-./:;<=>?@[\\]^_`{|}~\"\"\"\n",
        "        rev.rstrip(string.punctuation)\n",
        "        rev=re.sub('[^A-Za-z\\s]+',\"\", rev)\n",
        "        rev = rev.lower()\n",
        "        rev = rev.split()\n",
        "\n",
        "        #Lemmatization to normalise text\n",
        "        rev = [lemmatizer.lemmatize(word) for word in rev if not word in STOPWORDS]\n",
        "        rev = ' '.join(rev)\n",
        "        filler=re.compile(fillerword_reg)\n",
        "        rev=filler.sub(\"\",rev)\n",
        "        cleaned_data.append(rev)\n",
        "    return cleaned_data"
      ]
    },
    {
      "cell_type": "code",
      "source": [
        "\n",
        "text_data = reviews['Review'].tolist()\n",
        "\n",
        "process_text = data_cleaning(text_data)\n",
        "\n",
        "cleaned_rev = pd.DataFrame(process_text)\n",
        "\n",
        "reviews['CleanedReview'] = cleaned_rev\n",
        "\n",
        "reviews.head()"
      ],
      "metadata": {
        "colab": {
          "base_uri": "https://localhost:8080/",
          "height": 206
        },
        "id": "LkPJz8ee9kDO",
        "outputId": "f62f72db-7da5-4043-b990-fbb04f87f695"
      },
      "execution_count": null,
      "outputs": [
        {
          "output_type": "execute_result",
          "data": {
            "text/plain": [
              "                                              Review         Class  \\\n",
              "0  Muy buena atención y aclaración de dudas por p...  Muy Positivo   \n",
              "1  Buen hotel si están obligados a estar cerca de...        Neutro   \n",
              "2  Es un lugar muy lindo para fotografías, visite...  Muy Positivo   \n",
              "3  Abusados con la factura de alimentos siempre s...        Neutro   \n",
              "4  Tuvimos un par de personas en el grupo que rea...        Neutro   \n",
              "\n",
              "   OriginalLength                                      CleanedReview  \n",
              "0              40  buena atencin aclaracin dudas parte seorita ve...  \n",
              "1              54  buen hotel si estn obligados cerca centro conv...  \n",
              "2              17  lugar lindo fotografas visiten selina msica vi...  \n",
              "3              81  abusados factura alimentos siempre echan culpa...  \n",
              "4              70  par persona grupo realmente queramos comer cab...  "
            ],
            "text/html": [
              "\n",
              "  <div id=\"df-680646b9-1323-4d6b-a9cd-2a72c61bb2ff\" class=\"colab-df-container\">\n",
              "    <div>\n",
              "<style scoped>\n",
              "    .dataframe tbody tr th:only-of-type {\n",
              "        vertical-align: middle;\n",
              "    }\n",
              "\n",
              "    .dataframe tbody tr th {\n",
              "        vertical-align: top;\n",
              "    }\n",
              "\n",
              "    .dataframe thead th {\n",
              "        text-align: right;\n",
              "    }\n",
              "</style>\n",
              "<table border=\"1\" class=\"dataframe\">\n",
              "  <thead>\n",
              "    <tr style=\"text-align: right;\">\n",
              "      <th></th>\n",
              "      <th>Review</th>\n",
              "      <th>Class</th>\n",
              "      <th>OriginalLength</th>\n",
              "      <th>CleanedReview</th>\n",
              "    </tr>\n",
              "  </thead>\n",
              "  <tbody>\n",
              "    <tr>\n",
              "      <th>0</th>\n",
              "      <td>Muy buena atención y aclaración de dudas por p...</td>\n",
              "      <td>Muy Positivo</td>\n",
              "      <td>40</td>\n",
              "      <td>buena atencin aclaracin dudas parte seorita ve...</td>\n",
              "    </tr>\n",
              "    <tr>\n",
              "      <th>1</th>\n",
              "      <td>Buen hotel si están obligados a estar cerca de...</td>\n",
              "      <td>Neutro</td>\n",
              "      <td>54</td>\n",
              "      <td>buen hotel si estn obligados cerca centro conv...</td>\n",
              "    </tr>\n",
              "    <tr>\n",
              "      <th>2</th>\n",
              "      <td>Es un lugar muy lindo para fotografías, visite...</td>\n",
              "      <td>Muy Positivo</td>\n",
              "      <td>17</td>\n",
              "      <td>lugar lindo fotografas visiten selina msica vi...</td>\n",
              "    </tr>\n",
              "    <tr>\n",
              "      <th>3</th>\n",
              "      <td>Abusados con la factura de alimentos siempre s...</td>\n",
              "      <td>Neutro</td>\n",
              "      <td>81</td>\n",
              "      <td>abusados factura alimentos siempre echan culpa...</td>\n",
              "    </tr>\n",
              "    <tr>\n",
              "      <th>4</th>\n",
              "      <td>Tuvimos un par de personas en el grupo que rea...</td>\n",
              "      <td>Neutro</td>\n",
              "      <td>70</td>\n",
              "      <td>par persona grupo realmente queramos comer cab...</td>\n",
              "    </tr>\n",
              "  </tbody>\n",
              "</table>\n",
              "</div>\n",
              "    <div class=\"colab-df-buttons\">\n",
              "\n",
              "  <div class=\"colab-df-container\">\n",
              "    <button class=\"colab-df-convert\" onclick=\"convertToInteractive('df-680646b9-1323-4d6b-a9cd-2a72c61bb2ff')\"\n",
              "            title=\"Convert this dataframe to an interactive table.\"\n",
              "            style=\"display:none;\">\n",
              "\n",
              "  <svg xmlns=\"http://www.w3.org/2000/svg\" height=\"24px\" viewBox=\"0 -960 960 960\">\n",
              "    <path d=\"M120-120v-720h720v720H120Zm60-500h600v-160H180v160Zm220 220h160v-160H400v160Zm0 220h160v-160H400v160ZM180-400h160v-160H180v160Zm440 0h160v-160H620v160ZM180-180h160v-160H180v160Zm440 0h160v-160H620v160Z\"/>\n",
              "  </svg>\n",
              "    </button>\n",
              "\n",
              "  <style>\n",
              "    .colab-df-container {\n",
              "      display:flex;\n",
              "      gap: 12px;\n",
              "    }\n",
              "\n",
              "    .colab-df-convert {\n",
              "      background-color: #E8F0FE;\n",
              "      border: none;\n",
              "      border-radius: 50%;\n",
              "      cursor: pointer;\n",
              "      display: none;\n",
              "      fill: #1967D2;\n",
              "      height: 32px;\n",
              "      padding: 0 0 0 0;\n",
              "      width: 32px;\n",
              "    }\n",
              "\n",
              "    .colab-df-convert:hover {\n",
              "      background-color: #E2EBFA;\n",
              "      box-shadow: 0px 1px 2px rgba(60, 64, 67, 0.3), 0px 1px 3px 1px rgba(60, 64, 67, 0.15);\n",
              "      fill: #174EA6;\n",
              "    }\n",
              "\n",
              "    .colab-df-buttons div {\n",
              "      margin-bottom: 4px;\n",
              "    }\n",
              "\n",
              "    [theme=dark] .colab-df-convert {\n",
              "      background-color: #3B4455;\n",
              "      fill: #D2E3FC;\n",
              "    }\n",
              "\n",
              "    [theme=dark] .colab-df-convert:hover {\n",
              "      background-color: #434B5C;\n",
              "      box-shadow: 0px 1px 3px 1px rgba(0, 0, 0, 0.15);\n",
              "      filter: drop-shadow(0px 1px 2px rgba(0, 0, 0, 0.3));\n",
              "      fill: #FFFFFF;\n",
              "    }\n",
              "  </style>\n",
              "\n",
              "    <script>\n",
              "      const buttonEl =\n",
              "        document.querySelector('#df-680646b9-1323-4d6b-a9cd-2a72c61bb2ff button.colab-df-convert');\n",
              "      buttonEl.style.display =\n",
              "        google.colab.kernel.accessAllowed ? 'block' : 'none';\n",
              "\n",
              "      async function convertToInteractive(key) {\n",
              "        const element = document.querySelector('#df-680646b9-1323-4d6b-a9cd-2a72c61bb2ff');\n",
              "        const dataTable =\n",
              "          await google.colab.kernel.invokeFunction('convertToInteractive',\n",
              "                                                    [key], {});\n",
              "        if (!dataTable) return;\n",
              "\n",
              "        const docLinkHtml = 'Like what you see? Visit the ' +\n",
              "          '<a target=\"_blank\" href=https://colab.research.google.com/notebooks/data_table.ipynb>data table notebook</a>'\n",
              "          + ' to learn more about interactive tables.';\n",
              "        element.innerHTML = '';\n",
              "        dataTable['output_type'] = 'display_data';\n",
              "        await google.colab.output.renderOutput(dataTable, element);\n",
              "        const docLink = document.createElement('div');\n",
              "        docLink.innerHTML = docLinkHtml;\n",
              "        element.appendChild(docLink);\n",
              "      }\n",
              "    </script>\n",
              "  </div>\n",
              "\n",
              "\n",
              "<div id=\"df-e9213e78-d6b0-4a31-bd01-1a0b083beeb8\">\n",
              "  <button class=\"colab-df-quickchart\" onclick=\"quickchart('df-e9213e78-d6b0-4a31-bd01-1a0b083beeb8')\"\n",
              "            title=\"Suggest charts\"\n",
              "            style=\"display:none;\">\n",
              "\n",
              "<svg xmlns=\"http://www.w3.org/2000/svg\" height=\"24px\"viewBox=\"0 0 24 24\"\n",
              "     width=\"24px\">\n",
              "    <g>\n",
              "        <path d=\"M19 3H5c-1.1 0-2 .9-2 2v14c0 1.1.9 2 2 2h14c1.1 0 2-.9 2-2V5c0-1.1-.9-2-2-2zM9 17H7v-7h2v7zm4 0h-2V7h2v10zm4 0h-2v-4h2v4z\"/>\n",
              "    </g>\n",
              "</svg>\n",
              "  </button>\n",
              "\n",
              "<style>\n",
              "  .colab-df-quickchart {\n",
              "      --bg-color: #E8F0FE;\n",
              "      --fill-color: #1967D2;\n",
              "      --hover-bg-color: #E2EBFA;\n",
              "      --hover-fill-color: #174EA6;\n",
              "      --disabled-fill-color: #AAA;\n",
              "      --disabled-bg-color: #DDD;\n",
              "  }\n",
              "\n",
              "  [theme=dark] .colab-df-quickchart {\n",
              "      --bg-color: #3B4455;\n",
              "      --fill-color: #D2E3FC;\n",
              "      --hover-bg-color: #434B5C;\n",
              "      --hover-fill-color: #FFFFFF;\n",
              "      --disabled-bg-color: #3B4455;\n",
              "      --disabled-fill-color: #666;\n",
              "  }\n",
              "\n",
              "  .colab-df-quickchart {\n",
              "    background-color: var(--bg-color);\n",
              "    border: none;\n",
              "    border-radius: 50%;\n",
              "    cursor: pointer;\n",
              "    display: none;\n",
              "    fill: var(--fill-color);\n",
              "    height: 32px;\n",
              "    padding: 0;\n",
              "    width: 32px;\n",
              "  }\n",
              "\n",
              "  .colab-df-quickchart:hover {\n",
              "    background-color: var(--hover-bg-color);\n",
              "    box-shadow: 0 1px 2px rgba(60, 64, 67, 0.3), 0 1px 3px 1px rgba(60, 64, 67, 0.15);\n",
              "    fill: var(--button-hover-fill-color);\n",
              "  }\n",
              "\n",
              "  .colab-df-quickchart-complete:disabled,\n",
              "  .colab-df-quickchart-complete:disabled:hover {\n",
              "    background-color: var(--disabled-bg-color);\n",
              "    fill: var(--disabled-fill-color);\n",
              "    box-shadow: none;\n",
              "  }\n",
              "\n",
              "  .colab-df-spinner {\n",
              "    border: 2px solid var(--fill-color);\n",
              "    border-color: transparent;\n",
              "    border-bottom-color: var(--fill-color);\n",
              "    animation:\n",
              "      spin 1s steps(1) infinite;\n",
              "  }\n",
              "\n",
              "  @keyframes spin {\n",
              "    0% {\n",
              "      border-color: transparent;\n",
              "      border-bottom-color: var(--fill-color);\n",
              "      border-left-color: var(--fill-color);\n",
              "    }\n",
              "    20% {\n",
              "      border-color: transparent;\n",
              "      border-left-color: var(--fill-color);\n",
              "      border-top-color: var(--fill-color);\n",
              "    }\n",
              "    30% {\n",
              "      border-color: transparent;\n",
              "      border-left-color: var(--fill-color);\n",
              "      border-top-color: var(--fill-color);\n",
              "      border-right-color: var(--fill-color);\n",
              "    }\n",
              "    40% {\n",
              "      border-color: transparent;\n",
              "      border-right-color: var(--fill-color);\n",
              "      border-top-color: var(--fill-color);\n",
              "    }\n",
              "    60% {\n",
              "      border-color: transparent;\n",
              "      border-right-color: var(--fill-color);\n",
              "    }\n",
              "    80% {\n",
              "      border-color: transparent;\n",
              "      border-right-color: var(--fill-color);\n",
              "      border-bottom-color: var(--fill-color);\n",
              "    }\n",
              "    90% {\n",
              "      border-color: transparent;\n",
              "      border-bottom-color: var(--fill-color);\n",
              "    }\n",
              "  }\n",
              "</style>\n",
              "\n",
              "  <script>\n",
              "    async function quickchart(key) {\n",
              "      const quickchartButtonEl =\n",
              "        document.querySelector('#' + key + ' button');\n",
              "      quickchartButtonEl.disabled = true;  // To prevent multiple clicks.\n",
              "      quickchartButtonEl.classList.add('colab-df-spinner');\n",
              "      try {\n",
              "        const charts = await google.colab.kernel.invokeFunction(\n",
              "            'suggestCharts', [key], {});\n",
              "      } catch (error) {\n",
              "        console.error('Error during call to suggestCharts:', error);\n",
              "      }\n",
              "      quickchartButtonEl.classList.remove('colab-df-spinner');\n",
              "      quickchartButtonEl.classList.add('colab-df-quickchart-complete');\n",
              "    }\n",
              "    (() => {\n",
              "      let quickchartButtonEl =\n",
              "        document.querySelector('#df-e9213e78-d6b0-4a31-bd01-1a0b083beeb8 button');\n",
              "      quickchartButtonEl.style.display =\n",
              "        google.colab.kernel.accessAllowed ? 'block' : 'none';\n",
              "    })();\n",
              "  </script>\n",
              "</div>\n",
              "\n",
              "    </div>\n",
              "  </div>\n"
            ],
            "application/vnd.google.colaboratory.intrinsic+json": {
              "type": "dataframe",
              "variable_name": "reviews",
              "summary": "{\n  \"name\": \"reviews\",\n  \"rows\": 7875,\n  \"fields\": [\n    {\n      \"column\": \"Review\",\n      \"properties\": {\n        \"dtype\": \"string\",\n        \"num_unique_values\": 7802,\n        \"samples\": [\n          \"Fascinante viaje atr\\u00e1s en el tiempo con Henequin o producci\\u00f3n de Sisal. La gu\\u00eda era encantadora y la ceynote era una ventaja a\\u00f1adida\",\n          \"Una estancia en un hotel maravilloso! El personal es amable, el desayuno de buffet es estupendo y muy bonita piscina en la azotea. Sin duda se lo recomendar\\u00eda a todo el mundo! La ubicaci\\u00f3n tambi\\u00e9n es genial, a corta distancia a pie de los lugares m\\u00e1s populares.\",\n          \"Excelente hotel, muy buena ubicaci\\u00f3n, frente al parque central de La Habana vieja, muy cerca del casco hist\\u00f3rico, de La Floridita, la Bodeguita del Medio. Es uno de los hoteles m\\u00e1s antiguos de La Habana, pero en excelente estado. El desayuno muy bueno, muy variado, con un caf\\u00e9 muy rico.\"\n        ],\n        \"semantic_type\": \"\",\n        \"description\": \"\"\n      }\n    },\n    {\n      \"column\": \"Class\",\n      \"properties\": {\n        \"dtype\": \"category\",\n        \"num_unique_values\": 5,\n        \"samples\": [\n          \"Neutro\",\n          \"Muy Negativo\",\n          \"Positivo\"\n        ],\n        \"semantic_type\": \"\",\n        \"description\": \"\"\n      }\n    },\n    {\n      \"column\": \"OriginalLength\",\n      \"properties\": {\n        \"dtype\": \"number\",\n        \"std\": 81,\n        \"min\": 2,\n        \"max\": 1793,\n        \"num_unique_values\": 359,\n        \"samples\": [\n          185,\n          58,\n          169\n        ],\n        \"semantic_type\": \"\",\n        \"description\": \"\"\n      }\n    },\n    {\n      \"column\": \"CleanedReview\",\n      \"properties\": {\n        \"dtype\": \"string\",\n        \"num_unique_values\": 7802,\n        \"samples\": [\n          \"fascinante viaje atrs tiempo henequin produccin sisal gua encantadora ceynote ventaja aadida\",\n          \"estancia hotel maravilloso personal amable desayuno buffet estupendo bonita piscina azotea duda recomendara mundo ubicacin tambin genial corta distancia pie lugares m populares\",\n          \"excelente hotel buena ubicacin frente parque central habana vieja cerca casco histrico floridita bodeguita medio hoteles m antiguos habana excelente desayuno bueno variado caf rico\"\n        ],\n        \"semantic_type\": \"\",\n        \"description\": \"\"\n      }\n    }\n  ]\n}"
            }
          },
          "metadata": {},
          "execution_count": 40
        }
      ]
    },
    {
      "cell_type": "markdown",
      "source": [
        "Ahora que hemos depurado las reseñas veamos en cuanton cambio la extensión de las mismas."
      ],
      "metadata": {
        "id": "FnuVulnEIh-o"
      }
    },
    {
      "cell_type": "code",
      "source": [
        "reviews['NewLength']= reviews['CleanedReview'].apply(lambda x:text_length(x))\n",
        "\n",
        "reviews['NewLength']= reviews['CleanedReview'].apply(lambda x:text_length(x))\n",
        "\n",
        "reviews.head()"
      ],
      "metadata": {
        "colab": {
          "base_uri": "https://localhost:8080/",
          "height": 206
        },
        "id": "QhRzOAEXI_OA",
        "outputId": "2cc517e0-5d61-4b6d-f60f-a9aee5ebfd4f"
      },
      "execution_count": null,
      "outputs": [
        {
          "output_type": "execute_result",
          "data": {
            "text/plain": [
              "                                              Review         Class  \\\n",
              "0  Muy buena atención y aclaración de dudas por p...  Muy Positivo   \n",
              "1  Buen hotel si están obligados a estar cerca de...        Neutro   \n",
              "2  Es un lugar muy lindo para fotografías, visite...  Muy Positivo   \n",
              "3  Abusados con la factura de alimentos siempre s...        Neutro   \n",
              "4  Tuvimos un par de personas en el grupo que rea...        Neutro   \n",
              "\n",
              "   OriginalLength                                      CleanedReview  \\\n",
              "0              40  buena atencin aclaracin dudas parte seorita ve...   \n",
              "1              54  buen hotel si estn obligados cerca centro conv...   \n",
              "2              17  lugar lindo fotografas visiten selina msica vi...   \n",
              "3              81  abusados factura alimentos siempre echan culpa...   \n",
              "4              70  par persona grupo realmente queramos comer cab...   \n",
              "\n",
              "   NewLength  \n",
              "0         23  \n",
              "1         30  \n",
              "2         11  \n",
              "3         42  \n",
              "4         37  "
            ],
            "text/html": [
              "\n",
              "  <div id=\"df-539efce3-b4d0-431a-880a-1e71063377a1\" class=\"colab-df-container\">\n",
              "    <div>\n",
              "<style scoped>\n",
              "    .dataframe tbody tr th:only-of-type {\n",
              "        vertical-align: middle;\n",
              "    }\n",
              "\n",
              "    .dataframe tbody tr th {\n",
              "        vertical-align: top;\n",
              "    }\n",
              "\n",
              "    .dataframe thead th {\n",
              "        text-align: right;\n",
              "    }\n",
              "</style>\n",
              "<table border=\"1\" class=\"dataframe\">\n",
              "  <thead>\n",
              "    <tr style=\"text-align: right;\">\n",
              "      <th></th>\n",
              "      <th>Review</th>\n",
              "      <th>Class</th>\n",
              "      <th>OriginalLength</th>\n",
              "      <th>CleanedReview</th>\n",
              "      <th>NewLength</th>\n",
              "    </tr>\n",
              "  </thead>\n",
              "  <tbody>\n",
              "    <tr>\n",
              "      <th>0</th>\n",
              "      <td>Muy buena atención y aclaración de dudas por p...</td>\n",
              "      <td>Muy Positivo</td>\n",
              "      <td>40</td>\n",
              "      <td>buena atencin aclaracin dudas parte seorita ve...</td>\n",
              "      <td>23</td>\n",
              "    </tr>\n",
              "    <tr>\n",
              "      <th>1</th>\n",
              "      <td>Buen hotel si están obligados a estar cerca de...</td>\n",
              "      <td>Neutro</td>\n",
              "      <td>54</td>\n",
              "      <td>buen hotel si estn obligados cerca centro conv...</td>\n",
              "      <td>30</td>\n",
              "    </tr>\n",
              "    <tr>\n",
              "      <th>2</th>\n",
              "      <td>Es un lugar muy lindo para fotografías, visite...</td>\n",
              "      <td>Muy Positivo</td>\n",
              "      <td>17</td>\n",
              "      <td>lugar lindo fotografas visiten selina msica vi...</td>\n",
              "      <td>11</td>\n",
              "    </tr>\n",
              "    <tr>\n",
              "      <th>3</th>\n",
              "      <td>Abusados con la factura de alimentos siempre s...</td>\n",
              "      <td>Neutro</td>\n",
              "      <td>81</td>\n",
              "      <td>abusados factura alimentos siempre echan culpa...</td>\n",
              "      <td>42</td>\n",
              "    </tr>\n",
              "    <tr>\n",
              "      <th>4</th>\n",
              "      <td>Tuvimos un par de personas en el grupo que rea...</td>\n",
              "      <td>Neutro</td>\n",
              "      <td>70</td>\n",
              "      <td>par persona grupo realmente queramos comer cab...</td>\n",
              "      <td>37</td>\n",
              "    </tr>\n",
              "  </tbody>\n",
              "</table>\n",
              "</div>\n",
              "    <div class=\"colab-df-buttons\">\n",
              "\n",
              "  <div class=\"colab-df-container\">\n",
              "    <button class=\"colab-df-convert\" onclick=\"convertToInteractive('df-539efce3-b4d0-431a-880a-1e71063377a1')\"\n",
              "            title=\"Convert this dataframe to an interactive table.\"\n",
              "            style=\"display:none;\">\n",
              "\n",
              "  <svg xmlns=\"http://www.w3.org/2000/svg\" height=\"24px\" viewBox=\"0 -960 960 960\">\n",
              "    <path d=\"M120-120v-720h720v720H120Zm60-500h600v-160H180v160Zm220 220h160v-160H400v160Zm0 220h160v-160H400v160ZM180-400h160v-160H180v160Zm440 0h160v-160H620v160ZM180-180h160v-160H180v160Zm440 0h160v-160H620v160Z\"/>\n",
              "  </svg>\n",
              "    </button>\n",
              "\n",
              "  <style>\n",
              "    .colab-df-container {\n",
              "      display:flex;\n",
              "      gap: 12px;\n",
              "    }\n",
              "\n",
              "    .colab-df-convert {\n",
              "      background-color: #E8F0FE;\n",
              "      border: none;\n",
              "      border-radius: 50%;\n",
              "      cursor: pointer;\n",
              "      display: none;\n",
              "      fill: #1967D2;\n",
              "      height: 32px;\n",
              "      padding: 0 0 0 0;\n",
              "      width: 32px;\n",
              "    }\n",
              "\n",
              "    .colab-df-convert:hover {\n",
              "      background-color: #E2EBFA;\n",
              "      box-shadow: 0px 1px 2px rgba(60, 64, 67, 0.3), 0px 1px 3px 1px rgba(60, 64, 67, 0.15);\n",
              "      fill: #174EA6;\n",
              "    }\n",
              "\n",
              "    .colab-df-buttons div {\n",
              "      margin-bottom: 4px;\n",
              "    }\n",
              "\n",
              "    [theme=dark] .colab-df-convert {\n",
              "      background-color: #3B4455;\n",
              "      fill: #D2E3FC;\n",
              "    }\n",
              "\n",
              "    [theme=dark] .colab-df-convert:hover {\n",
              "      background-color: #434B5C;\n",
              "      box-shadow: 0px 1px 3px 1px rgba(0, 0, 0, 0.15);\n",
              "      filter: drop-shadow(0px 1px 2px rgba(0, 0, 0, 0.3));\n",
              "      fill: #FFFFFF;\n",
              "    }\n",
              "  </style>\n",
              "\n",
              "    <script>\n",
              "      const buttonEl =\n",
              "        document.querySelector('#df-539efce3-b4d0-431a-880a-1e71063377a1 button.colab-df-convert');\n",
              "      buttonEl.style.display =\n",
              "        google.colab.kernel.accessAllowed ? 'block' : 'none';\n",
              "\n",
              "      async function convertToInteractive(key) {\n",
              "        const element = document.querySelector('#df-539efce3-b4d0-431a-880a-1e71063377a1');\n",
              "        const dataTable =\n",
              "          await google.colab.kernel.invokeFunction('convertToInteractive',\n",
              "                                                    [key], {});\n",
              "        if (!dataTable) return;\n",
              "\n",
              "        const docLinkHtml = 'Like what you see? Visit the ' +\n",
              "          '<a target=\"_blank\" href=https://colab.research.google.com/notebooks/data_table.ipynb>data table notebook</a>'\n",
              "          + ' to learn more about interactive tables.';\n",
              "        element.innerHTML = '';\n",
              "        dataTable['output_type'] = 'display_data';\n",
              "        await google.colab.output.renderOutput(dataTable, element);\n",
              "        const docLink = document.createElement('div');\n",
              "        docLink.innerHTML = docLinkHtml;\n",
              "        element.appendChild(docLink);\n",
              "      }\n",
              "    </script>\n",
              "  </div>\n",
              "\n",
              "\n",
              "<div id=\"df-9a4d64ac-b169-4cb4-a910-7cee5efd95c0\">\n",
              "  <button class=\"colab-df-quickchart\" onclick=\"quickchart('df-9a4d64ac-b169-4cb4-a910-7cee5efd95c0')\"\n",
              "            title=\"Suggest charts\"\n",
              "            style=\"display:none;\">\n",
              "\n",
              "<svg xmlns=\"http://www.w3.org/2000/svg\" height=\"24px\"viewBox=\"0 0 24 24\"\n",
              "     width=\"24px\">\n",
              "    <g>\n",
              "        <path d=\"M19 3H5c-1.1 0-2 .9-2 2v14c0 1.1.9 2 2 2h14c1.1 0 2-.9 2-2V5c0-1.1-.9-2-2-2zM9 17H7v-7h2v7zm4 0h-2V7h2v10zm4 0h-2v-4h2v4z\"/>\n",
              "    </g>\n",
              "</svg>\n",
              "  </button>\n",
              "\n",
              "<style>\n",
              "  .colab-df-quickchart {\n",
              "      --bg-color: #E8F0FE;\n",
              "      --fill-color: #1967D2;\n",
              "      --hover-bg-color: #E2EBFA;\n",
              "      --hover-fill-color: #174EA6;\n",
              "      --disabled-fill-color: #AAA;\n",
              "      --disabled-bg-color: #DDD;\n",
              "  }\n",
              "\n",
              "  [theme=dark] .colab-df-quickchart {\n",
              "      --bg-color: #3B4455;\n",
              "      --fill-color: #D2E3FC;\n",
              "      --hover-bg-color: #434B5C;\n",
              "      --hover-fill-color: #FFFFFF;\n",
              "      --disabled-bg-color: #3B4455;\n",
              "      --disabled-fill-color: #666;\n",
              "  }\n",
              "\n",
              "  .colab-df-quickchart {\n",
              "    background-color: var(--bg-color);\n",
              "    border: none;\n",
              "    border-radius: 50%;\n",
              "    cursor: pointer;\n",
              "    display: none;\n",
              "    fill: var(--fill-color);\n",
              "    height: 32px;\n",
              "    padding: 0;\n",
              "    width: 32px;\n",
              "  }\n",
              "\n",
              "  .colab-df-quickchart:hover {\n",
              "    background-color: var(--hover-bg-color);\n",
              "    box-shadow: 0 1px 2px rgba(60, 64, 67, 0.3), 0 1px 3px 1px rgba(60, 64, 67, 0.15);\n",
              "    fill: var(--button-hover-fill-color);\n",
              "  }\n",
              "\n",
              "  .colab-df-quickchart-complete:disabled,\n",
              "  .colab-df-quickchart-complete:disabled:hover {\n",
              "    background-color: var(--disabled-bg-color);\n",
              "    fill: var(--disabled-fill-color);\n",
              "    box-shadow: none;\n",
              "  }\n",
              "\n",
              "  .colab-df-spinner {\n",
              "    border: 2px solid var(--fill-color);\n",
              "    border-color: transparent;\n",
              "    border-bottom-color: var(--fill-color);\n",
              "    animation:\n",
              "      spin 1s steps(1) infinite;\n",
              "  }\n",
              "\n",
              "  @keyframes spin {\n",
              "    0% {\n",
              "      border-color: transparent;\n",
              "      border-bottom-color: var(--fill-color);\n",
              "      border-left-color: var(--fill-color);\n",
              "    }\n",
              "    20% {\n",
              "      border-color: transparent;\n",
              "      border-left-color: var(--fill-color);\n",
              "      border-top-color: var(--fill-color);\n",
              "    }\n",
              "    30% {\n",
              "      border-color: transparent;\n",
              "      border-left-color: var(--fill-color);\n",
              "      border-top-color: var(--fill-color);\n",
              "      border-right-color: var(--fill-color);\n",
              "    }\n",
              "    40% {\n",
              "      border-color: transparent;\n",
              "      border-right-color: var(--fill-color);\n",
              "      border-top-color: var(--fill-color);\n",
              "    }\n",
              "    60% {\n",
              "      border-color: transparent;\n",
              "      border-right-color: var(--fill-color);\n",
              "    }\n",
              "    80% {\n",
              "      border-color: transparent;\n",
              "      border-right-color: var(--fill-color);\n",
              "      border-bottom-color: var(--fill-color);\n",
              "    }\n",
              "    90% {\n",
              "      border-color: transparent;\n",
              "      border-bottom-color: var(--fill-color);\n",
              "    }\n",
              "  }\n",
              "</style>\n",
              "\n",
              "  <script>\n",
              "    async function quickchart(key) {\n",
              "      const quickchartButtonEl =\n",
              "        document.querySelector('#' + key + ' button');\n",
              "      quickchartButtonEl.disabled = true;  // To prevent multiple clicks.\n",
              "      quickchartButtonEl.classList.add('colab-df-spinner');\n",
              "      try {\n",
              "        const charts = await google.colab.kernel.invokeFunction(\n",
              "            'suggestCharts', [key], {});\n",
              "      } catch (error) {\n",
              "        console.error('Error during call to suggestCharts:', error);\n",
              "      }\n",
              "      quickchartButtonEl.classList.remove('colab-df-spinner');\n",
              "      quickchartButtonEl.classList.add('colab-df-quickchart-complete');\n",
              "    }\n",
              "    (() => {\n",
              "      let quickchartButtonEl =\n",
              "        document.querySelector('#df-9a4d64ac-b169-4cb4-a910-7cee5efd95c0 button');\n",
              "      quickchartButtonEl.style.display =\n",
              "        google.colab.kernel.accessAllowed ? 'block' : 'none';\n",
              "    })();\n",
              "  </script>\n",
              "</div>\n",
              "\n",
              "    </div>\n",
              "  </div>\n"
            ],
            "application/vnd.google.colaboratory.intrinsic+json": {
              "type": "dataframe",
              "variable_name": "reviews",
              "summary": "{\n  \"name\": \"reviews\",\n  \"rows\": 7875,\n  \"fields\": [\n    {\n      \"column\": \"Review\",\n      \"properties\": {\n        \"dtype\": \"string\",\n        \"num_unique_values\": 7802,\n        \"samples\": [\n          \"Fascinante viaje atr\\u00e1s en el tiempo con Henequin o producci\\u00f3n de Sisal. La gu\\u00eda era encantadora y la ceynote era una ventaja a\\u00f1adida\",\n          \"Una estancia en un hotel maravilloso! El personal es amable, el desayuno de buffet es estupendo y muy bonita piscina en la azotea. Sin duda se lo recomendar\\u00eda a todo el mundo! La ubicaci\\u00f3n tambi\\u00e9n es genial, a corta distancia a pie de los lugares m\\u00e1s populares.\",\n          \"Excelente hotel, muy buena ubicaci\\u00f3n, frente al parque central de La Habana vieja, muy cerca del casco hist\\u00f3rico, de La Floridita, la Bodeguita del Medio. Es uno de los hoteles m\\u00e1s antiguos de La Habana, pero en excelente estado. El desayuno muy bueno, muy variado, con un caf\\u00e9 muy rico.\"\n        ],\n        \"semantic_type\": \"\",\n        \"description\": \"\"\n      }\n    },\n    {\n      \"column\": \"Class\",\n      \"properties\": {\n        \"dtype\": \"category\",\n        \"num_unique_values\": 5,\n        \"samples\": [\n          \"Neutro\",\n          \"Muy Negativo\",\n          \"Positivo\"\n        ],\n        \"semantic_type\": \"\",\n        \"description\": \"\"\n      }\n    },\n    {\n      \"column\": \"OriginalLength\",\n      \"properties\": {\n        \"dtype\": \"number\",\n        \"std\": 81,\n        \"min\": 2,\n        \"max\": 1793,\n        \"num_unique_values\": 359,\n        \"samples\": [\n          185,\n          58,\n          169\n        ],\n        \"semantic_type\": \"\",\n        \"description\": \"\"\n      }\n    },\n    {\n      \"column\": \"CleanedReview\",\n      \"properties\": {\n        \"dtype\": \"string\",\n        \"num_unique_values\": 7802,\n        \"samples\": [\n          \"fascinante viaje atrs tiempo henequin produccin sisal gua encantadora ceynote ventaja aadida\",\n          \"estancia hotel maravilloso personal amable desayuno buffet estupendo bonita piscina azotea duda recomendara mundo ubicacin tambin genial corta distancia pie lugares m populares\",\n          \"excelente hotel buena ubicacin frente parque central habana vieja cerca casco histrico floridita bodeguita medio hoteles m antiguos habana excelente desayuno bueno variado caf rico\"\n        ],\n        \"semantic_type\": \"\",\n        \"description\": \"\"\n      }\n    },\n    {\n      \"column\": \"NewLength\",\n      \"properties\": {\n        \"dtype\": \"number\",\n        \"std\": 42,\n        \"min\": 1,\n        \"max\": 956,\n        \"num_unique_values\": 248,\n        \"samples\": [\n          44,\n          69,\n          337\n        ],\n        \"semantic_type\": \"\",\n        \"description\": \"\"\n      }\n    }\n  ]\n}"
            }
          },
          "metadata": {},
          "execution_count": 41
        }
      ]
    },
    {
      "cell_type": "code",
      "source": [
        "print(reviews.NewLength.describe())\n",
        "\n",
        "fig = px.histogram(reviews,\n",
        "                  x='NewLength',\n",
        "                  marginal='box',\n",
        "                  title=\"Longitud de las reseñas limpias\",\n",
        "                  color_discrete_sequence=['blue'])\n",
        "fig.update_layout(bargap=0.1)\n",
        "\n",
        "fig.show()"
      ],
      "metadata": {
        "colab": {
          "base_uri": "https://localhost:8080/",
          "height": 705
        },
        "id": "YemG_so-JggJ",
        "outputId": "4e6f28ac-2154-4607-c7a4-e8e88d590d63"
      },
      "execution_count": null,
      "outputs": [
        {
          "output_type": "stream",
          "name": "stdout",
          "text": [
            "count    7875.000000\n",
            "mean       37.073016\n",
            "std        42.597753\n",
            "min         1.000000\n",
            "25%        18.000000\n",
            "50%        25.000000\n",
            "75%        45.000000\n",
            "max       956.000000\n",
            "Name: NewLength, dtype: float64\n"
          ]
        },
        {
          "output_type": "display_data",
          "data": {
            "text/html": [
              "<html>\n",
              "<head><meta charset=\"utf-8\" /></head>\n",
              "<body>\n",
              "    <div>            <script src=\"https://cdnjs.cloudflare.com/ajax/libs/mathjax/2.7.5/MathJax.js?config=TeX-AMS-MML_SVG\"></script><script type=\"text/javascript\">if (window.MathJax && window.MathJax.Hub && window.MathJax.Hub.Config) {window.MathJax.Hub.Config({SVG: {font: \"STIX-Web\"}});}</script>                <script type=\"text/javascript\">window.PlotlyConfig = {MathJaxConfig: 'local'};</script>\n",
              "        <script charset=\"utf-8\" src=\"https://cdn.plot.ly/plotly-2.24.1.min.js\"></script>                <div id=\"c0bba742-0e69-49fb-a950-53765af2c0c3\" class=\"plotly-graph-div\" style=\"height:525px; width:100%;\"></div>            <script type=\"text/javascript\">                                    window.PLOTLYENV=window.PLOTLYENV || {};                                    if (document.getElementById(\"c0bba742-0e69-49fb-a950-53765af2c0c3\")) {                    Plotly.newPlot(                        \"c0bba742-0e69-49fb-a950-53765af2c0c3\",                        [{\"alignmentgroup\":\"True\",\"bingroup\":\"x\",\"hovertemplate\":\"NewLength=%{x}\\u003cbr\\u003ecount=%{y}\\u003cextra\\u003e\\u003c\\u002fextra\\u003e\",\"legendgroup\":\"\",\"marker\":{\"color\":\"blue\",\"pattern\":{\"shape\":\"\"}},\"name\":\"\",\"offsetgroup\":\"\",\"orientation\":\"v\",\"showlegend\":false,\"x\":[23,30,11,42,37,16,69,74,16,14,22,42,19,131,26,67,26,6,9,24,23,38,47,12,10,43,16,12,439,79,19,20,30,21,12,23,36,10,14,18,29,47,11,23,45,49,17,54,42,37,9,44,12,21,67,70,9,15,29,10,573,53,32,13,18,17,20,27,58,53,20,47,12,18,19,47,11,23,68,49,25,19,13,26,23,28,23,31,13,21,20,22,24,12,24,18,13,19,23,60,42,101,20,12,9,43,74,61,16,24,12,30,21,20,22,47,65,14,52,34,65,19,51,45,49,28,14,56,21,14,9,59,24,48,361,24,42,48,21,32,43,141,22,20,16,17,19,29,22,41,34,64,37,12,26,17,22,23,39,21,90,25,32,44,18,67,20,21,27,22,93,7,26,31,50,24,24,25,72,14,763,22,26,21,99,24,8,11,23,30,36,71,16,9,20,11,50,27,23,13,21,8,21,26,16,22,25,11,45,21,17,19,26,21,62,75,12,20,9,13,14,33,68,12,39,20,90,25,34,89,67,15,24,44,45,19,74,33,69,34,20,25,31,10,67,36,123,81,13,10,11,35,10,74,26,58,19,12,64,20,28,22,14,9,11,10,38,152,23,26,22,14,52,24,16,70,37,34,21,15,27,35,10,25,37,12,66,106,75,27,16,78,31,70,74,48,9,19,26,12,55,16,13,22,27,73,20,15,27,21,17,12,21,73,50,25,21,18,20,295,30,13,69,13,19,15,13,35,37,42,27,37,44,27,531,18,22,22,22,35,11,27,46,32,15,33,24,18,32,13,42,16,18,22,11,103,36,75,43,37,27,24,956,128,45,23,17,25,113,268,8,23,22,21,44,59,22,28,16,32,52,12,13,20,24,16,23,52,41,29,15,62,61,73,15,48,19,26,13,24,49,62,14,10,50,18,18,30,51,108,28,17,69,30,111,24,24,63,72,73,13,38,25,49,25,51,27,50,18,24,15,230,71,81,30,72,32,172,27,10,12,16,29,49,31,229,35,21,61,75,54,74,68,72,22,32,20,13,25,22,42,22,73,67,218,73,21,74,28,30,71,52,27,56,25,22,52,20,14,36,15,39,11,33,30,30,16,15,17,19,39,19,13,24,14,62,62,13,57,14,21,40,32,27,73,12,13,18,24,12,12,20,10,20,32,64,67,73,56,24,69,14,24,21,305,14,22,12,65,21,22,13,33,81,24,11,30,12,45,155,12,27,14,22,42,49,147,28,30,58,32,23,19,71,16,15,64,157,25,15,50,11,70,21,20,38,10,24,28,21,67,14,69,34,27,17,15,15,46,30,20,9,36,29,18,20,25,27,25,38,26,27,27,20,12,34,17,18,39,20,17,11,19,24,66,66,77,66,75,24,8,16,20,17,12,19,21,11,17,198,78,9,19,53,21,17,33,28,29,37,35,31,74,10,23,16,72,42,16,48,22,65,78,20,25,30,33,18,43,32,22,78,19,18,112,25,11,15,58,78,23,20,13,12,25,24,15,18,73,34,25,62,18,9,43,63,27,57,21,58,18,17,29,25,43,14,186,194,11,121,11,25,68,45,17,12,74,44,52,10,53,19,20,9,12,13,70,40,40,24,19,6,34,68,66,14,54,38,12,74,27,21,105,21,37,23,12,47,27,20,20,81,27,68,22,27,104,25,42,49,39,78,49,23,66,35,24,22,27,23,75,16,21,46,29,67,16,71,39,23,22,12,21,19,37,17,20,19,18,14,48,48,22,81,13,16,21,11,20,34,11,44,17,66,75,23,25,70,16,37,209,128,153,22,12,40,42,20,22,29,24,22,12,17,11,53,27,20,47,45,33,71,16,11,74,64,61,21,27,51,12,29,44,46,19,10,80,26,28,12,69,16,20,20,124,14,30,10,48,17,47,40,70,41,72,13,114,18,25,24,15,21,23,11,28,20,18,18,31,25,24,72,15,15,74,10,21,14,33,11,54,20,12,11,57,39,34,29,12,24,62,11,37,25,27,160,16,15,34,21,34,42,19,15,63,12,17,15,42,16,9,9,13,31,20,22,66,11,25,23,8,19,14,21,25,23,20,30,16,84,30,11,301,17,14,11,16,36,18,43,24,60,17,25,11,25,32,33,36,72,19,70,12,17,39,66,10,15,66,368,41,20,19,24,12,11,16,21,70,11,74,94,11,45,12,135,11,24,54,11,50,45,20,38,24,13,13,22,23,24,57,26,54,57,65,50,30,17,29,19,25,57,67,18,35,9,12,17,26,30,12,13,11,20,32,74,19,44,22,22,94,122,44,104,25,54,21,34,26,199,43,24,13,16,76,138,255,18,46,35,11,210,34,23,23,40,71,23,10,20,20,14,33,59,24,27,19,25,12,101,27,14,36,66,23,27,72,12,15,20,26,25,8,13,28,23,22,30,15,48,59,160,25,26,61,47,21,20,38,57,25,66,36,48,20,23,73,19,29,95,20,24,25,18,23,53,28,19,12,24,24,129,11,34,10,154,36,23,82,29,68,33,21,14,19,12,16,24,32,22,14,22,77,66,22,41,30,26,63,312,19,15,32,18,155,36,50,16,26,13,39,11,27,31,19,7,73,24,21,37,58,15,128,48,26,23,39,23,66,19,30,11,19,11,22,23,20,7,73,48,465,22,21,21,9,37,23,26,17,16,19,17,68,22,39,19,38,22,19,13,18,24,20,99,15,20,54,22,15,13,74,54,19,17,11,37,29,9,21,64,37,18,45,14,75,23,14,25,60,20,11,11,55,34,22,60,27,28,114,26,32,12,16,47,17,20,55,27,69,9,22,10,21,19,12,15,26,25,20,30,21,44,17,30,18,64,57,21,25,17,13,67,26,34,62,36,23,20,40,23,42,19,35,11,20,12,9,30,15,25,21,14,221,20,14,52,75,10,18,29,14,21,17,11,73,24,16,10,9,29,20,19,13,15,26,9,16,34,34,59,55,17,22,65,25,35,68,33,66,71,33,26,43,69,16,66,67,14,10,15,23,14,64,35,7,60,55,23,67,18,14,49,77,34,36,30,22,30,57,23,21,27,15,42,75,22,26,31,56,76,27,17,22,33,17,15,64,21,21,70,21,66,43,25,20,106,22,52,34,17,10,47,12,22,21,77,19,17,17,10,61,42,16,23,74,24,12,57,47,19,17,19,20,68,52,24,22,23,19,32,40,21,39,33,25,21,77,24,30,25,22,19,31,15,50,74,10,11,20,28,30,24,52,25,13,32,58,46,28,19,18,8,15,11,82,18,15,64,20,17,31,119,17,25,10,32,134,68,22,72,35,44,66,63,15,12,28,324,22,32,11,12,37,66,29,26,22,25,70,17,72,21,25,41,51,70,69,16,14,33,29,59,16,23,20,10,43,23,17,80,23,23,28,24,18,120,38,27,19,38,45,55,15,21,21,13,29,36,24,60,50,76,19,24,40,98,21,13,24,14,24,23,74,74,36,24,62,15,25,24,28,24,15,37,36,55,58,29,73,27,8,24,16,15,17,48,10,21,16,18,19,20,13,73,63,26,25,36,24,14,12,25,20,13,19,25,13,50,45,47,27,25,48,14,25,26,50,46,19,33,70,73,17,19,22,64,72,20,20,100,39,18,68,26,24,12,64,38,51,39,25,17,13,26,22,27,21,25,34,24,13,80,16,21,68,26,51,20,17,18,64,153,38,23,45,21,34,30,60,16,19,23,21,69,59,36,63,49,20,18,53,51,24,35,72,26,16,14,66,15,72,16,20,22,23,62,19,12,12,101,22,67,23,32,34,10,67,19,34,21,35,11,20,77,72,71,72,23,14,60,30,21,14,72,22,25,21,43,67,18,79,85,22,16,20,30,25,14,18,29,29,21,28,63,17,32,12,15,26,22,38,47,23,18,72,45,11,45,23,40,6,13,17,26,35,72,27,30,64,10,220,17,9,12,12,20,22,17,55,74,12,27,69,12,23,22,68,58,46,12,38,40,20,21,62,39,14,26,21,78,8,37,29,22,22,25,22,24,17,86,57,51,21,29,14,68,69,73,18,26,14,78,22,64,17,66,13,12,24,89,32,13,94,18,210,22,20,16,14,10,113,30,21,49,23,35,17,23,19,77,10,24,36,11,35,71,14,76,69,15,72,40,25,26,10,12,59,41,13,33,13,21,60,63,71,28,14,60,35,37,35,62,14,22,39,68,18,26,52,22,19,65,35,61,29,25,64,19,28,34,30,25,17,14,19,40,19,11,69,78,68,10,22,22,24,22,21,17,74,27,74,17,27,32,20,19,69,64,16,13,23,22,30,63,74,16,22,13,9,45,39,28,50,81,23,73,24,43,13,65,68,14,42,40,64,32,37,21,29,17,21,41,17,33,66,48,22,51,34,71,43,37,19,31,16,78,74,69,13,10,64,28,28,23,58,67,73,22,33,11,15,26,68,22,55,25,13,25,43,13,14,62,25,19,67,23,16,48,59,44,96,14,15,91,70,26,34,39,40,11,18,21,46,111,105,24,74,31,29,40,21,27,27,36,67,27,10,13,68,26,15,24,17,30,39,66,808,24,22,60,69,10,15,35,21,49,75,21,37,26,52,12,21,72,11,30,16,17,74,157,21,28,21,27,90,20,22,40,29,25,19,37,41,72,14,28,11,24,18,15,22,40,11,11,34,51,24,15,54,24,8,13,10,67,11,33,23,28,34,21,33,25,11,27,16,29,25,24,23,23,20,246,23,15,18,18,53,60,21,15,26,25,238,9,16,23,68,22,27,28,28,28,17,37,20,212,40,9,13,124,13,19,12,26,36,25,34,12,82,13,42,63,20,39,19,23,33,44,21,19,10,28,13,23,33,35,49,18,19,38,32,17,41,25,13,23,67,15,20,74,20,16,50,10,44,19,20,25,25,26,16,27,36,7,27,23,36,35,13,22,10,44,23,25,21,21,57,9,13,9,25,71,14,67,12,12,14,9,11,22,62,9,34,22,64,26,58,27,18,26,21,23,25,60,19,71,31,32,11,34,23,34,13,92,217,21,20,12,9,70,25,19,25,31,24,21,13,81,54,19,16,49,37,28,12,13,14,15,111,17,21,16,15,19,28,48,18,16,12,28,63,56,21,17,10,66,21,35,23,20,18,29,14,110,37,9,14,29,51,71,20,23,27,27,24,19,23,40,35,20,38,11,25,31,12,23,4,50,23,26,26,50,17,27,11,40,15,22,17,15,27,72,18,20,41,50,26,78,24,21,26,44,14,75,34,107,74,24,34,59,12,16,50,110,20,23,15,9,45,74,18,24,15,51,17,77,25,30,17,40,16,16,72,30,16,47,20,36,58,36,19,12,216,13,29,30,16,12,29,24,12,50,26,16,16,68,36,23,70,70,62,16,18,28,15,23,20,61,17,61,51,40,50,53,64,24,73,27,73,8,68,13,384,35,12,14,16,70,15,34,72,10,18,76,37,68,27,29,19,25,11,45,28,86,20,18,34,24,18,89,15,24,11,24,23,19,19,72,8,13,73,10,49,10,67,16,14,31,23,20,71,68,30,28,22,19,23,19,21,22,8,27,23,13,11,15,52,20,36,22,61,16,43,18,23,22,32,36,69,28,23,20,15,19,21,24,23,24,13,22,16,17,62,61,22,48,42,13,43,68,27,23,21,25,17,25,27,13,16,47,12,45,17,22,24,19,27,24,9,36,15,70,23,51,66,141,21,21,10,25,21,54,153,13,16,21,21,10,11,16,11,22,57,16,11,86,23,30,59,16,81,29,38,22,58,81,19,10,12,22,22,67,22,12,57,10,15,39,61,24,13,37,76,33,8,21,23,34,7,9,22,22,49,24,11,21,29,30,74,38,55,14,74,11,19,24,21,24,20,12,11,23,58,70,19,20,47,24,21,43,10,19,15,18,20,51,26,72,31,21,9,52,11,109,73,69,103,26,68,18,50,16,14,12,10,35,15,71,20,30,23,24,25,28,20,43,14,18,16,33,13,97,25,42,17,20,70,42,10,9,19,19,20,73,70,70,11,11,31,74,69,14,37,59,21,9,74,23,41,21,10,17,14,43,29,9,11,14,205,30,63,73,34,20,17,52,12,25,11,33,72,14,19,20,13,32,22,25,19,26,16,25,69,13,24,11,32,23,21,33,29,11,16,17,29,41,10,24,18,23,68,11,67,12,19,21,52,27,48,29,27,18,9,25,17,26,36,27,14,21,51,71,17,55,102,74,22,19,37,27,23,66,44,26,12,66,12,16,29,73,18,17,19,20,22,102,27,67,83,25,17,27,36,29,32,142,88,16,16,17,32,16,67,161,19,36,27,17,26,22,36,21,32,43,43,22,29,72,13,22,37,9,19,9,123,45,14,71,25,27,35,69,17,36,54,35,28,62,67,39,17,18,56,20,13,21,10,22,17,24,23,40,18,44,49,74,13,36,12,19,21,51,16,19,38,27,13,30,12,11,43,13,32,17,17,25,38,19,73,27,29,30,16,20,24,28,9,69,21,16,13,88,41,19,11,63,57,12,41,12,22,79,185,31,30,18,14,12,19,10,12,22,54,42,12,22,45,22,20,71,23,15,27,27,66,12,26,45,13,68,14,27,23,15,68,148,25,22,14,22,24,13,139,27,30,23,49,45,14,14,16,37,26,11,20,69,16,9,17,33,12,43,51,24,19,17,37,13,22,21,11,22,13,23,12,6,22,71,21,28,31,28,22,18,40,35,41,20,34,16,72,74,11,25,113,66,21,18,30,6,20,30,23,20,13,55,74,54,27,60,37,37,19,64,65,23,18,23,75,26,57,24,11,10,67,27,25,197,20,19,13,41,37,11,63,14,23,89,22,9,71,12,70,39,22,17,35,17,76,77,66,74,18,64,32,17,27,41,18,27,114,40,34,34,109,24,69,17,12,39,62,66,134,33,22,18,45,37,21,33,58,17,44,87,76,20,15,11,75,28,18,13,48,21,69,31,14,22,48,15,18,9,9,23,17,16,14,27,45,33,20,21,73,23,69,26,30,41,32,41,44,23,61,10,21,24,98,22,45,32,11,67,14,30,31,23,35,19,23,32,10,13,11,104,40,24,38,31,71,15,35,32,25,20,51,21,25,26,23,25,22,21,20,23,27,30,25,18,46,22,26,19,25,17,27,20,33,52,11,13,71,25,21,24,21,59,40,68,22,19,14,20,20,11,31,55,15,29,72,48,15,20,12,19,21,16,28,17,72,13,27,18,159,52,24,21,69,10,34,26,72,40,22,16,30,14,18,66,17,14,24,10,25,16,15,16,16,15,66,31,13,22,12,9,11,49,41,20,22,12,147,25,10,33,55,38,19,27,17,56,42,22,11,43,70,20,29,59,13,71,20,60,73,18,41,25,13,14,19,12,21,11,19,26,25,18,86,9,40,21,71,46,70,20,17,11,25,16,27,18,31,24,24,25,63,38,85,13,56,11,23,12,30,44,31,23,28,17,7,47,73,21,12,28,19,20,80,36,26,50,55,22,86,67,41,63,12,12,134,23,66,13,17,24,22,124,27,21,67,27,21,24,67,37,14,73,76,24,65,17,22,17,20,22,18,50,22,76,13,22,69,21,11,38,23,68,10,19,83,32,19,53,71,92,21,49,11,26,23,44,20,28,23,49,31,82,22,69,32,26,59,17,46,15,20,23,14,19,16,21,18,57,67,23,29,26,48,37,18,25,12,13,20,24,72,23,22,20,13,18,14,20,47,37,26,28,19,33,86,25,163,13,15,21,25,23,27,17,21,53,20,39,16,43,50,27,38,13,21,35,23,18,32,14,17,65,58,13,12,18,11,24,51,56,51,15,12,16,18,23,21,31,31,13,12,18,24,25,19,34,12,20,20,23,22,24,20,19,54,71,23,74,52,24,34,19,50,43,10,26,22,37,25,30,44,51,16,50,36,145,22,43,12,146,18,20,131,454,10,91,20,13,11,19,7,14,17,13,19,35,44,23,17,21,19,10,15,13,17,53,164,22,78,19,22,303,118,30,15,24,31,21,23,19,30,64,21,11,24,20,22,21,28,14,20,14,19,12,19,15,31,13,89,13,18,27,27,27,22,29,18,48,16,24,12,131,24,65,452,71,10,15,27,52,28,19,28,77,72,40,78,21,119,21,71,22,24,55,20,26,21,35,23,16,54,18,43,719,29,64,76,22,14,47,66,12,28,14,32,24,104,18,16,16,15,18,11,23,25,22,20,47,33,46,28,28,60,9,59,22,22,69,9,20,22,18,30,55,15,17,70,69,58,60,69,66,23,11,15,10,25,30,77,66,43,13,13,35,33,67,25,24,21,74,26,73,12,14,68,9,86,40,61,56,38,14,27,25,11,28,13,13,35,24,17,261,11,21,19,43,45,34,13,74,64,15,24,32,64,26,14,17,64,39,20,48,17,69,12,64,45,72,337,44,25,53,12,18,65,29,252,22,19,51,51,21,14,18,37,60,12,32,16,14,10,24,31,50,65,35,12,24,55,26,32,16,21,59,25,25,13,22,18,14,31,16,9,15,11,46,13,31,12,106,30,17,28,23,72,68,56,16,10,11,16,54,17,59,20,24,24,22,47,28,29,19,30,23,30,50,19,18,17,43,31,13,11,67,37,64,23,23,21,26,26,28,47,118,31,34,21,22,10,54,41,20,68,43,142,19,20,36,12,26,49,32,21,26,68,89,46,11,30,76,40,11,10,67,18,76,86,28,40,44,36,35,22,13,16,28,9,29,23,13,16,23,85,30,37,64,26,24,62,70,32,24,64,16,24,54,17,26,25,37,41,18,12,23,25,17,90,37,21,22,19,21,22,33,25,37,16,31,89,106,24,74,47,76,43,17,19,40,22,14,51,17,26,80,27,73,32,18,14,16,22,13,51,48,50,307,33,25,32,19,11,23,36,17,11,16,29,67,27,10,28,36,28,36,24,63,46,16,106,18,25,33,72,31,23,25,69,35,27,24,56,13,23,54,64,18,19,45,86,12,18,39,59,15,17,25,30,11,62,23,14,101,27,19,27,23,79,13,22,41,23,66,23,71,15,24,11,32,26,39,29,59,17,65,12,26,25,87,25,15,24,22,51,45,29,42,16,20,18,70,27,28,68,59,10,41,18,10,55,193,15,16,43,22,20,20,18,25,19,15,49,25,27,23,18,16,17,60,16,23,52,14,10,73,39,69,55,65,15,36,21,47,20,20,15,68,10,13,19,62,20,19,11,15,76,23,21,21,10,18,12,24,18,66,62,27,68,9,11,34,74,13,34,71,272,20,20,13,45,61,144,9,55,17,17,57,40,28,66,24,33,52,74,39,47,22,22,24,21,55,38,67,31,24,54,71,30,23,32,16,39,29,12,36,28,38,30,13,21,13,44,21,22,18,12,70,28,75,17,24,22,20,188,23,9,14,11,64,23,71,12,14,21,22,16,6,31,30,10,10,90,29,78,42,32,61,11,10,76,40,12,11,171,60,11,10,30,23,18,10,12,77,21,51,38,47,15,19,47,25,18,27,31,160,16,25,25,34,13,29,24,28,84,16,35,23,57,11,334,40,17,141,23,99,72,26,40,31,10,30,24,20,71,12,16,44,24,78,41,18,65,18,71,68,44,22,24,37,36,125,80,18,59,10,69,23,16,56,68,73,31,29,54,12,44,21,27,26,25,60,10,23,58,24,48,18,17,20,17,21,13,43,28,27,17,391,60,61,50,12,62,69,19,39,18,28,27,65,9,29,25,24,26,321,61,18,79,38,20,18,24,57,47,34,30,34,11,21,38,15,46,75,87,30,35,69,18,14,36,20,19,37,13,10,18,28,42,16,25,62,36,22,73,49,21,12,28,59,16,26,12,44,26,29,20,14,35,23,23,21,21,29,62,34,20,10,37,13,21,17,26,18,27,26,23,92,93,41,18,47,30,21,18,15,31,57,49,71,37,11,9,65,20,24,69,25,22,10,21,18,26,32,24,21,38,73,51,69,39,21,16,25,94,61,88,17,21,18,64,58,51,144,11,15,16,67,49,14,65,18,20,25,63,23,33,15,22,8,16,22,16,60,52,23,10,24,76,33,40,10,278,11,17,67,19,93,25,28,53,30,9,34,69,29,82,21,14,25,31,12,59,12,23,12,19,17,1,11,11,9,17,12,18,47,39,15,117,43,27,39,26,9,21,33,23,27,19,31,59,28,24,21,41,38,12,24,13,25,12,68,22,20,12,10,44,137,20,28,32,39,153,16,19,71,65,66,14,26,61,30,67,22,15,46,17,43,28,12,30,25,18,29,69,39,30,72,21,16,34,38,23,21,15,24,22,20,19,18,102,49,68,24,20,10,19,30,35,19,19,46,14,28,79,65,14,13,19,17,35,42,11,43,18,51,22,15,13,22,25,20,41,18,34,15,18,16,13,26,29,26,26,20,65,19,14,53,47,19,33,13,21,31,43,34,19,21,45,26,23,12,26,27,13,76,25,12,41,18,20,20,31,29,11,35,296,25,33,13,13,13,44,22,43,57,74,26,22,69,23,22,64,18,9,55,93,36,31,10,41,15,23,37,14,37,68,16,20,26,45,25,18,76,67,72,47,71,78,20,20,23,60,27,13,43,40,20,66,13,28,54,44,19,14,35,20,12,35,193,17,97,15,50,30,16,67,28,12,61,18,22,63,71,13,17,28,49,32,24,73,40,67,43,53,400,10,44,19,8,17,80,25,20,16,11,25,14,9,22,8,38,25,163,102,41,25,20,20,65,13,40,69,7,23,19,11,60,24,32,12,61,83,18,26,70,30,83,20,22,14,22,61,14,60,34,28,22,29,67,47,44,11,18,78,10,14,30,27,50,10,10,31,36,41,45,11,22,20,19,20,63,40,52,11,26,267,17,23,32,14,10,62,41,9,35,18,37,40,33,25,19,14,66,12,40,14,21,14,11,13,26,14,41,21,25,57,31,69,29,11,35,29,22,30,29,9,22,37,12,13,74,22,19,20,41,24,56,77,10,39,9,22,37,23,9,27,69,25,116,74,38,69,21,259,20,36,71,12,40,23,38,40,15,26,56,53,30,28,25,13,68,68,28,30,42,12,72,66,25,14,23,26,127,32,23,66,38,16,29,44,50,53,20,18,10,107,18,24,10,26,32,39,13,54,19,78,35,38,30,32,60,42,64,12,26,41,70,44,11,29,26,61,23,54,15,31,5,20,13,60,32,57,58,97,20,17,12,13,13,20,66,28,16,18,47,52,30,16,112,90,20,20,43,10,135,40,19,10,23,45,9,55,17,35,28,10,23,55,22,26,26,46,69,73,17,24,18,29,21,36,8,22,19,9,43,16,25,25,77,359,27,27,63,17,29,31,16,26,24,13,16,10,18,9,21,34,53,14,15,62,10,27,59,29,12,45,20,24,53,18,27,168,18,26,20,57,21,22,28,23,27,78,26,23,22,20,22,26,8,37,18,45,16,58,78,69,5,71,64,73,27,15,20,18,16,19,13,14,47,19,22,10,55,66,68,23,63,695,15,32,29,12,12,18,90,15,25,26,12,31,23,24,12,28,9,30,66,13,41,34,49,24,11,23,18,16,26,24,24,19,68,14,11,21,33,24,28,81,12,166,25,13,34,66,60,17,36,10,23,44,24,23,20,75,14,27,50,21,26,11,18,24,11,11,79,18,29,24,11,22,10,24,21,16,100,14,21,26,13,9,109,15,313,29,68,106,26,73,25,14,24,22,68,19,22,14,77,24,12,63,106,24,20,24,22,13,17,75,16,28,76,75,24,11,30,28,57,70,26,24,17,19,101,17,27,17,41,9,74,39,11,44,39,16,12,9,12,52,68,29,13,19,30,18,26,53,45,26,111,23,25,151,34,86,20,66,15,16,27,24,17,85,42,24,29,23,79,14,17,63,15,32,72,25,76,13,17,10,34,15,24,26,64,37,23,41,32,14,16,22,12,13,40,24,20,17,74,27,16,468,14,11,50,17,19,10,8,23,25,22,27,70,9,19,92,21,18,21,14,35,15,29,36,25,157,18,71,15,18,92,33,9,55,22,27,23,23,18,73,28,26,24,19,15,73,21,281,57,9,10,30,37,66,49,78,26,16,40,20,35,73,17,29,62,15,42,11,13,22,23,62,21,62,36,15,26,27,36,15,19,12,44,219,17,79,47,23,48,62,60,12,22,66,66,27,9,18,71,10,24,11,31,30,21,56,63,35,18,23,26,40,25,20,26,75,27,10,55,22,24,27,26,25,22,66,11,96,11,11,34,20,9,105,68,52,131,14,21,76,21,17,72,22,35,17,65,68,24,19,10,27,31,17,29,14,20,10,28,104,24,27,23,42,35,21,23,24,29,18,18,44,15,64,12,24,41,24,18,10,44,22,22,13,33,23,38,19,29,20,33,16,128,202,65,11,65,34,20,35,33,68,24,44,74,16,46,18,21,16,13,23,31,16,29,16,21,24,31,53,22,15,42,20,11,26,14,39,18,24,9,37,19,12,28,73,17,34,24,53,57,21,21,24,26,26,47,25,27,27,21,54,21,20,22,41,112,63,24,11,18,39,18,20,32,42,15,51,10,24,6,11,62,40,9,49,19,32,22,24,25,18,27,46,11,44,16,23,13,25,20,18,23,73,16,9,10,12,21,86,74,28,40,79,31,27,112,13,65,14,27,36,25,14,23,11,66,20,36,21,73,15,22,15,27,16,25,63,17,37,21,13,8,57,100,71,176,19,10,13,10,31,2,19,25,74,74,26,36,21,20,26,13,10,20,20,23,11,24,9,51,54,24,26,69,16,12,22,21,31,21,21,27,16,26,23,61,64,12,79,30,24,20,27,11,44,79,23,59,11,71,48,15,13,38,108,30,52,122,33,27,18,39,85,27,24,56,66,23,21,52,21,19,20,35,15,19,20,14,15,20,10,17,29,24,25,20,48,8,17,24,23,27,28,13,64,30,37,11,28,26,29,21,23,18,16,34,27,27,11,26,11,27,34,21,23,18,73,77,39,25,20,26,30,21,92,368,13,16,122,9,20,11,45,27,59,67,22,46,29,20,53,14,12,12,24,22,18,11,56,17,17,20,14,26,56,66,38,30,14,21,273,39,15,42,23,14,14,36,58,16,24,13,13,24,48,45,29,19,25,11,31,44,73,67,31,26,174,33,17,38,71,24,15,15,10,26,35,34,13,71,16,31,16,26,42,15,73,42,14,83,74,73,57,149,13,33,135,12,36,17,34,14,21,22,11,29,124,15,46,26,17,9,20,11,74,17,22,27,30,12,43,54,19,16,17,8,22,57,47,15,15,19,12,22,14,34,27,23,17,16,20,19,18,23,33,70,137,69,18,17,20,39,33,23,44,51,16,71,15,20,44,32,39,66,34,27,21,67,18,36,16,10,38,20,18,12,115,29,65,12,29,20,19,28,13,9,20,10,28,15,45,45,43,27,33,31,80,10,19,18,11,24,21,46,65,46,66,9,21,13,17,66,39,12,66,34,19,14,17,23,21,11,47,108,18,17,11,27,23,21,12,54,33,26,29,38,22,34,26,14,35,11,24,19,12,21,80,22,17,11,16,215,28,28,16,40,26,48,32,15,51,32,17,53,20,23,10,16,21,27,39,20,62,16,40,10,30,16,12,510,34,24,66,33,32,11,17,22,26,19,14,32,17,24,35,18,14,14,18,53,27,11,96,12,18,26,33,17,18,54,13,23,21,52,39,12,32,43,13,19,75,9,31,24,18,23,25,69,16,12,17,25,22,17,51,20,104,93,11,22,67,24,17,223,22,42,51,68,17,69,20,18,48,48,28,30,10,26,30,22,69,54,25,655,12,12,41,19,10,20,38,45,10,12,55,22,20,294,20,22,26,15,21,9,29,81,9,22,47,24,26,72,13,26,61,24,18,9,27,15,23,23,83,99,69,19,63,10,68,12,22,21,10,30,18,11,71,158,46,29,29,13,22,22,48,41,22,53,15,35,24,18,67,25,13,104,33,19,23,44,48,53,19,15,20,26,67,15,35,23,21,20,58,17,65,36,22,15,133,20,61,25,97,20,20,9,20,15,26,82,20,15,13,19,7,27,80,13,50,31,25,11,21,16,75,26,68,50,15,55,11,9,27,12,31,31,21,17,45,23,18,96,143,25,31,19,25,12,68,46,28,65,42,36,43,8,6,70,16,25,17,10,9,14,18,55,9,28,40,35,22,22,11,20,21,26,52,24,17,16,42,56,56,39,46,35,20,101,78,23,61,21,26,34,21,30,27,22,26,66,17,25,68,20,43,8,14,16,19,17,66,22,40,75,14,75,11,29,72,27,10,23,36,9,36,41,63,75,31,16,25,27,14,25,15,97,71,89,11,63,30,69,12,358,73,63,11,193,17,26,23,21,78,11,11,30,27,62,8,14,73,16,14,19,21,68,155,19,47,22,105,27,64,13,19,175,28,36,12,22,20,17,25,24,40,13,274,12,33,14,20,74,70,33,27,75,29,20,31,22,17,44,26,11,23,19,19,27,17,15,76,66,15,31,17,45,40,84,11,12,43,15,41,21,67,10,13,29,70,53,15,16,28,22,15,20,26,72,46,9,86,23,6,71,11,29,66,36,13,120,11,18,17,20,39,23,32,15,23,76,186,12,11,24,43,17,10,25,18,80,26,30,15,17,33,16,31,77,14,81,36,40,23,673,15,18,66,50,70,26,29,46,22,12,10,46,77,19,76,51,36,30,32,16,35,29,55,59,68,10,70,70,21,64,16,49,15,36,29,66,12,44,66,67,17,49,26,34,41,55,22,74,72,15,34,25,25,14,34,330,12,19,14,12,24,20,55,25,29,18,22,25,23,18,26,18,51,11,29,21,21,23,76,7,24,46,60,26,66,18,25,26,24,103,18,10,31,12,12,69,34,28,69,55,25,12,19,16,23,9,18,19,32,16,32,57,24,29,70,29,23,13,16,59,31,30,37,13,69,26,21,72,177,12,40,24,20,67,18,44,33,29,12,12,16,41,68,12,12,73,21,12,16,65,18,22,15,25,43,16,32,71,53,23,9,12,23,57,24,11,31,15,21,54,14,60,38,24,32,20,65,63,34,9,30,54,21,9,23,8,34,32,21,8,33,27,53,29,25,24,31,25,11,26,13,16,57,11,17,18,29,22,19,13,18,50,19,21,17,19,70,45,26,10,74,23,82,46,75,25,43,25,63,15,12,10,67,8,24,12,14,16,75,23,32,17,30,25,19,78,16,20,70,18,41,68,9,21,63,65,13,34,36,25,46,12,105,16,21,9,30,23,21,40,21,31,10,15,17,73,12,46,19,20,24,17,42,88,67,24,12,29,53,67,62,17,74,20,61,18,11,17,12,16,160,14,20,11,20,31,9,76,21,29,14,20,40,10,11,11,32,38,59,21,72,18,17,22,11,20,67,11,22,24,48,64,63,30,10,18,23,24,25,16,115,21,73,70,71,67,20,18,13,24,13,29,35,74,60,24,13,18,57,10,16,46,12,29,67,26,23,44,19,39,177,10,71,18,66,52,16,39,26,28,16,18,19,32,70,72,17,14,29,37,18,70,23,103,25,24,22,46,60,67,71,15,10,16,58,19,72,14,45,22,22,25,69,29,61,42,15,31,22,67,19,65,40,79,16,68,80,20,16,73,12,23,10,22,30,135,106,14,20,15,133,32,11,68,24,21,26,109,87,103,86,21,65,16,8,10,71,18,27,34,28,10,26,23,41,13,36,60,10,18,46,21,22,17,47,24,84,34,19,9,19,23,31,70,42,17,11,23,23,22,18,32,32,15,38,16,35,168,62,60,36,14,21,20,27,73,414,19,35,14,25,26,49,15,99,10,15,18,12,38,51,13,27,17,24,9,73,45,26,23,67,76,23,87,35,21,12,11,29,22,401,16,11,14,43,25,70,12,25,54,21,40,21,57,56,27,24,30,13,72,35,29,35,8,57,16,25,24,24,17,57,66,12,20,30,70,21,23,46,66,27,20,22,47,32,51,282,64,17,38,12,22,59,31,42,107,47,18,30,45,51,27,83,48,12,64,21,18,22,33,24,21,25,151,19,25,22,25,38,70,23,10,57,66,36,57,51,15,21,34,25,15,8,26,22,16,56,14,50,19,20,29,214,20,15,21,83,22,70,43,78,54,15,16,41,22,18,21,17,31,22,52,17,16,14,31,9,34,17,20,20,21,25,36,46,12,12,25,25,28,71,27,21,28,18,23,31,18,67,13,30,20,24,193,22,74,31,69,23,71,34,13,32,50,20,40,45,21,19,22,20,23,71,12,24,19,13,132,13,43,57,12,22,24,32,20,21,19,28,58,11,26,23,16,61,24,20,45,54,23,73,71,34,33,20,15,34,21,19,25,13,51,22,12,15,28,51,59,18,16,43,19,11,76,22,64,23,17,19,49,25,347,17,17,36,10,61,30,51,75,48,27,55,154,28,30,31,16,18,26,31,14,23,14,24,20,56,28,25,57,18,45,12,10,10,28,63,27,64,32,32,33,58,23,12,12,70,11,11,14,17,34,68,10,24,36,35,13,70,19,71,42,18,25,53,20,24,64,21,207,12,20,16,35,26,20,18,41,64,63,55,13,29,8,24,21,17,205,111,19,35,13,23,64,33,39,30,69,30,27,20,11,25,26,21,64,51,163,20,12,21,21,50,25,20,16,28,24,71,24,14,80,11,21,23,23,69,80,53,11,28,20,38,14,67,32,21,124,69,70,69,28,105,18,63,16,25,20,47,13,76,19,72,20,40,16,38,11,24,62,19,72,10,87,98,15,17,69,21,252,20,30,39,9,63,67,11,35,37,14,11,25,14,10,13,59,19,45,22,14,15,15,44,56,14,28,70,22,26,17,22,38,11,21,50,15,39,30,15,10,29,51,22,20,16,139,9,25,68,72,9,21,30,31,17,31,30,26,29,25,74,46,58,74,26,28,77,13,23,24,22,25,10,21,24,17,12,18,25,37,45,19,19,18,40,29,10,71,14,23,18,15,26,42,20,53,21,11,12,29,24,11,18,26,21,64,29,73,12,15,31,27,67,16,30,44,40,41,41,12,20,49,24,11,34,56,35,92,59,20,22,66,17,21,18,28,12,21,18,23,21,46,19,67,112,20,17,20,71,53,26,39,12,30,12,24,16,19,12,16,50,27,36,50,19,42,12,19,41,29,30,69,20,30,66,88,354,69,26,52,13,12,70,15,14,30,39,10,13,21,14,50,11,29,20,35,24,48,23,65,15,14,66,14,29,25,23,27,76,182,16,70,12,73,67,15,29,111,39,73,8,74,23,23,16,49,23,140,17,19,96,15,12,42,22,136,31,12,124,36,38,23,71,14,20,14,20,72,19,72,22,51,27,77,22,42,26,117,10,18,65,19,55,99,92,19,23,13,18,17,34,28,11,92,24,21,15,59,18,35,13,6,41,402,19,20,27,45,27,19,13,25,22,47,22,16,45,22,25,18,21,11,59,72,15,11,23,79,62,70,105,118,35,20,32,12,14,17,10,52,26,14,16,10,68,12,23,21,132,26,30,73,8,49,15,16,23,71,18,19,51,16,17,13,19,83,20,13,31,181,23,38,25,44,40,36,13,24,14,28,11,57,22,41,19,37,37,28,67,30,69,21,17,75,61,26,13,22,12,16,10,25,26,27,45,11,16,25,20,10,24,15,19,17,66,14,11,45,131,15,51,32,119,30,41,70,31,25,77,74,13,27,20,63,50,43,25,28,95,25,72,27,63,10,21,61,65,22],\"xaxis\":\"x\",\"yaxis\":\"y\",\"type\":\"histogram\"},{\"alignmentgroup\":\"True\",\"hovertemplate\":\"NewLength=%{x}\\u003cextra\\u003e\\u003c\\u002fextra\\u003e\",\"legendgroup\":\"\",\"marker\":{\"color\":\"blue\"},\"name\":\"\",\"notched\":true,\"offsetgroup\":\"\",\"showlegend\":false,\"x\":[23,30,11,42,37,16,69,74,16,14,22,42,19,131,26,67,26,6,9,24,23,38,47,12,10,43,16,12,439,79,19,20,30,21,12,23,36,10,14,18,29,47,11,23,45,49,17,54,42,37,9,44,12,21,67,70,9,15,29,10,573,53,32,13,18,17,20,27,58,53,20,47,12,18,19,47,11,23,68,49,25,19,13,26,23,28,23,31,13,21,20,22,24,12,24,18,13,19,23,60,42,101,20,12,9,43,74,61,16,24,12,30,21,20,22,47,65,14,52,34,65,19,51,45,49,28,14,56,21,14,9,59,24,48,361,24,42,48,21,32,43,141,22,20,16,17,19,29,22,41,34,64,37,12,26,17,22,23,39,21,90,25,32,44,18,67,20,21,27,22,93,7,26,31,50,24,24,25,72,14,763,22,26,21,99,24,8,11,23,30,36,71,16,9,20,11,50,27,23,13,21,8,21,26,16,22,25,11,45,21,17,19,26,21,62,75,12,20,9,13,14,33,68,12,39,20,90,25,34,89,67,15,24,44,45,19,74,33,69,34,20,25,31,10,67,36,123,81,13,10,11,35,10,74,26,58,19,12,64,20,28,22,14,9,11,10,38,152,23,26,22,14,52,24,16,70,37,34,21,15,27,35,10,25,37,12,66,106,75,27,16,78,31,70,74,48,9,19,26,12,55,16,13,22,27,73,20,15,27,21,17,12,21,73,50,25,21,18,20,295,30,13,69,13,19,15,13,35,37,42,27,37,44,27,531,18,22,22,22,35,11,27,46,32,15,33,24,18,32,13,42,16,18,22,11,103,36,75,43,37,27,24,956,128,45,23,17,25,113,268,8,23,22,21,44,59,22,28,16,32,52,12,13,20,24,16,23,52,41,29,15,62,61,73,15,48,19,26,13,24,49,62,14,10,50,18,18,30,51,108,28,17,69,30,111,24,24,63,72,73,13,38,25,49,25,51,27,50,18,24,15,230,71,81,30,72,32,172,27,10,12,16,29,49,31,229,35,21,61,75,54,74,68,72,22,32,20,13,25,22,42,22,73,67,218,73,21,74,28,30,71,52,27,56,25,22,52,20,14,36,15,39,11,33,30,30,16,15,17,19,39,19,13,24,14,62,62,13,57,14,21,40,32,27,73,12,13,18,24,12,12,20,10,20,32,64,67,73,56,24,69,14,24,21,305,14,22,12,65,21,22,13,33,81,24,11,30,12,45,155,12,27,14,22,42,49,147,28,30,58,32,23,19,71,16,15,64,157,25,15,50,11,70,21,20,38,10,24,28,21,67,14,69,34,27,17,15,15,46,30,20,9,36,29,18,20,25,27,25,38,26,27,27,20,12,34,17,18,39,20,17,11,19,24,66,66,77,66,75,24,8,16,20,17,12,19,21,11,17,198,78,9,19,53,21,17,33,28,29,37,35,31,74,10,23,16,72,42,16,48,22,65,78,20,25,30,33,18,43,32,22,78,19,18,112,25,11,15,58,78,23,20,13,12,25,24,15,18,73,34,25,62,18,9,43,63,27,57,21,58,18,17,29,25,43,14,186,194,11,121,11,25,68,45,17,12,74,44,52,10,53,19,20,9,12,13,70,40,40,24,19,6,34,68,66,14,54,38,12,74,27,21,105,21,37,23,12,47,27,20,20,81,27,68,22,27,104,25,42,49,39,78,49,23,66,35,24,22,27,23,75,16,21,46,29,67,16,71,39,23,22,12,21,19,37,17,20,19,18,14,48,48,22,81,13,16,21,11,20,34,11,44,17,66,75,23,25,70,16,37,209,128,153,22,12,40,42,20,22,29,24,22,12,17,11,53,27,20,47,45,33,71,16,11,74,64,61,21,27,51,12,29,44,46,19,10,80,26,28,12,69,16,20,20,124,14,30,10,48,17,47,40,70,41,72,13,114,18,25,24,15,21,23,11,28,20,18,18,31,25,24,72,15,15,74,10,21,14,33,11,54,20,12,11,57,39,34,29,12,24,62,11,37,25,27,160,16,15,34,21,34,42,19,15,63,12,17,15,42,16,9,9,13,31,20,22,66,11,25,23,8,19,14,21,25,23,20,30,16,84,30,11,301,17,14,11,16,36,18,43,24,60,17,25,11,25,32,33,36,72,19,70,12,17,39,66,10,15,66,368,41,20,19,24,12,11,16,21,70,11,74,94,11,45,12,135,11,24,54,11,50,45,20,38,24,13,13,22,23,24,57,26,54,57,65,50,30,17,29,19,25,57,67,18,35,9,12,17,26,30,12,13,11,20,32,74,19,44,22,22,94,122,44,104,25,54,21,34,26,199,43,24,13,16,76,138,255,18,46,35,11,210,34,23,23,40,71,23,10,20,20,14,33,59,24,27,19,25,12,101,27,14,36,66,23,27,72,12,15,20,26,25,8,13,28,23,22,30,15,48,59,160,25,26,61,47,21,20,38,57,25,66,36,48,20,23,73,19,29,95,20,24,25,18,23,53,28,19,12,24,24,129,11,34,10,154,36,23,82,29,68,33,21,14,19,12,16,24,32,22,14,22,77,66,22,41,30,26,63,312,19,15,32,18,155,36,50,16,26,13,39,11,27,31,19,7,73,24,21,37,58,15,128,48,26,23,39,23,66,19,30,11,19,11,22,23,20,7,73,48,465,22,21,21,9,37,23,26,17,16,19,17,68,22,39,19,38,22,19,13,18,24,20,99,15,20,54,22,15,13,74,54,19,17,11,37,29,9,21,64,37,18,45,14,75,23,14,25,60,20,11,11,55,34,22,60,27,28,114,26,32,12,16,47,17,20,55,27,69,9,22,10,21,19,12,15,26,25,20,30,21,44,17,30,18,64,57,21,25,17,13,67,26,34,62,36,23,20,40,23,42,19,35,11,20,12,9,30,15,25,21,14,221,20,14,52,75,10,18,29,14,21,17,11,73,24,16,10,9,29,20,19,13,15,26,9,16,34,34,59,55,17,22,65,25,35,68,33,66,71,33,26,43,69,16,66,67,14,10,15,23,14,64,35,7,60,55,23,67,18,14,49,77,34,36,30,22,30,57,23,21,27,15,42,75,22,26,31,56,76,27,17,22,33,17,15,64,21,21,70,21,66,43,25,20,106,22,52,34,17,10,47,12,22,21,77,19,17,17,10,61,42,16,23,74,24,12,57,47,19,17,19,20,68,52,24,22,23,19,32,40,21,39,33,25,21,77,24,30,25,22,19,31,15,50,74,10,11,20,28,30,24,52,25,13,32,58,46,28,19,18,8,15,11,82,18,15,64,20,17,31,119,17,25,10,32,134,68,22,72,35,44,66,63,15,12,28,324,22,32,11,12,37,66,29,26,22,25,70,17,72,21,25,41,51,70,69,16,14,33,29,59,16,23,20,10,43,23,17,80,23,23,28,24,18,120,38,27,19,38,45,55,15,21,21,13,29,36,24,60,50,76,19,24,40,98,21,13,24,14,24,23,74,74,36,24,62,15,25,24,28,24,15,37,36,55,58,29,73,27,8,24,16,15,17,48,10,21,16,18,19,20,13,73,63,26,25,36,24,14,12,25,20,13,19,25,13,50,45,47,27,25,48,14,25,26,50,46,19,33,70,73,17,19,22,64,72,20,20,100,39,18,68,26,24,12,64,38,51,39,25,17,13,26,22,27,21,25,34,24,13,80,16,21,68,26,51,20,17,18,64,153,38,23,45,21,34,30,60,16,19,23,21,69,59,36,63,49,20,18,53,51,24,35,72,26,16,14,66,15,72,16,20,22,23,62,19,12,12,101,22,67,23,32,34,10,67,19,34,21,35,11,20,77,72,71,72,23,14,60,30,21,14,72,22,25,21,43,67,18,79,85,22,16,20,30,25,14,18,29,29,21,28,63,17,32,12,15,26,22,38,47,23,18,72,45,11,45,23,40,6,13,17,26,35,72,27,30,64,10,220,17,9,12,12,20,22,17,55,74,12,27,69,12,23,22,68,58,46,12,38,40,20,21,62,39,14,26,21,78,8,37,29,22,22,25,22,24,17,86,57,51,21,29,14,68,69,73,18,26,14,78,22,64,17,66,13,12,24,89,32,13,94,18,210,22,20,16,14,10,113,30,21,49,23,35,17,23,19,77,10,24,36,11,35,71,14,76,69,15,72,40,25,26,10,12,59,41,13,33,13,21,60,63,71,28,14,60,35,37,35,62,14,22,39,68,18,26,52,22,19,65,35,61,29,25,64,19,28,34,30,25,17,14,19,40,19,11,69,78,68,10,22,22,24,22,21,17,74,27,74,17,27,32,20,19,69,64,16,13,23,22,30,63,74,16,22,13,9,45,39,28,50,81,23,73,24,43,13,65,68,14,42,40,64,32,37,21,29,17,21,41,17,33,66,48,22,51,34,71,43,37,19,31,16,78,74,69,13,10,64,28,28,23,58,67,73,22,33,11,15,26,68,22,55,25,13,25,43,13,14,62,25,19,67,23,16,48,59,44,96,14,15,91,70,26,34,39,40,11,18,21,46,111,105,24,74,31,29,40,21,27,27,36,67,27,10,13,68,26,15,24,17,30,39,66,808,24,22,60,69,10,15,35,21,49,75,21,37,26,52,12,21,72,11,30,16,17,74,157,21,28,21,27,90,20,22,40,29,25,19,37,41,72,14,28,11,24,18,15,22,40,11,11,34,51,24,15,54,24,8,13,10,67,11,33,23,28,34,21,33,25,11,27,16,29,25,24,23,23,20,246,23,15,18,18,53,60,21,15,26,25,238,9,16,23,68,22,27,28,28,28,17,37,20,212,40,9,13,124,13,19,12,26,36,25,34,12,82,13,42,63,20,39,19,23,33,44,21,19,10,28,13,23,33,35,49,18,19,38,32,17,41,25,13,23,67,15,20,74,20,16,50,10,44,19,20,25,25,26,16,27,36,7,27,23,36,35,13,22,10,44,23,25,21,21,57,9,13,9,25,71,14,67,12,12,14,9,11,22,62,9,34,22,64,26,58,27,18,26,21,23,25,60,19,71,31,32,11,34,23,34,13,92,217,21,20,12,9,70,25,19,25,31,24,21,13,81,54,19,16,49,37,28,12,13,14,15,111,17,21,16,15,19,28,48,18,16,12,28,63,56,21,17,10,66,21,35,23,20,18,29,14,110,37,9,14,29,51,71,20,23,27,27,24,19,23,40,35,20,38,11,25,31,12,23,4,50,23,26,26,50,17,27,11,40,15,22,17,15,27,72,18,20,41,50,26,78,24,21,26,44,14,75,34,107,74,24,34,59,12,16,50,110,20,23,15,9,45,74,18,24,15,51,17,77,25,30,17,40,16,16,72,30,16,47,20,36,58,36,19,12,216,13,29,30,16,12,29,24,12,50,26,16,16,68,36,23,70,70,62,16,18,28,15,23,20,61,17,61,51,40,50,53,64,24,73,27,73,8,68,13,384,35,12,14,16,70,15,34,72,10,18,76,37,68,27,29,19,25,11,45,28,86,20,18,34,24,18,89,15,24,11,24,23,19,19,72,8,13,73,10,49,10,67,16,14,31,23,20,71,68,30,28,22,19,23,19,21,22,8,27,23,13,11,15,52,20,36,22,61,16,43,18,23,22,32,36,69,28,23,20,15,19,21,24,23,24,13,22,16,17,62,61,22,48,42,13,43,68,27,23,21,25,17,25,27,13,16,47,12,45,17,22,24,19,27,24,9,36,15,70,23,51,66,141,21,21,10,25,21,54,153,13,16,21,21,10,11,16,11,22,57,16,11,86,23,30,59,16,81,29,38,22,58,81,19,10,12,22,22,67,22,12,57,10,15,39,61,24,13,37,76,33,8,21,23,34,7,9,22,22,49,24,11,21,29,30,74,38,55,14,74,11,19,24,21,24,20,12,11,23,58,70,19,20,47,24,21,43,10,19,15,18,20,51,26,72,31,21,9,52,11,109,73,69,103,26,68,18,50,16,14,12,10,35,15,71,20,30,23,24,25,28,20,43,14,18,16,33,13,97,25,42,17,20,70,42,10,9,19,19,20,73,70,70,11,11,31,74,69,14,37,59,21,9,74,23,41,21,10,17,14,43,29,9,11,14,205,30,63,73,34,20,17,52,12,25,11,33,72,14,19,20,13,32,22,25,19,26,16,25,69,13,24,11,32,23,21,33,29,11,16,17,29,41,10,24,18,23,68,11,67,12,19,21,52,27,48,29,27,18,9,25,17,26,36,27,14,21,51,71,17,55,102,74,22,19,37,27,23,66,44,26,12,66,12,16,29,73,18,17,19,20,22,102,27,67,83,25,17,27,36,29,32,142,88,16,16,17,32,16,67,161,19,36,27,17,26,22,36,21,32,43,43,22,29,72,13,22,37,9,19,9,123,45,14,71,25,27,35,69,17,36,54,35,28,62,67,39,17,18,56,20,13,21,10,22,17,24,23,40,18,44,49,74,13,36,12,19,21,51,16,19,38,27,13,30,12,11,43,13,32,17,17,25,38,19,73,27,29,30,16,20,24,28,9,69,21,16,13,88,41,19,11,63,57,12,41,12,22,79,185,31,30,18,14,12,19,10,12,22,54,42,12,22,45,22,20,71,23,15,27,27,66,12,26,45,13,68,14,27,23,15,68,148,25,22,14,22,24,13,139,27,30,23,49,45,14,14,16,37,26,11,20,69,16,9,17,33,12,43,51,24,19,17,37,13,22,21,11,22,13,23,12,6,22,71,21,28,31,28,22,18,40,35,41,20,34,16,72,74,11,25,113,66,21,18,30,6,20,30,23,20,13,55,74,54,27,60,37,37,19,64,65,23,18,23,75,26,57,24,11,10,67,27,25,197,20,19,13,41,37,11,63,14,23,89,22,9,71,12,70,39,22,17,35,17,76,77,66,74,18,64,32,17,27,41,18,27,114,40,34,34,109,24,69,17,12,39,62,66,134,33,22,18,45,37,21,33,58,17,44,87,76,20,15,11,75,28,18,13,48,21,69,31,14,22,48,15,18,9,9,23,17,16,14,27,45,33,20,21,73,23,69,26,30,41,32,41,44,23,61,10,21,24,98,22,45,32,11,67,14,30,31,23,35,19,23,32,10,13,11,104,40,24,38,31,71,15,35,32,25,20,51,21,25,26,23,25,22,21,20,23,27,30,25,18,46,22,26,19,25,17,27,20,33,52,11,13,71,25,21,24,21,59,40,68,22,19,14,20,20,11,31,55,15,29,72,48,15,20,12,19,21,16,28,17,72,13,27,18,159,52,24,21,69,10,34,26,72,40,22,16,30,14,18,66,17,14,24,10,25,16,15,16,16,15,66,31,13,22,12,9,11,49,41,20,22,12,147,25,10,33,55,38,19,27,17,56,42,22,11,43,70,20,29,59,13,71,20,60,73,18,41,25,13,14,19,12,21,11,19,26,25,18,86,9,40,21,71,46,70,20,17,11,25,16,27,18,31,24,24,25,63,38,85,13,56,11,23,12,30,44,31,23,28,17,7,47,73,21,12,28,19,20,80,36,26,50,55,22,86,67,41,63,12,12,134,23,66,13,17,24,22,124,27,21,67,27,21,24,67,37,14,73,76,24,65,17,22,17,20,22,18,50,22,76,13,22,69,21,11,38,23,68,10,19,83,32,19,53,71,92,21,49,11,26,23,44,20,28,23,49,31,82,22,69,32,26,59,17,46,15,20,23,14,19,16,21,18,57,67,23,29,26,48,37,18,25,12,13,20,24,72,23,22,20,13,18,14,20,47,37,26,28,19,33,86,25,163,13,15,21,25,23,27,17,21,53,20,39,16,43,50,27,38,13,21,35,23,18,32,14,17,65,58,13,12,18,11,24,51,56,51,15,12,16,18,23,21,31,31,13,12,18,24,25,19,34,12,20,20,23,22,24,20,19,54,71,23,74,52,24,34,19,50,43,10,26,22,37,25,30,44,51,16,50,36,145,22,43,12,146,18,20,131,454,10,91,20,13,11,19,7,14,17,13,19,35,44,23,17,21,19,10,15,13,17,53,164,22,78,19,22,303,118,30,15,24,31,21,23,19,30,64,21,11,24,20,22,21,28,14,20,14,19,12,19,15,31,13,89,13,18,27,27,27,22,29,18,48,16,24,12,131,24,65,452,71,10,15,27,52,28,19,28,77,72,40,78,21,119,21,71,22,24,55,20,26,21,35,23,16,54,18,43,719,29,64,76,22,14,47,66,12,28,14,32,24,104,18,16,16,15,18,11,23,25,22,20,47,33,46,28,28,60,9,59,22,22,69,9,20,22,18,30,55,15,17,70,69,58,60,69,66,23,11,15,10,25,30,77,66,43,13,13,35,33,67,25,24,21,74,26,73,12,14,68,9,86,40,61,56,38,14,27,25,11,28,13,13,35,24,17,261,11,21,19,43,45,34,13,74,64,15,24,32,64,26,14,17,64,39,20,48,17,69,12,64,45,72,337,44,25,53,12,18,65,29,252,22,19,51,51,21,14,18,37,60,12,32,16,14,10,24,31,50,65,35,12,24,55,26,32,16,21,59,25,25,13,22,18,14,31,16,9,15,11,46,13,31,12,106,30,17,28,23,72,68,56,16,10,11,16,54,17,59,20,24,24,22,47,28,29,19,30,23,30,50,19,18,17,43,31,13,11,67,37,64,23,23,21,26,26,28,47,118,31,34,21,22,10,54,41,20,68,43,142,19,20,36,12,26,49,32,21,26,68,89,46,11,30,76,40,11,10,67,18,76,86,28,40,44,36,35,22,13,16,28,9,29,23,13,16,23,85,30,37,64,26,24,62,70,32,24,64,16,24,54,17,26,25,37,41,18,12,23,25,17,90,37,21,22,19,21,22,33,25,37,16,31,89,106,24,74,47,76,43,17,19,40,22,14,51,17,26,80,27,73,32,18,14,16,22,13,51,48,50,307,33,25,32,19,11,23,36,17,11,16,29,67,27,10,28,36,28,36,24,63,46,16,106,18,25,33,72,31,23,25,69,35,27,24,56,13,23,54,64,18,19,45,86,12,18,39,59,15,17,25,30,11,62,23,14,101,27,19,27,23,79,13,22,41,23,66,23,71,15,24,11,32,26,39,29,59,17,65,12,26,25,87,25,15,24,22,51,45,29,42,16,20,18,70,27,28,68,59,10,41,18,10,55,193,15,16,43,22,20,20,18,25,19,15,49,25,27,23,18,16,17,60,16,23,52,14,10,73,39,69,55,65,15,36,21,47,20,20,15,68,10,13,19,62,20,19,11,15,76,23,21,21,10,18,12,24,18,66,62,27,68,9,11,34,74,13,34,71,272,20,20,13,45,61,144,9,55,17,17,57,40,28,66,24,33,52,74,39,47,22,22,24,21,55,38,67,31,24,54,71,30,23,32,16,39,29,12,36,28,38,30,13,21,13,44,21,22,18,12,70,28,75,17,24,22,20,188,23,9,14,11,64,23,71,12,14,21,22,16,6,31,30,10,10,90,29,78,42,32,61,11,10,76,40,12,11,171,60,11,10,30,23,18,10,12,77,21,51,38,47,15,19,47,25,18,27,31,160,16,25,25,34,13,29,24,28,84,16,35,23,57,11,334,40,17,141,23,99,72,26,40,31,10,30,24,20,71,12,16,44,24,78,41,18,65,18,71,68,44,22,24,37,36,125,80,18,59,10,69,23,16,56,68,73,31,29,54,12,44,21,27,26,25,60,10,23,58,24,48,18,17,20,17,21,13,43,28,27,17,391,60,61,50,12,62,69,19,39,18,28,27,65,9,29,25,24,26,321,61,18,79,38,20,18,24,57,47,34,30,34,11,21,38,15,46,75,87,30,35,69,18,14,36,20,19,37,13,10,18,28,42,16,25,62,36,22,73,49,21,12,28,59,16,26,12,44,26,29,20,14,35,23,23,21,21,29,62,34,20,10,37,13,21,17,26,18,27,26,23,92,93,41,18,47,30,21,18,15,31,57,49,71,37,11,9,65,20,24,69,25,22,10,21,18,26,32,24,21,38,73,51,69,39,21,16,25,94,61,88,17,21,18,64,58,51,144,11,15,16,67,49,14,65,18,20,25,63,23,33,15,22,8,16,22,16,60,52,23,10,24,76,33,40,10,278,11,17,67,19,93,25,28,53,30,9,34,69,29,82,21,14,25,31,12,59,12,23,12,19,17,1,11,11,9,17,12,18,47,39,15,117,43,27,39,26,9,21,33,23,27,19,31,59,28,24,21,41,38,12,24,13,25,12,68,22,20,12,10,44,137,20,28,32,39,153,16,19,71,65,66,14,26,61,30,67,22,15,46,17,43,28,12,30,25,18,29,69,39,30,72,21,16,34,38,23,21,15,24,22,20,19,18,102,49,68,24,20,10,19,30,35,19,19,46,14,28,79,65,14,13,19,17,35,42,11,43,18,51,22,15,13,22,25,20,41,18,34,15,18,16,13,26,29,26,26,20,65,19,14,53,47,19,33,13,21,31,43,34,19,21,45,26,23,12,26,27,13,76,25,12,41,18,20,20,31,29,11,35,296,25,33,13,13,13,44,22,43,57,74,26,22,69,23,22,64,18,9,55,93,36,31,10,41,15,23,37,14,37,68,16,20,26,45,25,18,76,67,72,47,71,78,20,20,23,60,27,13,43,40,20,66,13,28,54,44,19,14,35,20,12,35,193,17,97,15,50,30,16,67,28,12,61,18,22,63,71,13,17,28,49,32,24,73,40,67,43,53,400,10,44,19,8,17,80,25,20,16,11,25,14,9,22,8,38,25,163,102,41,25,20,20,65,13,40,69,7,23,19,11,60,24,32,12,61,83,18,26,70,30,83,20,22,14,22,61,14,60,34,28,22,29,67,47,44,11,18,78,10,14,30,27,50,10,10,31,36,41,45,11,22,20,19,20,63,40,52,11,26,267,17,23,32,14,10,62,41,9,35,18,37,40,33,25,19,14,66,12,40,14,21,14,11,13,26,14,41,21,25,57,31,69,29,11,35,29,22,30,29,9,22,37,12,13,74,22,19,20,41,24,56,77,10,39,9,22,37,23,9,27,69,25,116,74,38,69,21,259,20,36,71,12,40,23,38,40,15,26,56,53,30,28,25,13,68,68,28,30,42,12,72,66,25,14,23,26,127,32,23,66,38,16,29,44,50,53,20,18,10,107,18,24,10,26,32,39,13,54,19,78,35,38,30,32,60,42,64,12,26,41,70,44,11,29,26,61,23,54,15,31,5,20,13,60,32,57,58,97,20,17,12,13,13,20,66,28,16,18,47,52,30,16,112,90,20,20,43,10,135,40,19,10,23,45,9,55,17,35,28,10,23,55,22,26,26,46,69,73,17,24,18,29,21,36,8,22,19,9,43,16,25,25,77,359,27,27,63,17,29,31,16,26,24,13,16,10,18,9,21,34,53,14,15,62,10,27,59,29,12,45,20,24,53,18,27,168,18,26,20,57,21,22,28,23,27,78,26,23,22,20,22,26,8,37,18,45,16,58,78,69,5,71,64,73,27,15,20,18,16,19,13,14,47,19,22,10,55,66,68,23,63,695,15,32,29,12,12,18,90,15,25,26,12,31,23,24,12,28,9,30,66,13,41,34,49,24,11,23,18,16,26,24,24,19,68,14,11,21,33,24,28,81,12,166,25,13,34,66,60,17,36,10,23,44,24,23,20,75,14,27,50,21,26,11,18,24,11,11,79,18,29,24,11,22,10,24,21,16,100,14,21,26,13,9,109,15,313,29,68,106,26,73,25,14,24,22,68,19,22,14,77,24,12,63,106,24,20,24,22,13,17,75,16,28,76,75,24,11,30,28,57,70,26,24,17,19,101,17,27,17,41,9,74,39,11,44,39,16,12,9,12,52,68,29,13,19,30,18,26,53,45,26,111,23,25,151,34,86,20,66,15,16,27,24,17,85,42,24,29,23,79,14,17,63,15,32,72,25,76,13,17,10,34,15,24,26,64,37,23,41,32,14,16,22,12,13,40,24,20,17,74,27,16,468,14,11,50,17,19,10,8,23,25,22,27,70,9,19,92,21,18,21,14,35,15,29,36,25,157,18,71,15,18,92,33,9,55,22,27,23,23,18,73,28,26,24,19,15,73,21,281,57,9,10,30,37,66,49,78,26,16,40,20,35,73,17,29,62,15,42,11,13,22,23,62,21,62,36,15,26,27,36,15,19,12,44,219,17,79,47,23,48,62,60,12,22,66,66,27,9,18,71,10,24,11,31,30,21,56,63,35,18,23,26,40,25,20,26,75,27,10,55,22,24,27,26,25,22,66,11,96,11,11,34,20,9,105,68,52,131,14,21,76,21,17,72,22,35,17,65,68,24,19,10,27,31,17,29,14,20,10,28,104,24,27,23,42,35,21,23,24,29,18,18,44,15,64,12,24,41,24,18,10,44,22,22,13,33,23,38,19,29,20,33,16,128,202,65,11,65,34,20,35,33,68,24,44,74,16,46,18,21,16,13,23,31,16,29,16,21,24,31,53,22,15,42,20,11,26,14,39,18,24,9,37,19,12,28,73,17,34,24,53,57,21,21,24,26,26,47,25,27,27,21,54,21,20,22,41,112,63,24,11,18,39,18,20,32,42,15,51,10,24,6,11,62,40,9,49,19,32,22,24,25,18,27,46,11,44,16,23,13,25,20,18,23,73,16,9,10,12,21,86,74,28,40,79,31,27,112,13,65,14,27,36,25,14,23,11,66,20,36,21,73,15,22,15,27,16,25,63,17,37,21,13,8,57,100,71,176,19,10,13,10,31,2,19,25,74,74,26,36,21,20,26,13,10,20,20,23,11,24,9,51,54,24,26,69,16,12,22,21,31,21,21,27,16,26,23,61,64,12,79,30,24,20,27,11,44,79,23,59,11,71,48,15,13,38,108,30,52,122,33,27,18,39,85,27,24,56,66,23,21,52,21,19,20,35,15,19,20,14,15,20,10,17,29,24,25,20,48,8,17,24,23,27,28,13,64,30,37,11,28,26,29,21,23,18,16,34,27,27,11,26,11,27,34,21,23,18,73,77,39,25,20,26,30,21,92,368,13,16,122,9,20,11,45,27,59,67,22,46,29,20,53,14,12,12,24,22,18,11,56,17,17,20,14,26,56,66,38,30,14,21,273,39,15,42,23,14,14,36,58,16,24,13,13,24,48,45,29,19,25,11,31,44,73,67,31,26,174,33,17,38,71,24,15,15,10,26,35,34,13,71,16,31,16,26,42,15,73,42,14,83,74,73,57,149,13,33,135,12,36,17,34,14,21,22,11,29,124,15,46,26,17,9,20,11,74,17,22,27,30,12,43,54,19,16,17,8,22,57,47,15,15,19,12,22,14,34,27,23,17,16,20,19,18,23,33,70,137,69,18,17,20,39,33,23,44,51,16,71,15,20,44,32,39,66,34,27,21,67,18,36,16,10,38,20,18,12,115,29,65,12,29,20,19,28,13,9,20,10,28,15,45,45,43,27,33,31,80,10,19,18,11,24,21,46,65,46,66,9,21,13,17,66,39,12,66,34,19,14,17,23,21,11,47,108,18,17,11,27,23,21,12,54,33,26,29,38,22,34,26,14,35,11,24,19,12,21,80,22,17,11,16,215,28,28,16,40,26,48,32,15,51,32,17,53,20,23,10,16,21,27,39,20,62,16,40,10,30,16,12,510,34,24,66,33,32,11,17,22,26,19,14,32,17,24,35,18,14,14,18,53,27,11,96,12,18,26,33,17,18,54,13,23,21,52,39,12,32,43,13,19,75,9,31,24,18,23,25,69,16,12,17,25,22,17,51,20,104,93,11,22,67,24,17,223,22,42,51,68,17,69,20,18,48,48,28,30,10,26,30,22,69,54,25,655,12,12,41,19,10,20,38,45,10,12,55,22,20,294,20,22,26,15,21,9,29,81,9,22,47,24,26,72,13,26,61,24,18,9,27,15,23,23,83,99,69,19,63,10,68,12,22,21,10,30,18,11,71,158,46,29,29,13,22,22,48,41,22,53,15,35,24,18,67,25,13,104,33,19,23,44,48,53,19,15,20,26,67,15,35,23,21,20,58,17,65,36,22,15,133,20,61,25,97,20,20,9,20,15,26,82,20,15,13,19,7,27,80,13,50,31,25,11,21,16,75,26,68,50,15,55,11,9,27,12,31,31,21,17,45,23,18,96,143,25,31,19,25,12,68,46,28,65,42,36,43,8,6,70,16,25,17,10,9,14,18,55,9,28,40,35,22,22,11,20,21,26,52,24,17,16,42,56,56,39,46,35,20,101,78,23,61,21,26,34,21,30,27,22,26,66,17,25,68,20,43,8,14,16,19,17,66,22,40,75,14,75,11,29,72,27,10,23,36,9,36,41,63,75,31,16,25,27,14,25,15,97,71,89,11,63,30,69,12,358,73,63,11,193,17,26,23,21,78,11,11,30,27,62,8,14,73,16,14,19,21,68,155,19,47,22,105,27,64,13,19,175,28,36,12,22,20,17,25,24,40,13,274,12,33,14,20,74,70,33,27,75,29,20,31,22,17,44,26,11,23,19,19,27,17,15,76,66,15,31,17,45,40,84,11,12,43,15,41,21,67,10,13,29,70,53,15,16,28,22,15,20,26,72,46,9,86,23,6,71,11,29,66,36,13,120,11,18,17,20,39,23,32,15,23,76,186,12,11,24,43,17,10,25,18,80,26,30,15,17,33,16,31,77,14,81,36,40,23,673,15,18,66,50,70,26,29,46,22,12,10,46,77,19,76,51,36,30,32,16,35,29,55,59,68,10,70,70,21,64,16,49,15,36,29,66,12,44,66,67,17,49,26,34,41,55,22,74,72,15,34,25,25,14,34,330,12,19,14,12,24,20,55,25,29,18,22,25,23,18,26,18,51,11,29,21,21,23,76,7,24,46,60,26,66,18,25,26,24,103,18,10,31,12,12,69,34,28,69,55,25,12,19,16,23,9,18,19,32,16,32,57,24,29,70,29,23,13,16,59,31,30,37,13,69,26,21,72,177,12,40,24,20,67,18,44,33,29,12,12,16,41,68,12,12,73,21,12,16,65,18,22,15,25,43,16,32,71,53,23,9,12,23,57,24,11,31,15,21,54,14,60,38,24,32,20,65,63,34,9,30,54,21,9,23,8,34,32,21,8,33,27,53,29,25,24,31,25,11,26,13,16,57,11,17,18,29,22,19,13,18,50,19,21,17,19,70,45,26,10,74,23,82,46,75,25,43,25,63,15,12,10,67,8,24,12,14,16,75,23,32,17,30,25,19,78,16,20,70,18,41,68,9,21,63,65,13,34,36,25,46,12,105,16,21,9,30,23,21,40,21,31,10,15,17,73,12,46,19,20,24,17,42,88,67,24,12,29,53,67,62,17,74,20,61,18,11,17,12,16,160,14,20,11,20,31,9,76,21,29,14,20,40,10,11,11,32,38,59,21,72,18,17,22,11,20,67,11,22,24,48,64,63,30,10,18,23,24,25,16,115,21,73,70,71,67,20,18,13,24,13,29,35,74,60,24,13,18,57,10,16,46,12,29,67,26,23,44,19,39,177,10,71,18,66,52,16,39,26,28,16,18,19,32,70,72,17,14,29,37,18,70,23,103,25,24,22,46,60,67,71,15,10,16,58,19,72,14,45,22,22,25,69,29,61,42,15,31,22,67,19,65,40,79,16,68,80,20,16,73,12,23,10,22,30,135,106,14,20,15,133,32,11,68,24,21,26,109,87,103,86,21,65,16,8,10,71,18,27,34,28,10,26,23,41,13,36,60,10,18,46,21,22,17,47,24,84,34,19,9,19,23,31,70,42,17,11,23,23,22,18,32,32,15,38,16,35,168,62,60,36,14,21,20,27,73,414,19,35,14,25,26,49,15,99,10,15,18,12,38,51,13,27,17,24,9,73,45,26,23,67,76,23,87,35,21,12,11,29,22,401,16,11,14,43,25,70,12,25,54,21,40,21,57,56,27,24,30,13,72,35,29,35,8,57,16,25,24,24,17,57,66,12,20,30,70,21,23,46,66,27,20,22,47,32,51,282,64,17,38,12,22,59,31,42,107,47,18,30,45,51,27,83,48,12,64,21,18,22,33,24,21,25,151,19,25,22,25,38,70,23,10,57,66,36,57,51,15,21,34,25,15,8,26,22,16,56,14,50,19,20,29,214,20,15,21,83,22,70,43,78,54,15,16,41,22,18,21,17,31,22,52,17,16,14,31,9,34,17,20,20,21,25,36,46,12,12,25,25,28,71,27,21,28,18,23,31,18,67,13,30,20,24,193,22,74,31,69,23,71,34,13,32,50,20,40,45,21,19,22,20,23,71,12,24,19,13,132,13,43,57,12,22,24,32,20,21,19,28,58,11,26,23,16,61,24,20,45,54,23,73,71,34,33,20,15,34,21,19,25,13,51,22,12,15,28,51,59,18,16,43,19,11,76,22,64,23,17,19,49,25,347,17,17,36,10,61,30,51,75,48,27,55,154,28,30,31,16,18,26,31,14,23,14,24,20,56,28,25,57,18,45,12,10,10,28,63,27,64,32,32,33,58,23,12,12,70,11,11,14,17,34,68,10,24,36,35,13,70,19,71,42,18,25,53,20,24,64,21,207,12,20,16,35,26,20,18,41,64,63,55,13,29,8,24,21,17,205,111,19,35,13,23,64,33,39,30,69,30,27,20,11,25,26,21,64,51,163,20,12,21,21,50,25,20,16,28,24,71,24,14,80,11,21,23,23,69,80,53,11,28,20,38,14,67,32,21,124,69,70,69,28,105,18,63,16,25,20,47,13,76,19,72,20,40,16,38,11,24,62,19,72,10,87,98,15,17,69,21,252,20,30,39,9,63,67,11,35,37,14,11,25,14,10,13,59,19,45,22,14,15,15,44,56,14,28,70,22,26,17,22,38,11,21,50,15,39,30,15,10,29,51,22,20,16,139,9,25,68,72,9,21,30,31,17,31,30,26,29,25,74,46,58,74,26,28,77,13,23,24,22,25,10,21,24,17,12,18,25,37,45,19,19,18,40,29,10,71,14,23,18,15,26,42,20,53,21,11,12,29,24,11,18,26,21,64,29,73,12,15,31,27,67,16,30,44,40,41,41,12,20,49,24,11,34,56,35,92,59,20,22,66,17,21,18,28,12,21,18,23,21,46,19,67,112,20,17,20,71,53,26,39,12,30,12,24,16,19,12,16,50,27,36,50,19,42,12,19,41,29,30,69,20,30,66,88,354,69,26,52,13,12,70,15,14,30,39,10,13,21,14,50,11,29,20,35,24,48,23,65,15,14,66,14,29,25,23,27,76,182,16,70,12,73,67,15,29,111,39,73,8,74,23,23,16,49,23,140,17,19,96,15,12,42,22,136,31,12,124,36,38,23,71,14,20,14,20,72,19,72,22,51,27,77,22,42,26,117,10,18,65,19,55,99,92,19,23,13,18,17,34,28,11,92,24,21,15,59,18,35,13,6,41,402,19,20,27,45,27,19,13,25,22,47,22,16,45,22,25,18,21,11,59,72,15,11,23,79,62,70,105,118,35,20,32,12,14,17,10,52,26,14,16,10,68,12,23,21,132,26,30,73,8,49,15,16,23,71,18,19,51,16,17,13,19,83,20,13,31,181,23,38,25,44,40,36,13,24,14,28,11,57,22,41,19,37,37,28,67,30,69,21,17,75,61,26,13,22,12,16,10,25,26,27,45,11,16,25,20,10,24,15,19,17,66,14,11,45,131,15,51,32,119,30,41,70,31,25,77,74,13,27,20,63,50,43,25,28,95,25,72,27,63,10,21,61,65,22],\"xaxis\":\"x2\",\"yaxis\":\"y2\",\"type\":\"box\"}],                        {\"template\":{\"data\":{\"histogram2dcontour\":[{\"type\":\"histogram2dcontour\",\"colorbar\":{\"outlinewidth\":0,\"ticks\":\"\"},\"colorscale\":[[0.0,\"#0d0887\"],[0.1111111111111111,\"#46039f\"],[0.2222222222222222,\"#7201a8\"],[0.3333333333333333,\"#9c179e\"],[0.4444444444444444,\"#bd3786\"],[0.5555555555555556,\"#d8576b\"],[0.6666666666666666,\"#ed7953\"],[0.7777777777777778,\"#fb9f3a\"],[0.8888888888888888,\"#fdca26\"],[1.0,\"#f0f921\"]]}],\"choropleth\":[{\"type\":\"choropleth\",\"colorbar\":{\"outlinewidth\":0,\"ticks\":\"\"}}],\"histogram2d\":[{\"type\":\"histogram2d\",\"colorbar\":{\"outlinewidth\":0,\"ticks\":\"\"},\"colorscale\":[[0.0,\"#0d0887\"],[0.1111111111111111,\"#46039f\"],[0.2222222222222222,\"#7201a8\"],[0.3333333333333333,\"#9c179e\"],[0.4444444444444444,\"#bd3786\"],[0.5555555555555556,\"#d8576b\"],[0.6666666666666666,\"#ed7953\"],[0.7777777777777778,\"#fb9f3a\"],[0.8888888888888888,\"#fdca26\"],[1.0,\"#f0f921\"]]}],\"heatmap\":[{\"type\":\"heatmap\",\"colorbar\":{\"outlinewidth\":0,\"ticks\":\"\"},\"colorscale\":[[0.0,\"#0d0887\"],[0.1111111111111111,\"#46039f\"],[0.2222222222222222,\"#7201a8\"],[0.3333333333333333,\"#9c179e\"],[0.4444444444444444,\"#bd3786\"],[0.5555555555555556,\"#d8576b\"],[0.6666666666666666,\"#ed7953\"],[0.7777777777777778,\"#fb9f3a\"],[0.8888888888888888,\"#fdca26\"],[1.0,\"#f0f921\"]]}],\"heatmapgl\":[{\"type\":\"heatmapgl\",\"colorbar\":{\"outlinewidth\":0,\"ticks\":\"\"},\"colorscale\":[[0.0,\"#0d0887\"],[0.1111111111111111,\"#46039f\"],[0.2222222222222222,\"#7201a8\"],[0.3333333333333333,\"#9c179e\"],[0.4444444444444444,\"#bd3786\"],[0.5555555555555556,\"#d8576b\"],[0.6666666666666666,\"#ed7953\"],[0.7777777777777778,\"#fb9f3a\"],[0.8888888888888888,\"#fdca26\"],[1.0,\"#f0f921\"]]}],\"contourcarpet\":[{\"type\":\"contourcarpet\",\"colorbar\":{\"outlinewidth\":0,\"ticks\":\"\"}}],\"contour\":[{\"type\":\"contour\",\"colorbar\":{\"outlinewidth\":0,\"ticks\":\"\"},\"colorscale\":[[0.0,\"#0d0887\"],[0.1111111111111111,\"#46039f\"],[0.2222222222222222,\"#7201a8\"],[0.3333333333333333,\"#9c179e\"],[0.4444444444444444,\"#bd3786\"],[0.5555555555555556,\"#d8576b\"],[0.6666666666666666,\"#ed7953\"],[0.7777777777777778,\"#fb9f3a\"],[0.8888888888888888,\"#fdca26\"],[1.0,\"#f0f921\"]]}],\"surface\":[{\"type\":\"surface\",\"colorbar\":{\"outlinewidth\":0,\"ticks\":\"\"},\"colorscale\":[[0.0,\"#0d0887\"],[0.1111111111111111,\"#46039f\"],[0.2222222222222222,\"#7201a8\"],[0.3333333333333333,\"#9c179e\"],[0.4444444444444444,\"#bd3786\"],[0.5555555555555556,\"#d8576b\"],[0.6666666666666666,\"#ed7953\"],[0.7777777777777778,\"#fb9f3a\"],[0.8888888888888888,\"#fdca26\"],[1.0,\"#f0f921\"]]}],\"mesh3d\":[{\"type\":\"mesh3d\",\"colorbar\":{\"outlinewidth\":0,\"ticks\":\"\"}}],\"scatter\":[{\"fillpattern\":{\"fillmode\":\"overlay\",\"size\":10,\"solidity\":0.2},\"type\":\"scatter\"}],\"parcoords\":[{\"type\":\"parcoords\",\"line\":{\"colorbar\":{\"outlinewidth\":0,\"ticks\":\"\"}}}],\"scatterpolargl\":[{\"type\":\"scatterpolargl\",\"marker\":{\"colorbar\":{\"outlinewidth\":0,\"ticks\":\"\"}}}],\"bar\":[{\"error_x\":{\"color\":\"#2a3f5f\"},\"error_y\":{\"color\":\"#2a3f5f\"},\"marker\":{\"line\":{\"color\":\"#E5ECF6\",\"width\":0.5},\"pattern\":{\"fillmode\":\"overlay\",\"size\":10,\"solidity\":0.2}},\"type\":\"bar\"}],\"scattergeo\":[{\"type\":\"scattergeo\",\"marker\":{\"colorbar\":{\"outlinewidth\":0,\"ticks\":\"\"}}}],\"scatterpolar\":[{\"type\":\"scatterpolar\",\"marker\":{\"colorbar\":{\"outlinewidth\":0,\"ticks\":\"\"}}}],\"histogram\":[{\"marker\":{\"pattern\":{\"fillmode\":\"overlay\",\"size\":10,\"solidity\":0.2}},\"type\":\"histogram\"}],\"scattergl\":[{\"type\":\"scattergl\",\"marker\":{\"colorbar\":{\"outlinewidth\":0,\"ticks\":\"\"}}}],\"scatter3d\":[{\"type\":\"scatter3d\",\"line\":{\"colorbar\":{\"outlinewidth\":0,\"ticks\":\"\"}},\"marker\":{\"colorbar\":{\"outlinewidth\":0,\"ticks\":\"\"}}}],\"scattermapbox\":[{\"type\":\"scattermapbox\",\"marker\":{\"colorbar\":{\"outlinewidth\":0,\"ticks\":\"\"}}}],\"scatterternary\":[{\"type\":\"scatterternary\",\"marker\":{\"colorbar\":{\"outlinewidth\":0,\"ticks\":\"\"}}}],\"scattercarpet\":[{\"type\":\"scattercarpet\",\"marker\":{\"colorbar\":{\"outlinewidth\":0,\"ticks\":\"\"}}}],\"carpet\":[{\"aaxis\":{\"endlinecolor\":\"#2a3f5f\",\"gridcolor\":\"white\",\"linecolor\":\"white\",\"minorgridcolor\":\"white\",\"startlinecolor\":\"#2a3f5f\"},\"baxis\":{\"endlinecolor\":\"#2a3f5f\",\"gridcolor\":\"white\",\"linecolor\":\"white\",\"minorgridcolor\":\"white\",\"startlinecolor\":\"#2a3f5f\"},\"type\":\"carpet\"}],\"table\":[{\"cells\":{\"fill\":{\"color\":\"#EBF0F8\"},\"line\":{\"color\":\"white\"}},\"header\":{\"fill\":{\"color\":\"#C8D4E3\"},\"line\":{\"color\":\"white\"}},\"type\":\"table\"}],\"barpolar\":[{\"marker\":{\"line\":{\"color\":\"#E5ECF6\",\"width\":0.5},\"pattern\":{\"fillmode\":\"overlay\",\"size\":10,\"solidity\":0.2}},\"type\":\"barpolar\"}],\"pie\":[{\"automargin\":true,\"type\":\"pie\"}]},\"layout\":{\"autotypenumbers\":\"strict\",\"colorway\":[\"#636efa\",\"#EF553B\",\"#00cc96\",\"#ab63fa\",\"#FFA15A\",\"#19d3f3\",\"#FF6692\",\"#B6E880\",\"#FF97FF\",\"#FECB52\"],\"font\":{\"color\":\"#2a3f5f\"},\"hovermode\":\"closest\",\"hoverlabel\":{\"align\":\"left\"},\"paper_bgcolor\":\"white\",\"plot_bgcolor\":\"#E5ECF6\",\"polar\":{\"bgcolor\":\"#E5ECF6\",\"angularaxis\":{\"gridcolor\":\"white\",\"linecolor\":\"white\",\"ticks\":\"\"},\"radialaxis\":{\"gridcolor\":\"white\",\"linecolor\":\"white\",\"ticks\":\"\"}},\"ternary\":{\"bgcolor\":\"#E5ECF6\",\"aaxis\":{\"gridcolor\":\"white\",\"linecolor\":\"white\",\"ticks\":\"\"},\"baxis\":{\"gridcolor\":\"white\",\"linecolor\":\"white\",\"ticks\":\"\"},\"caxis\":{\"gridcolor\":\"white\",\"linecolor\":\"white\",\"ticks\":\"\"}},\"coloraxis\":{\"colorbar\":{\"outlinewidth\":0,\"ticks\":\"\"}},\"colorscale\":{\"sequential\":[[0.0,\"#0d0887\"],[0.1111111111111111,\"#46039f\"],[0.2222222222222222,\"#7201a8\"],[0.3333333333333333,\"#9c179e\"],[0.4444444444444444,\"#bd3786\"],[0.5555555555555556,\"#d8576b\"],[0.6666666666666666,\"#ed7953\"],[0.7777777777777778,\"#fb9f3a\"],[0.8888888888888888,\"#fdca26\"],[1.0,\"#f0f921\"]],\"sequentialminus\":[[0.0,\"#0d0887\"],[0.1111111111111111,\"#46039f\"],[0.2222222222222222,\"#7201a8\"],[0.3333333333333333,\"#9c179e\"],[0.4444444444444444,\"#bd3786\"],[0.5555555555555556,\"#d8576b\"],[0.6666666666666666,\"#ed7953\"],[0.7777777777777778,\"#fb9f3a\"],[0.8888888888888888,\"#fdca26\"],[1.0,\"#f0f921\"]],\"diverging\":[[0,\"#8e0152\"],[0.1,\"#c51b7d\"],[0.2,\"#de77ae\"],[0.3,\"#f1b6da\"],[0.4,\"#fde0ef\"],[0.5,\"#f7f7f7\"],[0.6,\"#e6f5d0\"],[0.7,\"#b8e186\"],[0.8,\"#7fbc41\"],[0.9,\"#4d9221\"],[1,\"#276419\"]]},\"xaxis\":{\"gridcolor\":\"white\",\"linecolor\":\"white\",\"ticks\":\"\",\"title\":{\"standoff\":15},\"zerolinecolor\":\"white\",\"automargin\":true,\"zerolinewidth\":2},\"yaxis\":{\"gridcolor\":\"white\",\"linecolor\":\"white\",\"ticks\":\"\",\"title\":{\"standoff\":15},\"zerolinecolor\":\"white\",\"automargin\":true,\"zerolinewidth\":2},\"scene\":{\"xaxis\":{\"backgroundcolor\":\"#E5ECF6\",\"gridcolor\":\"white\",\"linecolor\":\"white\",\"showbackground\":true,\"ticks\":\"\",\"zerolinecolor\":\"white\",\"gridwidth\":2},\"yaxis\":{\"backgroundcolor\":\"#E5ECF6\",\"gridcolor\":\"white\",\"linecolor\":\"white\",\"showbackground\":true,\"ticks\":\"\",\"zerolinecolor\":\"white\",\"gridwidth\":2},\"zaxis\":{\"backgroundcolor\":\"#E5ECF6\",\"gridcolor\":\"white\",\"linecolor\":\"white\",\"showbackground\":true,\"ticks\":\"\",\"zerolinecolor\":\"white\",\"gridwidth\":2}},\"shapedefaults\":{\"line\":{\"color\":\"#2a3f5f\"}},\"annotationdefaults\":{\"arrowcolor\":\"#2a3f5f\",\"arrowhead\":0,\"arrowwidth\":1},\"geo\":{\"bgcolor\":\"white\",\"landcolor\":\"#E5ECF6\",\"subunitcolor\":\"white\",\"showland\":true,\"showlakes\":true,\"lakecolor\":\"white\"},\"title\":{\"x\":0.05},\"mapbox\":{\"style\":\"light\"}}},\"xaxis\":{\"anchor\":\"y\",\"domain\":[0.0,1.0],\"title\":{\"text\":\"NewLength\"}},\"yaxis\":{\"anchor\":\"x\",\"domain\":[0.0,0.8316],\"title\":{\"text\":\"count\"}},\"xaxis2\":{\"anchor\":\"y2\",\"domain\":[0.0,1.0],\"matches\":\"x\",\"showticklabels\":false,\"showgrid\":true},\"yaxis2\":{\"anchor\":\"x2\",\"domain\":[0.8416,1.0],\"matches\":\"y2\",\"showticklabels\":false,\"showline\":false,\"ticks\":\"\",\"showgrid\":false},\"legend\":{\"tracegroupgap\":0},\"title\":{\"text\":\"Longitud de las rese\\u00f1as limpias\"},\"barmode\":\"relative\",\"bargap\":0.1},                        {\"responsive\": true}                    ).then(function(){\n",
              "                            \n",
              "var gd = document.getElementById('c0bba742-0e69-49fb-a950-53765af2c0c3');\n",
              "var x = new MutationObserver(function (mutations, observer) {{\n",
              "        var display = window.getComputedStyle(gd).display;\n",
              "        if (!display || display === 'none') {{\n",
              "            console.log([gd, 'removed!']);\n",
              "            Plotly.purge(gd);\n",
              "            observer.disconnect();\n",
              "        }}\n",
              "}});\n",
              "\n",
              "// Listen for the removal of the full notebook cells\n",
              "var notebookContainer = gd.closest('#notebook-container');\n",
              "if (notebookContainer) {{\n",
              "    x.observe(notebookContainer, {childList: true});\n",
              "}}\n",
              "\n",
              "// Listen for the clearing of the current output cell\n",
              "var outputEl = gd.closest('.output');\n",
              "if (outputEl) {{\n",
              "    x.observe(outputEl, {childList: true});\n",
              "}}\n",
              "\n",
              "                        })                };                            </script>        </div>\n",
              "</body>\n",
              "</html>"
            ]
          },
          "metadata": {}
        }
      ]
    },
    {
      "cell_type": "markdown",
      "source": [
        "De lo anterior podemos notar que hay una disminución importante en la longitud de las palabras, sin embargo, la presencia de outliers sigue siendo importante."
      ],
      "metadata": {
        "id": "T2JCoCmFOXa7"
      }
    },
    {
      "cell_type": "markdown",
      "source": [
        "### División de los datos en entrenamiento y prueba\n",
        "\n",
        "En esta sección deberemos de separar nuestros datos para poder entrenar al modelo."
      ],
      "metadata": {
        "id": "IDtTqCwh5GyQ"
      }
    },
    {
      "cell_type": "code",
      "source": [
        "X_train = reviews.CleanedReview\n",
        "Y_train = reviews.Class"
      ],
      "metadata": {
        "id": "ZYghX69A49V_"
      },
      "execution_count": null,
      "outputs": []
    },
    {
      "cell_type": "markdown",
      "source": [
        "Debemos de separar los datos de prueba en dos grupos, uno que contiene las reseñas depuradas y otro que contiene la clasificación respectiva de la reseña. Esto se debe hacer dado que el algoritmo necesita estos parametros por separado."
      ],
      "metadata": {
        "id": "N5OYF8D85q3p"
      }
    },
    {
      "cell_type": "markdown",
      "source": [
        "### Codificación de las etiquetas de las reseñas\n",
        "\n",
        "Dado anteriormente habiamos cambiado el formato de Class de numerico a categorico con el fin de entender mejor los datos, ahora, debemos reversar ese procedimiento a traves de laber encoder dado que nuestro algoritmo solo puede trabajar con datos númericos y vectoriales."
      ],
      "metadata": {
        "id": "34V_Kl2XAsUe"
      }
    },
    {
      "cell_type": "code",
      "source": [
        "encoder = LabelEncoder()\n",
        "Y_train = encoder.fit_transform(Y_train)"
      ],
      "metadata": {
        "id": "J5C7YUD55qnG"
      },
      "execution_count": null,
      "outputs": []
    },
    {
      "cell_type": "code",
      "source": [
        "Y_train = pd.DataFrame(Y_train,columns=['Class'])\n",
        "Y_train.head()"
      ],
      "metadata": {
        "colab": {
          "base_uri": "https://localhost:8080/",
          "height": 206
        },
        "id": "81QR7o0tCRf0",
        "outputId": "637ac818-fe97-4328-c5db-95df398562da"
      },
      "execution_count": null,
      "outputs": [
        {
          "output_type": "execute_result",
          "data": {
            "text/plain": [
              "   Class\n",
              "0      1\n",
              "1      3\n",
              "2      1\n",
              "3      3\n",
              "4      3"
            ],
            "text/html": [
              "\n",
              "  <div id=\"df-4dbe1224-9431-4da9-ae70-bd10a4780868\" class=\"colab-df-container\">\n",
              "    <div>\n",
              "<style scoped>\n",
              "    .dataframe tbody tr th:only-of-type {\n",
              "        vertical-align: middle;\n",
              "    }\n",
              "\n",
              "    .dataframe tbody tr th {\n",
              "        vertical-align: top;\n",
              "    }\n",
              "\n",
              "    .dataframe thead th {\n",
              "        text-align: right;\n",
              "    }\n",
              "</style>\n",
              "<table border=\"1\" class=\"dataframe\">\n",
              "  <thead>\n",
              "    <tr style=\"text-align: right;\">\n",
              "      <th></th>\n",
              "      <th>Class</th>\n",
              "    </tr>\n",
              "  </thead>\n",
              "  <tbody>\n",
              "    <tr>\n",
              "      <th>0</th>\n",
              "      <td>1</td>\n",
              "    </tr>\n",
              "    <tr>\n",
              "      <th>1</th>\n",
              "      <td>3</td>\n",
              "    </tr>\n",
              "    <tr>\n",
              "      <th>2</th>\n",
              "      <td>1</td>\n",
              "    </tr>\n",
              "    <tr>\n",
              "      <th>3</th>\n",
              "      <td>3</td>\n",
              "    </tr>\n",
              "    <tr>\n",
              "      <th>4</th>\n",
              "      <td>3</td>\n",
              "    </tr>\n",
              "  </tbody>\n",
              "</table>\n",
              "</div>\n",
              "    <div class=\"colab-df-buttons\">\n",
              "\n",
              "  <div class=\"colab-df-container\">\n",
              "    <button class=\"colab-df-convert\" onclick=\"convertToInteractive('df-4dbe1224-9431-4da9-ae70-bd10a4780868')\"\n",
              "            title=\"Convert this dataframe to an interactive table.\"\n",
              "            style=\"display:none;\">\n",
              "\n",
              "  <svg xmlns=\"http://www.w3.org/2000/svg\" height=\"24px\" viewBox=\"0 -960 960 960\">\n",
              "    <path d=\"M120-120v-720h720v720H120Zm60-500h600v-160H180v160Zm220 220h160v-160H400v160Zm0 220h160v-160H400v160ZM180-400h160v-160H180v160Zm440 0h160v-160H620v160ZM180-180h160v-160H180v160Zm440 0h160v-160H620v160Z\"/>\n",
              "  </svg>\n",
              "    </button>\n",
              "\n",
              "  <style>\n",
              "    .colab-df-container {\n",
              "      display:flex;\n",
              "      gap: 12px;\n",
              "    }\n",
              "\n",
              "    .colab-df-convert {\n",
              "      background-color: #E8F0FE;\n",
              "      border: none;\n",
              "      border-radius: 50%;\n",
              "      cursor: pointer;\n",
              "      display: none;\n",
              "      fill: #1967D2;\n",
              "      height: 32px;\n",
              "      padding: 0 0 0 0;\n",
              "      width: 32px;\n",
              "    }\n",
              "\n",
              "    .colab-df-convert:hover {\n",
              "      background-color: #E2EBFA;\n",
              "      box-shadow: 0px 1px 2px rgba(60, 64, 67, 0.3), 0px 1px 3px 1px rgba(60, 64, 67, 0.15);\n",
              "      fill: #174EA6;\n",
              "    }\n",
              "\n",
              "    .colab-df-buttons div {\n",
              "      margin-bottom: 4px;\n",
              "    }\n",
              "\n",
              "    [theme=dark] .colab-df-convert {\n",
              "      background-color: #3B4455;\n",
              "      fill: #D2E3FC;\n",
              "    }\n",
              "\n",
              "    [theme=dark] .colab-df-convert:hover {\n",
              "      background-color: #434B5C;\n",
              "      box-shadow: 0px 1px 3px 1px rgba(0, 0, 0, 0.15);\n",
              "      filter: drop-shadow(0px 1px 2px rgba(0, 0, 0, 0.3));\n",
              "      fill: #FFFFFF;\n",
              "    }\n",
              "  </style>\n",
              "\n",
              "    <script>\n",
              "      const buttonEl =\n",
              "        document.querySelector('#df-4dbe1224-9431-4da9-ae70-bd10a4780868 button.colab-df-convert');\n",
              "      buttonEl.style.display =\n",
              "        google.colab.kernel.accessAllowed ? 'block' : 'none';\n",
              "\n",
              "      async function convertToInteractive(key) {\n",
              "        const element = document.querySelector('#df-4dbe1224-9431-4da9-ae70-bd10a4780868');\n",
              "        const dataTable =\n",
              "          await google.colab.kernel.invokeFunction('convertToInteractive',\n",
              "                                                    [key], {});\n",
              "        if (!dataTable) return;\n",
              "\n",
              "        const docLinkHtml = 'Like what you see? Visit the ' +\n",
              "          '<a target=\"_blank\" href=https://colab.research.google.com/notebooks/data_table.ipynb>data table notebook</a>'\n",
              "          + ' to learn more about interactive tables.';\n",
              "        element.innerHTML = '';\n",
              "        dataTable['output_type'] = 'display_data';\n",
              "        await google.colab.output.renderOutput(dataTable, element);\n",
              "        const docLink = document.createElement('div');\n",
              "        docLink.innerHTML = docLinkHtml;\n",
              "        element.appendChild(docLink);\n",
              "      }\n",
              "    </script>\n",
              "  </div>\n",
              "\n",
              "\n",
              "<div id=\"df-d98929a8-74e1-4c3c-aea6-d3e566f38921\">\n",
              "  <button class=\"colab-df-quickchart\" onclick=\"quickchart('df-d98929a8-74e1-4c3c-aea6-d3e566f38921')\"\n",
              "            title=\"Suggest charts\"\n",
              "            style=\"display:none;\">\n",
              "\n",
              "<svg xmlns=\"http://www.w3.org/2000/svg\" height=\"24px\"viewBox=\"0 0 24 24\"\n",
              "     width=\"24px\">\n",
              "    <g>\n",
              "        <path d=\"M19 3H5c-1.1 0-2 .9-2 2v14c0 1.1.9 2 2 2h14c1.1 0 2-.9 2-2V5c0-1.1-.9-2-2-2zM9 17H7v-7h2v7zm4 0h-2V7h2v10zm4 0h-2v-4h2v4z\"/>\n",
              "    </g>\n",
              "</svg>\n",
              "  </button>\n",
              "\n",
              "<style>\n",
              "  .colab-df-quickchart {\n",
              "      --bg-color: #E8F0FE;\n",
              "      --fill-color: #1967D2;\n",
              "      --hover-bg-color: #E2EBFA;\n",
              "      --hover-fill-color: #174EA6;\n",
              "      --disabled-fill-color: #AAA;\n",
              "      --disabled-bg-color: #DDD;\n",
              "  }\n",
              "\n",
              "  [theme=dark] .colab-df-quickchart {\n",
              "      --bg-color: #3B4455;\n",
              "      --fill-color: #D2E3FC;\n",
              "      --hover-bg-color: #434B5C;\n",
              "      --hover-fill-color: #FFFFFF;\n",
              "      --disabled-bg-color: #3B4455;\n",
              "      --disabled-fill-color: #666;\n",
              "  }\n",
              "\n",
              "  .colab-df-quickchart {\n",
              "    background-color: var(--bg-color);\n",
              "    border: none;\n",
              "    border-radius: 50%;\n",
              "    cursor: pointer;\n",
              "    display: none;\n",
              "    fill: var(--fill-color);\n",
              "    height: 32px;\n",
              "    padding: 0;\n",
              "    width: 32px;\n",
              "  }\n",
              "\n",
              "  .colab-df-quickchart:hover {\n",
              "    background-color: var(--hover-bg-color);\n",
              "    box-shadow: 0 1px 2px rgba(60, 64, 67, 0.3), 0 1px 3px 1px rgba(60, 64, 67, 0.15);\n",
              "    fill: var(--button-hover-fill-color);\n",
              "  }\n",
              "\n",
              "  .colab-df-quickchart-complete:disabled,\n",
              "  .colab-df-quickchart-complete:disabled:hover {\n",
              "    background-color: var(--disabled-bg-color);\n",
              "    fill: var(--disabled-fill-color);\n",
              "    box-shadow: none;\n",
              "  }\n",
              "\n",
              "  .colab-df-spinner {\n",
              "    border: 2px solid var(--fill-color);\n",
              "    border-color: transparent;\n",
              "    border-bottom-color: var(--fill-color);\n",
              "    animation:\n",
              "      spin 1s steps(1) infinite;\n",
              "  }\n",
              "\n",
              "  @keyframes spin {\n",
              "    0% {\n",
              "      border-color: transparent;\n",
              "      border-bottom-color: var(--fill-color);\n",
              "      border-left-color: var(--fill-color);\n",
              "    }\n",
              "    20% {\n",
              "      border-color: transparent;\n",
              "      border-left-color: var(--fill-color);\n",
              "      border-top-color: var(--fill-color);\n",
              "    }\n",
              "    30% {\n",
              "      border-color: transparent;\n",
              "      border-left-color: var(--fill-color);\n",
              "      border-top-color: var(--fill-color);\n",
              "      border-right-color: var(--fill-color);\n",
              "    }\n",
              "    40% {\n",
              "      border-color: transparent;\n",
              "      border-right-color: var(--fill-color);\n",
              "      border-top-color: var(--fill-color);\n",
              "    }\n",
              "    60% {\n",
              "      border-color: transparent;\n",
              "      border-right-color: var(--fill-color);\n",
              "    }\n",
              "    80% {\n",
              "      border-color: transparent;\n",
              "      border-right-color: var(--fill-color);\n",
              "      border-bottom-color: var(--fill-color);\n",
              "    }\n",
              "    90% {\n",
              "      border-color: transparent;\n",
              "      border-bottom-color: var(--fill-color);\n",
              "    }\n",
              "  }\n",
              "</style>\n",
              "\n",
              "  <script>\n",
              "    async function quickchart(key) {\n",
              "      const quickchartButtonEl =\n",
              "        document.querySelector('#' + key + ' button');\n",
              "      quickchartButtonEl.disabled = true;  // To prevent multiple clicks.\n",
              "      quickchartButtonEl.classList.add('colab-df-spinner');\n",
              "      try {\n",
              "        const charts = await google.colab.kernel.invokeFunction(\n",
              "            'suggestCharts', [key], {});\n",
              "      } catch (error) {\n",
              "        console.error('Error during call to suggestCharts:', error);\n",
              "      }\n",
              "      quickchartButtonEl.classList.remove('colab-df-spinner');\n",
              "      quickchartButtonEl.classList.add('colab-df-quickchart-complete');\n",
              "    }\n",
              "    (() => {\n",
              "      let quickchartButtonEl =\n",
              "        document.querySelector('#df-d98929a8-74e1-4c3c-aea6-d3e566f38921 button');\n",
              "      quickchartButtonEl.style.display =\n",
              "        google.colab.kernel.accessAllowed ? 'block' : 'none';\n",
              "    })();\n",
              "  </script>\n",
              "</div>\n",
              "\n",
              "    </div>\n",
              "  </div>\n"
            ],
            "application/vnd.google.colaboratory.intrinsic+json": {
              "type": "dataframe",
              "variable_name": "Y_train",
              "summary": "{\n  \"name\": \"Y_train\",\n  \"rows\": 7875,\n  \"fields\": [\n    {\n      \"column\": \"Class\",\n      \"properties\": {\n        \"dtype\": \"number\",\n        \"std\": 1,\n        \"min\": 0,\n        \"max\": 4,\n        \"num_unique_values\": 5,\n        \"samples\": [\n          3,\n          0,\n          4\n        ],\n        \"semantic_type\": \"\",\n        \"description\": \"\"\n      }\n    }\n  ]\n}"
            }
          },
          "metadata": {},
          "execution_count": 45
        }
      ]
    },
    {
      "cell_type": "code",
      "source": [
        "Y_train['Class'].unique()"
      ],
      "metadata": {
        "colab": {
          "base_uri": "https://localhost:8080/"
        },
        "id": "EA1Uv8YmCVZk",
        "outputId": "57492023-c620-4721-8d6f-2821790fc297"
      },
      "execution_count": null,
      "outputs": [
        {
          "output_type": "execute_result",
          "data": {
            "text/plain": [
              "array([1, 3, 4, 2, 0])"
            ]
          },
          "metadata": {},
          "execution_count": 46
        }
      ]
    },
    {
      "cell_type": "markdown",
      "source": [
        "## Modelado y evalución\n",
        "\n",
        "En este aprate llevaremos a cabo todos los procedimientos relativos a la creación de parametros de nuestor modelo y el entrenamiento y evaluación del mismo."
      ],
      "metadata": {
        "id": "PXhFhYxJDBcv"
      }
    },
    {
      "cell_type": "markdown",
      "source": [
        "### Inicializar bags of words\n",
        "\n",
        "El \"Bag of Words\" (BoW) es una técnica de procesamiento de lenguaje natural que representa documentos como vectores de frecuencia de palabras, ignorando el orden y la gramática. Se tokenizan los documentos, se construye un vocabulario único y se cuenta la frecuencia de cada palabra en cada documento. Esto permite realizar análisis estadísticos y aplicar algoritmos de aprendizaje automático en tareas como clasificación de documentos y análisis de sentimientos, aunque no captura la estructura gramatical o el significado contextual de las palabras."
      ],
      "metadata": {
        "id": "k8_4YaRIDXlj"
      }
    },
    {
      "cell_type": "code",
      "source": [
        "vectorizer = CountVectorizer(max_features= 3000, min_df = 3, max_df = 0.6)\n",
        "# fit the model for training data\n",
        "X_train_data = vectorizer.fit_transform(X_train)"
      ],
      "metadata": {
        "id": "CDupipuWDNha"
      },
      "execution_count": null,
      "outputs": []
    },
    {
      "cell_type": "code",
      "source": [
        "X_train_data.shape"
      ],
      "metadata": {
        "colab": {
          "base_uri": "https://localhost:8080/"
        },
        "id": "Xkqia62EEDYF",
        "outputId": "f3986aa8-b1c3-4898-9353-2ea7fe35deee"
      },
      "execution_count": null,
      "outputs": [
        {
          "output_type": "execute_result",
          "data": {
            "text/plain": [
              "(7875, 3000)"
            ]
          },
          "metadata": {},
          "execution_count": 52
        }
      ]
    },
    {
      "cell_type": "code",
      "source": [
        "Y_train.shape"
      ],
      "metadata": {
        "colab": {
          "base_uri": "https://localhost:8080/"
        },
        "id": "QEkff4JTEHof",
        "outputId": "534b98e0-f898-40a7-dda1-df7e9ee34406"
      },
      "execution_count": null,
      "outputs": [
        {
          "output_type": "execute_result",
          "data": {
            "text/plain": [
              "(7875, 1)"
            ]
          },
          "metadata": {},
          "execution_count": 53
        }
      ]
    },
    {
      "cell_type": "markdown",
      "source": [
        "### Inicialización de Tfid\n",
        "\n",
        "El TF-IDF (Term Frequency-Inverse Document Frequency) Transformer es una técnica en el procesamiento de lenguaje natural que convierte datos de texto en representaciones numéricas más útiles para el análisis. Evalúa la importancia de una palabra en un documento basándose en dos factores: la frecuencia de la palabra en el documento y la rareza de la palabra en el conjunto de documentos. Asigna pesos numéricos a cada palabra, reflejando su relevancia tanto en el documento específico como en el corpus completo. Esta transformación permite representar documentos como vectores numéricos que pueden utilizarse en algoritmos de aprendizaje automático para diversas tareas de NLP, como clasificación de texto y recuperación de información."
      ],
      "metadata": {
        "id": "SV0E8luREJv2"
      }
    },
    {
      "cell_type": "code",
      "source": [
        "transformer = TfidfTransformer()\n",
        "X_train_data = transformer.fit_transform(X_train_data).toarray()\n"
      ],
      "metadata": {
        "id": "iNKRdaj1ETo0"
      },
      "execution_count": null,
      "outputs": []
    },
    {
      "cell_type": "markdown",
      "source": [
        "## Entrenamiento del modelo"
      ],
      "metadata": {
        "id": "psgucqmhEtYo"
      }
    },
    {
      "cell_type": "markdown",
      "source": [
        "Para entrenar el modelo se utilizar dos tecnicas para el paso de parametros: 'train_test_slipt' e 'HyperParameter Tuning'. Ambos se explicaran respectivamente."
      ],
      "metadata": {
        "id": "eE5suLkJE0ZO"
      }
    },
    {
      "cell_type": "markdown",
      "source": [
        "### Train-test slipt\n",
        "\n",
        "La función `train_test_split` es una herramienta fundamental en el aprendizaje automático que divide un conjunto de datos en dos subconjuntos: uno para entrenar el modelo y otro para evaluar su rendimiento. Esto se realiza asignando aleatoriamente una proporción de los datos al conjunto de entrenamiento y el resto al conjunto de prueba. El conjunto de entrenamiento se utiliza para ajustar los parámetros del modelo, mientras que el conjunto de prueba se emplea para evaluar su rendimiento en datos no vistos. Esta división es crucial para evitar el sobreajuste del modelo, es decir, que el modelo se ajuste demasiado bien a los datos de entrenamiento pero no pueda generalizar adecuadamente a nuevos datos. Al proporcionar una evaluación independiente del rendimiento del modelo, `train_test_split` ayuda a estimar la capacidad de generalización del modelo y a seleccionar el mejor entre diferentes configuraciones o algoritmos."
      ],
      "metadata": {
        "id": "b0_uoNn9FEV6"
      }
    },
    {
      "cell_type": "code",
      "source": [
        "\n",
        "from sklearn.model_selection import train_test_split\n",
        "X1_train, X1_test, y1_train, y1_test = train_test_split(X_train_data, Y_train, test_size=0.33,random_state = 15)"
      ],
      "metadata": {
        "id": "2O-hNlsOEtIS"
      },
      "execution_count": null,
      "outputs": []
    },
    {
      "cell_type": "code",
      "source": [
        "model1_nb = MultinomialNB()\n",
        "y_train_pred = model1_nb.fit(X1_train,y1_train.Class).predict(X1_train)\n",
        "\n",
        "y_pred = model1_nb.predict(X1_test)\n",
        "\n",
        "# comparing actual response values  with predicted response values\n",
        "from sklearn import metrics\n",
        "print(\"Multinomial Naive Bayes model train accuracy(in %):\", metrics.accuracy_score(y1_train, y_train_pred)*100)\n",
        "print(\"Multinomial Naive Bayes model test accuracy(in %):\", metrics.accuracy_score(y1_test, y_pred)*100)"
      ],
      "metadata": {
        "colab": {
          "base_uri": "https://localhost:8080/"
        },
        "id": "i5O2oliWFUyW",
        "outputId": "e1adc2e5-5976-4a2d-b666-5d486b2e2c79"
      },
      "execution_count": null,
      "outputs": [
        {
          "output_type": "stream",
          "name": "stdout",
          "text": [
            "Multinomial Naive Bayes model train accuracy(in %): 66.73616376042456\n",
            "Multinomial Naive Bayes model test accuracy(in %): 46.36398614851866\n"
          ]
        }
      ]
    },
    {
      "cell_type": "markdown",
      "source": [
        "### HyperParameter Tuning\n",
        "\n",
        "La optimización de hiperparámetros, o \"Hyperparameter Tuning\" en inglés, es un proceso esencial en el aprendizaje automático que implica encontrar la mejor combinación de valores para los hiperparámetros de un modelo con el fin de mejorar su rendimiento predictivo. Los hiperparámetros son configuraciones que no se aprenden automáticamente durante el entrenamiento del modelo y que afectan la capacidad del modelo para ajustarse a los datos y generalizar a nuevos ejemplos. Algunos ejemplos comunes de hiperparámetros incluyen la tasa de aprendizaje en algoritmos de aprendizaje profundo, la profundidad máxima de un árbol de decisión y el valor de regularización en modelos de regresión. La optimización de hiperparámetros se realiza mediante técnicas como búsqueda grid, búsqueda aleatoria o métodos más avanzados como la optimización bayesiana. El objetivo final es encontrar la combinación óptima de hiperparámetros que maximice el rendimiento del modelo en un conjunto de datos de validación independiente. Esto ayuda a mejorar la precisión y la capacidad de generalización del modelo, lo que resulta en mejores resultados en problemas de aprendizaje automático."
      ],
      "metadata": {
        "id": "kVMEVzXsFrvx"
      }
    },
    {
      "cell_type": "code",
      "source": [
        "from sklearn.model_selection import GridSearchCV"
      ],
      "metadata": {
        "id": "sIPRu1R-Fslo"
      },
      "execution_count": null,
      "outputs": []
    },
    {
      "cell_type": "code",
      "source": [
        "params = {'alpha': [0.01,0.1,0.5,1,10],\n",
        "         }\n",
        "\n",
        "multinomial_nb_grid = GridSearchCV(MultinomialNB(), param_grid=params, n_jobs=-1, cv=5, verbose=5)\n",
        "multinomial_nb_grid.fit(X_train_data,Y_train)\n",
        "\n",
        "print('Train Accuracy : %.3f'%multinomial_nb_grid.best_estimator_.score(X1_train, y1_train))\n",
        "print('Test Accuracy : %.3f'%multinomial_nb_grid.best_estimator_.score(X1_test, y1_test))\n",
        "print('Best Accuracy Through Grid Search : %.3f'%multinomial_nb_grid.best_score_)\n",
        "print('Best Parameters : ',multinomial_nb_grid.best_params_)"
      ],
      "metadata": {
        "colab": {
          "base_uri": "https://localhost:8080/"
        },
        "id": "08fAQjI3Fuhi",
        "outputId": "4210b3ff-8a1c-4a55-f60c-3d8ae9e1e097"
      },
      "execution_count": null,
      "outputs": [
        {
          "output_type": "stream",
          "name": "stdout",
          "text": [
            "Fitting 5 folds for each of 5 candidates, totalling 25 fits\n",
            "Train Accuracy : 0.669\n",
            "Test Accuracy : 0.662\n",
            "Best Accuracy Through Grid Search : 0.469\n",
            "Best Parameters :  {'alpha': 0.5}\n"
          ]
        },
        {
          "output_type": "stream",
          "name": "stderr",
          "text": [
            "/usr/local/lib/python3.10/dist-packages/sklearn/utils/validation.py:1143: DataConversionWarning:\n",
            "\n",
            "A column-vector y was passed when a 1d array was expected. Please change the shape of y to (n_samples, ), for example using ravel().\n",
            "\n"
          ]
        }
      ]
    },
    {
      "cell_type": "markdown",
      "source": [
        "### Evalución del modelo"
      ],
      "metadata": {
        "id": "oFXPdkoJSMfN"
      }
    },
    {
      "cell_type": "markdown",
      "source": [
        "Ahora que hemos refinado y entrenado nuestro modelo pasemos a evaluarlo de manera cuantitavia y cualitiva."
      ],
      "metadata": {
        "id": "vIBKeyzHTg6d"
      }
    },
    {
      "cell_type": "markdown",
      "source": [
        "### Cuantitativa\n",
        "\n",
        "Como lo podremos observar, nuestor modelo presenta cierta afinidad hacia las reseñas positivas en general respecto del resto. Esto quiere decir que tiene a clasificar de manera demas acertada las reseñas postivas y muy positvas, sin embargo, llega un punto en el que no distingue demasiado bien entre una reseña muy positiva y otra simplemente positiva.\n",
        "\n",
        "De otro lado, las reseñas negativas tambien presentar un desempeño descente a pesar de tener varios desaciertos en especial al clasificar como nuetras."
      ],
      "metadata": {
        "id": "ODGD5DWDTvPo"
      }
    },
    {
      "cell_type": "code",
      "source": [
        "\n",
        "from sklearn.metrics import confusion_matrix\n",
        "import seaborn as sns\n",
        "import matplotlib.pyplot as plt\n",
        "\n",
        "# Get the predicted labels for the test data\n",
        "y_pred = multinomial_nb_grid.predict(X1_test)\n",
        "\n",
        "# Calculate the confusion matrix\n",
        "cm = confusion_matrix(y1_test, y_pred)\n",
        "\n",
        "# Create a heatmap of the confusion matrix\n",
        "sns.heatmap(cm, annot=True, fmt='d', xticklabels=encoder.classes_, yticklabels=encoder.classes_)\n",
        "\n",
        "# Set the title and axis labels\n",
        "plt.title('Confusion Matrix')\n",
        "plt.xlabel('Predicted Class')\n",
        "plt.ylabel('Actual Class')\n",
        "\n",
        "# Show the plot\n",
        "plt.show()\n"
      ],
      "metadata": {
        "colab": {
          "base_uri": "https://localhost:8080/",
          "height": 554
        },
        "id": "eQba5f11SOrp",
        "outputId": "2e892b31-06e0-4eff-b4e1-bac8494aeaa3"
      },
      "execution_count": null,
      "outputs": [
        {
          "output_type": "display_data",
          "data": {
            "text/plain": [
              "<Figure size 640x480 with 2 Axes>"
            ],
            "image/png": "[encoded data removed]"
          },
          "metadata": {}
        }
      ]
    },
    {
      "cell_type": "markdown",
      "source": [
        "### Cualitativa\n",
        "\n",
        "Ahora veamos algunas cifras que nos deja nuestro modelo:\n",
        "\n",
        "Precision: La precisión es la proporción de predicciones positivas que fueron correctas en relación con el total de predicciones positivas realizadas por el modelo. En este caso, las precisiones van desde un 61% para la clase \"Positivo\" hasta un 86% para la clase \"Muy Negativo\". Esto indica la capacidad del modelo para identificar correctamente cada clase.\n",
        "\n",
        "Recall: El recall, también conocido como sensibilidad, es la proporción de instancias positivas que fueron correctamente identificadas por el modelo en relación con el total de instancias positivas en los datos de prueba. Las tasas de recall oscilan entre un 54% para la clase \"Neutro\" y un 86% para la clase \"Muy Positivo\". Esto indica la capacidad del modelo para capturar correctamente todas las instancias de cada clase.\n",
        "\n",
        "F1-score: El F1-score es la media armónica de la precisión y el recall, proporcionando una métrica única que combina ambos aspectos de la evaluación del modelo. Varía entre 0 y 1, donde 1 representa la mejor puntuación posible. Los valores de F1-score oscilan entre 0.58 para la clase \"Neutro\" y 0.76 para la clase \"Muy Positivo\".\n",
        "\n",
        "Support: La cantidad de muestras de cada clase en el conjunto de datos de prueba.\n",
        "\n",
        "Accuracy: La precisión global del modelo, que es la proporción de predicciones correctas respecto al total de predicciones realizadas. En este caso, la precisión global es del 66%.\n",
        "\n",
        "Macro avg y Weighted avg: La media de las métricas de precision, recall y F1-score, calculadas para cada clase, ponderadas o no ponderadas según el soporte de cada clase.\n"
      ],
      "metadata": {
        "id": "L_5gWyx4Uh2T"
      }
    },
    {
      "cell_type": "code",
      "source": [
        "from sklearn.metrics import classification_report\n",
        "\n",
        "print(classification_report(y1_test, y_pred, target_names=encoder.classes_))\n"
      ],
      "metadata": {
        "colab": {
          "base_uri": "https://localhost:8080/"
        },
        "id": "04DO1NdZU0sM",
        "outputId": "3c0db3e2-a011-4a03-e9a5-601383fa1e5a"
      },
      "execution_count": null,
      "outputs": [
        {
          "output_type": "stream",
          "name": "stdout",
          "text": [
            "              precision    recall  f1-score   support\n",
            "\n",
            "Muy Negativo       0.86      0.55      0.67       265\n",
            "Muy Positivo       0.68      0.86      0.76       772\n",
            "    Negativo       0.67      0.59      0.62       405\n",
            "      Neutro       0.62      0.54      0.58       515\n",
            "    Positivo       0.61      0.61      0.61       642\n",
            "\n",
            "    accuracy                           0.66      2599\n",
            "   macro avg       0.69      0.63      0.65      2599\n",
            "weighted avg       0.67      0.66      0.66      2599\n",
            "\n"
          ]
        }
      ]
    },
    {
      "cell_type": "markdown",
      "source": [
        "Como se puede notar nuestro modelo es especialmente bueno para clasificar reseñas muy negativas, lo cual, puede derivar de la alta significancia de palabras con una connotación negativa. Estas palabras son mas contundentes a la hora de señalar la instasfacción dado que su significado es obasolutamente negativo, por ejemplo, nadie se puede alegrar de ver una 'cucaracha' en su cuarto o de ser 'robado' en la playa.  \n",
        "\n",
        "Por otro lado, las reseñas neutras significaron un gran desafio para el modelo dado el lenguaje plano y inexpresivo que pueden llegar a caracterizar estas reseñas."
      ],
      "metadata": {
        "id": "stsD5WItVcft"
      }
    },
    {
      "cell_type": "markdown",
      "source": [
        "### Palabras significantes"
      ],
      "metadata": {
        "id": "sImK_KqjXHt9"
      }
    },
    {
      "cell_type": "code",
      "source": [
        "log_probabilities = model1_nb.feature_log_prob_[1]  # Probabilidades condicionales de la clase 1\n",
        "feature_names = vectorizer.get_feature_names_out()"
      ],
      "metadata": {
        "id": "966n6zU5X8Cu"
      },
      "execution_count": null,
      "outputs": []
    },
    {
      "cell_type": "code",
      "source": [
        "log_probabilities_words = list(zip(feature_names, log_probabilities))\n"
      ],
      "metadata": {
        "id": "eDHY1aY1YpG6"
      },
      "execution_count": null,
      "outputs": []
    },
    {
      "cell_type": "code",
      "source": [
        "log_probabilities_words_sorted = sorted(log_probabilities_words, key=lambda x: x[1], reverse=True)\n"
      ],
      "metadata": {
        "id": "3mourA-zYrlG"
      },
      "execution_count": null,
      "outputs": []
    },
    {
      "cell_type": "code",
      "source": [
        "num_palabras_a_mostrar = 10\n",
        "palabras_con_mayores_coeficientes = log_probabilities_words_sorted[:num_palabras_a_mostrar]"
      ],
      "metadata": {
        "id": "8e67N0_IYsb9"
      },
      "execution_count": null,
      "outputs": []
    },
    {
      "cell_type": "code",
      "source": [
        "for palabra, log_probabilidad in palabras_con_mayores_coeficientes:\n",
        "    print(f\"Palabra: {palabra}, Log Probabilidad: {log_probabilidad}\")"
      ],
      "metadata": {
        "colab": {
          "base_uri": "https://localhost:8080/"
        },
        "id": "-O5L4znzYy3v",
        "outputId": "5f46386a-95d2-4749-cc56-161431ce3405"
      },
      "execution_count": null,
      "outputs": [
        {
          "output_type": "stream",
          "name": "stdout",
          "text": [
            "Palabra: excelente, Log Probabilidad: -4.9165830683905805\n",
            "Palabra: lugar, Log Probabilidad: -5.154366127747604\n",
            "Palabra: comida, Log Probabilidad: -5.158048770337519\n",
            "Palabra: servicio, Log Probabilidad: -5.226131819226985\n",
            "Palabra: no, Log Probabilidad: -5.45541024525458\n",
            "Palabra: atencin, Log Probabilidad: -5.522766254280668\n",
            "Palabra: buena, Log Probabilidad: -5.57165546888745\n",
            "Palabra: hotel, Log Probabilidad: -5.676358752877768\n",
            "Palabra: bien, Log Probabilidad: -5.685103598448263\n",
            "Palabra: ciudad, Log Probabilidad: -5.706961770383256\n"
          ]
        }
      ]
    },
    {
      "cell_type": "markdown",
      "source": [
        "Como se puede observar las palabras relacionadas con el lugar, la comida, el servicio, la atención y el hotel, entre otras resultaron ser determinantes para la clasificación de la reseña."
      ],
      "metadata": {
        "id": "PLnsv7BqY6B-"
      }
    },
    {
      "cell_type": "markdown",
      "source": [
        "## Resultados"
      ],
      "metadata": {
        "id": "r0vbZQvrW6mC"
      }
    },
    {
      "cell_type": "markdown",
      "source": [
        "En este punto se guarda el modelo entrenado y se predice sobre el conjunto de datos de partición prueba estudiantes."
      ],
      "metadata": {
        "id": "2ZgTV_vyc7UK"
      }
    },
    {
      "cell_type": "code",
      "source": [
        "import pickle"
      ],
      "metadata": {
        "id": "6Ao8UxflWSnu"
      },
      "execution_count": null,
      "outputs": []
    },
    {
      "cell_type": "code",
      "source": [
        "filename = 'trained_model.csv'\n",
        "pickle.dump(model1_nb, open(filename, 'wb'))"
      ],
      "metadata": {
        "id": "mLWc1KyJZ4-L"
      },
      "execution_count": null,
      "outputs": []
    },
    {
      "cell_type": "code",
      "source": [
        "# loading the saved model\n",
        "loaded_model = pickle.load(open('/content/trained_model.csv', 'rb'))"
      ],
      "metadata": {
        "id": "y1uwZDf9Z99h"
      },
      "execution_count": null,
      "outputs": []
    },
    {
      "cell_type": "code",
      "source": [
        "\n",
        "reviews_prueba = pd.read_csv('particion_prueba_estudiantes.csv')\n",
        "reviews_prueba['CleanedReview'] = data_cleaning(reviews_prueba['Review'].tolist())\n",
        "X_test = reviews_prueba.CleanedReview\n",
        "X_test_data = vectorizer.transform(X_test)\n",
        "X_test_data = transformer.transform(X_test_data).toarray()\n",
        "y_pred = loaded_model.predict(X_test_data)\n",
        "reviews_prueba['Class'] = y_pred\n",
        "reviews_prueba.drop(columns=['CleanedReview'], inplace=True)\n",
        "reviews_prueba['Class'] = reviews_prueba['Class'] + 1\n",
        "reviews_prueba.to_csv('resultados.csv', index=False)"
      ],
      "metadata": {
        "id": "BMzgGmOmaFWz"
      },
      "execution_count": null,
      "outputs": []
    }
  ]
}